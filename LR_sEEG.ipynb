{
 "cells": [
  {
   "cell_type": "code",
   "execution_count": 842,
   "metadata": {
    "collapsed": true
   },
   "outputs": [],
   "source": [
    "from sklearn.model_selection import train_test_split\n",
    "from sklearn.linear_model import LogisticRegression\n",
    "from sklearn.preprocessing import StandardScaler\n",
    "from sklearn.metrics import accuracy_score\n",
    "import numpy as np\n",
    "import pandas as pd\n",
    "from imblearn.over_sampling import SMOTE\n",
    "import matplotlib.pyplot as plt\n",
    "import seaborn as sns\n",
    "from sklearn.metrics import confusion_matrix, roc_curve, auc, RocCurveDisplay"
   ]
  },
  {
   "cell_type": "code",
   "execution_count": 843,
   "outputs": [
    {
     "name": "stdout",
     "output_type": "stream",
     "text": [
      "          0         1         2         3         4         5         6  \\\n",
      "0 -1.379356 -1.391036 -1.403158 -1.415720 -1.428722 -1.442164 -1.456044   \n",
      "1  5.451684  5.472734  5.493559  5.514158  5.534532  5.554680  5.574601   \n",
      "2  1.882313  1.890693  1.898870  1.906845  1.914620  1.922196  1.929572   \n",
      "3  8.175729  8.178365  8.180737  8.182844  8.184688  8.186269  8.187587   \n",
      "4 -3.818025 -3.832569 -3.847524 -3.862893 -3.878675 -3.894872 -3.911485   \n",
      "\n",
      "          7         8         9  ...  77990  77991  77992  77993  77994  \\\n",
      "0 -1.470361 -1.485114 -1.500301  ...    NaN    NaN    NaN    NaN    NaN   \n",
      "1  5.594296  5.613765  5.633006  ...    NaN    NaN    NaN    NaN    NaN   \n",
      "2  1.936750  1.943732  1.950517  ...    NaN    NaN    NaN    NaN    NaN   \n",
      "3  8.188642  8.189436  8.189968  ...    NaN    NaN    NaN    NaN    NaN   \n",
      "4 -3.928515 -3.945962 -3.963828  ...    NaN    NaN    NaN    NaN    NaN   \n",
      "\n",
      "   77995  77996  77997  77998  77999  \n",
      "0    NaN    NaN    NaN    NaN    NaN  \n",
      "1    NaN    NaN    NaN    NaN    NaN  \n",
      "2    NaN    NaN    NaN    NaN    NaN  \n",
      "3    NaN    NaN    NaN    NaN    NaN  \n",
      "4    NaN    NaN    NaN    NaN    NaN  \n",
      "\n",
      "[5 rows x 78001 columns]\n",
      "(3060, 78001)\n",
      "(720, 78001)\n"
     ]
    }
   ],
   "source": [
    "df = pd.read_csv(r\"C:\\MasterThesis\\v1.0\\sEEG_dataset.csv\")\n",
    "print(df.head())\n",
    "print(df.shape)\n",
    "df = df.dropna()\n",
    "print(df.shape)\n",
    "\n",
    "labels = df['labels']\n",
    "df = df.drop(df.columns[-1], axis=1)\n",
    "X = df\n",
    "y = labels"
   ],
   "metadata": {
    "collapsed": false
   }
  },
  {
   "cell_type": "code",
   "execution_count": 844,
   "outputs": [],
   "source": [
    "sm = SMOTE(random_state=0)\n",
    "X, y = sm.fit_resample(X, y)"
   ],
   "metadata": {
    "collapsed": false
   }
  },
  {
   "cell_type": "code",
   "execution_count": 845,
   "outputs": [],
   "source": [
    "scaler = StandardScaler()\n",
    "X = scaler.fit_transform(X)"
   ],
   "metadata": {
    "collapsed": false
   }
  },
  {
   "cell_type": "code",
   "execution_count": 846,
   "outputs": [],
   "source": [
    "X_train, X_test, y_train, y_test = train_test_split(X, y, test_size=0.2, random_state=42)"
   ],
   "metadata": {
    "collapsed": false
   }
  },
  {
   "cell_type": "code",
   "execution_count": 847,
   "outputs": [],
   "source": [
    "# tworzenie modelu\n",
    "model = LogisticRegression(max_iter=1000)"
   ],
   "metadata": {
    "collapsed": false
   }
  },
  {
   "cell_type": "code",
   "execution_count": 848,
   "outputs": [
    {
     "data": {
      "text/plain": "LogisticRegression(max_iter=1000)"
     },
     "execution_count": 848,
     "metadata": {},
     "output_type": "execute_result"
    }
   ],
   "source": [
    "# trenowanie modelu\n",
    "model.fit(X_train, y_train)"
   ],
   "metadata": {
    "collapsed": false
   }
  },
  {
   "cell_type": "code",
   "execution_count": 849,
   "outputs": [],
   "source": [
    "# przewidywanie na danych testowych\n",
    "predictions = model.predict(X_test)"
   ],
   "metadata": {
    "collapsed": false
   }
  },
  {
   "cell_type": "code",
   "execution_count": 850,
   "outputs": [
    {
     "name": "stdout",
     "output_type": "stream",
     "text": [
      "Accuracy: 90.09009009009009%\n"
     ]
    }
   ],
   "source": [
    "# sprawdzanie dokładności modelu\n",
    "accuracy = accuracy_score(y_test, predictions)\n",
    "\n",
    "print(f\"Accuracy: {accuracy*100}%\")"
   ],
   "metadata": {
    "collapsed": false
   }
  },
  {
   "cell_type": "code",
   "execution_count": 851,
   "outputs": [],
   "source": [
    "y_pred_prob = model.predict_proba(X_test)[:, 1]"
   ],
   "metadata": {
    "collapsed": false
   }
  },
  {
   "cell_type": "code",
   "execution_count": 852,
   "outputs": [],
   "source": [
    "fpr, tpr, _ = roc_curve(y_test, y_pred_prob)\n",
    "roc_auc = auc(fpr, tpr)"
   ],
   "metadata": {
    "collapsed": false
   }
  },
  {
   "cell_type": "code",
   "execution_count": 853,
   "outputs": [
    {
     "data": {
      "text/plain": "<Figure size 640x480 with 1 Axes>",
      "image/png": "[encoded data removed]"
     },
     "metadata": {},
     "output_type": "display_data"
    }
   ],
   "source": [
    "display = RocCurveDisplay(fpr=fpr, tpr=tpr, roc_auc=roc_auc, estimator_name='Example estimator')\n",
    "display.plot()\n",
    "plt.show()"
   ],
   "metadata": {
    "collapsed": false
   }
  },
  {
   "cell_type": "code",
   "execution_count": 854,
   "outputs": [
    {
     "data": {
      "text/plain": "Text(0.5, 1.0, 'CONFUSION MATRIX')"
     },
     "execution_count": 854,
     "metadata": {},
     "output_type": "execute_result"
    },
    {
     "data": {
      "text/plain": "<Figure size 600x500 with 2 Axes>",
      "image/png": "[encoded data removed]"
     },
     "metadata": {},
     "output_type": "display_data"
    }
   ],
   "source": [
    "#Confusion matrix\n",
    "plt.figure(figsize=(6,5))\n",
    "plt.subplot(221)\n",
    "sns.heatmap(confusion_matrix(y_test,predictions),annot=True,cmap=\"Blues\",fmt = \"d\",linecolor=\"k\",linewidths=3)\n",
    "plt.title(\"CONFUSION MATRIX\",fontsize=8)"
   ],
   "metadata": {
    "collapsed": false
   }
  },
  {
   "cell_type": "code",
   "execution_count": 854,
   "outputs": [],
   "source": [],
   "metadata": {
    "collapsed": false
   }
  }
 ],
 "metadata": {
  "kernelspec": {
   "display_name": "Python 3",
   "language": "python",
   "name": "python3"
  },
  "language_info": {
   "codemirror_mode": {
    "name": "ipython",
    "version": 2
   },
   "file_extension": ".py",
   "mimetype": "text/x-python",
   "name": "python",
   "nbconvert_exporter": "python",
   "pygments_lexer": "ipython2",
   "version": "2.7.6"
  }
 },
 "nbformat": 4,
 "nbformat_minor": 0
}
