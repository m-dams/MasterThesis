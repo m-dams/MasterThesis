{
 "cells": [
  {
   "cell_type": "code",
   "execution_count": 7,
   "metadata": {
    "collapsed": true
   },
   "outputs": [],
   "source": [
    "from sklearn.model_selection import train_test_split\n",
    "from sklearn.neural_network import MLPClassifier\n",
    "from sklearn.preprocessing import StandardScaler\n",
    "from sklearn.metrics import accuracy_score\n",
    "import pandas as pd\n",
    "from imblearn.over_sampling import SMOTE\n",
    "import matplotlib.pyplot as plt\n",
    "import seaborn as sns\n",
    "from sklearn.metrics import confusion_matrix, roc_curve, auc, RocCurveDisplay\n",
    "from sklearn.model_selection import KFold"
   ]
  },
  {
   "cell_type": "code",
   "execution_count": 8,
   "outputs": [
    {
     "name": "stdout",
     "output_type": "stream",
     "text": [
      "(3060, 78001)\n",
      "(3060, 78001)\n"
     ]
    }
   ],
   "source": [
    "df = pd.read_csv(r\"C:\\MasterThesis\\v1.0\\sEEG_dataset.csv\")\n",
    "print(df.shape)\n",
    "df = df.dropna()\n",
    "print(df.shape)\n",
    "labels = df['labels']\n",
    "df = df.drop(df.columns[-1], axis=1)\n",
    "X = df\n",
    "y = labels"
   ],
   "metadata": {
    "collapsed": false
   }
  },
  {
   "cell_type": "code",
   "execution_count": 9,
   "outputs": [],
   "source": [
    "sm = SMOTE(random_state=0)\n",
    "X, y = sm.fit_resample(X, y)"
   ],
   "metadata": {
    "collapsed": false
   }
  },
  {
   "cell_type": "code",
   "execution_count": 10,
   "outputs": [],
   "source": [
    "# normalizacja danych\n",
    "scaler = StandardScaler()\n",
    "X = scaler.fit_transform(X)"
   ],
   "metadata": {
    "collapsed": false
   }
  },
  {
   "cell_type": "code",
   "execution_count": null,
   "outputs": [],
   "source": [
    "# Setting up the KFold parameters\n",
    "n_splits = 10\n",
    "kf = KFold(n_splits=n_splits, random_state=42, shuffle=True)\n",
    "\n",
    "accuracy_list = []\n",
    "roc_auc_list = []\n",
    "# Lists to store predictions and true labels\n",
    "y_true_global = []\n",
    "y_pred_global = []\n",
    "y_pred_prob_global = []\n",
    "for train_index, test_index in kf.split(X):\n",
    "    X_train, X_test = X[train_index], X[test_index]\n",
    "    y_train, y_test = y[train_index], y[test_index]\n",
    "\n",
    "    model = MLPClassifier(hidden_layer_sizes=(100,), activation='relu', solver='lbfgs', alpha=0.0001, batch_size='auto', learning_rate='adaptive',  power_t=0.5, max_iter=200, shuffle=True, random_state=None, tol=0.0001, verbose=False, warm_start=False, momentum=0.9, nesterovs_momentum=True, early_stopping=False, validation_fraction=0.1)\n",
    "\n",
    "    model.fit(X_train, y_train)\n",
    "\n",
    "    predictions = model.predict(X_test)\n",
    "    accuracy = accuracy_score(y_test, predictions)\n",
    "    accuracy_list.append(accuracy)\n",
    "\n",
    "    y_pred_prob = model.predict_proba(X_test)[:, 1]\n",
    "    fpr, tpr, _ = roc_curve(y_test, y_pred_prob)\n",
    "    roc_auc = auc(fpr, tpr)\n",
    "    roc_auc_list.append(roc_auc)\n",
    "\n",
    "    y_true_global.extend(y_test)\n",
    "    y_pred_global.extend(predictions)\n",
    "    y_pred_prob_global.extend(y_pred_prob)\n",
    "\n",
    "avg_accuracy = sum(accuracy_list) / n_splits\n",
    "avg_roc_auc = sum(roc_auc_list) / n_splits\n",
    "#Confusion matrix\n",
    "plt.figure(figsize=(6, 5))\n",
    "plt.subplot(221)\n",
    "sns.heatmap(confusion_matrix(y_true_global, y_pred_global), annot=True, cmap=\"Blues\", fmt=\"d\", linecolor=\"k\",\n",
    "            linewidths=3)\n",
    "plt.title(\"CONFUSION MATRIX\", fontsize=8)\n",
    "# ROC curve\n",
    "fpr, tpr, _ = roc_curve(y_true_global, y_pred_prob_global)\n",
    "roc_auc = auc(fpr, tpr)\n",
    "display = RocCurveDisplay(fpr=fpr, tpr=tpr, roc_auc=roc_auc, estimator_name='Example estimator')\n",
    "display.plot()\n",
    "plt.show()\n",
    "print(f\"Average Accuracy: {avg_accuracy * 100}%\")\n",
    "print(f\"Average AUC: {avg_roc_auc}\")"
   ],
   "metadata": {
    "collapsed": false,
    "pycharm": {
     "is_executing": true
    }
   }
  },
  {
   "cell_type": "code",
   "execution_count": null,
   "outputs": [],
   "source": [
    "CROSS_VALIDATION = True\n",
    "if not CROSS_VALIDATION:\n",
    "    X_train, X_test, y_train, y_test = train_test_split(X, y, test_size=0.2, random_state=42)\n",
    "    model = MLPClassifier(hidden_layer_sizes=(100,), activation='relu', solver='lbfgs', alpha=0.0001, batch_size='auto',\n",
    "                          learning_rate='adaptive', power_t=0.5, max_iter=200, shuffle=True, random_state=None, tol=0.0001,\n",
    "                          verbose=False, warm_start=False, momentum=0.9, nesterovs_momentum=True, early_stopping=False,\n",
    "                          validation_fraction=0.1)\n",
    "\n",
    "    # trenowanie modelu\n",
    "    model.fit(X_train, y_train)\n",
    "\n",
    "    # przewidywanie na danych testowych\n",
    "    predictions = model.predict(X_test)\n",
    "\n",
    "    # sprawdzanie dokładności modelu\n",
    "    accuracy = accuracy_score(y_test, predictions)\n",
    "\n",
    "    print(f\"Accuracy: {accuracy * 100}%\")\n",
    "    #Confusion matrix\n",
    "    plt.figure(figsize=(6, 5))\n",
    "    plt.subplot(221)\n",
    "    sns.heatmap(confusion_matrix(y_test, predictions), annot=True, cmap=\"Blues\", fmt=\"d\", linecolor=\"k\", linewidths=3)\n",
    "    plt.title(\"CONFUSION MATRIX\", fontsize=8)\n",
    "    y_pred_prob = model.predict_proba(X_test)[:, 1]\n",
    "    fpr, tpr, _ = roc_curve(y_test, y_pred_prob)\n",
    "    roc_auc = auc(fpr, tpr)\n",
    "    display = RocCurveDisplay(fpr=fpr, tpr=tpr, roc_auc=roc_auc, estimator_name='Example estimator')\n",
    "    display.plot()\n",
    "    plt.show()"
   ],
   "metadata": {
    "collapsed": false,
    "pycharm": {
     "is_executing": true
    }
   }
  }
 ],
 "metadata": {
  "kernelspec": {
   "display_name": "Python 3",
   "language": "python",
   "name": "python3"
  },
  "language_info": {
   "codemirror_mode": {
    "name": "ipython",
    "version": 2
   },
   "file_extension": ".py",
   "mimetype": "text/x-python",
   "name": "python",
   "nbconvert_exporter": "python",
   "pygments_lexer": "ipython2",
   "version": "2.7.6"
  }
 },
 "nbformat": 4,
 "nbformat_minor": 0
}
