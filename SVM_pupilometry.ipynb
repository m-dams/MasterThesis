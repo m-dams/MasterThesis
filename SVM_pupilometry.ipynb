{
 "cells": [
  {
   "cell_type": "code",
   "execution_count": 9,
   "metadata": {
    "collapsed": true
   },
   "outputs": [],
   "source": [
    "from sklearn.model_selection import train_test_split\n",
    "from sklearn.svm import SVC\n",
    "from sklearn.preprocessing import StandardScaler\n",
    "from sklearn.metrics import accuracy_score\n",
    "import pandas as pd\n",
    "from imblearn.over_sampling import SMOTE"
   ]
  },
  {
   "cell_type": "code",
   "execution_count": 13,
   "outputs": [
    {
     "data": {
      "text/plain": "          0         1         2  \\\n0 -0.964560  0.155814  0.394733   \n1  0.152302  0.012302  0.110916   \n2  0.529351  0.143585  0.378925   \n3 -0.889797  0.150885  0.388440   \n4  0.825173  0.089047  0.298408   \n\n                                                   3  \\\n0  [-1. -1.  1.  1. -1.  1. -1. -1.  1.  1.  1.  ...   \n1  [ 1.  1.  1.  0.  1.  1. -1. -1.  1. -1. -1.  ...   \n2  [ 1.  0.  0. -1. -1. -1.  1.  1. -1. -1.  1. -...   \n3  [ 0.  0. -1. -1.  0. -1.  0.  1. -1. -1. -1.  ...   \n4  [-1.  0.  1.  1.  0.  1.  1.  1.  1. -1.  0.  ...   \n\n                                                   4  \\\n0  [-2. -2. -2. -2. -2. -2. -2. -2. -2. -2. -2. -...   \n1  [-2. -2. -2. -3. -2. -2. -2. -2. -2. -2. -2. -...   \n2  [-2. -3. -3. -2. -2. -2. -2. -2. -2. -2. -2. -...   \n3  [-3. -3. -2. -2. -3. -2. -3. -2. -2. -2. -2. -...   \n4  [-2. -3. -2. -2. -3. -2. -2. -2. -2. -2. -3. -...   \n\n                                                   5  \\\n0  [[-217.02604149 -0.j           21.1879411 -23....   \n1  [[34.2680474  -0.j          1.10480483 -4.8544...   \n2  [[119.10402521 -0.j          24.3302036 -50.82...   \n3  [[-200.20437292 -0.j           42.88788587-29....   \n4  [[ 1.85664013e+02 -0.j         -1.26373788e+01...   \n\n                                                   6  \\\n0  [[47100.30268292  1010.66961843  1395.98983493...   \n1  [[1174.29907278   24.78663883  121.93645326 .....   \n2  [[14185.76882097  3174.864996     157.7729553 ...   \n3  [[40081.79093774  2694.70595442   653.80231404...   \n4  [[34471.1258995    794.2191911    943.05845487...   \n\n                                                   7    8         9        10  \\\n0  [   0.            1.13777778    2.27555556    ...  0.0 -0.869946  0.081968   \n1  [   0.            1.13777778    2.27555556    ...  0.0  0.181731  0.006456   \n2  [   0.            1.13777778    2.27555556    ...  0.0  0.635072  0.110706   \n3  [   0.            1.13777778    2.27555556    ...  0.0 -0.778349  0.192442   \n4  [   0.            1.13777778    2.27555556    ...  0.0  0.902222  0.056049   \n\n         11                                                 12  \\\n0  0.286300  [ 1.  1.  1.  1. -1. -1.  1.  1.  1. -1.  0.  ...   \n1  0.080346  [ 1.  1. -1.  1. -1. -1. -1.  1.  1. -1.  1. -...   \n2  0.332725  [ 1. -1.  1.  1.  1.  1.  1.  1. -1.  1. -1. -...   \n3  0.438683  [-1. -1. -1.  1. -1.  0. -1.  1.  1.  1.  1.  ...   \n4  0.236746  [-1. -1. -1.  1.  1.  1.  1. -1. -1. -1. -1. -...   \n\n                                                  13  \\\n0  [-2. -2. -2. -2. -2. -2. -2. -2. -2. -2. -3. -...   \n1  [-2. -2. -2. -2. -2. -2. -2. -2. -2. -2. -2. -...   \n2  [-2. -2. -2. -2. -2. -2. -2. -2. -2. -2. -2. -...   \n3  [-2. -2. -2. -2. -2. -3. -2. -2. -2. -2. -2. -...   \n4  [-2. -2. -2. -2. -2. -2. -2. -2. -2. -2. -2. -...   \n\n                                                  14  \\\n0  [[-195.7378062  -0.j           30.75100368-14....   \n1  [[40.88949063-0.j          5.25757211+1.988575...   \n2  [[142.89128361 -0.j          12.87571857-47.52...   \n3  [[-175.12861317 -0.j           41.48805124-44....   \n4  [[202.99986499 -0.j          -6.29860972+14.13...   \n\n                                                  15  \\\n0  [[3.83132888e+04 1.14237686e+03 2.77642104e+02...   \n1  [[1671.95044392   31.59649628   28.02447345 .....   \n2  [[20417.91893189  2424.46689904    55.12256497...   \n3  [[30670.03115039  3661.20824245   660.38025652...   \n4  [[41208.94518579   239.41313658   704.12486828...   \n\n                                                  16   17  \n0  [   0.            1.13777778    2.27555556    ...  0.0  \n1  [   0.            1.13777778    2.27555556    ...  0.0  \n2  [   0.            1.13777778    2.27555556    ...  0.0  \n3  [   0.            1.13777778    2.27555556    ...  0.0  \n4  [   0.            1.13777778    2.27555556    ...  0.0  ",
      "text/html": "<div>\n<style scoped>\n    .dataframe tbody tr th:only-of-type {\n        vertical-align: middle;\n    }\n\n    .dataframe tbody tr th {\n        vertical-align: top;\n    }\n\n    .dataframe thead th {\n        text-align: right;\n    }\n</style>\n<table border=\"1\" class=\"dataframe\">\n  <thead>\n    <tr style=\"text-align: right;\">\n      <th></th>\n      <th>0</th>\n      <th>1</th>\n      <th>2</th>\n      <th>3</th>\n      <th>4</th>\n      <th>5</th>\n      <th>6</th>\n      <th>7</th>\n      <th>8</th>\n      <th>9</th>\n      <th>10</th>\n      <th>11</th>\n      <th>12</th>\n      <th>13</th>\n      <th>14</th>\n      <th>15</th>\n      <th>16</th>\n      <th>17</th>\n    </tr>\n  </thead>\n  <tbody>\n    <tr>\n      <th>0</th>\n      <td>-0.964560</td>\n      <td>0.155814</td>\n      <td>0.394733</td>\n      <td>[-1. -1.  1.  1. -1.  1. -1. -1.  1.  1.  1.  ...</td>\n      <td>[-2. -2. -2. -2. -2. -2. -2. -2. -2. -2. -2. -...</td>\n      <td>[[-217.02604149 -0.j           21.1879411 -23....</td>\n      <td>[[47100.30268292  1010.66961843  1395.98983493...</td>\n      <td>[   0.            1.13777778    2.27555556    ...</td>\n      <td>0.0</td>\n      <td>-0.869946</td>\n      <td>0.081968</td>\n      <td>0.286300</td>\n      <td>[ 1.  1.  1.  1. -1. -1.  1.  1.  1. -1.  0.  ...</td>\n      <td>[-2. -2. -2. -2. -2. -2. -2. -2. -2. -2. -3. -...</td>\n      <td>[[-195.7378062  -0.j           30.75100368-14....</td>\n      <td>[[3.83132888e+04 1.14237686e+03 2.77642104e+02...</td>\n      <td>[   0.            1.13777778    2.27555556    ...</td>\n      <td>0.0</td>\n    </tr>\n    <tr>\n      <th>1</th>\n      <td>0.152302</td>\n      <td>0.012302</td>\n      <td>0.110916</td>\n      <td>[ 1.  1.  1.  0.  1.  1. -1. -1.  1. -1. -1.  ...</td>\n      <td>[-2. -2. -2. -3. -2. -2. -2. -2. -2. -2. -2. -...</td>\n      <td>[[34.2680474  -0.j          1.10480483 -4.8544...</td>\n      <td>[[1174.29907278   24.78663883  121.93645326 .....</td>\n      <td>[   0.            1.13777778    2.27555556    ...</td>\n      <td>0.0</td>\n      <td>0.181731</td>\n      <td>0.006456</td>\n      <td>0.080346</td>\n      <td>[ 1.  1. -1.  1. -1. -1. -1.  1.  1. -1.  1. -...</td>\n      <td>[-2. -2. -2. -2. -2. -2. -2. -2. -2. -2. -2. -...</td>\n      <td>[[40.88949063-0.j          5.25757211+1.988575...</td>\n      <td>[[1671.95044392   31.59649628   28.02447345 .....</td>\n      <td>[   0.            1.13777778    2.27555556    ...</td>\n      <td>0.0</td>\n    </tr>\n    <tr>\n      <th>2</th>\n      <td>0.529351</td>\n      <td>0.143585</td>\n      <td>0.378925</td>\n      <td>[ 1.  0.  0. -1. -1. -1.  1.  1. -1. -1.  1. -...</td>\n      <td>[-2. -3. -3. -2. -2. -2. -2. -2. -2. -2. -2. -...</td>\n      <td>[[119.10402521 -0.j          24.3302036 -50.82...</td>\n      <td>[[14185.76882097  3174.864996     157.7729553 ...</td>\n      <td>[   0.            1.13777778    2.27555556    ...</td>\n      <td>0.0</td>\n      <td>0.635072</td>\n      <td>0.110706</td>\n      <td>0.332725</td>\n      <td>[ 1. -1.  1.  1.  1.  1.  1.  1. -1.  1. -1. -...</td>\n      <td>[-2. -2. -2. -2. -2. -2. -2. -2. -2. -2. -2. -...</td>\n      <td>[[142.89128361 -0.j          12.87571857-47.52...</td>\n      <td>[[20417.91893189  2424.46689904    55.12256497...</td>\n      <td>[   0.            1.13777778    2.27555556    ...</td>\n      <td>0.0</td>\n    </tr>\n    <tr>\n      <th>3</th>\n      <td>-0.889797</td>\n      <td>0.150885</td>\n      <td>0.388440</td>\n      <td>[ 0.  0. -1. -1.  0. -1.  0.  1. -1. -1. -1.  ...</td>\n      <td>[-3. -3. -2. -2. -3. -2. -3. -2. -2. -2. -2. -...</td>\n      <td>[[-200.20437292 -0.j           42.88788587-29....</td>\n      <td>[[40081.79093774  2694.70595442   653.80231404...</td>\n      <td>[   0.            1.13777778    2.27555556    ...</td>\n      <td>0.0</td>\n      <td>-0.778349</td>\n      <td>0.192442</td>\n      <td>0.438683</td>\n      <td>[-1. -1. -1.  1. -1.  0. -1.  1.  1.  1.  1.  ...</td>\n      <td>[-2. -2. -2. -2. -2. -3. -2. -2. -2. -2. -2. -...</td>\n      <td>[[-175.12861317 -0.j           41.48805124-44....</td>\n      <td>[[30670.03115039  3661.20824245   660.38025652...</td>\n      <td>[   0.            1.13777778    2.27555556    ...</td>\n      <td>0.0</td>\n    </tr>\n    <tr>\n      <th>4</th>\n      <td>0.825173</td>\n      <td>0.089047</td>\n      <td>0.298408</td>\n      <td>[-1.  0.  1.  1.  0.  1.  1.  1.  1. -1.  0.  ...</td>\n      <td>[-2. -3. -2. -2. -3. -2. -2. -2. -2. -2. -3. -...</td>\n      <td>[[ 1.85664013e+02 -0.j         -1.26373788e+01...</td>\n      <td>[[34471.1258995    794.2191911    943.05845487...</td>\n      <td>[   0.            1.13777778    2.27555556    ...</td>\n      <td>0.0</td>\n      <td>0.902222</td>\n      <td>0.056049</td>\n      <td>0.236746</td>\n      <td>[-1. -1. -1.  1.  1.  1.  1. -1. -1. -1. -1. -...</td>\n      <td>[-2. -2. -2. -2. -2. -2. -2. -2. -2. -2. -2. -...</td>\n      <td>[[202.99986499 -0.j          -6.29860972+14.13...</td>\n      <td>[[41208.94518579   239.41313658   704.12486828...</td>\n      <td>[   0.            1.13777778    2.27555556    ...</td>\n      <td>0.0</td>\n    </tr>\n  </tbody>\n</table>\n</div>"
     },
     "execution_count": 13,
     "metadata": {},
     "output_type": "execute_result"
    }
   ],
   "source": [
    "df = pd.read_csv(r\"C:\\MasterThesis\\v1.0\\sub-012\\ses-001\\012_4_pupil_dataset.csv\")\n",
    "labels = pd.read_csv(r\"C:\\MasterThesis\\v1.0\\sub-012\\ses-001\\012-04_labels.tsv\", sep='\\t')\n",
    "labels = labels['is_success']\n",
    "\n",
    "# df = pd.read_csv(r\"C:\\MasterThesis\\v1.0\\pupil_dataset.csv\")\n",
    "# print(df.shape)\n",
    "# df = df.dropna()\n",
    "# print(df.shape)\n",
    "# labels = df['labels']\n",
    "# df = df.drop(df.columns[-1], axis=1)\n",
    "X = df\n",
    "y = labels\n",
    "X.head()"
   ],
   "metadata": {
    "collapsed": false
   }
  },
  {
   "cell_type": "code",
   "execution_count": 11,
   "outputs": [
    {
     "ename": "ValueError",
     "evalue": "could not convert string to float: '[-1. -1.  1.  1. -1.  1. -1. -1.  1.  1.  1.  0. -1. -1.  1.  1. -1.  0.\\n -1. -1. -1.  1.  1.  1. -1. -1.  1. -1.  1.  0.  0.  1.  0.  1.  1.  1.\\n  1.  0.  0. -1. -1. -1. -1. -1.  1. -1. -1. -1. -1. -1. -1.  1.  1.  1.\\n  1.  1. -1.  0. -1. -1. -1.  1. -1. -1. -1. -1. -1.  0.  1. -1. -1.  1.\\n -1. -1.  1.  1.  1.  1. -1.  1.  1. -1.  1. -1.  0.  1. -1.  1. -1. -1.\\n -1. -1. -1.  1. -1.  1.  1.  1.  0.  1.  1.  1. -1.  1.  1.  1.  1.  1.\\n  1.  1.  1.  1.  1.  1.  1.  1. -1.  1.  1.  0. -1. -1.  1.  1.  0. -1.\\n  1.  1.  1. -1. -1. -1.  1.  1. -1.  1.  1. -1.  1.  1. -1. -1. -1. -1.\\n -1.  1. -1. -1.  0. -1.  0.  0. -1. -1. -1.  1.  1.  1. -1.  1. -1.  1.\\n  0. -1. -1.  1.  1. -1. -1.  1. -1. -1. -1. -1. -1. -1. -1. -1. -1. -1.\\n -1. -1. -1. -1. -1. -1. -1. -1. -1. -1. -1. -1. -1. -1.  1.  0. -1. -1.\\n  1.  1. -1.  1.  1.  1.  0.  1. -1.  0. -1.  1. -1. -1.  1. -1.  1.  1.\\n  1.  1.  1.  0. -1. -1.  0. -1.  0.]'",
     "output_type": "error",
     "traceback": [
      "\u001B[1;31m---------------------------------------------------------------------------\u001B[0m",
      "\u001B[1;31mValueError\u001B[0m                                Traceback (most recent call last)",
      "\u001B[1;32m~\\AppData\\Local\\Temp\\ipykernel_16376\\1799660031.py\u001B[0m in \u001B[0;36m<module>\u001B[1;34m\u001B[0m\n\u001B[0;32m      1\u001B[0m \u001B[0msm\u001B[0m \u001B[1;33m=\u001B[0m \u001B[0mSMOTE\u001B[0m\u001B[1;33m(\u001B[0m\u001B[0mrandom_state\u001B[0m\u001B[1;33m=\u001B[0m\u001B[1;36m0\u001B[0m\u001B[1;33m)\u001B[0m\u001B[1;33m\u001B[0m\u001B[1;33m\u001B[0m\u001B[0m\n\u001B[1;32m----> 2\u001B[1;33m \u001B[0mX\u001B[0m\u001B[1;33m,\u001B[0m \u001B[0my\u001B[0m \u001B[1;33m=\u001B[0m \u001B[0msm\u001B[0m\u001B[1;33m.\u001B[0m\u001B[0mfit_resample\u001B[0m\u001B[1;33m(\u001B[0m\u001B[0mX\u001B[0m\u001B[1;33m,\u001B[0m \u001B[0my\u001B[0m\u001B[1;33m)\u001B[0m\u001B[1;33m\u001B[0m\u001B[1;33m\u001B[0m\u001B[0m\n\u001B[0m",
      "\u001B[1;32m~\\PycharmProjects\\MasterThesis\\venv\\lib\\site-packages\\imblearn\\base.py\u001B[0m in \u001B[0;36mfit_resample\u001B[1;34m(self, X, y)\u001B[0m\n\u001B[0;32m    201\u001B[0m         \"\"\"\n\u001B[0;32m    202\u001B[0m         \u001B[0mself\u001B[0m\u001B[1;33m.\u001B[0m\u001B[0m_validate_params\u001B[0m\u001B[1;33m(\u001B[0m\u001B[1;33m)\u001B[0m\u001B[1;33m\u001B[0m\u001B[1;33m\u001B[0m\u001B[0m\n\u001B[1;32m--> 203\u001B[1;33m         \u001B[1;32mreturn\u001B[0m \u001B[0msuper\u001B[0m\u001B[1;33m(\u001B[0m\u001B[1;33m)\u001B[0m\u001B[1;33m.\u001B[0m\u001B[0mfit_resample\u001B[0m\u001B[1;33m(\u001B[0m\u001B[0mX\u001B[0m\u001B[1;33m,\u001B[0m \u001B[0my\u001B[0m\u001B[1;33m)\u001B[0m\u001B[1;33m\u001B[0m\u001B[1;33m\u001B[0m\u001B[0m\n\u001B[0m\u001B[0;32m    204\u001B[0m \u001B[1;33m\u001B[0m\u001B[0m\n\u001B[0;32m    205\u001B[0m     \u001B[1;32mdef\u001B[0m \u001B[0m_more_tags\u001B[0m\u001B[1;33m(\u001B[0m\u001B[0mself\u001B[0m\u001B[1;33m)\u001B[0m\u001B[1;33m:\u001B[0m\u001B[1;33m\u001B[0m\u001B[1;33m\u001B[0m\u001B[0m\n",
      "\u001B[1;32m~\\PycharmProjects\\MasterThesis\\venv\\lib\\site-packages\\imblearn\\base.py\u001B[0m in \u001B[0;36mfit_resample\u001B[1;34m(self, X, y)\u001B[0m\n\u001B[0;32m     80\u001B[0m         \u001B[0mcheck_classification_targets\u001B[0m\u001B[1;33m(\u001B[0m\u001B[0my\u001B[0m\u001B[1;33m)\u001B[0m\u001B[1;33m\u001B[0m\u001B[1;33m\u001B[0m\u001B[0m\n\u001B[0;32m     81\u001B[0m         \u001B[0marrays_transformer\u001B[0m \u001B[1;33m=\u001B[0m \u001B[0mArraysTransformer\u001B[0m\u001B[1;33m(\u001B[0m\u001B[0mX\u001B[0m\u001B[1;33m,\u001B[0m \u001B[0my\u001B[0m\u001B[1;33m)\u001B[0m\u001B[1;33m\u001B[0m\u001B[1;33m\u001B[0m\u001B[0m\n\u001B[1;32m---> 82\u001B[1;33m         \u001B[0mX\u001B[0m\u001B[1;33m,\u001B[0m \u001B[0my\u001B[0m\u001B[1;33m,\u001B[0m \u001B[0mbinarize_y\u001B[0m \u001B[1;33m=\u001B[0m \u001B[0mself\u001B[0m\u001B[1;33m.\u001B[0m\u001B[0m_check_X_y\u001B[0m\u001B[1;33m(\u001B[0m\u001B[0mX\u001B[0m\u001B[1;33m,\u001B[0m \u001B[0my\u001B[0m\u001B[1;33m)\u001B[0m\u001B[1;33m\u001B[0m\u001B[1;33m\u001B[0m\u001B[0m\n\u001B[0m\u001B[0;32m     83\u001B[0m \u001B[1;33m\u001B[0m\u001B[0m\n\u001B[0;32m     84\u001B[0m         self.sampling_strategy_ = check_sampling_strategy(\n",
      "\u001B[1;32m~\\PycharmProjects\\MasterThesis\\venv\\lib\\site-packages\\imblearn\\base.py\u001B[0m in \u001B[0;36m_check_X_y\u001B[1;34m(self, X, y, accept_sparse)\u001B[0m\n\u001B[0;32m    154\u001B[0m             \u001B[0maccept_sparse\u001B[0m \u001B[1;33m=\u001B[0m \u001B[1;33m[\u001B[0m\u001B[1;34m\"csr\"\u001B[0m\u001B[1;33m,\u001B[0m \u001B[1;34m\"csc\"\u001B[0m\u001B[1;33m]\u001B[0m\u001B[1;33m\u001B[0m\u001B[1;33m\u001B[0m\u001B[0m\n\u001B[0;32m    155\u001B[0m         \u001B[0my\u001B[0m\u001B[1;33m,\u001B[0m \u001B[0mbinarize_y\u001B[0m \u001B[1;33m=\u001B[0m \u001B[0mcheck_target_type\u001B[0m\u001B[1;33m(\u001B[0m\u001B[0my\u001B[0m\u001B[1;33m,\u001B[0m \u001B[0mindicate_one_vs_all\u001B[0m\u001B[1;33m=\u001B[0m\u001B[1;32mTrue\u001B[0m\u001B[1;33m)\u001B[0m\u001B[1;33m\u001B[0m\u001B[1;33m\u001B[0m\u001B[0m\n\u001B[1;32m--> 156\u001B[1;33m         \u001B[0mX\u001B[0m\u001B[1;33m,\u001B[0m \u001B[0my\u001B[0m \u001B[1;33m=\u001B[0m \u001B[0mself\u001B[0m\u001B[1;33m.\u001B[0m\u001B[0m_validate_data\u001B[0m\u001B[1;33m(\u001B[0m\u001B[0mX\u001B[0m\u001B[1;33m,\u001B[0m \u001B[0my\u001B[0m\u001B[1;33m,\u001B[0m \u001B[0mreset\u001B[0m\u001B[1;33m=\u001B[0m\u001B[1;32mTrue\u001B[0m\u001B[1;33m,\u001B[0m \u001B[0maccept_sparse\u001B[0m\u001B[1;33m=\u001B[0m\u001B[0maccept_sparse\u001B[0m\u001B[1;33m)\u001B[0m\u001B[1;33m\u001B[0m\u001B[1;33m\u001B[0m\u001B[0m\n\u001B[0m\u001B[0;32m    157\u001B[0m         \u001B[1;32mreturn\u001B[0m \u001B[0mX\u001B[0m\u001B[1;33m,\u001B[0m \u001B[0my\u001B[0m\u001B[1;33m,\u001B[0m \u001B[0mbinarize_y\u001B[0m\u001B[1;33m\u001B[0m\u001B[1;33m\u001B[0m\u001B[0m\n\u001B[0;32m    158\u001B[0m \u001B[1;33m\u001B[0m\u001B[0m\n",
      "\u001B[1;32m~\\PycharmProjects\\MasterThesis\\venv\\lib\\site-packages\\sklearn\\base.py\u001B[0m in \u001B[0;36m_validate_data\u001B[1;34m(self, X, y, reset, validate_separately, **check_params)\u001B[0m\n\u001B[0;32m    579\u001B[0m                 \u001B[0my\u001B[0m \u001B[1;33m=\u001B[0m \u001B[0mcheck_array\u001B[0m\u001B[1;33m(\u001B[0m\u001B[0my\u001B[0m\u001B[1;33m,\u001B[0m \u001B[1;33m**\u001B[0m\u001B[0mcheck_y_params\u001B[0m\u001B[1;33m)\u001B[0m\u001B[1;33m\u001B[0m\u001B[1;33m\u001B[0m\u001B[0m\n\u001B[0;32m    580\u001B[0m             \u001B[1;32melse\u001B[0m\u001B[1;33m:\u001B[0m\u001B[1;33m\u001B[0m\u001B[1;33m\u001B[0m\u001B[0m\n\u001B[1;32m--> 581\u001B[1;33m                 \u001B[0mX\u001B[0m\u001B[1;33m,\u001B[0m \u001B[0my\u001B[0m \u001B[1;33m=\u001B[0m \u001B[0mcheck_X_y\u001B[0m\u001B[1;33m(\u001B[0m\u001B[0mX\u001B[0m\u001B[1;33m,\u001B[0m \u001B[0my\u001B[0m\u001B[1;33m,\u001B[0m \u001B[1;33m**\u001B[0m\u001B[0mcheck_params\u001B[0m\u001B[1;33m)\u001B[0m\u001B[1;33m\u001B[0m\u001B[1;33m\u001B[0m\u001B[0m\n\u001B[0m\u001B[0;32m    582\u001B[0m             \u001B[0mout\u001B[0m \u001B[1;33m=\u001B[0m \u001B[0mX\u001B[0m\u001B[1;33m,\u001B[0m \u001B[0my\u001B[0m\u001B[1;33m\u001B[0m\u001B[1;33m\u001B[0m\u001B[0m\n\u001B[0;32m    583\u001B[0m \u001B[1;33m\u001B[0m\u001B[0m\n",
      "\u001B[1;32m~\\PycharmProjects\\MasterThesis\\venv\\lib\\site-packages\\sklearn\\utils\\validation.py\u001B[0m in \u001B[0;36mcheck_X_y\u001B[1;34m(X, y, accept_sparse, accept_large_sparse, dtype, order, copy, force_all_finite, ensure_2d, allow_nd, multi_output, ensure_min_samples, ensure_min_features, y_numeric, estimator)\u001B[0m\n\u001B[0;32m    974\u001B[0m         \u001B[0mensure_min_samples\u001B[0m\u001B[1;33m=\u001B[0m\u001B[0mensure_min_samples\u001B[0m\u001B[1;33m,\u001B[0m\u001B[1;33m\u001B[0m\u001B[1;33m\u001B[0m\u001B[0m\n\u001B[0;32m    975\u001B[0m         \u001B[0mensure_min_features\u001B[0m\u001B[1;33m=\u001B[0m\u001B[0mensure_min_features\u001B[0m\u001B[1;33m,\u001B[0m\u001B[1;33m\u001B[0m\u001B[1;33m\u001B[0m\u001B[0m\n\u001B[1;32m--> 976\u001B[1;33m         \u001B[0mestimator\u001B[0m\u001B[1;33m=\u001B[0m\u001B[0mestimator\u001B[0m\u001B[1;33m,\u001B[0m\u001B[1;33m\u001B[0m\u001B[1;33m\u001B[0m\u001B[0m\n\u001B[0m\u001B[0;32m    977\u001B[0m     )\n\u001B[0;32m    978\u001B[0m \u001B[1;33m\u001B[0m\u001B[0m\n",
      "\u001B[1;32m~\\PycharmProjects\\MasterThesis\\venv\\lib\\site-packages\\sklearn\\utils\\validation.py\u001B[0m in \u001B[0;36mcheck_array\u001B[1;34m(array, accept_sparse, accept_large_sparse, dtype, order, copy, force_all_finite, ensure_2d, allow_nd, ensure_min_samples, ensure_min_features, estimator)\u001B[0m\n\u001B[0;32m    744\u001B[0m                     \u001B[0marray\u001B[0m \u001B[1;33m=\u001B[0m \u001B[0marray\u001B[0m\u001B[1;33m.\u001B[0m\u001B[0mastype\u001B[0m\u001B[1;33m(\u001B[0m\u001B[0mdtype\u001B[0m\u001B[1;33m,\u001B[0m \u001B[0mcasting\u001B[0m\u001B[1;33m=\u001B[0m\u001B[1;34m\"unsafe\"\u001B[0m\u001B[1;33m,\u001B[0m \u001B[0mcopy\u001B[0m\u001B[1;33m=\u001B[0m\u001B[1;32mFalse\u001B[0m\u001B[1;33m)\u001B[0m\u001B[1;33m\u001B[0m\u001B[1;33m\u001B[0m\u001B[0m\n\u001B[0;32m    745\u001B[0m                 \u001B[1;32melse\u001B[0m\u001B[1;33m:\u001B[0m\u001B[1;33m\u001B[0m\u001B[1;33m\u001B[0m\u001B[0m\n\u001B[1;32m--> 746\u001B[1;33m                     \u001B[0marray\u001B[0m \u001B[1;33m=\u001B[0m \u001B[0mnp\u001B[0m\u001B[1;33m.\u001B[0m\u001B[0masarray\u001B[0m\u001B[1;33m(\u001B[0m\u001B[0marray\u001B[0m\u001B[1;33m,\u001B[0m \u001B[0morder\u001B[0m\u001B[1;33m=\u001B[0m\u001B[0morder\u001B[0m\u001B[1;33m,\u001B[0m \u001B[0mdtype\u001B[0m\u001B[1;33m=\u001B[0m\u001B[0mdtype\u001B[0m\u001B[1;33m)\u001B[0m\u001B[1;33m\u001B[0m\u001B[1;33m\u001B[0m\u001B[0m\n\u001B[0m\u001B[0;32m    747\u001B[0m             \u001B[1;32mexcept\u001B[0m \u001B[0mComplexWarning\u001B[0m \u001B[1;32mas\u001B[0m \u001B[0mcomplex_warning\u001B[0m\u001B[1;33m:\u001B[0m\u001B[1;33m\u001B[0m\u001B[1;33m\u001B[0m\u001B[0m\n\u001B[0;32m    748\u001B[0m                 raise ValueError(\n",
      "\u001B[1;32m~\\PycharmProjects\\MasterThesis\\venv\\lib\\site-packages\\pandas\\core\\generic.py\u001B[0m in \u001B[0;36m__array__\u001B[1;34m(self, dtype)\u001B[0m\n\u001B[0;32m   1991\u001B[0m \u001B[1;33m\u001B[0m\u001B[0m\n\u001B[0;32m   1992\u001B[0m     \u001B[1;32mdef\u001B[0m \u001B[0m__array__\u001B[0m\u001B[1;33m(\u001B[0m\u001B[0mself\u001B[0m\u001B[1;33m,\u001B[0m \u001B[0mdtype\u001B[0m\u001B[1;33m:\u001B[0m \u001B[0mNpDtype\u001B[0m \u001B[1;33m|\u001B[0m \u001B[1;32mNone\u001B[0m \u001B[1;33m=\u001B[0m \u001B[1;32mNone\u001B[0m\u001B[1;33m)\u001B[0m \u001B[1;33m->\u001B[0m \u001B[0mnp\u001B[0m\u001B[1;33m.\u001B[0m\u001B[0mndarray\u001B[0m\u001B[1;33m:\u001B[0m\u001B[1;33m\u001B[0m\u001B[1;33m\u001B[0m\u001B[0m\n\u001B[1;32m-> 1993\u001B[1;33m         \u001B[1;32mreturn\u001B[0m \u001B[0mnp\u001B[0m\u001B[1;33m.\u001B[0m\u001B[0masarray\u001B[0m\u001B[1;33m(\u001B[0m\u001B[0mself\u001B[0m\u001B[1;33m.\u001B[0m\u001B[0m_values\u001B[0m\u001B[1;33m,\u001B[0m \u001B[0mdtype\u001B[0m\u001B[1;33m=\u001B[0m\u001B[0mdtype\u001B[0m\u001B[1;33m)\u001B[0m\u001B[1;33m\u001B[0m\u001B[1;33m\u001B[0m\u001B[0m\n\u001B[0m\u001B[0;32m   1994\u001B[0m \u001B[1;33m\u001B[0m\u001B[0m\n\u001B[0;32m   1995\u001B[0m     def __array_wrap__(\n",
      "\u001B[1;31mValueError\u001B[0m: could not convert string to float: '[-1. -1.  1.  1. -1.  1. -1. -1.  1.  1.  1.  0. -1. -1.  1.  1. -1.  0.\\n -1. -1. -1.  1.  1.  1. -1. -1.  1. -1.  1.  0.  0.  1.  0.  1.  1.  1.\\n  1.  0.  0. -1. -1. -1. -1. -1.  1. -1. -1. -1. -1. -1. -1.  1.  1.  1.\\n  1.  1. -1.  0. -1. -1. -1.  1. -1. -1. -1. -1. -1.  0.  1. -1. -1.  1.\\n -1. -1.  1.  1.  1.  1. -1.  1.  1. -1.  1. -1.  0.  1. -1.  1. -1. -1.\\n -1. -1. -1.  1. -1.  1.  1.  1.  0.  1.  1.  1. -1.  1.  1.  1.  1.  1.\\n  1.  1.  1.  1.  1.  1.  1.  1. -1.  1.  1.  0. -1. -1.  1.  1.  0. -1.\\n  1.  1.  1. -1. -1. -1.  1.  1. -1.  1.  1. -1.  1.  1. -1. -1. -1. -1.\\n -1.  1. -1. -1.  0. -1.  0.  0. -1. -1. -1.  1.  1.  1. -1.  1. -1.  1.\\n  0. -1. -1.  1.  1. -1. -1.  1. -1. -1. -1. -1. -1. -1. -1. -1. -1. -1.\\n -1. -1. -1. -1. -1. -1. -1. -1. -1. -1. -1. -1. -1. -1.  1.  0. -1. -1.\\n  1.  1. -1.  1.  1.  1.  0.  1. -1.  0. -1.  1. -1. -1.  1. -1.  1.  1.\\n  1.  1.  1.  0. -1. -1.  0. -1.  0.]'"
     ]
    }
   ],
   "source": [
    "sm = SMOTE(random_state=0)\n",
    "X, y = sm.fit_resample(X, y)"
   ],
   "metadata": {
    "collapsed": false
   }
  },
  {
   "cell_type": "code",
   "execution_count": null,
   "outputs": [],
   "source": [
    "# normalizacja danych\n",
    "scaler = StandardScaler()\n",
    "X = scaler.fit_transform(X)"
   ],
   "metadata": {
    "collapsed": false
   }
  },
  {
   "cell_type": "code",
   "execution_count": null,
   "outputs": [],
   "source": [
    "X_train, X_test, y_train, y_test = train_test_split(X, y, test_size=0.2, random_state=42)"
   ],
   "metadata": {
    "collapsed": false
   }
  },
  {
   "cell_type": "code",
   "execution_count": null,
   "outputs": [],
   "source": [
    "model = SVC(kernel='linear')\n",
    "\n",
    "# trenowanie modelu\n",
    "model.fit(X_train, y_train)\n",
    "\n",
    "# przewidywanie na danych testowych\n",
    "predictions = model.predict(X_test)\n",
    "\n",
    "# sprawdzanie dokładności modelu\n",
    "accuracy = accuracy_score(y_test, predictions)\n",
    "\n",
    "print(f\"Accuracy: {accuracy*100}%\")"
   ],
   "metadata": {
    "collapsed": false
   }
  }
 ],
 "metadata": {
  "kernelspec": {
   "display_name": "Python 3",
   "language": "python",
   "name": "python3"
  },
  "language_info": {
   "codemirror_mode": {
    "name": "ipython",
    "version": 2
   },
   "file_extension": ".py",
   "mimetype": "text/x-python",
   "name": "python",
   "nbconvert_exporter": "python",
   "pygments_lexer": "ipython2",
   "version": "2.7.6"
  }
 },
 "nbformat": 4,
 "nbformat_minor": 0
}
