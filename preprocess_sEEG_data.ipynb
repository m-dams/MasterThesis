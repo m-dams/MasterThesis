{
 "cells": [
  {
   "cell_type": "markdown",
   "metadata": {},
   "source": [
    "### How to load the data"
   ]
  },
  {
   "cell_type": "markdown",
   "metadata": {},
   "source": [
    "This jupyter notebook demonstrates how to access the data of the dataset. To run the notebook you will need to install the following packages:\n",
    "- pymef (to read MEF3 format)\n",
    "- pybids (to load the BIDS data structure)\n"
   ]
  },
  {
   "cell_type": "markdown",
   "metadata": {},
   "source": [
    "Let's do the imports first"
   ]
  },
  {
   "cell_type": "code",
   "execution_count": 353,
   "metadata": {},
   "outputs": [],
   "source": [
    "import os\n",
    "\n",
    "from pymef import MefSession\n",
    "from bids import BIDSLayout\n",
    "\n",
    "import numpy as np\n",
    "import pandas as pd\n",
    "import matplotlib.pyplot as plt\n",
    "\n",
    "from scipy.signal import butter, filtfilt, decimate\n",
    "from sklearn.decomposition import PCA"
   ]
  },
  {
   "cell_type": "markdown",
   "source": [
    "SETTINGS"
   ],
   "metadata": {
    "collapsed": false
   }
  },
  {
   "cell_type": "code",
   "execution_count": 354,
   "outputs": [],
   "source": [
    "APPLY_LOW_PASS_FILTER = True\n",
    "DIMENSION_REDUCTION = True\n",
    "LSTM_READY = False\n",
    "FEATURE_SET = 3\n",
    "subject = '004'\n",
    "run = 1"
   ],
   "metadata": {
    "collapsed": false
   }
  },
  {
   "cell_type": "markdown",
   "metadata": {},
   "source": [
    "Now load the BIDS dataset"
   ]
  },
  {
   "cell_type": "code",
   "execution_count": 355,
   "metadata": {},
   "outputs": [],
   "source": [
    "path_to_dataset = r\"C:\\MasterThesis\\v1.0\"  # Please change this value\n",
    "\n",
    "l = BIDSLayout(path_to_dataset)"
   ]
  },
  {
   "cell_type": "markdown",
   "metadata": {},
   "source": [
    "Define what data we want to load"
   ]
  },
  {
   "cell_type": "code",
   "execution_count": 356,
   "metadata": {},
   "outputs": [
    {
     "name": "stdout",
     "output_type": "stream",
     "text": [
      "<BIDSJSONFile filename='C:\\MasterThesis\\v1.0\\sub-004\\ses-001\\ieeg\\sub-004_ses-001_task-FR_run-01_ieeg.json'>\n"
     ]
    }
   ],
   "source": [
    "filter_dictionary = {'subject': subject,\n",
    "                     'session': '001',\n",
    "                     'task': 'FR',\n",
    "                     'run': run,\n",
    "                     'suffix': 'ieeg',\n",
    "                     'extension': 'json'}\n",
    "json_files = l.get(**filter_dictionary)\n",
    "\n",
    "# We now we have requested only one file now but multiple files can be processed in a for loop\n",
    "json_file = json_files[0]\n",
    "print(json_file)\n",
    "\n",
    "json_entities = json_file.entities"
   ]
  },
  {
   "cell_type": "markdown",
   "source": [
    "Load information about electrodes"
   ],
   "metadata": {
    "collapsed": false
   }
  },
  {
   "cell_type": "code",
   "execution_count": 357,
   "outputs": [
    {
     "data": {
      "text/plain": "       name     x     y     z  size material manufacturer group  type  \\\n0     LZ_01   4.2  15.6  68.1     2       Pt          PMT    LZ  ring   \n1     LZ_10 -26.6  17.0  85.0     2       Pt          PMT    LZ  ring   \n2    LAM_08 -31.5 -46.3  66.8     2       Pt          PMT   LAM  ring   \n3    LAM_09 -34.4 -48.0  68.8     2       Pt          PMT   LAM  ring   \n4    LAM_10 -37.2 -49.7  70.8     2       Pt          PMT   LAM  ring   \n..      ...   ...   ...   ...   ...      ...          ...   ...   ...   \n123  LAM_03 -17.3 -38.0  56.6     2       Pt          PMT   LAM  ring   \n124  LAM_04 -20.1 -39.6  58.7     2       Pt          PMT   LAM  ring   \n125  LAM_05 -23.0 -41.3  60.7     2       Pt          PMT   LAM  ring   \n126  LAM_06 -25.8 -43.0  62.7     2       Pt          PMT   LAM  ring   \n127  LAM_07 -28.7 -44.7  64.7     2       Pt          PMT   LAM  ring   \n\n         anatomy_structure  \n0                       wm  \n1         precentral gyrus  \n2    middle temporal gyrus  \n3    middle temporal gyrus  \n4    middle temporal gyrus  \n..                     ...  \n123                     wm  \n124  middle temporal gyrus  \n125  middle temporal gyrus  \n126  middle temporal gyrus  \n127  middle temporal gyrus  \n\n[128 rows x 10 columns]",
      "text/html": "<div>\n<style scoped>\n    .dataframe tbody tr th:only-of-type {\n        vertical-align: middle;\n    }\n\n    .dataframe tbody tr th {\n        vertical-align: top;\n    }\n\n    .dataframe thead th {\n        text-align: right;\n    }\n</style>\n<table border=\"1\" class=\"dataframe\">\n  <thead>\n    <tr style=\"text-align: right;\">\n      <th></th>\n      <th>name</th>\n      <th>x</th>\n      <th>y</th>\n      <th>z</th>\n      <th>size</th>\n      <th>material</th>\n      <th>manufacturer</th>\n      <th>group</th>\n      <th>type</th>\n      <th>anatomy_structure</th>\n    </tr>\n  </thead>\n  <tbody>\n    <tr>\n      <th>0</th>\n      <td>LZ_01</td>\n      <td>4.2</td>\n      <td>15.6</td>\n      <td>68.1</td>\n      <td>2</td>\n      <td>Pt</td>\n      <td>PMT</td>\n      <td>LZ</td>\n      <td>ring</td>\n      <td>wm</td>\n    </tr>\n    <tr>\n      <th>1</th>\n      <td>LZ_10</td>\n      <td>-26.6</td>\n      <td>17.0</td>\n      <td>85.0</td>\n      <td>2</td>\n      <td>Pt</td>\n      <td>PMT</td>\n      <td>LZ</td>\n      <td>ring</td>\n      <td>precentral gyrus</td>\n    </tr>\n    <tr>\n      <th>2</th>\n      <td>LAM_08</td>\n      <td>-31.5</td>\n      <td>-46.3</td>\n      <td>66.8</td>\n      <td>2</td>\n      <td>Pt</td>\n      <td>PMT</td>\n      <td>LAM</td>\n      <td>ring</td>\n      <td>middle temporal gyrus</td>\n    </tr>\n    <tr>\n      <th>3</th>\n      <td>LAM_09</td>\n      <td>-34.4</td>\n      <td>-48.0</td>\n      <td>68.8</td>\n      <td>2</td>\n      <td>Pt</td>\n      <td>PMT</td>\n      <td>LAM</td>\n      <td>ring</td>\n      <td>middle temporal gyrus</td>\n    </tr>\n    <tr>\n      <th>4</th>\n      <td>LAM_10</td>\n      <td>-37.2</td>\n      <td>-49.7</td>\n      <td>70.8</td>\n      <td>2</td>\n      <td>Pt</td>\n      <td>PMT</td>\n      <td>LAM</td>\n      <td>ring</td>\n      <td>middle temporal gyrus</td>\n    </tr>\n    <tr>\n      <th>...</th>\n      <td>...</td>\n      <td>...</td>\n      <td>...</td>\n      <td>...</td>\n      <td>...</td>\n      <td>...</td>\n      <td>...</td>\n      <td>...</td>\n      <td>...</td>\n      <td>...</td>\n    </tr>\n    <tr>\n      <th>123</th>\n      <td>LAM_03</td>\n      <td>-17.3</td>\n      <td>-38.0</td>\n      <td>56.6</td>\n      <td>2</td>\n      <td>Pt</td>\n      <td>PMT</td>\n      <td>LAM</td>\n      <td>ring</td>\n      <td>wm</td>\n    </tr>\n    <tr>\n      <th>124</th>\n      <td>LAM_04</td>\n      <td>-20.1</td>\n      <td>-39.6</td>\n      <td>58.7</td>\n      <td>2</td>\n      <td>Pt</td>\n      <td>PMT</td>\n      <td>LAM</td>\n      <td>ring</td>\n      <td>middle temporal gyrus</td>\n    </tr>\n    <tr>\n      <th>125</th>\n      <td>LAM_05</td>\n      <td>-23.0</td>\n      <td>-41.3</td>\n      <td>60.7</td>\n      <td>2</td>\n      <td>Pt</td>\n      <td>PMT</td>\n      <td>LAM</td>\n      <td>ring</td>\n      <td>middle temporal gyrus</td>\n    </tr>\n    <tr>\n      <th>126</th>\n      <td>LAM_06</td>\n      <td>-25.8</td>\n      <td>-43.0</td>\n      <td>62.7</td>\n      <td>2</td>\n      <td>Pt</td>\n      <td>PMT</td>\n      <td>LAM</td>\n      <td>ring</td>\n      <td>middle temporal gyrus</td>\n    </tr>\n    <tr>\n      <th>127</th>\n      <td>LAM_07</td>\n      <td>-28.7</td>\n      <td>-44.7</td>\n      <td>64.7</td>\n      <td>2</td>\n      <td>Pt</td>\n      <td>PMT</td>\n      <td>LAM</td>\n      <td>ring</td>\n      <td>middle temporal gyrus</td>\n    </tr>\n  </tbody>\n</table>\n<p>128 rows × 10 columns</p>\n</div>"
     },
     "execution_count": 357,
     "metadata": {},
     "output_type": "execute_result"
    }
   ],
   "source": [
    "# Get electrodes\n",
    "electrodes_file = l.get(suffix='electrodes', extension='tsv',\n",
    "                        subject=json_entities['subject'],\n",
    "                        session=json_entities['session'])[0]\n",
    "electrode_df = electrodes_file.get_df()\n",
    "electrode_df"
   ],
   "metadata": {
    "collapsed": false
   }
  },
  {
   "cell_type": "markdown",
   "metadata": {},
   "source": [
    "Load information about channels"
   ]
  },
  {
   "cell_type": "code",
   "execution_count": 358,
   "metadata": {},
   "outputs": [
    {
     "data": {
      "text/plain": "                 name     type units  low_cutoff  high_cutoff  reference  \\\n0              LAM_01     SEEG    µV         0.1       6000.0  scalp_cpz   \n2              LAM_03     SEEG    µV         0.1       6000.0  scalp_cpz   \n3              LAM_04     SEEG    µV         0.1       6000.0  scalp_cpz   \n4              LAM_05     SEEG    µV         0.1       6000.0  scalp_cpz   \n5              LAM_06     SEEG    µV         0.1       6000.0  scalp_cpz   \n..                ...      ...   ...         ...          ...        ...   \n132  RIGHT_PUPIL_SIZE    PUPIL   px2         NaN          NaN  scalp_cpz   \n133     RIGHT_X_COORD  EYEGAZE    px         NaN          NaN  scalp_cpz   \n134     RIGHT_Y_COORD  EYEGAZE    px         NaN          NaN  scalp_cpz   \n135          SCREEN_X  EYEGAZE    px         NaN          NaN  scalp_cpz   \n136          SCREEN_Y  EYEGAZE    px         NaN          NaN  scalp_cpz   \n\n     sampling_frequency status status_description  \n0                 32000   good                NaN  \n2                 32000   good                NaN  \n3                 32000   good                NaN  \n4                 32000   good                NaN  \n5                 32000   good                NaN  \n..                  ...    ...                ...  \n132                 150   good                NaN  \n133                 150   good                NaN  \n134                 150   good                NaN  \n135                 150   good                NaN  \n136                 150   good                NaN  \n\n[135 rows x 9 columns]",
      "text/html": "<div>\n<style scoped>\n    .dataframe tbody tr th:only-of-type {\n        vertical-align: middle;\n    }\n\n    .dataframe tbody tr th {\n        vertical-align: top;\n    }\n\n    .dataframe thead th {\n        text-align: right;\n    }\n</style>\n<table border=\"1\" class=\"dataframe\">\n  <thead>\n    <tr style=\"text-align: right;\">\n      <th></th>\n      <th>name</th>\n      <th>type</th>\n      <th>units</th>\n      <th>low_cutoff</th>\n      <th>high_cutoff</th>\n      <th>reference</th>\n      <th>sampling_frequency</th>\n      <th>status</th>\n      <th>status_description</th>\n    </tr>\n  </thead>\n  <tbody>\n    <tr>\n      <th>0</th>\n      <td>LAM_01</td>\n      <td>SEEG</td>\n      <td>µV</td>\n      <td>0.1</td>\n      <td>6000.0</td>\n      <td>scalp_cpz</td>\n      <td>32000</td>\n      <td>good</td>\n      <td>NaN</td>\n    </tr>\n    <tr>\n      <th>2</th>\n      <td>LAM_03</td>\n      <td>SEEG</td>\n      <td>µV</td>\n      <td>0.1</td>\n      <td>6000.0</td>\n      <td>scalp_cpz</td>\n      <td>32000</td>\n      <td>good</td>\n      <td>NaN</td>\n    </tr>\n    <tr>\n      <th>3</th>\n      <td>LAM_04</td>\n      <td>SEEG</td>\n      <td>µV</td>\n      <td>0.1</td>\n      <td>6000.0</td>\n      <td>scalp_cpz</td>\n      <td>32000</td>\n      <td>good</td>\n      <td>NaN</td>\n    </tr>\n    <tr>\n      <th>4</th>\n      <td>LAM_05</td>\n      <td>SEEG</td>\n      <td>µV</td>\n      <td>0.1</td>\n      <td>6000.0</td>\n      <td>scalp_cpz</td>\n      <td>32000</td>\n      <td>good</td>\n      <td>NaN</td>\n    </tr>\n    <tr>\n      <th>5</th>\n      <td>LAM_06</td>\n      <td>SEEG</td>\n      <td>µV</td>\n      <td>0.1</td>\n      <td>6000.0</td>\n      <td>scalp_cpz</td>\n      <td>32000</td>\n      <td>good</td>\n      <td>NaN</td>\n    </tr>\n    <tr>\n      <th>...</th>\n      <td>...</td>\n      <td>...</td>\n      <td>...</td>\n      <td>...</td>\n      <td>...</td>\n      <td>...</td>\n      <td>...</td>\n      <td>...</td>\n      <td>...</td>\n    </tr>\n    <tr>\n      <th>132</th>\n      <td>RIGHT_PUPIL_SIZE</td>\n      <td>PUPIL</td>\n      <td>px2</td>\n      <td>NaN</td>\n      <td>NaN</td>\n      <td>scalp_cpz</td>\n      <td>150</td>\n      <td>good</td>\n      <td>NaN</td>\n    </tr>\n    <tr>\n      <th>133</th>\n      <td>RIGHT_X_COORD</td>\n      <td>EYEGAZE</td>\n      <td>px</td>\n      <td>NaN</td>\n      <td>NaN</td>\n      <td>scalp_cpz</td>\n      <td>150</td>\n      <td>good</td>\n      <td>NaN</td>\n    </tr>\n    <tr>\n      <th>134</th>\n      <td>RIGHT_Y_COORD</td>\n      <td>EYEGAZE</td>\n      <td>px</td>\n      <td>NaN</td>\n      <td>NaN</td>\n      <td>scalp_cpz</td>\n      <td>150</td>\n      <td>good</td>\n      <td>NaN</td>\n    </tr>\n    <tr>\n      <th>135</th>\n      <td>SCREEN_X</td>\n      <td>EYEGAZE</td>\n      <td>px</td>\n      <td>NaN</td>\n      <td>NaN</td>\n      <td>scalp_cpz</td>\n      <td>150</td>\n      <td>good</td>\n      <td>NaN</td>\n    </tr>\n    <tr>\n      <th>136</th>\n      <td>SCREEN_Y</td>\n      <td>EYEGAZE</td>\n      <td>px</td>\n      <td>NaN</td>\n      <td>NaN</td>\n      <td>scalp_cpz</td>\n      <td>150</td>\n      <td>good</td>\n      <td>NaN</td>\n    </tr>\n  </tbody>\n</table>\n<p>135 rows × 9 columns</p>\n</div>"
     },
     "execution_count": 358,
     "metadata": {},
     "output_type": "execute_result"
    }
   ],
   "source": [
    "# Get channels\n",
    "channel_file = l.get(suffix='channels', extension='tsv',\n",
    "                     task=json_entities['task'],\n",
    "                     subject=json_entities['subject'],\n",
    "                     session=json_entities['session'],\n",
    "                     run=json_entities['run'])[0]\n",
    "channel_df = channel_file.get_df()\n",
    "channel_df = channel_df[channel_df['status'] != 'bad']\n",
    "channel_df\n",
    "    "
   ]
  },
  {
   "cell_type": "markdown",
   "metadata": {},
   "source": [
    "Load events"
   ]
  },
  {
   "cell_type": "code",
   "execution_count": 359,
   "metadata": {},
   "outputs": [
    {
     "data": {
      "text/plain": "           onset    sample  duration trial_type  list\n0     375.780287  12024969  1.494031     ENCODE   1.0\n1     378.278411  12104909  1.495906     ENCODE   1.0\n2     380.786316  12185162  1.488000     ENCODE   1.0\n3     383.279534  12264945  1.494781     ENCODE   1.0\n4     385.780283  12344969  1.494031     ENCODE   1.0\n..           ...       ...       ...        ...   ...\n175  1924.491728  61583735  1.495061     ENCODE  15.0\n176  1926.991914  61663741  1.494906     ENCODE  15.0\n177  1929.494851  61743835  1.491968     ENCODE  15.0\n178  1931.994350  61823819  1.492468     ENCODE  15.0\n179  1934.499317  61903978  1.487687     ENCODE  15.0\n\n[180 rows x 5 columns]",
      "text/html": "<div>\n<style scoped>\n    .dataframe tbody tr th:only-of-type {\n        vertical-align: middle;\n    }\n\n    .dataframe tbody tr th {\n        vertical-align: top;\n    }\n\n    .dataframe thead th {\n        text-align: right;\n    }\n</style>\n<table border=\"1\" class=\"dataframe\">\n  <thead>\n    <tr style=\"text-align: right;\">\n      <th></th>\n      <th>onset</th>\n      <th>sample</th>\n      <th>duration</th>\n      <th>trial_type</th>\n      <th>list</th>\n    </tr>\n  </thead>\n  <tbody>\n    <tr>\n      <th>0</th>\n      <td>375.780287</td>\n      <td>12024969</td>\n      <td>1.494031</td>\n      <td>ENCODE</td>\n      <td>1.0</td>\n    </tr>\n    <tr>\n      <th>1</th>\n      <td>378.278411</td>\n      <td>12104909</td>\n      <td>1.495906</td>\n      <td>ENCODE</td>\n      <td>1.0</td>\n    </tr>\n    <tr>\n      <th>2</th>\n      <td>380.786316</td>\n      <td>12185162</td>\n      <td>1.488000</td>\n      <td>ENCODE</td>\n      <td>1.0</td>\n    </tr>\n    <tr>\n      <th>3</th>\n      <td>383.279534</td>\n      <td>12264945</td>\n      <td>1.494781</td>\n      <td>ENCODE</td>\n      <td>1.0</td>\n    </tr>\n    <tr>\n      <th>4</th>\n      <td>385.780283</td>\n      <td>12344969</td>\n      <td>1.494031</td>\n      <td>ENCODE</td>\n      <td>1.0</td>\n    </tr>\n    <tr>\n      <th>...</th>\n      <td>...</td>\n      <td>...</td>\n      <td>...</td>\n      <td>...</td>\n      <td>...</td>\n    </tr>\n    <tr>\n      <th>175</th>\n      <td>1924.491728</td>\n      <td>61583735</td>\n      <td>1.495061</td>\n      <td>ENCODE</td>\n      <td>15.0</td>\n    </tr>\n    <tr>\n      <th>176</th>\n      <td>1926.991914</td>\n      <td>61663741</td>\n      <td>1.494906</td>\n      <td>ENCODE</td>\n      <td>15.0</td>\n    </tr>\n    <tr>\n      <th>177</th>\n      <td>1929.494851</td>\n      <td>61743835</td>\n      <td>1.491968</td>\n      <td>ENCODE</td>\n      <td>15.0</td>\n    </tr>\n    <tr>\n      <th>178</th>\n      <td>1931.994350</td>\n      <td>61823819</td>\n      <td>1.492468</td>\n      <td>ENCODE</td>\n      <td>15.0</td>\n    </tr>\n    <tr>\n      <th>179</th>\n      <td>1934.499317</td>\n      <td>61903978</td>\n      <td>1.487687</td>\n      <td>ENCODE</td>\n      <td>15.0</td>\n    </tr>\n  </tbody>\n</table>\n<p>180 rows × 5 columns</p>\n</div>"
     },
     "execution_count": 359,
     "metadata": {},
     "output_type": "execute_result"
    }
   ],
   "source": [
    "events_file = l.get(suffix='events', extension='tsv',\n",
    "                    task=json_entities['task'],\n",
    "                    subject=json_entities['subject'],\n",
    "                    session=json_entities['session'],\n",
    "                    run=json_entities['run'])[0]\n",
    "events_df = events_file.get_df()\n",
    "\n",
    "# Pull only the processed events (discarding the original events)\n",
    "events_df = events_df.loc[~events_df['trial_type'].isna(), ['onset', 'sample', 'duration', 'trial_type', 'list']]\n",
    "events_df = events_df[events_df['trial_type'] == 'ENCODE']\n",
    "events_df = events_df.reset_index(drop=True)\n",
    "events_df\n"
   ]
  },
  {
   "cell_type": "markdown",
   "metadata": {},
   "source": [
    "Now load the raw data"
   ]
  },
  {
   "cell_type": "code",
   "execution_count": 360,
   "metadata": {},
   "outputs": [
    {
     "name": "stdout",
     "output_type": "stream",
     "text": [
      "C:\\MasterThesis\\v1.0\\sub-004\\ses-001\\ieeg\\sub-004_ses-001_task-FR_run-01_ieeg.mefd\n"
     ]
    },
    {
     "data": {
      "text/plain": "[{'name': 'LAM_01',\n  'fsamp': array([32000.]),\n  'nsamp': array([65920218], dtype=int64),\n  'ufact': array([0.03051851]),\n  'unit': array([b'uV'], dtype='|S128'),\n  'start_time': array([1553940917170848], dtype=int64),\n  'end_time': array([1553942977177662], dtype=int64),\n  'channel_description': array([b'SEEG'], dtype='|S2048')},\n {'name': 'LAM_02',\n  'fsamp': array([32000.]),\n  'nsamp': array([65920218], dtype=int64),\n  'ufact': array([0.03051851]),\n  'unit': array([b'uV'], dtype='|S128'),\n  'start_time': array([1553940917170848], dtype=int64),\n  'end_time': array([1553942977177662], dtype=int64),\n  'channel_description': array([b'SEEG'], dtype='|S2048')},\n {'name': 'LAM_03',\n  'fsamp': array([32000.]),\n  'nsamp': array([65920218], dtype=int64),\n  'ufact': array([0.03051851]),\n  'unit': array([b'uV'], dtype='|S128'),\n  'start_time': array([1553940917170848], dtype=int64),\n  'end_time': array([1553942977177662], dtype=int64),\n  'channel_description': array([b'SEEG'], dtype='|S2048')},\n {'name': 'LAM_04',\n  'fsamp': array([32000.]),\n  'nsamp': array([65920218], dtype=int64),\n  'ufact': array([0.03051851]),\n  'unit': array([b'uV'], dtype='|S128'),\n  'start_time': array([1553940917170848], dtype=int64),\n  'end_time': array([1553942977177662], dtype=int64),\n  'channel_description': array([b'SEEG'], dtype='|S2048')},\n {'name': 'LAM_05',\n  'fsamp': array([32000.]),\n  'nsamp': array([65920218], dtype=int64),\n  'ufact': array([0.03051851]),\n  'unit': array([b'uV'], dtype='|S128'),\n  'start_time': array([1553940917170848], dtype=int64),\n  'end_time': array([1553942977177662], dtype=int64),\n  'channel_description': array([b'SEEG'], dtype='|S2048')},\n {'name': 'LAM_06',\n  'fsamp': array([32000.]),\n  'nsamp': array([65920218], dtype=int64),\n  'ufact': array([0.03051851]),\n  'unit': array([b'uV'], dtype='|S128'),\n  'start_time': array([1553940917170848], dtype=int64),\n  'end_time': array([1553942977177662], dtype=int64),\n  'channel_description': array([b'SEEG'], dtype='|S2048')},\n {'name': 'LAM_07',\n  'fsamp': array([32000.]),\n  'nsamp': array([65920218], dtype=int64),\n  'ufact': array([0.03051851]),\n  'unit': array([b'uV'], dtype='|S128'),\n  'start_time': array([1553940917170848], dtype=int64),\n  'end_time': array([1553942977177662], dtype=int64),\n  'channel_description': array([b'SEEG'], dtype='|S2048')},\n {'name': 'LAM_08',\n  'fsamp': array([32000.]),\n  'nsamp': array([65920218], dtype=int64),\n  'ufact': array([0.03051851]),\n  'unit': array([b'uV'], dtype='|S128'),\n  'start_time': array([1553940917170848], dtype=int64),\n  'end_time': array([1553942977177662], dtype=int64),\n  'channel_description': array([b'SEEG'], dtype='|S2048')},\n {'name': 'LAM_09',\n  'fsamp': array([32000.]),\n  'nsamp': array([65920218], dtype=int64),\n  'ufact': array([0.03051851]),\n  'unit': array([b'uV'], dtype='|S128'),\n  'start_time': array([1553940917170848], dtype=int64),\n  'end_time': array([1553942977177662], dtype=int64),\n  'channel_description': array([b'SEEG'], dtype='|S2048')},\n {'name': 'LAM_10',\n  'fsamp': array([32000.]),\n  'nsamp': array([65920218], dtype=int64),\n  'ufact': array([0.03051851]),\n  'unit': array([b'uV'], dtype='|S128'),\n  'start_time': array([1553940917170848], dtype=int64),\n  'end_time': array([1553942977177662], dtype=int64),\n  'channel_description': array([b'SEEG'], dtype='|S2048')},\n {'name': 'LAM_11',\n  'fsamp': array([32000.]),\n  'nsamp': array([65920218], dtype=int64),\n  'ufact': array([0.03051851]),\n  'unit': array([b'uV'], dtype='|S128'),\n  'start_time': array([1553940917170848], dtype=int64),\n  'end_time': array([1553942977177662], dtype=int64),\n  'channel_description': array([b'SEEG'], dtype='|S2048')},\n {'name': 'LAM_12',\n  'fsamp': array([32000.]),\n  'nsamp': array([65920218], dtype=int64),\n  'ufact': array([0.03051851]),\n  'unit': array([b'uV'], dtype='|S128'),\n  'start_time': array([1553940917170848], dtype=int64),\n  'end_time': array([1553942977177662], dtype=int64),\n  'channel_description': array([b'SEEG'], dtype='|S2048')},\n {'name': 'LA_01',\n  'fsamp': array([32000.]),\n  'nsamp': array([65920218], dtype=int64),\n  'ufact': array([0.03051851]),\n  'unit': array([b'uV'], dtype='|S128'),\n  'start_time': array([1553940917170848], dtype=int64),\n  'end_time': array([1553942977177662], dtype=int64),\n  'channel_description': array([b'SEEG'], dtype='|S2048')},\n {'name': 'LA_02',\n  'fsamp': array([32000.]),\n  'nsamp': array([65920218], dtype=int64),\n  'ufact': array([0.03051851]),\n  'unit': array([b'uV'], dtype='|S128'),\n  'start_time': array([1553940917170848], dtype=int64),\n  'end_time': array([1553942977177662], dtype=int64),\n  'channel_description': array([b'SEEG'], dtype='|S2048')},\n {'name': 'LA_03',\n  'fsamp': array([32000.]),\n  'nsamp': array([65920218], dtype=int64),\n  'ufact': array([0.03051851]),\n  'unit': array([b'uV'], dtype='|S128'),\n  'start_time': array([1553940917170848], dtype=int64),\n  'end_time': array([1553942977177662], dtype=int64),\n  'channel_description': array([b'SEEG'], dtype='|S2048')},\n {'name': 'LA_04',\n  'fsamp': array([32000.]),\n  'nsamp': array([65920218], dtype=int64),\n  'ufact': array([0.03051851]),\n  'unit': array([b'uV'], dtype='|S128'),\n  'start_time': array([1553940917170848], dtype=int64),\n  'end_time': array([1553942977177662], dtype=int64),\n  'channel_description': array([b'SEEG'], dtype='|S2048')},\n {'name': 'LA_05',\n  'fsamp': array([32000.]),\n  'nsamp': array([65920218], dtype=int64),\n  'ufact': array([0.03051851]),\n  'unit': array([b'uV'], dtype='|S128'),\n  'start_time': array([1553940917170848], dtype=int64),\n  'end_time': array([1553942977177662], dtype=int64),\n  'channel_description': array([b'SEEG'], dtype='|S2048')},\n {'name': 'LA_06',\n  'fsamp': array([32000.]),\n  'nsamp': array([65920218], dtype=int64),\n  'ufact': array([0.03051851]),\n  'unit': array([b'uV'], dtype='|S128'),\n  'start_time': array([1553940917170848], dtype=int64),\n  'end_time': array([1553942977177662], dtype=int64),\n  'channel_description': array([b'SEEG'], dtype='|S2048')},\n {'name': 'LA_07',\n  'fsamp': array([32000.]),\n  'nsamp': array([65920218], dtype=int64),\n  'ufact': array([0.03051851]),\n  'unit': array([b'uV'], dtype='|S128'),\n  'start_time': array([1553940917170848], dtype=int64),\n  'end_time': array([1553942977177662], dtype=int64),\n  'channel_description': array([b'SEEG'], dtype='|S2048')},\n {'name': 'LA_08',\n  'fsamp': array([32000.]),\n  'nsamp': array([65920218], dtype=int64),\n  'ufact': array([0.03051851]),\n  'unit': array([b'uV'], dtype='|S128'),\n  'start_time': array([1553940917170848], dtype=int64),\n  'end_time': array([1553942977177662], dtype=int64),\n  'channel_description': array([b'SEEG'], dtype='|S2048')},\n {'name': 'LA_09',\n  'fsamp': array([32000.]),\n  'nsamp': array([65920218], dtype=int64),\n  'ufact': array([0.03051851]),\n  'unit': array([b'uV'], dtype='|S128'),\n  'start_time': array([1553940917170848], dtype=int64),\n  'end_time': array([1553942977177662], dtype=int64),\n  'channel_description': array([b'SEEG'], dtype='|S2048')},\n {'name': 'LA_10',\n  'fsamp': array([32000.]),\n  'nsamp': array([65920218], dtype=int64),\n  'ufact': array([0.03051851]),\n  'unit': array([b'uV'], dtype='|S128'),\n  'start_time': array([1553940917170848], dtype=int64),\n  'end_time': array([1553942977177662], dtype=int64),\n  'channel_description': array([b'SEEG'], dtype='|S2048')},\n {'name': 'LA_11',\n  'fsamp': array([32000.]),\n  'nsamp': array([65920218], dtype=int64),\n  'ufact': array([0.03051851]),\n  'unit': array([b'uV'], dtype='|S128'),\n  'start_time': array([1553940917170848], dtype=int64),\n  'end_time': array([1553942977177662], dtype=int64),\n  'channel_description': array([b'SEEG'], dtype='|S2048')},\n {'name': 'LA_12',\n  'fsamp': array([32000.]),\n  'nsamp': array([65920218], dtype=int64),\n  'ufact': array([0.03051851]),\n  'unit': array([b'uV'], dtype='|S128'),\n  'start_time': array([1553940917170848], dtype=int64),\n  'end_time': array([1553942977177662], dtype=int64),\n  'channel_description': array([b'SEEG'], dtype='|S2048')},\n {'name': 'LA_13',\n  'fsamp': array([32000.]),\n  'nsamp': array([65920218], dtype=int64),\n  'ufact': array([0.03051851]),\n  'unit': array([b'uV'], dtype='|S128'),\n  'start_time': array([1553940917170848], dtype=int64),\n  'end_time': array([1553942977177662], dtype=int64),\n  'channel_description': array([b'SEEG'], dtype='|S2048')},\n {'name': 'LA_14',\n  'fsamp': array([32000.]),\n  'nsamp': array([65920218], dtype=int64),\n  'ufact': array([0.03051851]),\n  'unit': array([b'uV'], dtype='|S128'),\n  'start_time': array([1553940917170848], dtype=int64),\n  'end_time': array([1553942977177662], dtype=int64),\n  'channel_description': array([b'SEEG'], dtype='|S2048')},\n {'name': 'LB_01',\n  'fsamp': array([32000.]),\n  'nsamp': array([65920218], dtype=int64),\n  'ufact': array([0.03051851]),\n  'unit': array([b'uV'], dtype='|S128'),\n  'start_time': array([1553940917170848], dtype=int64),\n  'end_time': array([1553942977177662], dtype=int64),\n  'channel_description': array([b'SEEG'], dtype='|S2048')},\n {'name': 'LB_02',\n  'fsamp': array([32000.]),\n  'nsamp': array([65920218], dtype=int64),\n  'ufact': array([0.03051851]),\n  'unit': array([b'uV'], dtype='|S128'),\n  'start_time': array([1553940917170848], dtype=int64),\n  'end_time': array([1553942977177662], dtype=int64),\n  'channel_description': array([b'SEEG'], dtype='|S2048')},\n {'name': 'LB_03',\n  'fsamp': array([32000.]),\n  'nsamp': array([65920218], dtype=int64),\n  'ufact': array([0.03051851]),\n  'unit': array([b'uV'], dtype='|S128'),\n  'start_time': array([1553940917170848], dtype=int64),\n  'end_time': array([1553942977177662], dtype=int64),\n  'channel_description': array([b'SEEG'], dtype='|S2048')},\n {'name': 'LB_04',\n  'fsamp': array([32000.]),\n  'nsamp': array([65920218], dtype=int64),\n  'ufact': array([0.03051851]),\n  'unit': array([b'uV'], dtype='|S128'),\n  'start_time': array([1553940917170848], dtype=int64),\n  'end_time': array([1553942977177662], dtype=int64),\n  'channel_description': array([b'SEEG'], dtype='|S2048')},\n {'name': 'LB_05',\n  'fsamp': array([32000.]),\n  'nsamp': array([65920218], dtype=int64),\n  'ufact': array([0.03051851]),\n  'unit': array([b'uV'], dtype='|S128'),\n  'start_time': array([1553940917170848], dtype=int64),\n  'end_time': array([1553942977177662], dtype=int64),\n  'channel_description': array([b'SEEG'], dtype='|S2048')},\n {'name': 'LB_06',\n  'fsamp': array([32000.]),\n  'nsamp': array([65920218], dtype=int64),\n  'ufact': array([0.03051851]),\n  'unit': array([b'uV'], dtype='|S128'),\n  'start_time': array([1553940917170848], dtype=int64),\n  'end_time': array([1553942977177662], dtype=int64),\n  'channel_description': array([b'SEEG'], dtype='|S2048')},\n {'name': 'LB_07',\n  'fsamp': array([32000.]),\n  'nsamp': array([65920218], dtype=int64),\n  'ufact': array([0.03051851]),\n  'unit': array([b'uV'], dtype='|S128'),\n  'start_time': array([1553940917170848], dtype=int64),\n  'end_time': array([1553942977177662], dtype=int64),\n  'channel_description': array([b'SEEG'], dtype='|S2048')},\n {'name': 'LB_08',\n  'fsamp': array([32000.]),\n  'nsamp': array([65920218], dtype=int64),\n  'ufact': array([0.03051851]),\n  'unit': array([b'uV'], dtype='|S128'),\n  'start_time': array([1553940917170848], dtype=int64),\n  'end_time': array([1553942977177662], dtype=int64),\n  'channel_description': array([b'SEEG'], dtype='|S2048')},\n {'name': 'LB_09',\n  'fsamp': array([32000.]),\n  'nsamp': array([65920218], dtype=int64),\n  'ufact': array([0.03051851]),\n  'unit': array([b'uV'], dtype='|S128'),\n  'start_time': array([1553940917170848], dtype=int64),\n  'end_time': array([1553942977177662], dtype=int64),\n  'channel_description': array([b'SEEG'], dtype='|S2048')},\n {'name': 'LB_10',\n  'fsamp': array([32000.]),\n  'nsamp': array([65920218], dtype=int64),\n  'ufact': array([0.03051851]),\n  'unit': array([b'uV'], dtype='|S128'),\n  'start_time': array([1553940917170848], dtype=int64),\n  'end_time': array([1553942977177662], dtype=int64),\n  'channel_description': array([b'SEEG'], dtype='|S2048')},\n {'name': 'LB_11',\n  'fsamp': array([32000.]),\n  'nsamp': array([65920218], dtype=int64),\n  'ufact': array([0.03051851]),\n  'unit': array([b'uV'], dtype='|S128'),\n  'start_time': array([1553940917170848], dtype=int64),\n  'end_time': array([1553942977177662], dtype=int64),\n  'channel_description': array([b'SEEG'], dtype='|S2048')},\n {'name': 'LB_12',\n  'fsamp': array([32000.]),\n  'nsamp': array([65920218], dtype=int64),\n  'ufact': array([0.03051851]),\n  'unit': array([b'uV'], dtype='|S128'),\n  'start_time': array([1553940917170848], dtype=int64),\n  'end_time': array([1553942977177662], dtype=int64),\n  'channel_description': array([b'SEEG'], dtype='|S2048')},\n {'name': 'LB_13',\n  'fsamp': array([32000.]),\n  'nsamp': array([65920218], dtype=int64),\n  'ufact': array([0.03051851]),\n  'unit': array([b'uV'], dtype='|S128'),\n  'start_time': array([1553940917170848], dtype=int64),\n  'end_time': array([1553942977177662], dtype=int64),\n  'channel_description': array([b'SEEG'], dtype='|S2048')},\n {'name': 'LB_14',\n  'fsamp': array([32000.]),\n  'nsamp': array([65920218], dtype=int64),\n  'ufact': array([0.03051851]),\n  'unit': array([b'uV'], dtype='|S128'),\n  'start_time': array([1553940917170848], dtype=int64),\n  'end_time': array([1553942977177662], dtype=int64),\n  'channel_description': array([b'SEEG'], dtype='|S2048')},\n {'name': 'LB_15',\n  'fsamp': array([32000.]),\n  'nsamp': array([65920218], dtype=int64),\n  'ufact': array([0.03051851]),\n  'unit': array([b'uV'], dtype='|S128'),\n  'start_time': array([1553940917170848], dtype=int64),\n  'end_time': array([1553942977177662], dtype=int64),\n  'channel_description': array([b'SEEG'], dtype='|S2048')},\n {'name': 'LB_16',\n  'fsamp': array([32000.]),\n  'nsamp': array([65920218], dtype=int64),\n  'ufact': array([0.03051851]),\n  'unit': array([b'uV'], dtype='|S128'),\n  'start_time': array([1553940917170848], dtype=int64),\n  'end_time': array([1553942977177662], dtype=int64),\n  'channel_description': array([b'SEEG'], dtype='|S2048')},\n {'name': 'LC_01',\n  'fsamp': array([32000.]),\n  'nsamp': array([65920218], dtype=int64),\n  'ufact': array([0.03051851]),\n  'unit': array([b'uV'], dtype='|S128'),\n  'start_time': array([1553940917170848], dtype=int64),\n  'end_time': array([1553942977177662], dtype=int64),\n  'channel_description': array([b'SEEG'], dtype='|S2048')},\n {'name': 'LC_02',\n  'fsamp': array([32000.]),\n  'nsamp': array([65920218], dtype=int64),\n  'ufact': array([0.03051851]),\n  'unit': array([b'uV'], dtype='|S128'),\n  'start_time': array([1553940917170848], dtype=int64),\n  'end_time': array([1553942977177662], dtype=int64),\n  'channel_description': array([b'SEEG'], dtype='|S2048')},\n {'name': 'LC_03',\n  'fsamp': array([32000.]),\n  'nsamp': array([65920218], dtype=int64),\n  'ufact': array([0.03051851]),\n  'unit': array([b'uV'], dtype='|S128'),\n  'start_time': array([1553940917170848], dtype=int64),\n  'end_time': array([1553942977177662], dtype=int64),\n  'channel_description': array([b'SEEG'], dtype='|S2048')},\n {'name': 'LC_04',\n  'fsamp': array([32000.]),\n  'nsamp': array([65920218], dtype=int64),\n  'ufact': array([0.03051851]),\n  'unit': array([b'uV'], dtype='|S128'),\n  'start_time': array([1553940917170848], dtype=int64),\n  'end_time': array([1553942977177662], dtype=int64),\n  'channel_description': array([b'SEEG'], dtype='|S2048')},\n {'name': 'LC_05',\n  'fsamp': array([32000.]),\n  'nsamp': array([65920218], dtype=int64),\n  'ufact': array([0.03051851]),\n  'unit': array([b'uV'], dtype='|S128'),\n  'start_time': array([1553940917170848], dtype=int64),\n  'end_time': array([1553942977177662], dtype=int64),\n  'channel_description': array([b'SEEG'], dtype='|S2048')},\n {'name': 'LC_06',\n  'fsamp': array([32000.]),\n  'nsamp': array([65920218], dtype=int64),\n  'ufact': array([0.03051851]),\n  'unit': array([b'uV'], dtype='|S128'),\n  'start_time': array([1553940917170848], dtype=int64),\n  'end_time': array([1553942977177662], dtype=int64),\n  'channel_description': array([b'SEEG'], dtype='|S2048')},\n {'name': 'LC_07',\n  'fsamp': array([32000.]),\n  'nsamp': array([65920218], dtype=int64),\n  'ufact': array([0.03051851]),\n  'unit': array([b'uV'], dtype='|S128'),\n  'start_time': array([1553940917170848], dtype=int64),\n  'end_time': array([1553942977177662], dtype=int64),\n  'channel_description': array([b'SEEG'], dtype='|S2048')},\n {'name': 'LC_08',\n  'fsamp': array([32000.]),\n  'nsamp': array([65920218], dtype=int64),\n  'ufact': array([0.03051851]),\n  'unit': array([b'uV'], dtype='|S128'),\n  'start_time': array([1553940917170848], dtype=int64),\n  'end_time': array([1553942977177662], dtype=int64),\n  'channel_description': array([b'SEEG'], dtype='|S2048')},\n {'name': 'LC_09',\n  'fsamp': array([32000.]),\n  'nsamp': array([65920218], dtype=int64),\n  'ufact': array([0.03051851]),\n  'unit': array([b'uV'], dtype='|S128'),\n  'start_time': array([1553940917170848], dtype=int64),\n  'end_time': array([1553942977177662], dtype=int64),\n  'channel_description': array([b'SEEG'], dtype='|S2048')},\n {'name': 'LC_10',\n  'fsamp': array([32000.]),\n  'nsamp': array([65920218], dtype=int64),\n  'ufact': array([0.03051851]),\n  'unit': array([b'uV'], dtype='|S128'),\n  'start_time': array([1553940917170848], dtype=int64),\n  'end_time': array([1553942977177662], dtype=int64),\n  'channel_description': array([b'SEEG'], dtype='|S2048')},\n {'name': 'LC_11',\n  'fsamp': array([32000.]),\n  'nsamp': array([65920218], dtype=int64),\n  'ufact': array([0.03051851]),\n  'unit': array([b'uV'], dtype='|S128'),\n  'start_time': array([1553940917170848], dtype=int64),\n  'end_time': array([1553942977177662], dtype=int64),\n  'channel_description': array([b'SEEG'], dtype='|S2048')},\n {'name': 'LC_12',\n  'fsamp': array([32000.]),\n  'nsamp': array([65920218], dtype=int64),\n  'ufact': array([0.03051851]),\n  'unit': array([b'uV'], dtype='|S128'),\n  'start_time': array([1553940917170848], dtype=int64),\n  'end_time': array([1553942977177662], dtype=int64),\n  'channel_description': array([b'SEEG'], dtype='|S2048')},\n {'name': 'LC_13',\n  'fsamp': array([32000.]),\n  'nsamp': array([65920218], dtype=int64),\n  'ufact': array([0.03051851]),\n  'unit': array([b'uV'], dtype='|S128'),\n  'start_time': array([1553940917170848], dtype=int64),\n  'end_time': array([1553942977177662], dtype=int64),\n  'channel_description': array([b'SEEG'], dtype='|S2048')},\n {'name': 'LC_14',\n  'fsamp': array([32000.]),\n  'nsamp': array([65920218], dtype=int64),\n  'ufact': array([0.03051851]),\n  'unit': array([b'uV'], dtype='|S128'),\n  'start_time': array([1553940917170848], dtype=int64),\n  'end_time': array([1553942977177662], dtype=int64),\n  'channel_description': array([b'SEEG'], dtype='|S2048')},\n {'name': 'LEFT_PUPIL_SIZE',\n  'fsamp': array([150.]),\n  'nsamp': array([242871], dtype=int64),\n  'ufact': array([1.e-06]),\n  'unit': array([b'px2'], dtype='|S128'),\n  'start_time': array([1553941284955135], dtype=int64),\n  'end_time': array([1553942904095135], dtype=int64),\n  'channel_description': array([b'PUPIL'], dtype='|S2048')},\n {'name': 'LEFT_X_COORD',\n  'fsamp': array([150.]),\n  'nsamp': array([242871], dtype=int64),\n  'ufact': array([1.e-06]),\n  'unit': array([b'px'], dtype='|S128'),\n  'start_time': array([1553941284955135], dtype=int64),\n  'end_time': array([1553942904095135], dtype=int64),\n  'channel_description': array([b'EYEGAZE'], dtype='|S2048')},\n {'name': 'LEFT_Y_COORD',\n  'fsamp': array([150.]),\n  'nsamp': array([242871], dtype=int64),\n  'ufact': array([1.e-06]),\n  'unit': array([b'px'], dtype='|S128'),\n  'start_time': array([1553941284955135], dtype=int64),\n  'end_time': array([1553942904095135], dtype=int64),\n  'channel_description': array([b'EYEGAZE'], dtype='|S2048')},\n {'name': 'LK_01',\n  'fsamp': array([32000.]),\n  'nsamp': array([65920218], dtype=int64),\n  'ufact': array([0.03051851]),\n  'unit': array([b'uV'], dtype='|S128'),\n  'start_time': array([1553940917170848], dtype=int64),\n  'end_time': array([1553942977177662], dtype=int64),\n  'channel_description': array([b'SEEG'], dtype='|S2048')},\n {'name': 'LK_02',\n  'fsamp': array([32000.]),\n  'nsamp': array([65920218], dtype=int64),\n  'ufact': array([0.03051851]),\n  'unit': array([b'uV'], dtype='|S128'),\n  'start_time': array([1553940917170848], dtype=int64),\n  'end_time': array([1553942977177662], dtype=int64),\n  'channel_description': array([b'SEEG'], dtype='|S2048')},\n {'name': 'LK_03',\n  'fsamp': array([32000.]),\n  'nsamp': array([65920218], dtype=int64),\n  'ufact': array([0.03051851]),\n  'unit': array([b'uV'], dtype='|S128'),\n  'start_time': array([1553940917170848], dtype=int64),\n  'end_time': array([1553942977177662], dtype=int64),\n  'channel_description': array([b'SEEG'], dtype='|S2048')},\n {'name': 'LK_04',\n  'fsamp': array([32000.]),\n  'nsamp': array([65920218], dtype=int64),\n  'ufact': array([0.03051851]),\n  'unit': array([b'uV'], dtype='|S128'),\n  'start_time': array([1553940917170848], dtype=int64),\n  'end_time': array([1553942977177662], dtype=int64),\n  'channel_description': array([b'SEEG'], dtype='|S2048')},\n {'name': 'LK_05',\n  'fsamp': array([32000.]),\n  'nsamp': array([65920218], dtype=int64),\n  'ufact': array([0.03051851]),\n  'unit': array([b'uV'], dtype='|S128'),\n  'start_time': array([1553940917170848], dtype=int64),\n  'end_time': array([1553942977177662], dtype=int64),\n  'channel_description': array([b'SEEG'], dtype='|S2048')},\n {'name': 'LK_06',\n  'fsamp': array([32000.]),\n  'nsamp': array([65920218], dtype=int64),\n  'ufact': array([0.03051851]),\n  'unit': array([b'uV'], dtype='|S128'),\n  'start_time': array([1553940917170848], dtype=int64),\n  'end_time': array([1553942977177662], dtype=int64),\n  'channel_description': array([b'SEEG'], dtype='|S2048')},\n {'name': 'LK_07',\n  'fsamp': array([32000.]),\n  'nsamp': array([65920218], dtype=int64),\n  'ufact': array([0.03051851]),\n  'unit': array([b'uV'], dtype='|S128'),\n  'start_time': array([1553940917170848], dtype=int64),\n  'end_time': array([1553942977177662], dtype=int64),\n  'channel_description': array([b'SEEG'], dtype='|S2048')},\n {'name': 'LK_08',\n  'fsamp': array([32000.]),\n  'nsamp': array([65920218], dtype=int64),\n  'ufact': array([0.03051851]),\n  'unit': array([b'uV'], dtype='|S128'),\n  'start_time': array([1553940917170848], dtype=int64),\n  'end_time': array([1553942977177662], dtype=int64),\n  'channel_description': array([b'SEEG'], dtype='|S2048')},\n {'name': 'LK_09',\n  'fsamp': array([32000.]),\n  'nsamp': array([65920218], dtype=int64),\n  'ufact': array([0.03051851]),\n  'unit': array([b'uV'], dtype='|S128'),\n  'start_time': array([1553940917170848], dtype=int64),\n  'end_time': array([1553942977177662], dtype=int64),\n  'channel_description': array([b'SEEG'], dtype='|S2048')},\n {'name': 'LK_10',\n  'fsamp': array([32000.]),\n  'nsamp': array([65920218], dtype=int64),\n  'ufact': array([0.03051851]),\n  'unit': array([b'uV'], dtype='|S128'),\n  'start_time': array([1553940917170848], dtype=int64),\n  'end_time': array([1553942977177662], dtype=int64),\n  'channel_description': array([b'SEEG'], dtype='|S2048')},\n {'name': 'LK_11',\n  'fsamp': array([32000.]),\n  'nsamp': array([65920218], dtype=int64),\n  'ufact': array([0.03051851]),\n  'unit': array([b'uV'], dtype='|S128'),\n  'start_time': array([1553940917170848], dtype=int64),\n  'end_time': array([1553942977177662], dtype=int64),\n  'channel_description': array([b'SEEG'], dtype='|S2048')},\n {'name': 'LK_12',\n  'fsamp': array([32000.]),\n  'nsamp': array([65920218], dtype=int64),\n  'ufact': array([0.03051851]),\n  'unit': array([b'uV'], dtype='|S128'),\n  'start_time': array([1553940917170848], dtype=int64),\n  'end_time': array([1553942977177662], dtype=int64),\n  'channel_description': array([b'SEEG'], dtype='|S2048')},\n {'name': 'LPM_01',\n  'fsamp': array([32000.]),\n  'nsamp': array([65920218], dtype=int64),\n  'ufact': array([0.03051851]),\n  'unit': array([b'uV'], dtype='|S128'),\n  'start_time': array([1553940917170848], dtype=int64),\n  'end_time': array([1553942977177662], dtype=int64),\n  'channel_description': array([b'SEEG'], dtype='|S2048')},\n {'name': 'LPM_02',\n  'fsamp': array([32000.]),\n  'nsamp': array([65920218], dtype=int64),\n  'ufact': array([0.03051851]),\n  'unit': array([b'uV'], dtype='|S128'),\n  'start_time': array([1553940917170848], dtype=int64),\n  'end_time': array([1553942977177662], dtype=int64),\n  'channel_description': array([b'SEEG'], dtype='|S2048')},\n {'name': 'LPM_03',\n  'fsamp': array([32000.]),\n  'nsamp': array([65920218], dtype=int64),\n  'ufact': array([0.03051851]),\n  'unit': array([b'uV'], dtype='|S128'),\n  'start_time': array([1553940917170848], dtype=int64),\n  'end_time': array([1553942977177662], dtype=int64),\n  'channel_description': array([b'SEEG'], dtype='|S2048')},\n {'name': 'LPM_04',\n  'fsamp': array([32000.]),\n  'nsamp': array([65920218], dtype=int64),\n  'ufact': array([0.03051851]),\n  'unit': array([b'uV'], dtype='|S128'),\n  'start_time': array([1553940917170848], dtype=int64),\n  'end_time': array([1553942977177662], dtype=int64),\n  'channel_description': array([b'SEEG'], dtype='|S2048')},\n {'name': 'LPM_05',\n  'fsamp': array([32000.]),\n  'nsamp': array([65920218], dtype=int64),\n  'ufact': array([0.03051851]),\n  'unit': array([b'uV'], dtype='|S128'),\n  'start_time': array([1553940917170848], dtype=int64),\n  'end_time': array([1553942977177662], dtype=int64),\n  'channel_description': array([b'SEEG'], dtype='|S2048')},\n {'name': 'LPM_06',\n  'fsamp': array([32000.]),\n  'nsamp': array([65920218], dtype=int64),\n  'ufact': array([0.03051851]),\n  'unit': array([b'uV'], dtype='|S128'),\n  'start_time': array([1553940917170848], dtype=int64),\n  'end_time': array([1553942977177662], dtype=int64),\n  'channel_description': array([b'SEEG'], dtype='|S2048')},\n {'name': 'LPM_07',\n  'fsamp': array([32000.]),\n  'nsamp': array([65920218], dtype=int64),\n  'ufact': array([0.03051851]),\n  'unit': array([b'uV'], dtype='|S128'),\n  'start_time': array([1553940917170848], dtype=int64),\n  'end_time': array([1553942977177662], dtype=int64),\n  'channel_description': array([b'SEEG'], dtype='|S2048')},\n {'name': 'LPM_08',\n  'fsamp': array([32000.]),\n  'nsamp': array([65920218], dtype=int64),\n  'ufact': array([0.03051851]),\n  'unit': array([b'uV'], dtype='|S128'),\n  'start_time': array([1553940917170848], dtype=int64),\n  'end_time': array([1553942977177662], dtype=int64),\n  'channel_description': array([b'SEEG'], dtype='|S2048')},\n {'name': 'LPM_09',\n  'fsamp': array([32000.]),\n  'nsamp': array([65920218], dtype=int64),\n  'ufact': array([0.03051851]),\n  'unit': array([b'uV'], dtype='|S128'),\n  'start_time': array([1553940917170848], dtype=int64),\n  'end_time': array([1553942977177662], dtype=int64),\n  'channel_description': array([b'SEEG'], dtype='|S2048')},\n {'name': 'LPM_10',\n  'fsamp': array([32000.]),\n  'nsamp': array([65920218], dtype=int64),\n  'ufact': array([0.03051851]),\n  'unit': array([b'uV'], dtype='|S128'),\n  'start_time': array([1553940917170848], dtype=int64),\n  'end_time': array([1553942977177662], dtype=int64),\n  'channel_description': array([b'SEEG'], dtype='|S2048')},\n {'name': 'LP_01',\n  'fsamp': array([32000.]),\n  'nsamp': array([65920218], dtype=int64),\n  'ufact': array([0.03051851]),\n  'unit': array([b'uV'], dtype='|S128'),\n  'start_time': array([1553940917170848], dtype=int64),\n  'end_time': array([1553942977177662], dtype=int64),\n  'channel_description': array([b'SEEG'], dtype='|S2048')},\n {'name': 'LP_02',\n  'fsamp': array([32000.]),\n  'nsamp': array([65920218], dtype=int64),\n  'ufact': array([0.03051851]),\n  'unit': array([b'uV'], dtype='|S128'),\n  'start_time': array([1553940917170848], dtype=int64),\n  'end_time': array([1553942977177662], dtype=int64),\n  'channel_description': array([b'SEEG'], dtype='|S2048')},\n {'name': 'LP_03',\n  'fsamp': array([32000.]),\n  'nsamp': array([65920218], dtype=int64),\n  'ufact': array([0.03051851]),\n  'unit': array([b'uV'], dtype='|S128'),\n  'start_time': array([1553940917170848], dtype=int64),\n  'end_time': array([1553942977177662], dtype=int64),\n  'channel_description': array([b'SEEG'], dtype='|S2048')},\n {'name': 'LP_04',\n  'fsamp': array([32000.]),\n  'nsamp': array([65920218], dtype=int64),\n  'ufact': array([0.03051851]),\n  'unit': array([b'uV'], dtype='|S128'),\n  'start_time': array([1553940917170848], dtype=int64),\n  'end_time': array([1553942977177662], dtype=int64),\n  'channel_description': array([b'SEEG'], dtype='|S2048')},\n {'name': 'LP_05',\n  'fsamp': array([32000.]),\n  'nsamp': array([65920218], dtype=int64),\n  'ufact': array([0.03051851]),\n  'unit': array([b'uV'], dtype='|S128'),\n  'start_time': array([1553940917170848], dtype=int64),\n  'end_time': array([1553942977177662], dtype=int64),\n  'channel_description': array([b'SEEG'], dtype='|S2048')},\n {'name': 'LP_06',\n  'fsamp': array([32000.]),\n  'nsamp': array([65920218], dtype=int64),\n  'ufact': array([0.03051851]),\n  'unit': array([b'uV'], dtype='|S128'),\n  'start_time': array([1553940917170848], dtype=int64),\n  'end_time': array([1553942977177662], dtype=int64),\n  'channel_description': array([b'SEEG'], dtype='|S2048')},\n {'name': 'LP_07',\n  'fsamp': array([32000.]),\n  'nsamp': array([65920218], dtype=int64),\n  'ufact': array([0.03051851]),\n  'unit': array([b'uV'], dtype='|S128'),\n  'start_time': array([1553940917170848], dtype=int64),\n  'end_time': array([1553942977177662], dtype=int64),\n  'channel_description': array([b'SEEG'], dtype='|S2048')},\n {'name': 'LP_08',\n  'fsamp': array([32000.]),\n  'nsamp': array([65920218], dtype=int64),\n  'ufact': array([0.03051851]),\n  'unit': array([b'uV'], dtype='|S128'),\n  'start_time': array([1553940917170848], dtype=int64),\n  'end_time': array([1553942977177662], dtype=int64),\n  'channel_description': array([b'SEEG'], dtype='|S2048')},\n {'name': 'LP_09',\n  'fsamp': array([32000.]),\n  'nsamp': array([65920218], dtype=int64),\n  'ufact': array([0.03051851]),\n  'unit': array([b'uV'], dtype='|S128'),\n  'start_time': array([1553940917170848], dtype=int64),\n  'end_time': array([1553942977177662], dtype=int64),\n  'channel_description': array([b'SEEG'], dtype='|S2048')},\n {'name': 'LP_10',\n  'fsamp': array([32000.]),\n  'nsamp': array([65920218], dtype=int64),\n  'ufact': array([0.03051851]),\n  'unit': array([b'uV'], dtype='|S128'),\n  'start_time': array([1553940917170848], dtype=int64),\n  'end_time': array([1553942977177662], dtype=int64),\n  'channel_description': array([b'SEEG'], dtype='|S2048')},\n {'name': 'LP_11',\n  'fsamp': array([32000.]),\n  'nsamp': array([65920218], dtype=int64),\n  'ufact': array([0.03051851]),\n  'unit': array([b'uV'], dtype='|S128'),\n  'start_time': array([1553940917170848], dtype=int64),\n  'end_time': array([1553942977177662], dtype=int64),\n  'channel_description': array([b'SEEG'], dtype='|S2048')},\n {'name': 'LP_12',\n  'fsamp': array([32000.]),\n  'nsamp': array([65920218], dtype=int64),\n  'ufact': array([0.03051851]),\n  'unit': array([b'uV'], dtype='|S128'),\n  'start_time': array([1553940917170848], dtype=int64),\n  'end_time': array([1553942977177662], dtype=int64),\n  'channel_description': array([b'SEEG'], dtype='|S2048')},\n {'name': 'LP_13',\n  'fsamp': array([32000.]),\n  'nsamp': array([65920218], dtype=int64),\n  'ufact': array([0.03051851]),\n  'unit': array([b'uV'], dtype='|S128'),\n  'start_time': array([1553940917170848], dtype=int64),\n  'end_time': array([1553942977177662], dtype=int64),\n  'channel_description': array([b'SEEG'], dtype='|S2048')},\n {'name': 'LP_14',\n  'fsamp': array([32000.]),\n  'nsamp': array([65920218], dtype=int64),\n  'ufact': array([0.03051851]),\n  'unit': array([b'uV'], dtype='|S128'),\n  'start_time': array([1553940917170848], dtype=int64),\n  'end_time': array([1553942977177662], dtype=int64),\n  'channel_description': array([b'SEEG'], dtype='|S2048')},\n {'name': 'LP_15',\n  'fsamp': array([32000.]),\n  'nsamp': array([65920218], dtype=int64),\n  'ufact': array([0.03051851]),\n  'unit': array([b'uV'], dtype='|S128'),\n  'start_time': array([1553940917170848], dtype=int64),\n  'end_time': array([1553942977177662], dtype=int64),\n  'channel_description': array([b'SEEG'], dtype='|S2048')},\n {'name': 'LP_16',\n  'fsamp': array([32000.]),\n  'nsamp': array([65920218], dtype=int64),\n  'ufact': array([0.03051851]),\n  'unit': array([b'uV'], dtype='|S128'),\n  'start_time': array([1553940917170848], dtype=int64),\n  'end_time': array([1553942977177662], dtype=int64),\n  'channel_description': array([b'SEEG'], dtype='|S2048')},\n {'name': 'LV_01',\n  'fsamp': array([32000.]),\n  'nsamp': array([65920218], dtype=int64),\n  'ufact': array([0.03051851]),\n  'unit': array([b'uV'], dtype='|S128'),\n  'start_time': array([1553940917170848], dtype=int64),\n  'end_time': array([1553942977177662], dtype=int64),\n  'channel_description': array([b'SEEG'], dtype='|S2048')},\n {'name': 'LV_02',\n  'fsamp': array([32000.]),\n  'nsamp': array([65920218], dtype=int64),\n  'ufact': array([0.03051851]),\n  'unit': array([b'uV'], dtype='|S128'),\n  'start_time': array([1553940917170848], dtype=int64),\n  'end_time': array([1553942977177662], dtype=int64),\n  'channel_description': array([b'SEEG'], dtype='|S2048')},\n {'name': 'LV_03',\n  'fsamp': array([32000.]),\n  'nsamp': array([65920218], dtype=int64),\n  'ufact': array([0.03051851]),\n  'unit': array([b'uV'], dtype='|S128'),\n  'start_time': array([1553940917170848], dtype=int64),\n  'end_time': array([1553942977177662], dtype=int64),\n  'channel_description': array([b'SEEG'], dtype='|S2048')},\n {'name': 'LV_04',\n  'fsamp': array([32000.]),\n  'nsamp': array([65920218], dtype=int64),\n  'ufact': array([0.03051851]),\n  'unit': array([b'uV'], dtype='|S128'),\n  'start_time': array([1553940917170848], dtype=int64),\n  'end_time': array([1553942977177662], dtype=int64),\n  'channel_description': array([b'SEEG'], dtype='|S2048')},\n {'name': 'LV_05',\n  'fsamp': array([32000.]),\n  'nsamp': array([65920218], dtype=int64),\n  'ufact': array([0.03051851]),\n  'unit': array([b'uV'], dtype='|S128'),\n  'start_time': array([1553940917170848], dtype=int64),\n  'end_time': array([1553942977177662], dtype=int64),\n  'channel_description': array([b'SEEG'], dtype='|S2048')},\n {'name': 'LV_06',\n  'fsamp': array([32000.]),\n  'nsamp': array([65920218], dtype=int64),\n  'ufact': array([0.03051851]),\n  'unit': array([b'uV'], dtype='|S128'),\n  'start_time': array([1553940917170848], dtype=int64),\n  'end_time': array([1553942977177662], dtype=int64),\n  'channel_description': array([b'SEEG'], dtype='|S2048')},\n {'name': 'LV_07',\n  'fsamp': array([32000.]),\n  'nsamp': array([65920218], dtype=int64),\n  'ufact': array([0.03051851]),\n  'unit': array([b'uV'], dtype='|S128'),\n  'start_time': array([1553940917170848], dtype=int64),\n  'end_time': array([1553942977177662], dtype=int64),\n  'channel_description': array([b'SEEG'], dtype='|S2048')},\n {'name': 'LV_08',\n  'fsamp': array([32000.]),\n  'nsamp': array([65920218], dtype=int64),\n  'ufact': array([0.03051851]),\n  'unit': array([b'uV'], dtype='|S128'),\n  'start_time': array([1553940917170848], dtype=int64),\n  'end_time': array([1553942977177662], dtype=int64),\n  'channel_description': array([b'SEEG'], dtype='|S2048')},\n {'name': 'LV_09',\n  'fsamp': array([32000.]),\n  'nsamp': array([65920218], dtype=int64),\n  'ufact': array([0.03051851]),\n  'unit': array([b'uV'], dtype='|S128'),\n  'start_time': array([1553940917170848], dtype=int64),\n  'end_time': array([1553942977177662], dtype=int64),\n  'channel_description': array([b'SEEG'], dtype='|S2048')},\n {'name': 'LV_10',\n  'fsamp': array([32000.]),\n  'nsamp': array([65920218], dtype=int64),\n  'ufact': array([0.03051851]),\n  'unit': array([b'uV'], dtype='|S128'),\n  'start_time': array([1553940917170848], dtype=int64),\n  'end_time': array([1553942977177662], dtype=int64),\n  'channel_description': array([b'SEEG'], dtype='|S2048')},\n {'name': 'LV_11',\n  'fsamp': array([32000.]),\n  'nsamp': array([65920218], dtype=int64),\n  'ufact': array([0.03051851]),\n  'unit': array([b'uV'], dtype='|S128'),\n  'start_time': array([1553940917170848], dtype=int64),\n  'end_time': array([1553942977177662], dtype=int64),\n  'channel_description': array([b'SEEG'], dtype='|S2048')},\n {'name': 'LV_12',\n  'fsamp': array([32000.]),\n  'nsamp': array([65920218], dtype=int64),\n  'ufact': array([0.03051851]),\n  'unit': array([b'uV'], dtype='|S128'),\n  'start_time': array([1553940917170848], dtype=int64),\n  'end_time': array([1553942977177662], dtype=int64),\n  'channel_description': array([b'SEEG'], dtype='|S2048')},\n {'name': 'LV_13',\n  'fsamp': array([32000.]),\n  'nsamp': array([65920218], dtype=int64),\n  'ufact': array([0.03051851]),\n  'unit': array([b'uV'], dtype='|S128'),\n  'start_time': array([1553940917170848], dtype=int64),\n  'end_time': array([1553942977177662], dtype=int64),\n  'channel_description': array([b'SEEG'], dtype='|S2048')},\n {'name': 'LV_14',\n  'fsamp': array([32000.]),\n  'nsamp': array([65920218], dtype=int64),\n  'ufact': array([0.03051851]),\n  'unit': array([b'uV'], dtype='|S128'),\n  'start_time': array([1553940917170848], dtype=int64),\n  'end_time': array([1553942977177662], dtype=int64),\n  'channel_description': array([b'SEEG'], dtype='|S2048')},\n {'name': 'LV_15',\n  'fsamp': array([32000.]),\n  'nsamp': array([65920218], dtype=int64),\n  'ufact': array([0.03051851]),\n  'unit': array([b'uV'], dtype='|S128'),\n  'start_time': array([1553940917170848], dtype=int64),\n  'end_time': array([1553942977177662], dtype=int64),\n  'channel_description': array([b'SEEG'], dtype='|S2048')},\n {'name': 'LV_16',\n  'fsamp': array([32000.]),\n  'nsamp': array([65920218], dtype=int64),\n  'ufact': array([0.03051851]),\n  'unit': array([b'uV'], dtype='|S128'),\n  'start_time': array([1553940917170848], dtype=int64),\n  'end_time': array([1553942977177662], dtype=int64),\n  'channel_description': array([b'SEEG'], dtype='|S2048')},\n {'name': 'LZ_01',\n  'fsamp': array([32000.]),\n  'nsamp': array([65920218], dtype=int64),\n  'ufact': array([0.03051851]),\n  'unit': array([b'uV'], dtype='|S128'),\n  'start_time': array([1553940917170848], dtype=int64),\n  'end_time': array([1553942977177662], dtype=int64),\n  'channel_description': array([b'SEEG'], dtype='|S2048')},\n {'name': 'LZ_02',\n  'fsamp': array([32000.]),\n  'nsamp': array([65920218], dtype=int64),\n  'ufact': array([0.03051851]),\n  'unit': array([b'uV'], dtype='|S128'),\n  'start_time': array([1553940917170848], dtype=int64),\n  'end_time': array([1553942977177662], dtype=int64),\n  'channel_description': array([b'SEEG'], dtype='|S2048')},\n {'name': 'LZ_03',\n  'fsamp': array([32000.]),\n  'nsamp': array([65920218], dtype=int64),\n  'ufact': array([0.03051851]),\n  'unit': array([b'uV'], dtype='|S128'),\n  'start_time': array([1553940917170848], dtype=int64),\n  'end_time': array([1553942977177662], dtype=int64),\n  'channel_description': array([b'SEEG'], dtype='|S2048')},\n {'name': 'LZ_04',\n  'fsamp': array([32000.]),\n  'nsamp': array([65920218], dtype=int64),\n  'ufact': array([0.03051851]),\n  'unit': array([b'uV'], dtype='|S128'),\n  'start_time': array([1553940917170848], dtype=int64),\n  'end_time': array([1553942977177662], dtype=int64),\n  'channel_description': array([b'SEEG'], dtype='|S2048')},\n {'name': 'LZ_05',\n  'fsamp': array([32000.]),\n  'nsamp': array([65920218], dtype=int64),\n  'ufact': array([0.03051851]),\n  'unit': array([b'uV'], dtype='|S128'),\n  'start_time': array([1553940917170848], dtype=int64),\n  'end_time': array([1553942977177662], dtype=int64),\n  'channel_description': array([b'SEEG'], dtype='|S2048')},\n {'name': 'LZ_06',\n  'fsamp': array([32000.]),\n  'nsamp': array([65920218], dtype=int64),\n  'ufact': array([0.03051851]),\n  'unit': array([b'uV'], dtype='|S128'),\n  'start_time': array([1553940917170848], dtype=int64),\n  'end_time': array([1553942977177662], dtype=int64),\n  'channel_description': array([b'SEEG'], dtype='|S2048')},\n {'name': 'LZ_07',\n  'fsamp': array([32000.]),\n  'nsamp': array([65920218], dtype=int64),\n  'ufact': array([0.03051851]),\n  'unit': array([b'uV'], dtype='|S128'),\n  'start_time': array([1553940917170848], dtype=int64),\n  'end_time': array([1553942977177662], dtype=int64),\n  'channel_description': array([b'SEEG'], dtype='|S2048')},\n {'name': 'LZ_08',\n  'fsamp': array([32000.]),\n  'nsamp': array([65920218], dtype=int64),\n  'ufact': array([0.03051851]),\n  'unit': array([b'uV'], dtype='|S128'),\n  'start_time': array([1553940917170848], dtype=int64),\n  'end_time': array([1553942977177662], dtype=int64),\n  'channel_description': array([b'SEEG'], dtype='|S2048')},\n {'name': 'LZ_09',\n  'fsamp': array([32000.]),\n  'nsamp': array([65920218], dtype=int64),\n  'ufact': array([0.03051851]),\n  'unit': array([b'uV'], dtype='|S128'),\n  'start_time': array([1553940917170848], dtype=int64),\n  'end_time': array([1553942977177662], dtype=int64),\n  'channel_description': array([b'SEEG'], dtype='|S2048')},\n {'name': 'LZ_10',\n  'fsamp': array([32000.]),\n  'nsamp': array([65920218], dtype=int64),\n  'ufact': array([0.03051851]),\n  'unit': array([b'uV'], dtype='|S128'),\n  'start_time': array([1553940917170848], dtype=int64),\n  'end_time': array([1553942977177662], dtype=int64),\n  'channel_description': array([b'SEEG'], dtype='|S2048')},\n {'name': 'LZ_11',\n  'fsamp': array([32000.]),\n  'nsamp': array([65920218], dtype=int64),\n  'ufact': array([0.03051851]),\n  'unit': array([b'uV'], dtype='|S128'),\n  'start_time': array([1553940917170848], dtype=int64),\n  'end_time': array([1553942977177662], dtype=int64),\n  'channel_description': array([b'SEEG'], dtype='|S2048')},\n {'name': 'LZ_12',\n  'fsamp': array([32000.]),\n  'nsamp': array([65920218], dtype=int64),\n  'ufact': array([0.03051851]),\n  'unit': array([b'uV'], dtype='|S128'),\n  'start_time': array([1553940917170848], dtype=int64),\n  'end_time': array([1553942977177662], dtype=int64),\n  'channel_description': array([b'SEEG'], dtype='|S2048')},\n {'name': 'LZ_13',\n  'fsamp': array([32000.]),\n  'nsamp': array([65920218], dtype=int64),\n  'ufact': array([0.03051851]),\n  'unit': array([b'uV'], dtype='|S128'),\n  'start_time': array([1553940917170848], dtype=int64),\n  'end_time': array([1553942977177662], dtype=int64),\n  'channel_description': array([b'SEEG'], dtype='|S2048')},\n {'name': 'LZ_14',\n  'fsamp': array([32000.]),\n  'nsamp': array([65920218], dtype=int64),\n  'ufact': array([0.03051851]),\n  'unit': array([b'uV'], dtype='|S128'),\n  'start_time': array([1553940917170848], dtype=int64),\n  'end_time': array([1553942977177662], dtype=int64),\n  'channel_description': array([b'SEEG'], dtype='|S2048')},\n {'name': 'LZ_15',\n  'fsamp': array([32000.]),\n  'nsamp': array([65920218], dtype=int64),\n  'ufact': array([0.03051851]),\n  'unit': array([b'uV'], dtype='|S128'),\n  'start_time': array([1553940917170848], dtype=int64),\n  'end_time': array([1553942977177662], dtype=int64),\n  'channel_description': array([b'SEEG'], dtype='|S2048')},\n {'name': 'LZ_16',\n  'fsamp': array([32000.]),\n  'nsamp': array([65920218], dtype=int64),\n  'ufact': array([0.03051851]),\n  'unit': array([b'uV'], dtype='|S128'),\n  'start_time': array([1553940917170848], dtype=int64),\n  'end_time': array([1553942977177662], dtype=int64),\n  'channel_description': array([b'SEEG'], dtype='|S2048')},\n {'name': 'MIC',\n  'fsamp': array([44100.]),\n  'nsamp': array([19778850], dtype=int64),\n  'ufact': array([1.]),\n  'unit': array([b'dBFS'], dtype='|S128'),\n  'start_time': array([1553941342963021], dtype=int64),\n  'end_time': array([1553942904077969], dtype=int64),\n  'channel_description': array([b'AUDIO'], dtype='|S2048')},\n {'name': 'RB_01',\n  'fsamp': array([32000.]),\n  'nsamp': array([65920218], dtype=int64),\n  'ufact': array([0.03051851]),\n  'unit': array([b'uV'], dtype='|S128'),\n  'start_time': array([1553940917170848], dtype=int64),\n  'end_time': array([1553942977177662], dtype=int64),\n  'channel_description': array([b'SEEG'], dtype='|S2048')},\n {'name': 'RB_02',\n  'fsamp': array([32000.]),\n  'nsamp': array([65920218], dtype=int64),\n  'ufact': array([0.03051851]),\n  'unit': array([b'uV'], dtype='|S128'),\n  'start_time': array([1553940917170848], dtype=int64),\n  'end_time': array([1553942977177662], dtype=int64),\n  'channel_description': array([b'SEEG'], dtype='|S2048')},\n {'name': 'RIGHT_PUPIL_SIZE',\n  'fsamp': array([150.]),\n  'nsamp': array([242871], dtype=int64),\n  'ufact': array([1.e-06]),\n  'unit': array([b'px2'], dtype='|S128'),\n  'start_time': array([1553941284955135], dtype=int64),\n  'end_time': array([1553942904095135], dtype=int64),\n  'channel_description': array([b'PUPIL'], dtype='|S2048')},\n {'name': 'RIGHT_X_COORD',\n  'fsamp': array([150.]),\n  'nsamp': array([242871], dtype=int64),\n  'ufact': array([1.e-06]),\n  'unit': array([b'px'], dtype='|S128'),\n  'start_time': array([1553941284955135], dtype=int64),\n  'end_time': array([1553942904095135], dtype=int64),\n  'channel_description': array([b'EYEGAZE'], dtype='|S2048')},\n {'name': 'RIGHT_Y_COORD',\n  'fsamp': array([150.]),\n  'nsamp': array([242871], dtype=int64),\n  'ufact': array([1.e-06]),\n  'unit': array([b'px'], dtype='|S128'),\n  'start_time': array([1553941284955135], dtype=int64),\n  'end_time': array([1553942904095135], dtype=int64),\n  'channel_description': array([b'EYEGAZE'], dtype='|S2048')},\n {'name': 'SCREEN_X',\n  'fsamp': array([150.]),\n  'nsamp': array([242871], dtype=int64),\n  'ufact': array([1.e-06]),\n  'unit': array([b'px'], dtype='|S128'),\n  'start_time': array([1553941284955135], dtype=int64),\n  'end_time': array([1553942904095135], dtype=int64),\n  'channel_description': array([b'EYEGAZE'], dtype='|S2048')},\n {'name': 'SCREEN_Y',\n  'fsamp': array([150.]),\n  'nsamp': array([242871], dtype=int64),\n  'ufact': array([1.e-06]),\n  'unit': array([b'px'], dtype='|S128'),\n  'start_time': array([1553941284955135], dtype=int64),\n  'end_time': array([1553942904095135], dtype=int64),\n  'channel_description': array([b'EYEGAZE'], dtype='|S2048')}]"
     },
     "execution_count": 360,
     "metadata": {},
     "output_type": "execute_result"
    }
   ],
   "source": [
    "# Since we are using MEF3 pybids has problems recognizing the extension so we need to modify the json extension\n",
    "mef_session_path = os.path.splitext(json_file.path)[0]+'.mefd'\n",
    "print(mef_session_path)\n",
    "ms = MefSession(mef_session_path, None)\n",
    "ms.read_ts_channel_basic_info()"
   ]
  },
  {
   "cell_type": "markdown",
   "source": [
    "## Choose brain region"
   ],
   "metadata": {
    "collapsed": false
   }
  },
  {
   "cell_type": "code",
   "execution_count": 361,
   "outputs": [
    {
     "data": {
      "text/plain": "{'amygdala',\n 'anterior insula',\n 'entorhinal cortex',\n 'fusiform gyrus',\n 'heterotopia',\n 'hippocampus',\n 'inferior frontal gyrus',\n 'inferior temporal gyrus',\n 'lingual gyrus',\n 'middle frontal gyrus',\n 'middle temporal gyrus',\n 'parahippocampal gyrus',\n 'posterior insula',\n 'precentral gyrus',\n 'wm'}"
     },
     "execution_count": 361,
     "metadata": {},
     "output_type": "execute_result"
    }
   ],
   "source": [
    "regions = electrode_df['anatomy_structure']\n",
    "regions = set(regions)\n",
    "regions"
   ],
   "metadata": {
    "collapsed": false
   }
  },
  {
   "cell_type": "code",
   "execution_count": 362,
   "outputs": [
    {
     "data": {
      "text/plain": "['LC_01']"
     },
     "execution_count": 362,
     "metadata": {},
     "output_type": "execute_result"
    }
   ],
   "source": [
    "valid_electrodes = [x['name'] for idx, x in electrode_df.iterrows() if x['anatomy_structure'] in ['hippocampus']]\n",
    "valid_electrodes"
   ],
   "metadata": {
    "collapsed": false
   }
  },
  {
   "cell_type": "markdown",
   "source": [
    "Now load the data from encoding events"
   ],
   "metadata": {
    "collapsed": false
   }
  },
  {
   "cell_type": "code",
   "execution_count": 363,
   "metadata": {},
   "outputs": [
    {
     "name": "stdout",
     "output_type": "stream",
     "text": [
      "session_start_utc = 1553940917170848\n",
      "session_stop_utc = 1553941360170839.0\n"
     ]
    },
    {
     "data": {
      "text/plain": "        onset    sample  duration trial_type  list  microsecond_onset  \\\n0  375.780287  12024969  1.494031     ENCODE   1.0        375780287.0   \n1  378.278411  12104909  1.495906     ENCODE   1.0        378278411.0   \n2  380.786316  12185162  1.488000     ENCODE   1.0        380786316.0   \n3  383.279534  12264945  1.494781     ENCODE   1.0        383279534.0   \n4  385.780283  12344969  1.494031     ENCODE   1.0        385780283.0   \n\n               uutc  \n0  1553941292951135  \n1  1553941295449259  \n2  1553941297957164  \n3  1553941300450382  \n4  1553941302951131  ",
      "text/html": "<div>\n<style scoped>\n    .dataframe tbody tr th:only-of-type {\n        vertical-align: middle;\n    }\n\n    .dataframe tbody tr th {\n        vertical-align: top;\n    }\n\n    .dataframe thead th {\n        text-align: right;\n    }\n</style>\n<table border=\"1\" class=\"dataframe\">\n  <thead>\n    <tr style=\"text-align: right;\">\n      <th></th>\n      <th>onset</th>\n      <th>sample</th>\n      <th>duration</th>\n      <th>trial_type</th>\n      <th>list</th>\n      <th>microsecond_onset</th>\n      <th>uutc</th>\n    </tr>\n  </thead>\n  <tbody>\n    <tr>\n      <th>0</th>\n      <td>375.780287</td>\n      <td>12024969</td>\n      <td>1.494031</td>\n      <td>ENCODE</td>\n      <td>1.0</td>\n      <td>375780287.0</td>\n      <td>1553941292951135</td>\n    </tr>\n    <tr>\n      <th>1</th>\n      <td>378.278411</td>\n      <td>12104909</td>\n      <td>1.495906</td>\n      <td>ENCODE</td>\n      <td>1.0</td>\n      <td>378278411.0</td>\n      <td>1553941295449259</td>\n    </tr>\n    <tr>\n      <th>2</th>\n      <td>380.786316</td>\n      <td>12185162</td>\n      <td>1.488000</td>\n      <td>ENCODE</td>\n      <td>1.0</td>\n      <td>380786316.0</td>\n      <td>1553941297957164</td>\n    </tr>\n    <tr>\n      <th>3</th>\n      <td>383.279534</td>\n      <td>12264945</td>\n      <td>1.494781</td>\n      <td>ENCODE</td>\n      <td>1.0</td>\n      <td>383279534.0</td>\n      <td>1553941300450382</td>\n    </tr>\n    <tr>\n      <th>4</th>\n      <td>385.780283</td>\n      <td>12344969</td>\n      <td>1.494031</td>\n      <td>ENCODE</td>\n      <td>1.0</td>\n      <td>385780283.0</td>\n      <td>1553941302951131</td>\n    </tr>\n  </tbody>\n</table>\n</div>"
     },
     "execution_count": 363,
     "metadata": {},
     "output_type": "execute_result"
    }
   ],
   "source": [
    "channels = valid_electrodes\n",
    "\n",
    "# Microseconds 1 μs = 10⁻⁶ s\n",
    "start_time = 1553941347170839+3*1e6  # in microseconds\n",
    "end_time = 1553942904095135-3*1e6\n",
    "win_size = 10  # in seconds\n",
    "stop_time = start_time + int(win_size*1e6)\n",
    "\n",
    "bi = ms.read_ts_channel_basic_info()\n",
    "\n",
    "# In this case we are reading MEF records instead of data from events.tsv because we do not have to make time conversions this way\n",
    "records = ms.read_records()\n",
    "records_in_win = [x for x in records if start_time < x['time'] < stop_time]\n",
    "# The code to get corresponding events from the events file\n",
    "session_metadata = ms.session_md\n",
    "session_start_utc = session_metadata['session_specific_metadata']['earliest_start_time'][0]\n",
    "print(f\"session_start_utc = {session_start_utc}\\nsession_stop_utc = {stop_time}\")\n",
    "events_df['microsecond_onset'] = events_df['onset']*1e6\n",
    "events_df['uutc'] = (events_df['microsecond_onset'] + session_start_utc).astype('int64')\n",
    "events_in_win = events_df[(start_time < events_df['uutc'])\n",
    "                          & (events_df['uutc'] < stop_time)]\n",
    "events_df.head()"
   ]
  },
  {
   "cell_type": "code",
   "execution_count": 364,
   "outputs": [
    {
     "data": {
      "text/plain": "(180, 1, 48000)"
     },
     "execution_count": 364,
     "metadata": {},
     "output_type": "execute_result"
    }
   ],
   "source": [
    "# records_in_events = [x for x in records if (0 < (x['time'] - events_df['uutc']) < 150000)]\n",
    "records_in_events = []\n",
    "for x in records:\n",
    "    for e in events_df['uutc']:\n",
    "        # print(x['time'] - e)\n",
    "        if 0 == (x['time'] - e):\n",
    "            records_in_events.append(x)\n",
    "\n",
    "len(records_in_events)\n",
    "data_events = []\n",
    "for e in events_df['uutc']:\n",
    "    data_events.append(ms.read_ts_channels_uutc(channels, [e - 500000, e + 1000000]))\n",
    "data_events = np.array(data_events)\n",
    "data_events.shape"
   ],
   "metadata": {
    "collapsed": false
   }
  },
  {
   "cell_type": "markdown",
   "source": [
    "## Downsampling the recordings"
   ],
   "metadata": {
    "collapsed": false
   }
  },
  {
   "cell_type": "code",
   "execution_count": 365,
   "outputs": [
    {
     "data": {
      "text/plain": "(180, 1, 4800)"
     },
     "execution_count": 365,
     "metadata": {},
     "output_type": "execute_result"
    }
   ],
   "source": [
    "q = 10\n",
    "downsampled_data_events = []\n",
    "\n",
    "for s_idx, sequence in enumerate(data_events):\n",
    "    downsampled_sequence = []\n",
    "    for ch_idx, channel in enumerate(sequence):\n",
    "       downsampled_sequence.append(decimate(channel, q))\n",
    "    downsampled_data_events.append(downsampled_sequence)\n",
    "\n",
    "data_events = np.array(downsampled_data_events)\n",
    "data_events.shape"
   ],
   "metadata": {
    "collapsed": false
   }
  },
  {
   "cell_type": "markdown",
   "source": [
    "## Apply linear interpolation if values are missing"
   ],
   "metadata": {
    "collapsed": false
   }
  },
  {
   "cell_type": "code",
   "execution_count": 366,
   "outputs": [],
   "source": [
    "def check_missing_values(arr):\n",
    "    \"\"\"Check if a numpy array has missing values.\"\"\"\n",
    "    if np.isnan(arr).any():\n",
    "        print(\"The array has missing values.\")\n",
    "        return True\n",
    "    else:\n",
    "        return False"
   ],
   "metadata": {
    "collapsed": false
   }
  },
  {
   "cell_type": "code",
   "execution_count": 367,
   "outputs": [
    {
     "name": "stdout",
     "output_type": "stream",
     "text": [
      "0\n"
     ]
    }
   ],
   "source": [
    "how_many_nan = 0\n",
    "for s_idx, sequence in enumerate(data_events):\n",
    "    for ch_idx, channel in enumerate(sequence):\n",
    "        if check_missing_values(channel):\n",
    "            how_many_nan += 1\n",
    "            df = pd.DataFrame({'signal': channel})\n",
    "            print(f\"Apply linear interpolation to fill the missing values [{s_idx}][{ch_idx}]\")\n",
    "            df['signal'] = df['signal'].bfill().ffill().interpolate(method='linear')\n",
    "            data_events[s_idx][ch_idx] = df['signal'].values.tolist()\n",
    "            print(data_events[s_idx][ch_idx])\n",
    "print(how_many_nan)"
   ],
   "metadata": {
    "collapsed": false
   }
  },
  {
   "cell_type": "markdown",
   "source": [
    "## Connect windows to continuous signal across channels"
   ],
   "metadata": {
    "collapsed": false
   }
  },
  {
   "cell_type": "code",
   "execution_count": 368,
   "outputs": [
    {
     "name": "stdout",
     "output_type": "stream",
     "text": [
      "1\n"
     ]
    },
    {
     "data": {
      "text/plain": "[457.14717945344063,\n 583.4018742656482,\n 704.4299027881486,\n 887.4019457893979,\n 1072.1918041478339,\n 1232.1588609928956,\n 1373.3667968755408,\n 1483.9274301724615,\n 1559.9009273887632,\n 1585.8599093112734,\n 1567.1248698130676,\n 1506.3044249344182,\n 1426.5691832929901,\n 1371.4075398138966,\n 1352.3550925237291,\n 1350.7602296317214,\n 1340.9444423858117,\n 1335.2330517175149,\n 1358.5433978515325,\n 1357.144046922118,\n 1347.5079417337415,\n 1353.6136314600783,\n 1294.6275475367777,\n 1215.0114309608223,\n 1151.6134462868097,\n 1096.7948443724804,\n 1057.4239481561092,\n 1007.5976633669015,\n 966.3034593048341,\n 904.927263975766,\n 838.4400005381735,\n 825.7294850452065,\n 871.770772503054,\n 961.9484249797166,\n 1072.9004599142165,\n 1207.7686766202582,\n 1329.055392911329,\n 1406.8172732131989,\n 1439.745302989852,\n 1460.1831777362086,\n 1529.4317958436518,\n 1629.4702788504974,\n 1741.4359821192459,\n 1844.0753062195058,\n 1925.1310335872731,\n 1977.448814154357,\n 1977.739747753513,\n 1981.4610449599659,\n 1962.7797246721946,\n 1887.963201657424,\n 1828.6168513448674,\n 1774.5281379467415,\n 1726.4967230453547,\n 1712.774688437445,\n 1716.4264077988685,\n 1753.8343324150499,\n 1816.1754092137112,\n 1886.9392762809027,\n 1925.810191057984,\n 1910.4213172741486,\n 1915.861254459621,\n 1924.6323722138727,\n 1936.7768219051554,\n 1978.294538194713,\n 2001.277745233508,\n 1997.1069136811052,\n 1917.173960804107,\n 1756.2437914427292,\n 1590.8031334929956,\n 1482.192386679725,\n 1434.3091077788827,\n 1428.8721000634418,\n 1470.8050281261787,\n 1537.5419278106212,\n 1616.1816379194297,\n 1658.9577433935635,\n 1642.3708454747202,\n 1559.9248188573818,\n 1438.156075221899,\n 1336.9238609499657,\n 1202.0424462463056,\n 1100.7477542345441,\n 1081.1285870654178,\n 1069.9122204903283,\n 1107.7972674057355,\n 1163.339338416584,\n 1164.5542184127235,\n 1118.7493007946812,\n 1041.2760461943703,\n 958.2614742618493,\n 892.6187468164104,\n 828.9083603702352,\n 761.2695740155037,\n 714.3353897083521,\n 672.3994554263969,\n 650.1092621505234,\n 683.9938430938532,\n 733.7320421178129,\n 799.0810223015261,\n 884.9746646730053]"
     },
     "execution_count": 368,
     "metadata": {},
     "output_type": "execute_result"
    }
   ],
   "source": [
    "channels_list = [[] for x in range(len(channels))]\n",
    "\n",
    "for s_idx, sequence in enumerate(data_events):\n",
    "    for ch_idx, channel in enumerate(sequence):\n",
    "        channels_list[ch_idx].extend(channel)\n",
    "print(len(channels_list))\n",
    "channels_list[0][100:200]"
   ],
   "metadata": {
    "collapsed": false
   }
  },
  {
   "cell_type": "markdown",
   "source": [
    "### Apply z-score normalization"
   ],
   "metadata": {
    "collapsed": false
   }
  },
  {
   "cell_type": "code",
   "execution_count": 369,
   "outputs": [],
   "source": [
    "for idx, channel in enumerate(channels_list):\n",
    "    mean = np.mean(channel)\n",
    "    std = np.std(channel)\n",
    "    data_normalized = (channel - mean) / std\n",
    "    channels_list[idx] = data_normalized"
   ],
   "metadata": {
    "collapsed": false
   }
  },
  {
   "cell_type": "markdown",
   "source": [
    "### Split again into windows"
   ],
   "metadata": {
    "collapsed": false
   }
  },
  {
   "cell_type": "code",
   "execution_count": 370,
   "outputs": [],
   "source": [
    "def split_list(lst, n):\n",
    "    \"\"\"Split the list, lst, into chunks of size n.\"\"\"\n",
    "    return [lst[i:i + n] for i in range(0, len(lst), n)]"
   ],
   "metadata": {
    "collapsed": false
   }
  },
  {
   "cell_type": "code",
   "execution_count": 371,
   "outputs": [
    {
     "name": "stdout",
     "output_type": "stream",
     "text": [
      "(180, 1, 4800)\n"
     ]
    }
   ],
   "source": [
    "sampling_rate = 4800\n",
    "chunks_list = [[] for x in range(len(channels))]\n",
    "for idx, channel in enumerate(channels_list):\n",
    "    chunks_list[idx] = split_list(channel, sampling_rate)\n",
    "\n",
    "for s_idx, sequence in enumerate(data_events):\n",
    "    for ch_idx, channel in enumerate(sequence):\n",
    "        data_events[s_idx][ch_idx] = chunks_list[ch_idx][s_idx]\n",
    "\n",
    "data_events = np.array(data_events)\n",
    "print(data_events.shape)"
   ],
   "metadata": {
    "collapsed": false
   }
  },
  {
   "cell_type": "code",
   "execution_count": 372,
   "outputs": [
    {
     "name": "stdout",
     "output_type": "stream",
     "text": [
      "-0.16988107125179452\n"
     ]
    }
   ],
   "source": [
    "print(data_events[0][0][0])"
   ],
   "metadata": {
    "collapsed": false
   }
  },
  {
   "cell_type": "markdown",
   "source": [
    "## Plot the window"
   ],
   "metadata": {
    "collapsed": false
   }
  },
  {
   "cell_type": "code",
   "execution_count": 373,
   "outputs": [],
   "source": [
    "def plot_channels(data):\n",
    "    # assuming 'data' is your list\n",
    "    data = np.array(data)  # convert list to numpy array\n",
    "    print(data.shape)\n",
    "    time = np.arange(0, data.shape[1])  # creating a time vector\n",
    "\n",
    "    # plotting the data\n",
    "    plt.figure(figsize=(10,6))  # creating a new figure with specified size\n",
    "    print(data[0])\n",
    "    # plot for channel 1\n",
    "    plt.subplot(2, 1, 1)  # creating the first subplot in a 2x1 grid\n",
    "    plt.plot(time, data[0], color='blue')  # plotting the data for the first channel\n",
    "    plt.title('Channel 1')  # setting the title of the first subplot\n",
    "    plt.xlabel('Time')  # setting the x-label\n",
    "    plt.ylabel('Amplitude')  # setting the y-label\n",
    "\n",
    "    plt.tight_layout()  # adjusting the layout so everything fits\n",
    "    plt.show()  # displaying the figure"
   ],
   "metadata": {
    "collapsed": false
   }
  },
  {
   "cell_type": "code",
   "execution_count": 374,
   "outputs": [
    {
     "name": "stdout",
     "output_type": "stream",
     "text": [
      "(1, 4800)\n",
      "[-0.16988107 -0.15731665 -0.13258596 ... -1.02528766 -1.05687022\n",
      " -1.07102511]\n"
     ]
    },
    {
     "data": {
      "text/plain": "<Figure size 1000x600 with 1 Axes>",
      "image/png": "[encoded data removed]"
     },
     "metadata": {},
     "output_type": "display_data"
    }
   ],
   "source": [
    "plot_channels(data_events[0])"
   ],
   "metadata": {
    "collapsed": false
   }
  },
  {
   "cell_type": "markdown",
   "source": [
    "## Define and apply butterworth filter"
   ],
   "metadata": {
    "collapsed": false
   }
  },
  {
   "cell_type": "code",
   "execution_count": 375,
   "outputs": [],
   "source": [
    "def butter_lowpass(cutoff, fs, order=5):\n",
    "    nyq = 0.5 * fs\n",
    "    normal_cutoff = cutoff / nyq\n",
    "    b, a = butter(order, normal_cutoff, btype='low', analog=False)\n",
    "    return b, a\n",
    "\n",
    "def butter_lowpass_filter(data, cutoff, fs, order=5):\n",
    "    b, a = butter_lowpass(cutoff, fs, order=order)\n",
    "    y = filtfilt(b, a, data)\n",
    "    return y\n",
    "\n",
    "# Parameters\n",
    "order = 3\n",
    "fs = 4800.0       # sample rate, Hz\n",
    "cutoff = 50.0    # desired cutoff frequency of the filter, Hz\n"
   ],
   "metadata": {
    "collapsed": false
   }
  },
  {
   "cell_type": "code",
   "execution_count": 376,
   "outputs": [],
   "source": [
    "for s_idx, sequence in enumerate(data_events):\n",
    "    for ch_idx, channel in enumerate(sequence):\n",
    "        y = butter_lowpass_filter(channel, cutoff, fs, order)\n",
    "        data_events[s_idx][ch_idx] = y"
   ],
   "metadata": {
    "collapsed": false
   }
  },
  {
   "cell_type": "code",
   "execution_count": 377,
   "outputs": [
    {
     "name": "stdout",
     "output_type": "stream",
     "text": [
      "(1, 4800)\n",
      "[-0.17721052 -0.15873263 -0.14048828 ... -0.82423177 -0.82491475\n",
      " -0.82548308]\n"
     ]
    },
    {
     "data": {
      "text/plain": "<Figure size 1000x600 with 1 Axes>",
      "image/png": "[encoded data removed]"
     },
     "metadata": {},
     "output_type": "display_data"
    }
   ],
   "source": [
    "plot_channels(data_events[0])"
   ],
   "metadata": {
    "collapsed": false
   }
  },
  {
   "cell_type": "markdown",
   "source": [
    "## Feature extraction"
   ],
   "metadata": {
    "collapsed": false
   }
  },
  {
   "cell_type": "markdown",
   "source": [
    "### Feature set 1\n",
    "https://www.hindawi.com/journals/cin/2020/2909267/"
   ],
   "metadata": {
    "collapsed": false
   }
  },
  {
   "cell_type": "code",
   "execution_count": 378,
   "outputs": [],
   "source": [
    "import scipy.fft\n",
    "\n",
    "\n",
    "if FEATURE_SET == 1:\n",
    "    for s_idx, sequence in enumerate(data_events):\n",
    "        for ch_idx, channel in enumerate(sequence):\n",
    "            eeg_data = channel\n",
    "           # Calculate Mean of the signal as a feature\n",
    "            mean = np.mean(eeg_data)\n",
    "\n",
    "            # Calculate Variance of the signal as a feature\n",
    "            variance = np.var(eeg_data)\n",
    "\n",
    "            # Calculate Standard Deviation of the signal as a feature\n",
    "            std_dev = np.std(eeg_data)\n",
    "\n",
    "            # Use Fast Fourier Transform to get the power spectrum of the signal\n",
    "            power_spectrum = np.abs(scipy.fft.fft(eeg_data))**2\n",
    "\n",
    "            # Frequency values for plotting the spectrum - assuming a sampling rate (fs) of 128 Hz\n",
    "            freqs = scipy.fft.fftfreq(len(eeg_data), 1 / 128)\n",
    "\n",
    "            # Let's use the mean power in specific frequency bands as features\n",
    "            delta_power = np.mean(power_spectrum[(freqs >= 0.5) & (freqs <= 4)])\n",
    "            theta_power = np.mean(power_spectrum[(freqs > 4) & (freqs <= 8)])\n",
    "            alpha_power = np.mean(power_spectrum[(freqs > 8) & (freqs <= 12)])\n",
    "            beta_power = np.mean(power_spectrum[(freqs > 12) & (freqs <= 30)])\n",
    "\n",
    "            # Gather all features into a list\n",
    "            features = [mean, variance, std_dev, delta_power, theta_power, alpha_power, beta_power]\n",
    "\n",
    "            print(\"Extracted features:\", features)\n",
    "            data_events[s_idx][ch_idx] = features\n",
    "    print(len(data_events))\n",
    "    print(len(data_events[0]))\n",
    "    print(len(data_events[0][0]))"
   ],
   "metadata": {
    "collapsed": false
   }
  },
  {
   "cell_type": "markdown",
   "source": [
    "### Feature set 2 - 6 features\n",
    "https://www.mdpi.com/2227-9032/11/3/322"
   ],
   "metadata": {
    "collapsed": false
   }
  },
  {
   "cell_type": "code",
   "execution_count": 379,
   "outputs": [],
   "source": [
    "from scipy.stats import skew, kurtosis, variation\n",
    "\n",
    "\n",
    "if FEATURE_SET == 2 and not LSTM_READY:\n",
    "    data_events = data_events.tolist()\n",
    "    # Assuming 'eeg_data' is a NumPy array containing your EEG data.\n",
    "    for s_idx, sequence in enumerate(data_events):\n",
    "        for ch_idx, channel in enumerate(sequence):\n",
    "            eeg_data = channel\n",
    "           # Assuming 'eeg_data' is a NumPy array containing your EEG data for one channel\n",
    "\n",
    "            mean = np.mean(eeg_data)\n",
    "            q1 = np.percentile(eeg_data, 25)\n",
    "            q2 = np.percentile(eeg_data, 50)\n",
    "            q3 = np.percentile(eeg_data, 75)\n",
    "            min_signal = np.min(eeg_data)\n",
    "            max_signal = np.max(eeg_data)\n",
    "            # variance = variation(eeg_data)\n",
    "            # skewness = skew(eeg_data)\n",
    "\n",
    "            features = [mean, q1, q2, q3, min_signal, max_signal]\n",
    "\n",
    "            # print(\"Extracted features:\", features)\n",
    "            data_events[s_idx][ch_idx] = features\n",
    "    data_events = np.array(data_events)\n",
    "    print(data_events.shape)"
   ],
   "metadata": {
    "collapsed": false
   }
  },
  {
   "cell_type": "markdown",
   "source": [
    "## Reshape to dataframe"
   ],
   "metadata": {
    "collapsed": false
   }
  },
  {
   "cell_type": "code",
   "execution_count": 380,
   "outputs": [
    {
     "name": "stdout",
     "output_type": "stream",
     "text": [
      "(180, 4800)\n"
     ]
    }
   ],
   "source": [
    "arr = np.array(data_events)\n",
    "\n",
    "    # Reshape the array to the required shape (180, 450)\n",
    "arr_reshaped = arr.reshape(180, -1)  # -1 means calculate the size of this dimension\n",
    "\n",
    "df = pd.DataFrame(arr_reshaped)\n",
    "\n",
    "    # Now df is a DataFrame with shape (180, 450)\n",
    "print(df.shape)"
   ],
   "metadata": {
    "collapsed": false
   }
  },
  {
   "cell_type": "markdown",
   "source": [
    "## PCA"
   ],
   "metadata": {
    "collapsed": false
   }
  },
  {
   "cell_type": "code",
   "execution_count": 381,
   "outputs": [
    {
     "name": "stdout",
     "output_type": "stream",
     "text": [
      "(180, 30)\n"
     ]
    }
   ],
   "source": [
    "if DIMENSION_REDUCTION :\n",
    "    pca = PCA(n_components=30)\n",
    "    pca_data = pca.fit_transform(df)\n",
    "    df = pd.DataFrame(pca_data)\n",
    "    print(pca_data.shape)"
   ],
   "metadata": {
    "collapsed": false
   }
  },
  {
   "cell_type": "code",
   "execution_count": 382,
   "outputs": [
    {
     "data": {
      "text/plain": "          0          1          2          3          4          5   \\\n0  -7.083931 -23.803545 -10.548984   8.395534  -1.775576   1.030883   \n1 -55.440274  -6.698097  11.356209  13.371370  10.220959  -2.583810   \n2   3.160290  -0.226171  22.521026  12.228728 -10.492334  22.253665   \n3   2.134337  -5.170767 -12.121173  14.065174  -1.425905 -13.918375   \n4 -11.720103   3.953315  47.537366  24.806754 -10.384402 -24.601347   \n\n          6         7          8          9   ...        20        21  \\\n0  -0.467516  1.918745   6.491306  -5.358522  ...  2.186133 -1.353966   \n1 -10.201652  4.160540   0.651359  -0.807751  ... -2.696426 -4.925850   \n2   4.316944  2.858240   6.078630  -7.118800  ... -2.475527  1.885606   \n3   0.264012  9.575546  -8.124204   6.738010  ...  2.944702  4.194686   \n4 -36.506511  8.238520 -30.274263 -24.208742  ...  2.896885 -0.312901   \n\n         22        23        24        25        26        27        28  \\\n0 -0.633106 -0.228483  1.898839 -2.487342 -0.198976  3.275304  0.665710   \n1  2.166744  2.375007 -0.564925  1.667577 -1.834109 -1.964430  3.957492   \n2  2.958921  5.834189 -1.528866 -7.671336 -0.913045  1.887580  4.271940   \n3 -1.735283 -0.624321  4.904572 -2.338152 -4.333845  1.450194 -2.603375   \n4 -1.461603 -0.690658 -4.376433 -4.050384 -5.778278  1.198789  3.462165   \n\n         29  \n0 -0.463891  \n1  3.389940  \n2 -0.861584  \n3  2.541481  \n4 -4.576677  \n\n[5 rows x 30 columns]",
      "text/html": "<div>\n<style scoped>\n    .dataframe tbody tr th:only-of-type {\n        vertical-align: middle;\n    }\n\n    .dataframe tbody tr th {\n        vertical-align: top;\n    }\n\n    .dataframe thead th {\n        text-align: right;\n    }\n</style>\n<table border=\"1\" class=\"dataframe\">\n  <thead>\n    <tr style=\"text-align: right;\">\n      <th></th>\n      <th>0</th>\n      <th>1</th>\n      <th>2</th>\n      <th>3</th>\n      <th>4</th>\n      <th>5</th>\n      <th>6</th>\n      <th>7</th>\n      <th>8</th>\n      <th>9</th>\n      <th>...</th>\n      <th>20</th>\n      <th>21</th>\n      <th>22</th>\n      <th>23</th>\n      <th>24</th>\n      <th>25</th>\n      <th>26</th>\n      <th>27</th>\n      <th>28</th>\n      <th>29</th>\n    </tr>\n  </thead>\n  <tbody>\n    <tr>\n      <th>0</th>\n      <td>-7.083931</td>\n      <td>-23.803545</td>\n      <td>-10.548984</td>\n      <td>8.395534</td>\n      <td>-1.775576</td>\n      <td>1.030883</td>\n      <td>-0.467516</td>\n      <td>1.918745</td>\n      <td>6.491306</td>\n      <td>-5.358522</td>\n      <td>...</td>\n      <td>2.186133</td>\n      <td>-1.353966</td>\n      <td>-0.633106</td>\n      <td>-0.228483</td>\n      <td>1.898839</td>\n      <td>-2.487342</td>\n      <td>-0.198976</td>\n      <td>3.275304</td>\n      <td>0.665710</td>\n      <td>-0.463891</td>\n    </tr>\n    <tr>\n      <th>1</th>\n      <td>-55.440274</td>\n      <td>-6.698097</td>\n      <td>11.356209</td>\n      <td>13.371370</td>\n      <td>10.220959</td>\n      <td>-2.583810</td>\n      <td>-10.201652</td>\n      <td>4.160540</td>\n      <td>0.651359</td>\n      <td>-0.807751</td>\n      <td>...</td>\n      <td>-2.696426</td>\n      <td>-4.925850</td>\n      <td>2.166744</td>\n      <td>2.375007</td>\n      <td>-0.564925</td>\n      <td>1.667577</td>\n      <td>-1.834109</td>\n      <td>-1.964430</td>\n      <td>3.957492</td>\n      <td>3.389940</td>\n    </tr>\n    <tr>\n      <th>2</th>\n      <td>3.160290</td>\n      <td>-0.226171</td>\n      <td>22.521026</td>\n      <td>12.228728</td>\n      <td>-10.492334</td>\n      <td>22.253665</td>\n      <td>4.316944</td>\n      <td>2.858240</td>\n      <td>6.078630</td>\n      <td>-7.118800</td>\n      <td>...</td>\n      <td>-2.475527</td>\n      <td>1.885606</td>\n      <td>2.958921</td>\n      <td>5.834189</td>\n      <td>-1.528866</td>\n      <td>-7.671336</td>\n      <td>-0.913045</td>\n      <td>1.887580</td>\n      <td>4.271940</td>\n      <td>-0.861584</td>\n    </tr>\n    <tr>\n      <th>3</th>\n      <td>2.134337</td>\n      <td>-5.170767</td>\n      <td>-12.121173</td>\n      <td>14.065174</td>\n      <td>-1.425905</td>\n      <td>-13.918375</td>\n      <td>0.264012</td>\n      <td>9.575546</td>\n      <td>-8.124204</td>\n      <td>6.738010</td>\n      <td>...</td>\n      <td>2.944702</td>\n      <td>4.194686</td>\n      <td>-1.735283</td>\n      <td>-0.624321</td>\n      <td>4.904572</td>\n      <td>-2.338152</td>\n      <td>-4.333845</td>\n      <td>1.450194</td>\n      <td>-2.603375</td>\n      <td>2.541481</td>\n    </tr>\n    <tr>\n      <th>4</th>\n      <td>-11.720103</td>\n      <td>3.953315</td>\n      <td>47.537366</td>\n      <td>24.806754</td>\n      <td>-10.384402</td>\n      <td>-24.601347</td>\n      <td>-36.506511</td>\n      <td>8.238520</td>\n      <td>-30.274263</td>\n      <td>-24.208742</td>\n      <td>...</td>\n      <td>2.896885</td>\n      <td>-0.312901</td>\n      <td>-1.461603</td>\n      <td>-0.690658</td>\n      <td>-4.376433</td>\n      <td>-4.050384</td>\n      <td>-5.778278</td>\n      <td>1.198789</td>\n      <td>3.462165</td>\n      <td>-4.576677</td>\n    </tr>\n  </tbody>\n</table>\n<p>5 rows × 30 columns</p>\n</div>"
     },
     "execution_count": 382,
     "metadata": {},
     "output_type": "execute_result"
    }
   ],
   "source": [
    "df.head()"
   ],
   "metadata": {
    "collapsed": false
   }
  },
  {
   "cell_type": "code",
   "execution_count": 383,
   "outputs": [],
   "source": [
    "df.to_csv(rf'C:\\MasterThesis\\v1.0\\sub-{subject}\\ses-001\\{subject}_{run}_sEEG_dataset.csv', index=False)"
   ],
   "metadata": {
    "collapsed": false
   }
  },
  {
   "cell_type": "code",
   "execution_count": 383,
   "outputs": [],
   "source": [],
   "metadata": {
    "collapsed": false
   }
  }
 ],
 "metadata": {
  "kernelspec": {
   "display_name": "Python 3",
   "language": "python",
   "name": "python3"
  },
  "language_info": {
   "codemirror_mode": {
    "name": "ipython",
    "version": 3
   },
   "file_extension": ".py",
   "mimetype": "text/x-python",
   "name": "python",
   "nbconvert_exporter": "python",
   "pygments_lexer": "ipython3",
   "version": "3.8.5"
  }
 },
 "nbformat": 4,
 "nbformat_minor": 4
}
