{
 "cells": [
  {
   "cell_type": "markdown",
   "metadata": {},
   "source": [
    "### How to load the data"
   ]
  },
  {
   "cell_type": "markdown",
   "metadata": {},
   "source": [
    "This jupyter notebook demonstrates how to access the data of the dataset. To run the notebook you will need to install the following packages:\n",
    "- pymef (to read MEF3 format)\n",
    "- pybids (to load the BIDS data structure)\n"
   ]
  },
  {
   "cell_type": "markdown",
   "metadata": {},
   "source": [
    "Let's do the imports first"
   ]
  },
  {
   "cell_type": "code",
   "execution_count": 73,
   "metadata": {},
   "outputs": [],
   "source": [
    "import os\n",
    "\n",
    "from pymef import MefSession\n",
    "from bids import BIDSLayout\n",
    "\n",
    "import numpy as np\n",
    "import pandas as pd\n",
    "import matplotlib.pyplot as plt\n",
    "\n",
    "from scipy.signal import butter, filtfilt, decimate\n",
    "from sklearn.decomposition import PCA\n",
    "import mne\n",
    "import eeglib"
   ]
  },
  {
   "cell_type": "markdown",
   "source": [
    "SETTINGS"
   ],
   "metadata": {
    "collapsed": false
   }
  },
  {
   "cell_type": "code",
   "execution_count": 74,
   "outputs": [],
   "source": [
    "APPLY_LOW_PASS_FILTER = True\n",
    "DIMENSION_REDUCTION = False\n",
    "LSTM_READY = False\n",
    "FEATURE_SET = 3\n",
    "subject = '006'\n",
    "run = 1"
   ],
   "metadata": {
    "collapsed": false
   }
  },
  {
   "cell_type": "markdown",
   "metadata": {},
   "source": [
    "Now load the BIDS dataset"
   ]
  },
  {
   "cell_type": "code",
   "execution_count": 75,
   "metadata": {},
   "outputs": [],
   "source": [
    "path_to_dataset = r\"C:\\MasterThesis\\v1.0\"  # Please change this value\n",
    "\n",
    "l = BIDSLayout(path_to_dataset)"
   ]
  },
  {
   "cell_type": "markdown",
   "metadata": {},
   "source": [
    "Define what data we want to load"
   ]
  },
  {
   "cell_type": "code",
   "execution_count": 76,
   "metadata": {},
   "outputs": [
    {
     "name": "stdout",
     "output_type": "stream",
     "text": [
      "<BIDSJSONFile filename='C:\\MasterThesis\\v1.0\\sub-006\\ses-001\\ieeg\\sub-006_ses-001_task-FR_run-01_ieeg.json'>\n"
     ]
    }
   ],
   "source": [
    "filter_dictionary = {'subject': subject,\n",
    "                     'session': '001',\n",
    "                     'task': 'FR',\n",
    "                     'run': run,\n",
    "                     'suffix': 'ieeg',\n",
    "                     'extension': 'json'}\n",
    "json_files = l.get(**filter_dictionary)\n",
    "\n",
    "# We now we have requested only one file now but multiple files can be processed in a for loop\n",
    "json_file = json_files[0]\n",
    "print(json_file)\n",
    "\n",
    "json_entities = json_file.entities"
   ]
  },
  {
   "cell_type": "markdown",
   "source": [
    "Load information about electrodes"
   ],
   "metadata": {
    "collapsed": false
   }
  },
  {
   "cell_type": "code",
   "execution_count": 77,
   "outputs": [
    {
     "data": {
      "text/plain": "      name      x      y      z  size material manufacturer group  type  \\\n0    LX_01  -1.19  50.39  65.35     2       Pt          PMT    LX  ring   \n1    LX_10  -6.44  67.24  83.47     2       Pt          PMT    LX  ring   \n2    LE_06 -33.20  32.53  79.29     2       Pt          PMT    LE  ring   \n3    LE_07 -36.30  33.16  80.71     2       Pt          PMT    LE  ring   \n4    LE_08 -39.40  33.80  82.14     2       Pt          PMT    LE  ring   \n..     ...    ...    ...    ...   ...      ...          ...   ...   ...   \n123  LE_01 -17.69  29.37  72.16     2       Pt          PMT    LE  ring   \n124  LE_02 -20.79  30.00  73.59     2       Pt          PMT    LE  ring   \n125  LE_03 -23.89  30.63  75.01     2       Pt          PMT    LE  ring   \n126  LE_04 -26.99  31.27  76.44     2       Pt          PMT    LE  ring   \n127  LE_05 -30.09  31.90  77.86     2       Pt          PMT    LE  ring   \n\n                           anatomy_structure  \n0                                         wm  \n1                     superior frontal gyrus  \n2    inferior mid border of encephalomalacia  \n3    inferior mid border of encephalomalacia  \n4    inferior mid border of encephalomalacia  \n..                                       ...  \n123  inferior mid border of encephalomalacia  \n124  inferior mid border of encephalomalacia  \n125  inferior mid border of encephalomalacia  \n126  inferior mid border of encephalomalacia  \n127  inferior mid border of encephalomalacia  \n\n[128 rows x 10 columns]",
      "text/html": "<div>\n<style scoped>\n    .dataframe tbody tr th:only-of-type {\n        vertical-align: middle;\n    }\n\n    .dataframe tbody tr th {\n        vertical-align: top;\n    }\n\n    .dataframe thead th {\n        text-align: right;\n    }\n</style>\n<table border=\"1\" class=\"dataframe\">\n  <thead>\n    <tr style=\"text-align: right;\">\n      <th></th>\n      <th>name</th>\n      <th>x</th>\n      <th>y</th>\n      <th>z</th>\n      <th>size</th>\n      <th>material</th>\n      <th>manufacturer</th>\n      <th>group</th>\n      <th>type</th>\n      <th>anatomy_structure</th>\n    </tr>\n  </thead>\n  <tbody>\n    <tr>\n      <th>0</th>\n      <td>LX_01</td>\n      <td>-1.19</td>\n      <td>50.39</td>\n      <td>65.35</td>\n      <td>2</td>\n      <td>Pt</td>\n      <td>PMT</td>\n      <td>LX</td>\n      <td>ring</td>\n      <td>wm</td>\n    </tr>\n    <tr>\n      <th>1</th>\n      <td>LX_10</td>\n      <td>-6.44</td>\n      <td>67.24</td>\n      <td>83.47</td>\n      <td>2</td>\n      <td>Pt</td>\n      <td>PMT</td>\n      <td>LX</td>\n      <td>ring</td>\n      <td>superior frontal gyrus</td>\n    </tr>\n    <tr>\n      <th>2</th>\n      <td>LE_06</td>\n      <td>-33.20</td>\n      <td>32.53</td>\n      <td>79.29</td>\n      <td>2</td>\n      <td>Pt</td>\n      <td>PMT</td>\n      <td>LE</td>\n      <td>ring</td>\n      <td>inferior mid border of encephalomalacia</td>\n    </tr>\n    <tr>\n      <th>3</th>\n      <td>LE_07</td>\n      <td>-36.30</td>\n      <td>33.16</td>\n      <td>80.71</td>\n      <td>2</td>\n      <td>Pt</td>\n      <td>PMT</td>\n      <td>LE</td>\n      <td>ring</td>\n      <td>inferior mid border of encephalomalacia</td>\n    </tr>\n    <tr>\n      <th>4</th>\n      <td>LE_08</td>\n      <td>-39.40</td>\n      <td>33.80</td>\n      <td>82.14</td>\n      <td>2</td>\n      <td>Pt</td>\n      <td>PMT</td>\n      <td>LE</td>\n      <td>ring</td>\n      <td>inferior mid border of encephalomalacia</td>\n    </tr>\n    <tr>\n      <th>...</th>\n      <td>...</td>\n      <td>...</td>\n      <td>...</td>\n      <td>...</td>\n      <td>...</td>\n      <td>...</td>\n      <td>...</td>\n      <td>...</td>\n      <td>...</td>\n      <td>...</td>\n    </tr>\n    <tr>\n      <th>123</th>\n      <td>LE_01</td>\n      <td>-17.69</td>\n      <td>29.37</td>\n      <td>72.16</td>\n      <td>2</td>\n      <td>Pt</td>\n      <td>PMT</td>\n      <td>LE</td>\n      <td>ring</td>\n      <td>inferior mid border of encephalomalacia</td>\n    </tr>\n    <tr>\n      <th>124</th>\n      <td>LE_02</td>\n      <td>-20.79</td>\n      <td>30.00</td>\n      <td>73.59</td>\n      <td>2</td>\n      <td>Pt</td>\n      <td>PMT</td>\n      <td>LE</td>\n      <td>ring</td>\n      <td>inferior mid border of encephalomalacia</td>\n    </tr>\n    <tr>\n      <th>125</th>\n      <td>LE_03</td>\n      <td>-23.89</td>\n      <td>30.63</td>\n      <td>75.01</td>\n      <td>2</td>\n      <td>Pt</td>\n      <td>PMT</td>\n      <td>LE</td>\n      <td>ring</td>\n      <td>inferior mid border of encephalomalacia</td>\n    </tr>\n    <tr>\n      <th>126</th>\n      <td>LE_04</td>\n      <td>-26.99</td>\n      <td>31.27</td>\n      <td>76.44</td>\n      <td>2</td>\n      <td>Pt</td>\n      <td>PMT</td>\n      <td>LE</td>\n      <td>ring</td>\n      <td>inferior mid border of encephalomalacia</td>\n    </tr>\n    <tr>\n      <th>127</th>\n      <td>LE_05</td>\n      <td>-30.09</td>\n      <td>31.90</td>\n      <td>77.86</td>\n      <td>2</td>\n      <td>Pt</td>\n      <td>PMT</td>\n      <td>LE</td>\n      <td>ring</td>\n      <td>inferior mid border of encephalomalacia</td>\n    </tr>\n  </tbody>\n</table>\n<p>128 rows × 10 columns</p>\n</div>"
     },
     "execution_count": 77,
     "metadata": {},
     "output_type": "execute_result"
    }
   ],
   "source": [
    "# Get electrodes\n",
    "electrodes_file = l.get(suffix='electrodes', extension='tsv',\n",
    "                        subject=json_entities['subject'],\n",
    "                        session=json_entities['session'])[0]\n",
    "electrode_df = electrodes_file.get_df()\n",
    "electrode_df"
   ],
   "metadata": {
    "collapsed": false
   }
  },
  {
   "cell_type": "markdown",
   "metadata": {},
   "source": [
    "Load information about channels"
   ]
  },
  {
   "cell_type": "code",
   "execution_count": 78,
   "metadata": {},
   "outputs": [
    {
     "data": {
      "text/plain": "         name     type units  low_cutoff  high_cutoff  reference  \\\n0      LAI_01     SEEG    µV         0.1       6000.0  scalp_cpz   \n1      LAI_02     SEEG    µV         0.1       6000.0  scalp_cpz   \n2      LAI_03     SEEG    µV         0.1       6000.0  scalp_cpz   \n3      LAI_04     SEEG    µV         0.1       6000.0  scalp_cpz   \n4      LAI_05     SEEG    µV         0.1       6000.0  scalp_cpz   \n..        ...      ...   ...         ...          ...        ...   \n132     RY_10     SEEG    µV         0.1       6000.0  scalp_cpz   \n133     RY_11     SEEG    µV         0.1       6000.0  scalp_cpz   \n134     RY_12     SEEG    µV         0.1       6000.0  scalp_cpz   \n135  SCREEN_X  EYEGAZE    px         NaN          NaN  scalp_cpz   \n136  SCREEN_Y  EYEGAZE    px         NaN          NaN  scalp_cpz   \n\n     sampling_frequency status status_description  \n0                 32000   good                NaN  \n1                 32000   good                NaN  \n2                 32000   good                NaN  \n3                 32000   good                NaN  \n4                 32000   good                NaN  \n..                  ...    ...                ...  \n132               32000   good                NaN  \n133               32000   good                NaN  \n134               32000   good                NaN  \n135                 150   good                NaN  \n136                 150   good                NaN  \n\n[133 rows x 9 columns]",
      "text/html": "<div>\n<style scoped>\n    .dataframe tbody tr th:only-of-type {\n        vertical-align: middle;\n    }\n\n    .dataframe tbody tr th {\n        vertical-align: top;\n    }\n\n    .dataframe thead th {\n        text-align: right;\n    }\n</style>\n<table border=\"1\" class=\"dataframe\">\n  <thead>\n    <tr style=\"text-align: right;\">\n      <th></th>\n      <th>name</th>\n      <th>type</th>\n      <th>units</th>\n      <th>low_cutoff</th>\n      <th>high_cutoff</th>\n      <th>reference</th>\n      <th>sampling_frequency</th>\n      <th>status</th>\n      <th>status_description</th>\n    </tr>\n  </thead>\n  <tbody>\n    <tr>\n      <th>0</th>\n      <td>LAI_01</td>\n      <td>SEEG</td>\n      <td>µV</td>\n      <td>0.1</td>\n      <td>6000.0</td>\n      <td>scalp_cpz</td>\n      <td>32000</td>\n      <td>good</td>\n      <td>NaN</td>\n    </tr>\n    <tr>\n      <th>1</th>\n      <td>LAI_02</td>\n      <td>SEEG</td>\n      <td>µV</td>\n      <td>0.1</td>\n      <td>6000.0</td>\n      <td>scalp_cpz</td>\n      <td>32000</td>\n      <td>good</td>\n      <td>NaN</td>\n    </tr>\n    <tr>\n      <th>2</th>\n      <td>LAI_03</td>\n      <td>SEEG</td>\n      <td>µV</td>\n      <td>0.1</td>\n      <td>6000.0</td>\n      <td>scalp_cpz</td>\n      <td>32000</td>\n      <td>good</td>\n      <td>NaN</td>\n    </tr>\n    <tr>\n      <th>3</th>\n      <td>LAI_04</td>\n      <td>SEEG</td>\n      <td>µV</td>\n      <td>0.1</td>\n      <td>6000.0</td>\n      <td>scalp_cpz</td>\n      <td>32000</td>\n      <td>good</td>\n      <td>NaN</td>\n    </tr>\n    <tr>\n      <th>4</th>\n      <td>LAI_05</td>\n      <td>SEEG</td>\n      <td>µV</td>\n      <td>0.1</td>\n      <td>6000.0</td>\n      <td>scalp_cpz</td>\n      <td>32000</td>\n      <td>good</td>\n      <td>NaN</td>\n    </tr>\n    <tr>\n      <th>...</th>\n      <td>...</td>\n      <td>...</td>\n      <td>...</td>\n      <td>...</td>\n      <td>...</td>\n      <td>...</td>\n      <td>...</td>\n      <td>...</td>\n      <td>...</td>\n    </tr>\n    <tr>\n      <th>132</th>\n      <td>RY_10</td>\n      <td>SEEG</td>\n      <td>µV</td>\n      <td>0.1</td>\n      <td>6000.0</td>\n      <td>scalp_cpz</td>\n      <td>32000</td>\n      <td>good</td>\n      <td>NaN</td>\n    </tr>\n    <tr>\n      <th>133</th>\n      <td>RY_11</td>\n      <td>SEEG</td>\n      <td>µV</td>\n      <td>0.1</td>\n      <td>6000.0</td>\n      <td>scalp_cpz</td>\n      <td>32000</td>\n      <td>good</td>\n      <td>NaN</td>\n    </tr>\n    <tr>\n      <th>134</th>\n      <td>RY_12</td>\n      <td>SEEG</td>\n      <td>µV</td>\n      <td>0.1</td>\n      <td>6000.0</td>\n      <td>scalp_cpz</td>\n      <td>32000</td>\n      <td>good</td>\n      <td>NaN</td>\n    </tr>\n    <tr>\n      <th>135</th>\n      <td>SCREEN_X</td>\n      <td>EYEGAZE</td>\n      <td>px</td>\n      <td>NaN</td>\n      <td>NaN</td>\n      <td>scalp_cpz</td>\n      <td>150</td>\n      <td>good</td>\n      <td>NaN</td>\n    </tr>\n    <tr>\n      <th>136</th>\n      <td>SCREEN_Y</td>\n      <td>EYEGAZE</td>\n      <td>px</td>\n      <td>NaN</td>\n      <td>NaN</td>\n      <td>scalp_cpz</td>\n      <td>150</td>\n      <td>good</td>\n      <td>NaN</td>\n    </tr>\n  </tbody>\n</table>\n<p>133 rows × 9 columns</p>\n</div>"
     },
     "execution_count": 78,
     "metadata": {},
     "output_type": "execute_result"
    }
   ],
   "source": [
    "# Get channels\n",
    "channel_file = l.get(suffix='channels', extension='tsv',\n",
    "                     task=json_entities['task'],\n",
    "                     subject=json_entities['subject'],\n",
    "                     session=json_entities['session'],\n",
    "                     run=json_entities['run'])[0]\n",
    "channel_df = channel_file.get_df()\n",
    "channel_df = channel_df[channel_df['status'] != 'bad']\n",
    "channel_df\n",
    "    "
   ]
  },
  {
   "cell_type": "markdown",
   "metadata": {},
   "source": [
    "Load events"
   ]
  },
  {
   "cell_type": "code",
   "execution_count": 79,
   "metadata": {},
   "outputs": [
    {
     "data": {
      "text/plain": "           onset    sample  duration trial_type  list\n0     682.107055  21827425  1.495593     ENCODE   1.0\n1     684.615742  21907703  1.486905     ENCODE   1.0\n2     687.107959  21987454  1.494719     ENCODE   1.0\n3     689.607927  22067453  1.494750     ENCODE   1.0\n4     692.121457  22147886  1.481219     ENCODE   1.0\n..           ...       ...       ...        ...   ...\n175  2093.370145  66987844  1.494499     ENCODE  15.0\n176  2095.870206  67067846  1.494406     ENCODE  15.0\n177  2098.371955  67147902  1.492656     ENCODE  15.0\n178  2100.870767  67227864  1.493874     ENCODE  15.0\n179  2103.370141  67307844  1.494499     ENCODE  15.0\n\n[180 rows x 5 columns]",
      "text/html": "<div>\n<style scoped>\n    .dataframe tbody tr th:only-of-type {\n        vertical-align: middle;\n    }\n\n    .dataframe tbody tr th {\n        vertical-align: top;\n    }\n\n    .dataframe thead th {\n        text-align: right;\n    }\n</style>\n<table border=\"1\" class=\"dataframe\">\n  <thead>\n    <tr style=\"text-align: right;\">\n      <th></th>\n      <th>onset</th>\n      <th>sample</th>\n      <th>duration</th>\n      <th>trial_type</th>\n      <th>list</th>\n    </tr>\n  </thead>\n  <tbody>\n    <tr>\n      <th>0</th>\n      <td>682.107055</td>\n      <td>21827425</td>\n      <td>1.495593</td>\n      <td>ENCODE</td>\n      <td>1.0</td>\n    </tr>\n    <tr>\n      <th>1</th>\n      <td>684.615742</td>\n      <td>21907703</td>\n      <td>1.486905</td>\n      <td>ENCODE</td>\n      <td>1.0</td>\n    </tr>\n    <tr>\n      <th>2</th>\n      <td>687.107959</td>\n      <td>21987454</td>\n      <td>1.494719</td>\n      <td>ENCODE</td>\n      <td>1.0</td>\n    </tr>\n    <tr>\n      <th>3</th>\n      <td>689.607927</td>\n      <td>22067453</td>\n      <td>1.494750</td>\n      <td>ENCODE</td>\n      <td>1.0</td>\n    </tr>\n    <tr>\n      <th>4</th>\n      <td>692.121457</td>\n      <td>22147886</td>\n      <td>1.481219</td>\n      <td>ENCODE</td>\n      <td>1.0</td>\n    </tr>\n    <tr>\n      <th>...</th>\n      <td>...</td>\n      <td>...</td>\n      <td>...</td>\n      <td>...</td>\n      <td>...</td>\n    </tr>\n    <tr>\n      <th>175</th>\n      <td>2093.370145</td>\n      <td>66987844</td>\n      <td>1.494499</td>\n      <td>ENCODE</td>\n      <td>15.0</td>\n    </tr>\n    <tr>\n      <th>176</th>\n      <td>2095.870206</td>\n      <td>67067846</td>\n      <td>1.494406</td>\n      <td>ENCODE</td>\n      <td>15.0</td>\n    </tr>\n    <tr>\n      <th>177</th>\n      <td>2098.371955</td>\n      <td>67147902</td>\n      <td>1.492656</td>\n      <td>ENCODE</td>\n      <td>15.0</td>\n    </tr>\n    <tr>\n      <th>178</th>\n      <td>2100.870767</td>\n      <td>67227864</td>\n      <td>1.493874</td>\n      <td>ENCODE</td>\n      <td>15.0</td>\n    </tr>\n    <tr>\n      <th>179</th>\n      <td>2103.370141</td>\n      <td>67307844</td>\n      <td>1.494499</td>\n      <td>ENCODE</td>\n      <td>15.0</td>\n    </tr>\n  </tbody>\n</table>\n<p>180 rows × 5 columns</p>\n</div>"
     },
     "execution_count": 79,
     "metadata": {},
     "output_type": "execute_result"
    }
   ],
   "source": [
    "events_file = l.get(suffix='events', extension='tsv',\n",
    "                    task=json_entities['task'],\n",
    "                    subject=json_entities['subject'],\n",
    "                    session=json_entities['session'],\n",
    "                    run=json_entities['run'])[0]\n",
    "events_df = events_file.get_df()\n",
    "\n",
    "# Pull only the processed events (discarding the original events)\n",
    "events_df = events_df.loc[~events_df['trial_type'].isna(), ['onset', 'sample', 'duration', 'trial_type', 'list']]\n",
    "events_df = events_df[events_df['trial_type'] == 'ENCODE']\n",
    "events_df = events_df.reset_index(drop=True)\n",
    "events_df\n"
   ]
  },
  {
   "cell_type": "markdown",
   "metadata": {},
   "source": [
    "Now load the raw data"
   ]
  },
  {
   "cell_type": "code",
   "execution_count": 80,
   "metadata": {},
   "outputs": [
    {
     "name": "stdout",
     "output_type": "stream",
     "text": [
      "C:\\MasterThesis\\v1.0\\sub-006\\ses-001\\ieeg\\sub-006_ses-001_task-FR_run-01_ieeg.mefd\n"
     ]
    },
    {
     "data": {
      "text/plain": "[{'name': 'LAI_01',\n  'fsamp': array([32000.]),\n  'nsamp': array([70416536], dtype=int64),\n  'ufact': array([0.03051851]),\n  'unit': array([b'uV'], dtype='|S128'),\n  'start_time': array([1556449841729738], dtype=int64),\n  'end_time': array([1556452042246480], dtype=int64),\n  'channel_description': array([b'SEEG'], dtype='|S2048')},\n {'name': 'LAI_02',\n  'fsamp': array([32000.]),\n  'nsamp': array([70416536], dtype=int64),\n  'ufact': array([0.03051851]),\n  'unit': array([b'uV'], dtype='|S128'),\n  'start_time': array([1556449841729738], dtype=int64),\n  'end_time': array([1556452042246480], dtype=int64),\n  'channel_description': array([b'SEEG'], dtype='|S2048')},\n {'name': 'LAI_03',\n  'fsamp': array([32000.]),\n  'nsamp': array([70416536], dtype=int64),\n  'ufact': array([0.03051851]),\n  'unit': array([b'uV'], dtype='|S128'),\n  'start_time': array([1556449841729738], dtype=int64),\n  'end_time': array([1556452042246480], dtype=int64),\n  'channel_description': array([b'SEEG'], dtype='|S2048')},\n {'name': 'LAI_04',\n  'fsamp': array([32000.]),\n  'nsamp': array([70416536], dtype=int64),\n  'ufact': array([0.03051851]),\n  'unit': array([b'uV'], dtype='|S128'),\n  'start_time': array([1556449841729738], dtype=int64),\n  'end_time': array([1556452042246480], dtype=int64),\n  'channel_description': array([b'SEEG'], dtype='|S2048')},\n {'name': 'LAI_05',\n  'fsamp': array([32000.]),\n  'nsamp': array([70416536], dtype=int64),\n  'ufact': array([0.03051851]),\n  'unit': array([b'uV'], dtype='|S128'),\n  'start_time': array([1556449841729738], dtype=int64),\n  'end_time': array([1556452042246480], dtype=int64),\n  'channel_description': array([b'SEEG'], dtype='|S2048')},\n {'name': 'LAI_06',\n  'fsamp': array([32000.]),\n  'nsamp': array([70416536], dtype=int64),\n  'ufact': array([0.03051851]),\n  'unit': array([b'uV'], dtype='|S128'),\n  'start_time': array([1556449841729738], dtype=int64),\n  'end_time': array([1556452042246480], dtype=int64),\n  'channel_description': array([b'SEEG'], dtype='|S2048')},\n {'name': 'LAI_07',\n  'fsamp': array([32000.]),\n  'nsamp': array([70416536], dtype=int64),\n  'ufact': array([0.03051851]),\n  'unit': array([b'uV'], dtype='|S128'),\n  'start_time': array([1556449841729738], dtype=int64),\n  'end_time': array([1556452042246480], dtype=int64),\n  'channel_description': array([b'SEEG'], dtype='|S2048')},\n {'name': 'LAI_08',\n  'fsamp': array([32000.]),\n  'nsamp': array([70416536], dtype=int64),\n  'ufact': array([0.03051851]),\n  'unit': array([b'uV'], dtype='|S128'),\n  'start_time': array([1556449841729738], dtype=int64),\n  'end_time': array([1556452042246480], dtype=int64),\n  'channel_description': array([b'SEEG'], dtype='|S2048')},\n {'name': 'LAI_09',\n  'fsamp': array([32000.]),\n  'nsamp': array([70416536], dtype=int64),\n  'ufact': array([0.03051851]),\n  'unit': array([b'uV'], dtype='|S128'),\n  'start_time': array([1556449841729738], dtype=int64),\n  'end_time': array([1556452042246480], dtype=int64),\n  'channel_description': array([b'SEEG'], dtype='|S2048')},\n {'name': 'LAI_10',\n  'fsamp': array([32000.]),\n  'nsamp': array([70416536], dtype=int64),\n  'ufact': array([0.03051851]),\n  'unit': array([b'uV'], dtype='|S128'),\n  'start_time': array([1556449841729738], dtype=int64),\n  'end_time': array([1556452042246480], dtype=int64),\n  'channel_description': array([b'SEEG'], dtype='|S2048')},\n {'name': 'LAI_11',\n  'fsamp': array([32000.]),\n  'nsamp': array([70416536], dtype=int64),\n  'ufact': array([0.03051851]),\n  'unit': array([b'uV'], dtype='|S128'),\n  'start_time': array([1556449841729738], dtype=int64),\n  'end_time': array([1556452042246480], dtype=int64),\n  'channel_description': array([b'SEEG'], dtype='|S2048')},\n {'name': 'LAI_12',\n  'fsamp': array([32000.]),\n  'nsamp': array([70416536], dtype=int64),\n  'ufact': array([0.03051851]),\n  'unit': array([b'uV'], dtype='|S128'),\n  'start_time': array([1556449841729738], dtype=int64),\n  'end_time': array([1556452042246480], dtype=int64),\n  'channel_description': array([b'SEEG'], dtype='|S2048')},\n {'name': 'LAI_13',\n  'fsamp': array([32000.]),\n  'nsamp': array([70416536], dtype=int64),\n  'ufact': array([0.03051851]),\n  'unit': array([b'uV'], dtype='|S128'),\n  'start_time': array([1556449841729738], dtype=int64),\n  'end_time': array([1556452042246480], dtype=int64),\n  'channel_description': array([b'SEEG'], dtype='|S2048')},\n {'name': 'LAI_14',\n  'fsamp': array([32000.]),\n  'nsamp': array([70416536], dtype=int64),\n  'ufact': array([0.03051851]),\n  'unit': array([b'uV'], dtype='|S128'),\n  'start_time': array([1556449841729738], dtype=int64),\n  'end_time': array([1556452042246480], dtype=int64),\n  'channel_description': array([b'SEEG'], dtype='|S2048')},\n {'name': 'LAI_15',\n  'fsamp': array([32000.]),\n  'nsamp': array([70416536], dtype=int64),\n  'ufact': array([0.03051851]),\n  'unit': array([b'uV'], dtype='|S128'),\n  'start_time': array([1556449841729738], dtype=int64),\n  'end_time': array([1556452042246480], dtype=int64),\n  'channel_description': array([b'SEEG'], dtype='|S2048')},\n {'name': 'LAI_16',\n  'fsamp': array([32000.]),\n  'nsamp': array([70416536], dtype=int64),\n  'ufact': array([0.03051851]),\n  'unit': array([b'uV'], dtype='|S128'),\n  'start_time': array([1556449841729738], dtype=int64),\n  'end_time': array([1556452042246480], dtype=int64),\n  'channel_description': array([b'SEEG'], dtype='|S2048')},\n {'name': 'LEFT_PUPIL_SIZE',\n  'fsamp': array([150.]),\n  'nsamp': array([222253], dtype=int64),\n  'ufact': array([1.e-06]),\n  'unit': array([b'px2'], dtype='|S128'),\n  'start_time': array([1556450515840793], dtype=int64),\n  'end_time': array([1556451997527459], dtype=int64),\n  'channel_description': array([b'PUPIL'], dtype='|S2048')},\n {'name': 'LEFT_X_COORD',\n  'fsamp': array([150.]),\n  'nsamp': array([222253], dtype=int64),\n  'ufact': array([1.e-06]),\n  'unit': array([b'px'], dtype='|S128'),\n  'start_time': array([1556450515840793], dtype=int64),\n  'end_time': array([1556451997527459], dtype=int64),\n  'channel_description': array([b'EYEGAZE'], dtype='|S2048')},\n {'name': 'LEFT_Y_COORD',\n  'fsamp': array([150.]),\n  'nsamp': array([222253], dtype=int64),\n  'ufact': array([1.e-06]),\n  'unit': array([b'px'], dtype='|S128'),\n  'start_time': array([1556450515840793], dtype=int64),\n  'end_time': array([1556451997527459], dtype=int64),\n  'channel_description': array([b'EYEGAZE'], dtype='|S2048')},\n {'name': 'LE_01',\n  'fsamp': array([32000.]),\n  'nsamp': array([70416536], dtype=int64),\n  'ufact': array([0.03051851]),\n  'unit': array([b'uV'], dtype='|S128'),\n  'start_time': array([1556449841729738], dtype=int64),\n  'end_time': array([1556452042246480], dtype=int64),\n  'channel_description': array([b'SEEG'], dtype='|S2048')},\n {'name': 'LE_02',\n  'fsamp': array([32000.]),\n  'nsamp': array([70416536], dtype=int64),\n  'ufact': array([0.03051851]),\n  'unit': array([b'uV'], dtype='|S128'),\n  'start_time': array([1556449841729738], dtype=int64),\n  'end_time': array([1556452042246480], dtype=int64),\n  'channel_description': array([b'SEEG'], dtype='|S2048')},\n {'name': 'LE_03',\n  'fsamp': array([32000.]),\n  'nsamp': array([70416536], dtype=int64),\n  'ufact': array([0.03051851]),\n  'unit': array([b'uV'], dtype='|S128'),\n  'start_time': array([1556449841729738], dtype=int64),\n  'end_time': array([1556452042246480], dtype=int64),\n  'channel_description': array([b'SEEG'], dtype='|S2048')},\n {'name': 'LE_04',\n  'fsamp': array([32000.]),\n  'nsamp': array([70416536], dtype=int64),\n  'ufact': array([0.03051851]),\n  'unit': array([b'uV'], dtype='|S128'),\n  'start_time': array([1556449841729738], dtype=int64),\n  'end_time': array([1556452042246480], dtype=int64),\n  'channel_description': array([b'SEEG'], dtype='|S2048')},\n {'name': 'LE_05',\n  'fsamp': array([32000.]),\n  'nsamp': array([70416536], dtype=int64),\n  'ufact': array([0.03051851]),\n  'unit': array([b'uV'], dtype='|S128'),\n  'start_time': array([1556449841729738], dtype=int64),\n  'end_time': array([1556452042246480], dtype=int64),\n  'channel_description': array([b'SEEG'], dtype='|S2048')},\n {'name': 'LE_06',\n  'fsamp': array([32000.]),\n  'nsamp': array([70416536], dtype=int64),\n  'ufact': array([0.03051851]),\n  'unit': array([b'uV'], dtype='|S128'),\n  'start_time': array([1556449841729738], dtype=int64),\n  'end_time': array([1556452042246480], dtype=int64),\n  'channel_description': array([b'SEEG'], dtype='|S2048')},\n {'name': 'LE_07',\n  'fsamp': array([32000.]),\n  'nsamp': array([70416536], dtype=int64),\n  'ufact': array([0.03051851]),\n  'unit': array([b'uV'], dtype='|S128'),\n  'start_time': array([1556449841729738], dtype=int64),\n  'end_time': array([1556452042246480], dtype=int64),\n  'channel_description': array([b'SEEG'], dtype='|S2048')},\n {'name': 'LE_08',\n  'fsamp': array([32000.]),\n  'nsamp': array([70416536], dtype=int64),\n  'ufact': array([0.03051851]),\n  'unit': array([b'uV'], dtype='|S128'),\n  'start_time': array([1556449841729738], dtype=int64),\n  'end_time': array([1556452042246480], dtype=int64),\n  'channel_description': array([b'SEEG'], dtype='|S2048')},\n {'name': 'LE_09',\n  'fsamp': array([32000.]),\n  'nsamp': array([70416536], dtype=int64),\n  'ufact': array([0.03051851]),\n  'unit': array([b'uV'], dtype='|S128'),\n  'start_time': array([1556449841729738], dtype=int64),\n  'end_time': array([1556452042246480], dtype=int64),\n  'channel_description': array([b'SEEG'], dtype='|S2048')},\n {'name': 'LE_10',\n  'fsamp': array([32000.]),\n  'nsamp': array([70416536], dtype=int64),\n  'ufact': array([0.03051851]),\n  'unit': array([b'uV'], dtype='|S128'),\n  'start_time': array([1556449841729738], dtype=int64),\n  'end_time': array([1556452042246480], dtype=int64),\n  'channel_description': array([b'SEEG'], dtype='|S2048')},\n {'name': 'LN_01',\n  'fsamp': array([32000.]),\n  'nsamp': array([70416536], dtype=int64),\n  'ufact': array([0.03051851]),\n  'unit': array([b'uV'], dtype='|S128'),\n  'start_time': array([1556449841729738], dtype=int64),\n  'end_time': array([1556452042246480], dtype=int64),\n  'channel_description': array([b'SEEG'], dtype='|S2048')},\n {'name': 'LN_02',\n  'fsamp': array([32000.]),\n  'nsamp': array([70416536], dtype=int64),\n  'ufact': array([0.03051851]),\n  'unit': array([b'uV'], dtype='|S128'),\n  'start_time': array([1556449841729738], dtype=int64),\n  'end_time': array([1556452042246480], dtype=int64),\n  'channel_description': array([b'SEEG'], dtype='|S2048')},\n {'name': 'LN_03',\n  'fsamp': array([32000.]),\n  'nsamp': array([70416536], dtype=int64),\n  'ufact': array([0.03051851]),\n  'unit': array([b'uV'], dtype='|S128'),\n  'start_time': array([1556449841729738], dtype=int64),\n  'end_time': array([1556452042246480], dtype=int64),\n  'channel_description': array([b'SEEG'], dtype='|S2048')},\n {'name': 'LN_04',\n  'fsamp': array([32000.]),\n  'nsamp': array([70416536], dtype=int64),\n  'ufact': array([0.03051851]),\n  'unit': array([b'uV'], dtype='|S128'),\n  'start_time': array([1556449841729738], dtype=int64),\n  'end_time': array([1556452042246480], dtype=int64),\n  'channel_description': array([b'SEEG'], dtype='|S2048')},\n {'name': 'LN_05',\n  'fsamp': array([32000.]),\n  'nsamp': array([70416536], dtype=int64),\n  'ufact': array([0.03051851]),\n  'unit': array([b'uV'], dtype='|S128'),\n  'start_time': array([1556449841729738], dtype=int64),\n  'end_time': array([1556452042246480], dtype=int64),\n  'channel_description': array([b'SEEG'], dtype='|S2048')},\n {'name': 'LN_06',\n  'fsamp': array([32000.]),\n  'nsamp': array([70416536], dtype=int64),\n  'ufact': array([0.03051851]),\n  'unit': array([b'uV'], dtype='|S128'),\n  'start_time': array([1556449841729738], dtype=int64),\n  'end_time': array([1556452042246480], dtype=int64),\n  'channel_description': array([b'SEEG'], dtype='|S2048')},\n {'name': 'LN_07',\n  'fsamp': array([32000.]),\n  'nsamp': array([70416536], dtype=int64),\n  'ufact': array([0.03051851]),\n  'unit': array([b'uV'], dtype='|S128'),\n  'start_time': array([1556449841729738], dtype=int64),\n  'end_time': array([1556452042246480], dtype=int64),\n  'channel_description': array([b'SEEG'], dtype='|S2048')},\n {'name': 'LN_08',\n  'fsamp': array([32000.]),\n  'nsamp': array([70416536], dtype=int64),\n  'ufact': array([0.03051851]),\n  'unit': array([b'uV'], dtype='|S128'),\n  'start_time': array([1556449841729738], dtype=int64),\n  'end_time': array([1556452042246480], dtype=int64),\n  'channel_description': array([b'SEEG'], dtype='|S2048')},\n {'name': 'LN_09',\n  'fsamp': array([32000.]),\n  'nsamp': array([70416536], dtype=int64),\n  'ufact': array([0.03051851]),\n  'unit': array([b'uV'], dtype='|S128'),\n  'start_time': array([1556449841729738], dtype=int64),\n  'end_time': array([1556452042246480], dtype=int64),\n  'channel_description': array([b'SEEG'], dtype='|S2048')},\n {'name': 'LN_10',\n  'fsamp': array([32000.]),\n  'nsamp': array([70416536], dtype=int64),\n  'ufact': array([0.03051851]),\n  'unit': array([b'uV'], dtype='|S128'),\n  'start_time': array([1556449841729738], dtype=int64),\n  'end_time': array([1556452042246480], dtype=int64),\n  'channel_description': array([b'SEEG'], dtype='|S2048')},\n {'name': 'LN_11',\n  'fsamp': array([32000.]),\n  'nsamp': array([70416536], dtype=int64),\n  'ufact': array([0.03051851]),\n  'unit': array([b'uV'], dtype='|S128'),\n  'start_time': array([1556449841729738], dtype=int64),\n  'end_time': array([1556452042246480], dtype=int64),\n  'channel_description': array([b'SEEG'], dtype='|S2048')},\n {'name': 'LN_12',\n  'fsamp': array([32000.]),\n  'nsamp': array([70416536], dtype=int64),\n  'ufact': array([0.03051851]),\n  'unit': array([b'uV'], dtype='|S128'),\n  'start_time': array([1556449841729738], dtype=int64),\n  'end_time': array([1556452042246480], dtype=int64),\n  'channel_description': array([b'SEEG'], dtype='|S2048')},\n {'name': 'LO_01',\n  'fsamp': array([32000.]),\n  'nsamp': array([70416536], dtype=int64),\n  'ufact': array([0.03051851]),\n  'unit': array([b'uV'], dtype='|S128'),\n  'start_time': array([1556449841729738], dtype=int64),\n  'end_time': array([1556452042246480], dtype=int64),\n  'channel_description': array([b'SEEG'], dtype='|S2048')},\n {'name': 'LO_02',\n  'fsamp': array([32000.]),\n  'nsamp': array([70416536], dtype=int64),\n  'ufact': array([0.03051851]),\n  'unit': array([b'uV'], dtype='|S128'),\n  'start_time': array([1556449841729738], dtype=int64),\n  'end_time': array([1556452042246480], dtype=int64),\n  'channel_description': array([b'SEEG'], dtype='|S2048')},\n {'name': 'LO_03',\n  'fsamp': array([32000.]),\n  'nsamp': array([70416536], dtype=int64),\n  'ufact': array([0.03051851]),\n  'unit': array([b'uV'], dtype='|S128'),\n  'start_time': array([1556449841729738], dtype=int64),\n  'end_time': array([1556452042246480], dtype=int64),\n  'channel_description': array([b'SEEG'], dtype='|S2048')},\n {'name': 'LO_04',\n  'fsamp': array([32000.]),\n  'nsamp': array([70416536], dtype=int64),\n  'ufact': array([0.03051851]),\n  'unit': array([b'uV'], dtype='|S128'),\n  'start_time': array([1556449841729738], dtype=int64),\n  'end_time': array([1556452042246480], dtype=int64),\n  'channel_description': array([b'SEEG'], dtype='|S2048')},\n {'name': 'LO_05',\n  'fsamp': array([32000.]),\n  'nsamp': array([70416536], dtype=int64),\n  'ufact': array([0.03051851]),\n  'unit': array([b'uV'], dtype='|S128'),\n  'start_time': array([1556449841729738], dtype=int64),\n  'end_time': array([1556452042246480], dtype=int64),\n  'channel_description': array([b'SEEG'], dtype='|S2048')},\n {'name': 'LO_06',\n  'fsamp': array([32000.]),\n  'nsamp': array([70416536], dtype=int64),\n  'ufact': array([0.03051851]),\n  'unit': array([b'uV'], dtype='|S128'),\n  'start_time': array([1556449841729738], dtype=int64),\n  'end_time': array([1556452042246480], dtype=int64),\n  'channel_description': array([b'SEEG'], dtype='|S2048')},\n {'name': 'LO_07',\n  'fsamp': array([32000.]),\n  'nsamp': array([70416536], dtype=int64),\n  'ufact': array([0.03051851]),\n  'unit': array([b'uV'], dtype='|S128'),\n  'start_time': array([1556449841729738], dtype=int64),\n  'end_time': array([1556452042246480], dtype=int64),\n  'channel_description': array([b'SEEG'], dtype='|S2048')},\n {'name': 'LO_08',\n  'fsamp': array([32000.]),\n  'nsamp': array([70416536], dtype=int64),\n  'ufact': array([0.03051851]),\n  'unit': array([b'uV'], dtype='|S128'),\n  'start_time': array([1556449841729738], dtype=int64),\n  'end_time': array([1556452042246480], dtype=int64),\n  'channel_description': array([b'SEEG'], dtype='|S2048')},\n {'name': 'LO_09',\n  'fsamp': array([32000.]),\n  'nsamp': array([70416536], dtype=int64),\n  'ufact': array([0.03051851]),\n  'unit': array([b'uV'], dtype='|S128'),\n  'start_time': array([1556449841729738], dtype=int64),\n  'end_time': array([1556452042246480], dtype=int64),\n  'channel_description': array([b'SEEG'], dtype='|S2048')},\n {'name': 'LO_10',\n  'fsamp': array([32000.]),\n  'nsamp': array([70416536], dtype=int64),\n  'ufact': array([0.03051851]),\n  'unit': array([b'uV'], dtype='|S128'),\n  'start_time': array([1556449841729738], dtype=int64),\n  'end_time': array([1556452042246480], dtype=int64),\n  'channel_description': array([b'SEEG'], dtype='|S2048')},\n {'name': 'LO_11',\n  'fsamp': array([32000.]),\n  'nsamp': array([70416536], dtype=int64),\n  'ufact': array([0.03051851]),\n  'unit': array([b'uV'], dtype='|S128'),\n  'start_time': array([1556449841729738], dtype=int64),\n  'end_time': array([1556452042246480], dtype=int64),\n  'channel_description': array([b'SEEG'], dtype='|S2048')},\n {'name': 'LO_12',\n  'fsamp': array([32000.]),\n  'nsamp': array([70416536], dtype=int64),\n  'ufact': array([0.03051851]),\n  'unit': array([b'uV'], dtype='|S128'),\n  'start_time': array([1556449841729738], dtype=int64),\n  'end_time': array([1556452042246480], dtype=int64),\n  'channel_description': array([b'SEEG'], dtype='|S2048')},\n {'name': 'LO_13',\n  'fsamp': array([32000.]),\n  'nsamp': array([70416536], dtype=int64),\n  'ufact': array([0.03051851]),\n  'unit': array([b'uV'], dtype='|S128'),\n  'start_time': array([1556449841729738], dtype=int64),\n  'end_time': array([1556452042246480], dtype=int64),\n  'channel_description': array([b'SEEG'], dtype='|S2048')},\n {'name': 'LO_14',\n  'fsamp': array([32000.]),\n  'nsamp': array([70416536], dtype=int64),\n  'ufact': array([0.03051851]),\n  'unit': array([b'uV'], dtype='|S128'),\n  'start_time': array([1556449841729738], dtype=int64),\n  'end_time': array([1556452042246480], dtype=int64),\n  'channel_description': array([b'SEEG'], dtype='|S2048')},\n {'name': 'LP_01',\n  'fsamp': array([32000.]),\n  'nsamp': array([70416536], dtype=int64),\n  'ufact': array([0.03051851]),\n  'unit': array([b'uV'], dtype='|S128'),\n  'start_time': array([1556449841729738], dtype=int64),\n  'end_time': array([1556452042246480], dtype=int64),\n  'channel_description': array([b'SEEG'], dtype='|S2048')},\n {'name': 'LP_02',\n  'fsamp': array([32000.]),\n  'nsamp': array([70416536], dtype=int64),\n  'ufact': array([0.03051851]),\n  'unit': array([b'uV'], dtype='|S128'),\n  'start_time': array([1556449841729738], dtype=int64),\n  'end_time': array([1556452042246480], dtype=int64),\n  'channel_description': array([b'SEEG'], dtype='|S2048')},\n {'name': 'LP_03',\n  'fsamp': array([32000.]),\n  'nsamp': array([70416536], dtype=int64),\n  'ufact': array([0.03051851]),\n  'unit': array([b'uV'], dtype='|S128'),\n  'start_time': array([1556449841729738], dtype=int64),\n  'end_time': array([1556452042246480], dtype=int64),\n  'channel_description': array([b'SEEG'], dtype='|S2048')},\n {'name': 'LP_04',\n  'fsamp': array([32000.]),\n  'nsamp': array([70416536], dtype=int64),\n  'ufact': array([0.03051851]),\n  'unit': array([b'uV'], dtype='|S128'),\n  'start_time': array([1556449841729738], dtype=int64),\n  'end_time': array([1556452042246480], dtype=int64),\n  'channel_description': array([b'SEEG'], dtype='|S2048')},\n {'name': 'LP_05',\n  'fsamp': array([32000.]),\n  'nsamp': array([70416536], dtype=int64),\n  'ufact': array([0.03051851]),\n  'unit': array([b'uV'], dtype='|S128'),\n  'start_time': array([1556449841729738], dtype=int64),\n  'end_time': array([1556452042246480], dtype=int64),\n  'channel_description': array([b'SEEG'], dtype='|S2048')},\n {'name': 'LP_06',\n  'fsamp': array([32000.]),\n  'nsamp': array([70416536], dtype=int64),\n  'ufact': array([0.03051851]),\n  'unit': array([b'uV'], dtype='|S128'),\n  'start_time': array([1556449841729738], dtype=int64),\n  'end_time': array([1556452042246480], dtype=int64),\n  'channel_description': array([b'SEEG'], dtype='|S2048')},\n {'name': 'LP_07',\n  'fsamp': array([32000.]),\n  'nsamp': array([70416536], dtype=int64),\n  'ufact': array([0.03051851]),\n  'unit': array([b'uV'], dtype='|S128'),\n  'start_time': array([1556449841729738], dtype=int64),\n  'end_time': array([1556452042246480], dtype=int64),\n  'channel_description': array([b'SEEG'], dtype='|S2048')},\n {'name': 'LP_08',\n  'fsamp': array([32000.]),\n  'nsamp': array([70416536], dtype=int64),\n  'ufact': array([0.03051851]),\n  'unit': array([b'uV'], dtype='|S128'),\n  'start_time': array([1556449841729738], dtype=int64),\n  'end_time': array([1556452042246480], dtype=int64),\n  'channel_description': array([b'SEEG'], dtype='|S2048')},\n {'name': 'LP_09',\n  'fsamp': array([32000.]),\n  'nsamp': array([70416536], dtype=int64),\n  'ufact': array([0.03051851]),\n  'unit': array([b'uV'], dtype='|S128'),\n  'start_time': array([1556449841729738], dtype=int64),\n  'end_time': array([1556452042246480], dtype=int64),\n  'channel_description': array([b'SEEG'], dtype='|S2048')},\n {'name': 'LP_10',\n  'fsamp': array([32000.]),\n  'nsamp': array([70416536], dtype=int64),\n  'ufact': array([0.03051851]),\n  'unit': array([b'uV'], dtype='|S128'),\n  'start_time': array([1556449841729738], dtype=int64),\n  'end_time': array([1556452042246480], dtype=int64),\n  'channel_description': array([b'SEEG'], dtype='|S2048')},\n {'name': 'LV_01',\n  'fsamp': array([32000.]),\n  'nsamp': array([70416536], dtype=int64),\n  'ufact': array([0.03051851]),\n  'unit': array([b'uV'], dtype='|S128'),\n  'start_time': array([1556449841729738], dtype=int64),\n  'end_time': array([1556452042246480], dtype=int64),\n  'channel_description': array([b'SEEG'], dtype='|S2048')},\n {'name': 'LV_02',\n  'fsamp': array([32000.]),\n  'nsamp': array([70416536], dtype=int64),\n  'ufact': array([0.03051851]),\n  'unit': array([b'uV'], dtype='|S128'),\n  'start_time': array([1556449841729738], dtype=int64),\n  'end_time': array([1556452042246480], dtype=int64),\n  'channel_description': array([b'SEEG'], dtype='|S2048')},\n {'name': 'LV_03',\n  'fsamp': array([32000.]),\n  'nsamp': array([70416536], dtype=int64),\n  'ufact': array([0.03051851]),\n  'unit': array([b'uV'], dtype='|S128'),\n  'start_time': array([1556449841729738], dtype=int64),\n  'end_time': array([1556452042246480], dtype=int64),\n  'channel_description': array([b'SEEG'], dtype='|S2048')},\n {'name': 'LV_04',\n  'fsamp': array([32000.]),\n  'nsamp': array([70416536], dtype=int64),\n  'ufact': array([0.03051851]),\n  'unit': array([b'uV'], dtype='|S128'),\n  'start_time': array([1556449841729738], dtype=int64),\n  'end_time': array([1556452042246480], dtype=int64),\n  'channel_description': array([b'SEEG'], dtype='|S2048')},\n {'name': 'LV_05',\n  'fsamp': array([32000.]),\n  'nsamp': array([70416536], dtype=int64),\n  'ufact': array([0.03051851]),\n  'unit': array([b'uV'], dtype='|S128'),\n  'start_time': array([1556449841729738], dtype=int64),\n  'end_time': array([1556452042246480], dtype=int64),\n  'channel_description': array([b'SEEG'], dtype='|S2048')},\n {'name': 'LV_06',\n  'fsamp': array([32000.]),\n  'nsamp': array([70416536], dtype=int64),\n  'ufact': array([0.03051851]),\n  'unit': array([b'uV'], dtype='|S128'),\n  'start_time': array([1556449841729738], dtype=int64),\n  'end_time': array([1556452042246480], dtype=int64),\n  'channel_description': array([b'SEEG'], dtype='|S2048')},\n {'name': 'LV_07',\n  'fsamp': array([32000.]),\n  'nsamp': array([70416536], dtype=int64),\n  'ufact': array([0.03051851]),\n  'unit': array([b'uV'], dtype='|S128'),\n  'start_time': array([1556449841729738], dtype=int64),\n  'end_time': array([1556452042246480], dtype=int64),\n  'channel_description': array([b'SEEG'], dtype='|S2048')},\n {'name': 'LV_08',\n  'fsamp': array([32000.]),\n  'nsamp': array([70416536], dtype=int64),\n  'ufact': array([0.03051851]),\n  'unit': array([b'uV'], dtype='|S128'),\n  'start_time': array([1556449841729738], dtype=int64),\n  'end_time': array([1556452042246480], dtype=int64),\n  'channel_description': array([b'SEEG'], dtype='|S2048')},\n {'name': 'LX_01',\n  'fsamp': array([32000.]),\n  'nsamp': array([70416536], dtype=int64),\n  'ufact': array([0.03051851]),\n  'unit': array([b'uV'], dtype='|S128'),\n  'start_time': array([1556449841729738], dtype=int64),\n  'end_time': array([1556452042246480], dtype=int64),\n  'channel_description': array([b'SEEG'], dtype='|S2048')},\n {'name': 'LX_02',\n  'fsamp': array([32000.]),\n  'nsamp': array([70416536], dtype=int64),\n  'ufact': array([0.03051851]),\n  'unit': array([b'uV'], dtype='|S128'),\n  'start_time': array([1556449841729738], dtype=int64),\n  'end_time': array([1556452042246480], dtype=int64),\n  'channel_description': array([b'SEEG'], dtype='|S2048')},\n {'name': 'LX_03',\n  'fsamp': array([32000.]),\n  'nsamp': array([70416536], dtype=int64),\n  'ufact': array([0.03051851]),\n  'unit': array([b'uV'], dtype='|S128'),\n  'start_time': array([1556449841729738], dtype=int64),\n  'end_time': array([1556452042246480], dtype=int64),\n  'channel_description': array([b'SEEG'], dtype='|S2048')},\n {'name': 'LX_04',\n  'fsamp': array([32000.]),\n  'nsamp': array([70416536], dtype=int64),\n  'ufact': array([0.03051851]),\n  'unit': array([b'uV'], dtype='|S128'),\n  'start_time': array([1556449841729738], dtype=int64),\n  'end_time': array([1556452042246480], dtype=int64),\n  'channel_description': array([b'SEEG'], dtype='|S2048')},\n {'name': 'LX_05',\n  'fsamp': array([32000.]),\n  'nsamp': array([70416536], dtype=int64),\n  'ufact': array([0.03051851]),\n  'unit': array([b'uV'], dtype='|S128'),\n  'start_time': array([1556449841729738], dtype=int64),\n  'end_time': array([1556452042246480], dtype=int64),\n  'channel_description': array([b'SEEG'], dtype='|S2048')},\n {'name': 'LX_06',\n  'fsamp': array([32000.]),\n  'nsamp': array([70416536], dtype=int64),\n  'ufact': array([0.03051851]),\n  'unit': array([b'uV'], dtype='|S128'),\n  'start_time': array([1556449841729738], dtype=int64),\n  'end_time': array([1556452042246480], dtype=int64),\n  'channel_description': array([b'SEEG'], dtype='|S2048')},\n {'name': 'LX_07',\n  'fsamp': array([32000.]),\n  'nsamp': array([70416536], dtype=int64),\n  'ufact': array([0.03051851]),\n  'unit': array([b'uV'], dtype='|S128'),\n  'start_time': array([1556449841729738], dtype=int64),\n  'end_time': array([1556452042246480], dtype=int64),\n  'channel_description': array([b'SEEG'], dtype='|S2048')},\n {'name': 'LX_08',\n  'fsamp': array([32000.]),\n  'nsamp': array([70416536], dtype=int64),\n  'ufact': array([0.03051851]),\n  'unit': array([b'uV'], dtype='|S128'),\n  'start_time': array([1556449841729738], dtype=int64),\n  'end_time': array([1556452042246480], dtype=int64),\n  'channel_description': array([b'SEEG'], dtype='|S2048')},\n {'name': 'LX_09',\n  'fsamp': array([32000.]),\n  'nsamp': array([70416536], dtype=int64),\n  'ufact': array([0.03051851]),\n  'unit': array([b'uV'], dtype='|S128'),\n  'start_time': array([1556449841729738], dtype=int64),\n  'end_time': array([1556452042246480], dtype=int64),\n  'channel_description': array([b'SEEG'], dtype='|S2048')},\n {'name': 'LX_10',\n  'fsamp': array([32000.]),\n  'nsamp': array([70416536], dtype=int64),\n  'ufact': array([0.03051851]),\n  'unit': array([b'uV'], dtype='|S128'),\n  'start_time': array([1556449841729738], dtype=int64),\n  'end_time': array([1556452042246480], dtype=int64),\n  'channel_description': array([b'SEEG'], dtype='|S2048')},\n {'name': 'LY_01',\n  'fsamp': array([32000.]),\n  'nsamp': array([70416536], dtype=int64),\n  'ufact': array([0.03051851]),\n  'unit': array([b'uV'], dtype='|S128'),\n  'start_time': array([1556449841729738], dtype=int64),\n  'end_time': array([1556452042246480], dtype=int64),\n  'channel_description': array([b'SEEG'], dtype='|S2048')},\n {'name': 'LY_02',\n  'fsamp': array([32000.]),\n  'nsamp': array([70416536], dtype=int64),\n  'ufact': array([0.03051851]),\n  'unit': array([b'uV'], dtype='|S128'),\n  'start_time': array([1556449841729738], dtype=int64),\n  'end_time': array([1556452042246480], dtype=int64),\n  'channel_description': array([b'SEEG'], dtype='|S2048')},\n {'name': 'LY_03',\n  'fsamp': array([32000.]),\n  'nsamp': array([70416536], dtype=int64),\n  'ufact': array([0.03051851]),\n  'unit': array([b'uV'], dtype='|S128'),\n  'start_time': array([1556449841729738], dtype=int64),\n  'end_time': array([1556452042246480], dtype=int64),\n  'channel_description': array([b'SEEG'], dtype='|S2048')},\n {'name': 'LY_04',\n  'fsamp': array([32000.]),\n  'nsamp': array([70416536], dtype=int64),\n  'ufact': array([0.03051851]),\n  'unit': array([b'uV'], dtype='|S128'),\n  'start_time': array([1556449841729738], dtype=int64),\n  'end_time': array([1556452042246480], dtype=int64),\n  'channel_description': array([b'SEEG'], dtype='|S2048')},\n {'name': 'LY_05',\n  'fsamp': array([32000.]),\n  'nsamp': array([70416536], dtype=int64),\n  'ufact': array([0.03051851]),\n  'unit': array([b'uV'], dtype='|S128'),\n  'start_time': array([1556449841729738], dtype=int64),\n  'end_time': array([1556452042246480], dtype=int64),\n  'channel_description': array([b'SEEG'], dtype='|S2048')},\n {'name': 'LY_06',\n  'fsamp': array([32000.]),\n  'nsamp': array([70416536], dtype=int64),\n  'ufact': array([0.03051851]),\n  'unit': array([b'uV'], dtype='|S128'),\n  'start_time': array([1556449841729738], dtype=int64),\n  'end_time': array([1556452042246480], dtype=int64),\n  'channel_description': array([b'SEEG'], dtype='|S2048')},\n {'name': 'LY_07',\n  'fsamp': array([32000.]),\n  'nsamp': array([70416536], dtype=int64),\n  'ufact': array([0.03051851]),\n  'unit': array([b'uV'], dtype='|S128'),\n  'start_time': array([1556449841729738], dtype=int64),\n  'end_time': array([1556452042246480], dtype=int64),\n  'channel_description': array([b'SEEG'], dtype='|S2048')},\n {'name': 'LY_08',\n  'fsamp': array([32000.]),\n  'nsamp': array([70416536], dtype=int64),\n  'ufact': array([0.03051851]),\n  'unit': array([b'uV'], dtype='|S128'),\n  'start_time': array([1556449841729738], dtype=int64),\n  'end_time': array([1556452042246480], dtype=int64),\n  'channel_description': array([b'SEEG'], dtype='|S2048')},\n {'name': 'LY_09',\n  'fsamp': array([32000.]),\n  'nsamp': array([70416536], dtype=int64),\n  'ufact': array([0.03051851]),\n  'unit': array([b'uV'], dtype='|S128'),\n  'start_time': array([1556449841729738], dtype=int64),\n  'end_time': array([1556452042246480], dtype=int64),\n  'channel_description': array([b'SEEG'], dtype='|S2048')},\n {'name': 'LY_10',\n  'fsamp': array([32000.]),\n  'nsamp': array([70416536], dtype=int64),\n  'ufact': array([0.03051851]),\n  'unit': array([b'uV'], dtype='|S128'),\n  'start_time': array([1556449841729738], dtype=int64),\n  'end_time': array([1556452042246480], dtype=int64),\n  'channel_description': array([b'SEEG'], dtype='|S2048')},\n {'name': 'LZ_01',\n  'fsamp': array([32000.]),\n  'nsamp': array([70416536], dtype=int64),\n  'ufact': array([0.03051851]),\n  'unit': array([b'uV'], dtype='|S128'),\n  'start_time': array([1556449841729738], dtype=int64),\n  'end_time': array([1556452042246480], dtype=int64),\n  'channel_description': array([b'SEEG'], dtype='|S2048')},\n {'name': 'LZ_02',\n  'fsamp': array([32000.]),\n  'nsamp': array([70416536], dtype=int64),\n  'ufact': array([0.03051851]),\n  'unit': array([b'uV'], dtype='|S128'),\n  'start_time': array([1556449841729738], dtype=int64),\n  'end_time': array([1556452042246480], dtype=int64),\n  'channel_description': array([b'SEEG'], dtype='|S2048')},\n {'name': 'LZ_03',\n  'fsamp': array([32000.]),\n  'nsamp': array([70416536], dtype=int64),\n  'ufact': array([0.03051851]),\n  'unit': array([b'uV'], dtype='|S128'),\n  'start_time': array([1556449841729738], dtype=int64),\n  'end_time': array([1556452042246480], dtype=int64),\n  'channel_description': array([b'SEEG'], dtype='|S2048')},\n {'name': 'LZ_04',\n  'fsamp': array([32000.]),\n  'nsamp': array([70416536], dtype=int64),\n  'ufact': array([0.03051851]),\n  'unit': array([b'uV'], dtype='|S128'),\n  'start_time': array([1556449841729738], dtype=int64),\n  'end_time': array([1556452042246480], dtype=int64),\n  'channel_description': array([b'SEEG'], dtype='|S2048')},\n {'name': 'LZ_05',\n  'fsamp': array([32000.]),\n  'nsamp': array([70416536], dtype=int64),\n  'ufact': array([0.03051851]),\n  'unit': array([b'uV'], dtype='|S128'),\n  'start_time': array([1556449841729738], dtype=int64),\n  'end_time': array([1556452042246480], dtype=int64),\n  'channel_description': array([b'SEEG'], dtype='|S2048')},\n {'name': 'LZ_06',\n  'fsamp': array([32000.]),\n  'nsamp': array([70416536], dtype=int64),\n  'ufact': array([0.03051851]),\n  'unit': array([b'uV'], dtype='|S128'),\n  'start_time': array([1556449841729738], dtype=int64),\n  'end_time': array([1556452042246480], dtype=int64),\n  'channel_description': array([b'SEEG'], dtype='|S2048')},\n {'name': 'LZ_07',\n  'fsamp': array([32000.]),\n  'nsamp': array([70416536], dtype=int64),\n  'ufact': array([0.03051851]),\n  'unit': array([b'uV'], dtype='|S128'),\n  'start_time': array([1556449841729738], dtype=int64),\n  'end_time': array([1556452042246480], dtype=int64),\n  'channel_description': array([b'SEEG'], dtype='|S2048')},\n {'name': 'LZ_08',\n  'fsamp': array([32000.]),\n  'nsamp': array([70416536], dtype=int64),\n  'ufact': array([0.03051851]),\n  'unit': array([b'uV'], dtype='|S128'),\n  'start_time': array([1556449841729738], dtype=int64),\n  'end_time': array([1556452042246480], dtype=int64),\n  'channel_description': array([b'SEEG'], dtype='|S2048')},\n {'name': 'LZ_09',\n  'fsamp': array([32000.]),\n  'nsamp': array([70416536], dtype=int64),\n  'ufact': array([0.03051851]),\n  'unit': array([b'uV'], dtype='|S128'),\n  'start_time': array([1556449841729738], dtype=int64),\n  'end_time': array([1556452042246480], dtype=int64),\n  'channel_description': array([b'SEEG'], dtype='|S2048')},\n {'name': 'LZ_10',\n  'fsamp': array([32000.]),\n  'nsamp': array([70416536], dtype=int64),\n  'ufact': array([0.03051851]),\n  'unit': array([b'uV'], dtype='|S128'),\n  'start_time': array([1556449841729738], dtype=int64),\n  'end_time': array([1556452042246480], dtype=int64),\n  'channel_description': array([b'SEEG'], dtype='|S2048')},\n {'name': 'LZ_11',\n  'fsamp': array([32000.]),\n  'nsamp': array([70416536], dtype=int64),\n  'ufact': array([0.03051851]),\n  'unit': array([b'uV'], dtype='|S128'),\n  'start_time': array([1556449841729738], dtype=int64),\n  'end_time': array([1556452042246480], dtype=int64),\n  'channel_description': array([b'SEEG'], dtype='|S2048')},\n {'name': 'LZ_12',\n  'fsamp': array([32000.]),\n  'nsamp': array([70416536], dtype=int64),\n  'ufact': array([0.03051851]),\n  'unit': array([b'uV'], dtype='|S128'),\n  'start_time': array([1556449841729738], dtype=int64),\n  'end_time': array([1556452042246480], dtype=int64),\n  'channel_description': array([b'SEEG'], dtype='|S2048')},\n {'name': 'LZ_13',\n  'fsamp': array([32000.]),\n  'nsamp': array([70416536], dtype=int64),\n  'ufact': array([0.03051851]),\n  'unit': array([b'uV'], dtype='|S128'),\n  'start_time': array([1556449841729738], dtype=int64),\n  'end_time': array([1556452042246480], dtype=int64),\n  'channel_description': array([b'SEEG'], dtype='|S2048')},\n {'name': 'LZ_14',\n  'fsamp': array([32000.]),\n  'nsamp': array([70416536], dtype=int64),\n  'ufact': array([0.03051851]),\n  'unit': array([b'uV'], dtype='|S128'),\n  'start_time': array([1556449841729738], dtype=int64),\n  'end_time': array([1556452042246480], dtype=int64),\n  'channel_description': array([b'SEEG'], dtype='|S2048')},\n {'name': 'MIC',\n  'fsamp': array([44100.]),\n  'nsamp': array([19778850], dtype=int64),\n  'ufact': array([1.]),\n  'unit': array([b'dBFS'], dtype='|S128'),\n  'start_time': array([1556450573855586], dtype=int64),\n  'end_time': array([1556451997517057], dtype=int64),\n  'channel_description': array([b'AUDIO'], dtype='|S2048')},\n {'name': 'RIGHT_PUPIL_SIZE',\n  'fsamp': array([150.]),\n  'nsamp': array([222253], dtype=int64),\n  'ufact': array([1.e-06]),\n  'unit': array([b'px2'], dtype='|S128'),\n  'start_time': array([1556450515840793], dtype=int64),\n  'end_time': array([1556451997527459], dtype=int64),\n  'channel_description': array([b'PUPIL'], dtype='|S2048')},\n {'name': 'RIGHT_X_COORD',\n  'fsamp': array([150.]),\n  'nsamp': array([222253], dtype=int64),\n  'ufact': array([1.e-06]),\n  'unit': array([b'px'], dtype='|S128'),\n  'start_time': array([1556450515840793], dtype=int64),\n  'end_time': array([1556451997527459], dtype=int64),\n  'channel_description': array([b'EYEGAZE'], dtype='|S2048')},\n {'name': 'RIGHT_Y_COORD',\n  'fsamp': array([150.]),\n  'nsamp': array([222253], dtype=int64),\n  'ufact': array([1.e-06]),\n  'unit': array([b'px'], dtype='|S128'),\n  'start_time': array([1556450515840793], dtype=int64),\n  'end_time': array([1556451997527459], dtype=int64),\n  'channel_description': array([b'EYEGAZE'], dtype='|S2048')},\n {'name': 'RX_01',\n  'fsamp': array([32000.]),\n  'nsamp': array([70416536], dtype=int64),\n  'ufact': array([0.03051851]),\n  'unit': array([b'uV'], dtype='|S128'),\n  'start_time': array([1556449841729738], dtype=int64),\n  'end_time': array([1556452042246480], dtype=int64),\n  'channel_description': array([b'SEEG'], dtype='|S2048')},\n {'name': 'RX_02',\n  'fsamp': array([32000.]),\n  'nsamp': array([70416536], dtype=int64),\n  'ufact': array([0.03051851]),\n  'unit': array([b'uV'], dtype='|S128'),\n  'start_time': array([1556449841729738], dtype=int64),\n  'end_time': array([1556452042246480], dtype=int64),\n  'channel_description': array([b'SEEG'], dtype='|S2048')},\n {'name': 'RX_03',\n  'fsamp': array([32000.]),\n  'nsamp': array([70416536], dtype=int64),\n  'ufact': array([0.03051851]),\n  'unit': array([b'uV'], dtype='|S128'),\n  'start_time': array([1556449841729738], dtype=int64),\n  'end_time': array([1556452042246480], dtype=int64),\n  'channel_description': array([b'SEEG'], dtype='|S2048')},\n {'name': 'RX_04',\n  'fsamp': array([32000.]),\n  'nsamp': array([70416536], dtype=int64),\n  'ufact': array([0.03051851]),\n  'unit': array([b'uV'], dtype='|S128'),\n  'start_time': array([1556449841729738], dtype=int64),\n  'end_time': array([1556452042246480], dtype=int64),\n  'channel_description': array([b'SEEG'], dtype='|S2048')},\n {'name': 'RX_05',\n  'fsamp': array([32000.]),\n  'nsamp': array([70416536], dtype=int64),\n  'ufact': array([0.03051851]),\n  'unit': array([b'uV'], dtype='|S128'),\n  'start_time': array([1556449841729738], dtype=int64),\n  'end_time': array([1556452042246480], dtype=int64),\n  'channel_description': array([b'SEEG'], dtype='|S2048')},\n {'name': 'RX_06',\n  'fsamp': array([32000.]),\n  'nsamp': array([70416536], dtype=int64),\n  'ufact': array([0.03051851]),\n  'unit': array([b'uV'], dtype='|S128'),\n  'start_time': array([1556449841729738], dtype=int64),\n  'end_time': array([1556452042246480], dtype=int64),\n  'channel_description': array([b'SEEG'], dtype='|S2048')},\n {'name': 'RX_07',\n  'fsamp': array([32000.]),\n  'nsamp': array([70416536], dtype=int64),\n  'ufact': array([0.03051851]),\n  'unit': array([b'uV'], dtype='|S128'),\n  'start_time': array([1556449841729738], dtype=int64),\n  'end_time': array([1556452042246480], dtype=int64),\n  'channel_description': array([b'SEEG'], dtype='|S2048')},\n {'name': 'RX_08',\n  'fsamp': array([32000.]),\n  'nsamp': array([70416536], dtype=int64),\n  'ufact': array([0.03051851]),\n  'unit': array([b'uV'], dtype='|S128'),\n  'start_time': array([1556449841729738], dtype=int64),\n  'end_time': array([1556452042246480], dtype=int64),\n  'channel_description': array([b'SEEG'], dtype='|S2048')},\n {'name': 'RX_09',\n  'fsamp': array([32000.]),\n  'nsamp': array([70416536], dtype=int64),\n  'ufact': array([0.03051851]),\n  'unit': array([b'uV'], dtype='|S128'),\n  'start_time': array([1556449841729738], dtype=int64),\n  'end_time': array([1556452042246480], dtype=int64),\n  'channel_description': array([b'SEEG'], dtype='|S2048')},\n {'name': 'RX_10',\n  'fsamp': array([32000.]),\n  'nsamp': array([70416536], dtype=int64),\n  'ufact': array([0.03051851]),\n  'unit': array([b'uV'], dtype='|S128'),\n  'start_time': array([1556449841729738], dtype=int64),\n  'end_time': array([1556452042246480], dtype=int64),\n  'channel_description': array([b'SEEG'], dtype='|S2048')},\n {'name': 'RX_11',\n  'fsamp': array([32000.]),\n  'nsamp': array([70416536], dtype=int64),\n  'ufact': array([0.03051851]),\n  'unit': array([b'uV'], dtype='|S128'),\n  'start_time': array([1556449841729738], dtype=int64),\n  'end_time': array([1556452042246480], dtype=int64),\n  'channel_description': array([b'SEEG'], dtype='|S2048')},\n {'name': 'RX_12',\n  'fsamp': array([32000.]),\n  'nsamp': array([70416536], dtype=int64),\n  'ufact': array([0.03051851]),\n  'unit': array([b'uV'], dtype='|S128'),\n  'start_time': array([1556449841729738], dtype=int64),\n  'end_time': array([1556452042246480], dtype=int64),\n  'channel_description': array([b'SEEG'], dtype='|S2048')},\n {'name': 'RY_01',\n  'fsamp': array([32000.]),\n  'nsamp': array([70416536], dtype=int64),\n  'ufact': array([0.03051851]),\n  'unit': array([b'uV'], dtype='|S128'),\n  'start_time': array([1556449841729738], dtype=int64),\n  'end_time': array([1556452042246480], dtype=int64),\n  'channel_description': array([b'SEEG'], dtype='|S2048')},\n {'name': 'RY_02',\n  'fsamp': array([32000.]),\n  'nsamp': array([70416536], dtype=int64),\n  'ufact': array([0.03051851]),\n  'unit': array([b'uV'], dtype='|S128'),\n  'start_time': array([1556449841729738], dtype=int64),\n  'end_time': array([1556452042246480], dtype=int64),\n  'channel_description': array([b'SEEG'], dtype='|S2048')},\n {'name': 'RY_03',\n  'fsamp': array([32000.]),\n  'nsamp': array([70416536], dtype=int64),\n  'ufact': array([0.03051851]),\n  'unit': array([b'uV'], dtype='|S128'),\n  'start_time': array([1556449841729738], dtype=int64),\n  'end_time': array([1556452042246480], dtype=int64),\n  'channel_description': array([b'SEEG'], dtype='|S2048')},\n {'name': 'RY_04',\n  'fsamp': array([32000.]),\n  'nsamp': array([70416536], dtype=int64),\n  'ufact': array([0.03051851]),\n  'unit': array([b'uV'], dtype='|S128'),\n  'start_time': array([1556449841729738], dtype=int64),\n  'end_time': array([1556452042246480], dtype=int64),\n  'channel_description': array([b'SEEG'], dtype='|S2048')},\n {'name': 'RY_05',\n  'fsamp': array([32000.]),\n  'nsamp': array([70416536], dtype=int64),\n  'ufact': array([0.03051851]),\n  'unit': array([b'uV'], dtype='|S128'),\n  'start_time': array([1556449841729738], dtype=int64),\n  'end_time': array([1556452042246480], dtype=int64),\n  'channel_description': array([b'SEEG'], dtype='|S2048')},\n {'name': 'RY_06',\n  'fsamp': array([32000.]),\n  'nsamp': array([70416536], dtype=int64),\n  'ufact': array([0.03051851]),\n  'unit': array([b'uV'], dtype='|S128'),\n  'start_time': array([1556449841729738], dtype=int64),\n  'end_time': array([1556452042246480], dtype=int64),\n  'channel_description': array([b'SEEG'], dtype='|S2048')},\n {'name': 'RY_07',\n  'fsamp': array([32000.]),\n  'nsamp': array([70416536], dtype=int64),\n  'ufact': array([0.03051851]),\n  'unit': array([b'uV'], dtype='|S128'),\n  'start_time': array([1556449841729738], dtype=int64),\n  'end_time': array([1556452042246480], dtype=int64),\n  'channel_description': array([b'SEEG'], dtype='|S2048')},\n {'name': 'RY_08',\n  'fsamp': array([32000.]),\n  'nsamp': array([70416536], dtype=int64),\n  'ufact': array([0.03051851]),\n  'unit': array([b'uV'], dtype='|S128'),\n  'start_time': array([1556449841729738], dtype=int64),\n  'end_time': array([1556452042246480], dtype=int64),\n  'channel_description': array([b'SEEG'], dtype='|S2048')},\n {'name': 'RY_09',\n  'fsamp': array([32000.]),\n  'nsamp': array([70416536], dtype=int64),\n  'ufact': array([0.03051851]),\n  'unit': array([b'uV'], dtype='|S128'),\n  'start_time': array([1556449841729738], dtype=int64),\n  'end_time': array([1556452042246480], dtype=int64),\n  'channel_description': array([b'SEEG'], dtype='|S2048')},\n {'name': 'RY_10',\n  'fsamp': array([32000.]),\n  'nsamp': array([70416536], dtype=int64),\n  'ufact': array([0.03051851]),\n  'unit': array([b'uV'], dtype='|S128'),\n  'start_time': array([1556449841729738], dtype=int64),\n  'end_time': array([1556452042246480], dtype=int64),\n  'channel_description': array([b'SEEG'], dtype='|S2048')},\n {'name': 'RY_11',\n  'fsamp': array([32000.]),\n  'nsamp': array([70416536], dtype=int64),\n  'ufact': array([0.03051851]),\n  'unit': array([b'uV'], dtype='|S128'),\n  'start_time': array([1556449841729738], dtype=int64),\n  'end_time': array([1556452042246480], dtype=int64),\n  'channel_description': array([b'SEEG'], dtype='|S2048')},\n {'name': 'RY_12',\n  'fsamp': array([32000.]),\n  'nsamp': array([70416536], dtype=int64),\n  'ufact': array([0.03051851]),\n  'unit': array([b'uV'], dtype='|S128'),\n  'start_time': array([1556449841729738], dtype=int64),\n  'end_time': array([1556452042246480], dtype=int64),\n  'channel_description': array([b'SEEG'], dtype='|S2048')},\n {'name': 'SCREEN_X',\n  'fsamp': array([150.]),\n  'nsamp': array([222253], dtype=int64),\n  'ufact': array([1.e-06]),\n  'unit': array([b'px'], dtype='|S128'),\n  'start_time': array([1556450515840793], dtype=int64),\n  'end_time': array([1556451997527459], dtype=int64),\n  'channel_description': array([b'EYEGAZE'], dtype='|S2048')},\n {'name': 'SCREEN_Y',\n  'fsamp': array([150.]),\n  'nsamp': array([222253], dtype=int64),\n  'ufact': array([1.e-06]),\n  'unit': array([b'px'], dtype='|S128'),\n  'start_time': array([1556450515840793], dtype=int64),\n  'end_time': array([1556451997527459], dtype=int64),\n  'channel_description': array([b'EYEGAZE'], dtype='|S2048')}]"
     },
     "execution_count": 80,
     "metadata": {},
     "output_type": "execute_result"
    }
   ],
   "source": [
    "# Since we are using MEF3 pybids has problems recognizing the extension so we need to modify the json extension\n",
    "mef_session_path = os.path.splitext(json_file.path)[0]+'.mefd'\n",
    "print(mef_session_path)\n",
    "ms = MefSession(mef_session_path, None)\n",
    "ms.read_ts_channel_basic_info()"
   ]
  },
  {
   "cell_type": "markdown",
   "source": [
    "## Choose brain region"
   ],
   "metadata": {
    "collapsed": false
   }
  },
  {
   "cell_type": "code",
   "execution_count": 81,
   "outputs": [
    {
     "data": {
      "text/plain": "{'anterior cingulate',\n 'anterior encphalomalacia',\n 'anterior insula',\n 'gyrus rectus',\n 'inferior frontal gyrus',\n 'inferior frontal gyrus / anterior encephalomalacia',\n 'inferior mid border of encephalomalacia',\n 'medial orbital gyrus',\n 'mid cingulate',\n 'middle frontal gyrus',\n 'parietal operculum (postcentral) ',\n 'posterior cingulate',\n 'posterior insula',\n 'posterior orbital gyrus',\n 'precentral gyrus',\n 'superior frontal gyrus',\n 'superior frontal gyrus (mesial)',\n 'wm'}"
     },
     "execution_count": 81,
     "metadata": {},
     "output_type": "execute_result"
    }
   ],
   "source": [
    "regions = electrode_df['anatomy_structure']\n",
    "regions = set(regions)\n",
    "regions"
   ],
   "metadata": {
    "collapsed": false
   }
  },
  {
   "cell_type": "code",
   "execution_count": 82,
   "outputs": [
    {
     "data": {
      "text/plain": "[]"
     },
     "execution_count": 82,
     "metadata": {},
     "output_type": "execute_result"
    }
   ],
   "source": [
    "valid_electrodes = [x['name'] for idx, x in electrode_df.iterrows() if x['anatomy_structure'] in ['hippocampus']]\n",
    "valid_electrodes"
   ],
   "metadata": {
    "collapsed": false
   }
  },
  {
   "cell_type": "markdown",
   "source": [
    "Now load the data from encoding events"
   ],
   "metadata": {
    "collapsed": false
   }
  },
  {
   "cell_type": "code",
   "execution_count": 83,
   "metadata": {},
   "outputs": [
    {
     "name": "stdout",
     "output_type": "stream",
     "text": [
      "session_start_utc = 1556449841729738\n",
      "session_stop_utc = 1553941360170839.0\n"
     ]
    },
    {
     "data": {
      "text/plain": "        onset    sample  duration trial_type  list  microsecond_onset  \\\n0  682.107055  21827425  1.495593     ENCODE   1.0        682107055.0   \n1  684.615742  21907703  1.486905     ENCODE   1.0        684615742.0   \n2  687.107959  21987454  1.494719     ENCODE   1.0        687107959.0   \n3  689.607927  22067453  1.494750     ENCODE   1.0        689607927.0   \n4  692.121457  22147886  1.481219     ENCODE   1.0        692121457.0   \n\n               uutc  \n0  1556450523836793  \n1  1556450526345480  \n2  1556450528837697  \n3  1556450531337665  \n4  1556450533851195  ",
      "text/html": "<div>\n<style scoped>\n    .dataframe tbody tr th:only-of-type {\n        vertical-align: middle;\n    }\n\n    .dataframe tbody tr th {\n        vertical-align: top;\n    }\n\n    .dataframe thead th {\n        text-align: right;\n    }\n</style>\n<table border=\"1\" class=\"dataframe\">\n  <thead>\n    <tr style=\"text-align: right;\">\n      <th></th>\n      <th>onset</th>\n      <th>sample</th>\n      <th>duration</th>\n      <th>trial_type</th>\n      <th>list</th>\n      <th>microsecond_onset</th>\n      <th>uutc</th>\n    </tr>\n  </thead>\n  <tbody>\n    <tr>\n      <th>0</th>\n      <td>682.107055</td>\n      <td>21827425</td>\n      <td>1.495593</td>\n      <td>ENCODE</td>\n      <td>1.0</td>\n      <td>682107055.0</td>\n      <td>1556450523836793</td>\n    </tr>\n    <tr>\n      <th>1</th>\n      <td>684.615742</td>\n      <td>21907703</td>\n      <td>1.486905</td>\n      <td>ENCODE</td>\n      <td>1.0</td>\n      <td>684615742.0</td>\n      <td>1556450526345480</td>\n    </tr>\n    <tr>\n      <th>2</th>\n      <td>687.107959</td>\n      <td>21987454</td>\n      <td>1.494719</td>\n      <td>ENCODE</td>\n      <td>1.0</td>\n      <td>687107959.0</td>\n      <td>1556450528837697</td>\n    </tr>\n    <tr>\n      <th>3</th>\n      <td>689.607927</td>\n      <td>22067453</td>\n      <td>1.494750</td>\n      <td>ENCODE</td>\n      <td>1.0</td>\n      <td>689607927.0</td>\n      <td>1556450531337665</td>\n    </tr>\n    <tr>\n      <th>4</th>\n      <td>692.121457</td>\n      <td>22147886</td>\n      <td>1.481219</td>\n      <td>ENCODE</td>\n      <td>1.0</td>\n      <td>692121457.0</td>\n      <td>1556450533851195</td>\n    </tr>\n  </tbody>\n</table>\n</div>"
     },
     "execution_count": 83,
     "metadata": {},
     "output_type": "execute_result"
    }
   ],
   "source": [
    "channels = valid_electrodes\n",
    "\n",
    "# Microseconds 1 μs = 10⁻⁶ s\n",
    "start_time = 1553941347170839+3*1e6  # in microseconds\n",
    "end_time = 1553942904095135-3*1e6\n",
    "win_size = 10  # in seconds\n",
    "stop_time = start_time + int(win_size*1e6)\n",
    "\n",
    "bi = ms.read_ts_channel_basic_info()\n",
    "\n",
    "# In this case we are reading MEF records instead of data from events.tsv because we do not have to make time conversions this way\n",
    "records = ms.read_records()\n",
    "records_in_win = [x for x in records if start_time < x['time'] < stop_time]\n",
    "# The code to get corresponding events from the events file\n",
    "session_metadata = ms.session_md\n",
    "session_start_utc = session_metadata['session_specific_metadata']['earliest_start_time'][0]\n",
    "print(f\"session_start_utc = {session_start_utc}\\nsession_stop_utc = {stop_time}\")\n",
    "events_df['microsecond_onset'] = events_df['onset']*1e6\n",
    "events_df['uutc'] = (events_df['microsecond_onset'] + session_start_utc).astype('int64')\n",
    "events_in_win = events_df[(start_time < events_df['uutc'])\n",
    "                          & (events_df['uutc'] < stop_time)]\n",
    "events_df.head()"
   ]
  },
  {
   "cell_type": "code",
   "execution_count": 84,
   "outputs": [
    {
     "data": {
      "text/plain": "(180, 0)"
     },
     "execution_count": 84,
     "metadata": {},
     "output_type": "execute_result"
    }
   ],
   "source": [
    "# records_in_events = [x for x in records if (0 < (x['time'] - events_df['uutc']) < 150000)]\n",
    "records_in_events = []\n",
    "for x in records:\n",
    "    for e in events_df['uutc']:\n",
    "        # print(x['time'] - e)\n",
    "        if 0 == (x['time'] - e):\n",
    "            records_in_events.append(x)\n",
    "\n",
    "len(records_in_events)\n",
    "data_events = []\n",
    "for e in events_df['uutc']:\n",
    "    data_events.append(ms.read_ts_channels_uutc(channels, [e - 700000, e + 1300000]))\n",
    "data_events = np.array(data_events)\n",
    "data_events.shape"
   ],
   "metadata": {
    "collapsed": false
   }
  },
  {
   "cell_type": "markdown",
   "source": [
    "## Downsampling the recordings"
   ],
   "metadata": {
    "collapsed": false
   }
  },
  {
   "cell_type": "code",
   "execution_count": 85,
   "outputs": [
    {
     "data": {
      "text/plain": "(180, 0)"
     },
     "execution_count": 85,
     "metadata": {},
     "output_type": "execute_result"
    }
   ],
   "source": [
    "target_freq = 1000\n",
    "q = int(32000 / target_freq)\n",
    "downsampled_data_events = []\n",
    "\n",
    "for s_idx, sequence in enumerate(data_events):\n",
    "    downsampled_sequence = []\n",
    "    for ch_idx, channel in enumerate(sequence):\n",
    "       downsampled_sequence.append(decimate(channel, q))\n",
    "    downsampled_data_events.append(downsampled_sequence)\n",
    "\n",
    "data_events = np.array(downsampled_data_events)\n",
    "data_events.shape"
   ],
   "metadata": {
    "collapsed": false
   }
  },
  {
   "cell_type": "markdown",
   "source": [
    "## Apply linear interpolation if values are missing"
   ],
   "metadata": {
    "collapsed": false
   }
  },
  {
   "cell_type": "code",
   "execution_count": 86,
   "outputs": [],
   "source": [
    "def check_missing_values(arr):\n",
    "    \"\"\"Check if a numpy array has missing values.\"\"\"\n",
    "    if np.isnan(arr).any():\n",
    "        print(\"The array has missing values.\")\n",
    "        return True\n",
    "    else:\n",
    "        return False"
   ],
   "metadata": {
    "collapsed": false
   }
  },
  {
   "cell_type": "code",
   "execution_count": 87,
   "outputs": [
    {
     "name": "stdout",
     "output_type": "stream",
     "text": [
      "0\n"
     ]
    }
   ],
   "source": [
    "how_many_nan = 0\n",
    "for s_idx, sequence in enumerate(data_events):\n",
    "    for ch_idx, channel in enumerate(sequence):\n",
    "        if check_missing_values(channel):\n",
    "            how_many_nan += 1\n",
    "            df = pd.DataFrame({'signal': channel})\n",
    "            print(f\"Apply linear interpolation to fill the missing values [{s_idx}][{ch_idx}]\")\n",
    "            df['signal'] = df['signal'].bfill().ffill().interpolate(method='linear')\n",
    "            data_events[s_idx][ch_idx] = df['signal'].values.tolist()\n",
    "            print(data_events[s_idx][ch_idx])\n",
    "print(how_many_nan)"
   ],
   "metadata": {
    "collapsed": false
   }
  },
  {
   "cell_type": "markdown",
   "source": [
    "## Connect windows to continuous signal across channels"
   ],
   "metadata": {
    "collapsed": false
   }
  },
  {
   "cell_type": "code",
   "execution_count": 88,
   "outputs": [
    {
     "name": "stdout",
     "output_type": "stream",
     "text": [
      "0\n"
     ]
    },
    {
     "ename": "IndexError",
     "evalue": "list index out of range",
     "output_type": "error",
     "traceback": [
      "\u001B[1;31m---------------------------------------------------------------------------\u001B[0m",
      "\u001B[1;31mIndexError\u001B[0m                                Traceback (most recent call last)",
      "\u001B[1;32m~\\AppData\\Local\\Temp\\ipykernel_10012\\1468492040.py\u001B[0m in \u001B[0;36m<module>\u001B[1;34m\u001B[0m\n\u001B[0;32m      5\u001B[0m         \u001B[0mchannels_list\u001B[0m\u001B[1;33m[\u001B[0m\u001B[0mch_idx\u001B[0m\u001B[1;33m]\u001B[0m\u001B[1;33m.\u001B[0m\u001B[0mextend\u001B[0m\u001B[1;33m(\u001B[0m\u001B[0mchannel\u001B[0m\u001B[1;33m)\u001B[0m\u001B[1;33m\u001B[0m\u001B[1;33m\u001B[0m\u001B[0m\n\u001B[0;32m      6\u001B[0m \u001B[0mprint\u001B[0m\u001B[1;33m(\u001B[0m\u001B[0mlen\u001B[0m\u001B[1;33m(\u001B[0m\u001B[0mchannels_list\u001B[0m\u001B[1;33m)\u001B[0m\u001B[1;33m)\u001B[0m\u001B[1;33m\u001B[0m\u001B[1;33m\u001B[0m\u001B[0m\n\u001B[1;32m----> 7\u001B[1;33m \u001B[0mchannels_list\u001B[0m\u001B[1;33m[\u001B[0m\u001B[1;36m0\u001B[0m\u001B[1;33m]\u001B[0m\u001B[1;33m[\u001B[0m\u001B[1;36m100\u001B[0m\u001B[1;33m:\u001B[0m\u001B[1;36m200\u001B[0m\u001B[1;33m]\u001B[0m\u001B[1;33m\u001B[0m\u001B[1;33m\u001B[0m\u001B[0m\n\u001B[0m",
      "\u001B[1;31mIndexError\u001B[0m: list index out of range"
     ]
    }
   ],
   "source": [
    "channels_list = [[] for x in range(len(channels))]\n",
    "\n",
    "for s_idx, sequence in enumerate(data_events):\n",
    "    for ch_idx, channel in enumerate(sequence):\n",
    "        channels_list[ch_idx].extend(channel)\n",
    "print(len(channels_list))\n",
    "channels_list[0][100:200]"
   ],
   "metadata": {
    "collapsed": false
   }
  },
  {
   "cell_type": "markdown",
   "source": [
    "### Apply z-score normalization"
   ],
   "metadata": {
    "collapsed": false
   }
  },
  {
   "cell_type": "code",
   "execution_count": null,
   "outputs": [],
   "source": [
    "for idx, channel in enumerate(channels_list):\n",
    "    mean = np.mean(channel)\n",
    "    std = np.std(channel)\n",
    "    data_normalized = (channel - mean) / std\n",
    "    channels_list[idx] = data_normalized"
   ],
   "metadata": {
    "collapsed": false
   }
  },
  {
   "cell_type": "markdown",
   "source": [
    "### Split again into windows"
   ],
   "metadata": {
    "collapsed": false
   }
  },
  {
   "cell_type": "code",
   "execution_count": null,
   "outputs": [],
   "source": [
    "def split_list(lst, n):\n",
    "    \"\"\"Split the list, lst, into chunks of size n.\"\"\"\n",
    "    return [lst[i:i + n] for i in range(0, len(lst), n)]"
   ],
   "metadata": {
    "collapsed": false
   }
  },
  {
   "cell_type": "code",
   "execution_count": null,
   "outputs": [],
   "source": [
    "window_length = 2.0\n",
    "samples_in_sequence = int(target_freq * window_length)\n",
    "chunks_list = [[] for x in range(len(channels))]\n",
    "for idx, channel in enumerate(channels_list):\n",
    "    chunks_list[idx] = split_list(channel, samples_in_sequence)\n",
    "\n",
    "for s_idx, sequence in enumerate(data_events):\n",
    "    for ch_idx, channel in enumerate(sequence):\n",
    "        data_events[s_idx][ch_idx] = chunks_list[ch_idx][s_idx]\n",
    "\n",
    "data_events = np.array(data_events)\n",
    "print(data_events.shape)"
   ],
   "metadata": {
    "collapsed": false
   }
  },
  {
   "cell_type": "code",
   "execution_count": null,
   "outputs": [],
   "source": [
    "print(data_events[0][0][0])"
   ],
   "metadata": {
    "collapsed": false
   }
  },
  {
   "cell_type": "markdown",
   "source": [
    "## Plot the window"
   ],
   "metadata": {
    "collapsed": false
   }
  },
  {
   "cell_type": "code",
   "execution_count": null,
   "outputs": [],
   "source": [
    "def plot_channels(data):\n",
    "    # assuming 'data' is your list\n",
    "    data = np.array(data)  # convert list to numpy array\n",
    "    print(data.shape)\n",
    "    time = np.arange(0, data.shape[1])  # creating a time vector\n",
    "\n",
    "    # plotting the data\n",
    "    plt.figure(figsize=(10,6))  # creating a new figure with specified size\n",
    "    print(data[0])\n",
    "    # plot for channel 1\n",
    "    plt.subplot(2, 1, 1)  # creating the first subplot in a 2x1 grid\n",
    "    plt.plot(time, data[0], color='blue')  # plotting the data for the first channel\n",
    "    plt.title('Channel 1')  # setting the title of the first subplot\n",
    "    plt.xlabel('Time')  # setting the x-label\n",
    "    plt.ylabel('Amplitude')  # setting the y-label\n",
    "\n",
    "    plt.tight_layout()  # adjusting the layout so everything fits\n",
    "    plt.show()  # displaying the figure"
   ],
   "metadata": {
    "collapsed": false
   }
  },
  {
   "cell_type": "code",
   "execution_count": null,
   "outputs": [],
   "source": [
    "plot_channels(data_events[0])"
   ],
   "metadata": {
    "collapsed": false
   }
  },
  {
   "cell_type": "markdown",
   "source": [
    "## Define and apply butterworth filter"
   ],
   "metadata": {
    "collapsed": false
   }
  },
  {
   "cell_type": "code",
   "execution_count": null,
   "outputs": [],
   "source": [
    "def butter_lowpass(cutoff, fs, order=5):\n",
    "    nyq = 0.5 * fs\n",
    "    normal_cutoff = cutoff / nyq\n",
    "    b, a = butter(order, normal_cutoff, btype='low', analog=False)\n",
    "    return b, a\n",
    "\n",
    "def butter_lowpass_filter(data, cutoff, fs, order=5):\n",
    "    b, a = butter_lowpass(cutoff, fs, order=order)\n",
    "    y = filtfilt(b, a, data)\n",
    "    return y\n",
    "\n",
    "# Parameters\n",
    "order = 3\n",
    "# fs = target_freq       # sample rate, Hz\n",
    "fs = 1000\n",
    "cutoff = 10    # desired cutoff frequency of the filter, Hz\n"
   ],
   "metadata": {
    "collapsed": false
   }
  },
  {
   "cell_type": "code",
   "execution_count": null,
   "outputs": [],
   "source": [
    "if APPLY_LOW_PASS_FILTER:\n",
    "    for s_idx, sequence in enumerate(data_events):\n",
    "        for ch_idx, channel in enumerate(sequence):\n",
    "            y = butter_lowpass_filter(channel, cutoff, fs, order)\n",
    "            data_events[s_idx][ch_idx] = y\n",
    "    plot_channels(data_events[0])"
   ],
   "metadata": {
    "collapsed": false
   }
  },
  {
   "cell_type": "markdown",
   "source": [
    "## Feature extraction"
   ],
   "metadata": {
    "collapsed": false
   }
  },
  {
   "cell_type": "markdown",
   "source": [
    "### Feature set 1\n",
    "https://www.hindawi.com/journals/cin/2020/2909267/"
   ],
   "metadata": {
    "collapsed": false
   }
  },
  {
   "cell_type": "code",
   "execution_count": null,
   "outputs": [],
   "source": [
    "import scipy.fft\n",
    "\n",
    "\n",
    "if FEATURE_SET == 1:\n",
    "    for s_idx, sequence in enumerate(data_events):\n",
    "        for ch_idx, channel in enumerate(sequence):\n",
    "            eeg_data = channel\n",
    "           # Calculate Mean of the signal as a feature\n",
    "            mean = np.mean(eeg_data)\n",
    "\n",
    "            # Calculate Variance of the signal as a feature\n",
    "            variance = np.var(eeg_data)\n",
    "\n",
    "            # Calculate Standard Deviation of the signal as a feature\n",
    "            std_dev = np.std(eeg_data)\n",
    "\n",
    "            # Use Fast Fourier Transform to get the power spectrum of the signal\n",
    "            power_spectrum = np.abs(scipy.fft.fft(eeg_data))**2\n",
    "\n",
    "            # Frequency values for plotting the spectrum - assuming a sampling rate (fs) of 128 Hz\n",
    "            freqs = scipy.fft.fftfreq(len(eeg_data), 1 / 128)\n",
    "\n",
    "            # Let's use the mean power in specific frequency bands as features\n",
    "            delta_power = np.mean(power_spectrum[(freqs >= 0.5) & (freqs <= 4)])\n",
    "            theta_power = np.mean(power_spectrum[(freqs > 4) & (freqs <= 8)])\n",
    "            alpha_power = np.mean(power_spectrum[(freqs > 8) & (freqs <= 12)])\n",
    "            beta_power = np.mean(power_spectrum[(freqs > 12) & (freqs <= 30)])\n",
    "\n",
    "            # Gather all features into a list\n",
    "            features = [mean, variance, std_dev, delta_power, theta_power, alpha_power, beta_power]\n",
    "\n",
    "            print(\"Extracted features:\", features)\n",
    "            data_events[s_idx][ch_idx] = features\n",
    "    print(len(data_events))\n",
    "    print(len(data_events[0]))\n",
    "    print(len(data_events[0][0]))"
   ],
   "metadata": {
    "collapsed": false
   }
  },
  {
   "cell_type": "markdown",
   "source": [
    "### Feature set 2 - 6 features\n",
    "https://www.mdpi.com/2227-9032/11/3/322"
   ],
   "metadata": {
    "collapsed": false
   }
  },
  {
   "cell_type": "code",
   "execution_count": null,
   "outputs": [],
   "source": [
    "from scipy.stats import skew, kurtosis, variation\n",
    "\n",
    "\n",
    "if FEATURE_SET == 2 and not LSTM_READY:\n",
    "    data_events = data_events.tolist()\n",
    "    # Assuming 'eeg_data' is a NumPy array containing your EEG data.\n",
    "    for s_idx, sequence in enumerate(data_events):\n",
    "        for ch_idx, channel in enumerate(sequence):\n",
    "            eeg_data = channel\n",
    "           # Assuming 'eeg_data' is a NumPy array containing your EEG data for one channel\n",
    "\n",
    "            mean = np.mean(eeg_data)\n",
    "            q1 = np.percentile(eeg_data, 25)\n",
    "            q2 = np.percentile(eeg_data, 50)\n",
    "            q3 = np.percentile(eeg_data, 75)\n",
    "            min_signal = np.min(eeg_data)\n",
    "            max_signal = np.max(eeg_data)\n",
    "            # variance = variation(eeg_data)\n",
    "            # skewness = skew(eeg_data)\n",
    "\n",
    "            features = [mean, q1, q2, q3, min_signal, max_signal]\n",
    "\n",
    "            # print(\"Extracted features:\", features)\n",
    "            data_events[s_idx][ch_idx] = features\n",
    "    data_events = np.array(data_events)\n",
    "    print(data_events.shape)"
   ],
   "metadata": {
    "collapsed": false
   }
  },
  {
   "cell_type": "markdown",
   "source": [
    "### Feature set 3"
   ],
   "metadata": {
    "collapsed": false
   }
  },
  {
   "cell_type": "markdown",
   "source": [
    "Morlet wavelets"
   ],
   "metadata": {
    "collapsed": false
   }
  },
  {
   "cell_type": "code",
   "execution_count": null,
   "outputs": [],
   "source": [
    "if FEATURE_SET == 3:\n",
    "    sfreq = target_freq  # replace with your sampling frequency\n",
    "    # delta: 2.5-5 Hz, theta: 4–9 Hz, alpha: 9–16 Hz, beta: 16–25 Hz,\n",
    "    freqs = [9., 16., 25.]  # define the range of frequency bands\n",
    "    # freqs = [5.]\n",
    "    print(freqs)\n",
    "    n_cycles = 7.0\n",
    "\n",
    "    # perform Morlet Wavelet transform\n",
    "    power = mne.time_frequency.tfr_array_morlet(data_events, sfreq, freqs, n_cycles=n_cycles)\n",
    "    # n_samples * n_channels * n_frequencies * n_times\n",
    "    # power = 10 * np.log10(power)\n",
    "# power.shape"
   ],
   "metadata": {
    "collapsed": false
   }
  },
  {
   "cell_type": "code",
   "execution_count": null,
   "outputs": [],
   "source": [
    "power[0][0][0][0]"
   ],
   "metadata": {
    "collapsed": false
   }
  },
  {
   "cell_type": "code",
   "execution_count": null,
   "outputs": [],
   "source": [
    "type(power[0][0][0][0])"
   ],
   "metadata": {
    "collapsed": false
   }
  },
  {
   "cell_type": "code",
   "execution_count": null,
   "outputs": [],
   "source": [
    "epoch_idx = 0\n",
    "channel_idx = 0\n",
    "\n",
    "# Calculate the power, convert to dB\n",
    "tfr = 10 * np.log10(np.abs(power[epoch_idx, channel_idx])**2)\n",
    "\n",
    "plt.figure(figsize=(10, 8))\n",
    "plt.imshow(tfr, aspect='auto', cmap='RdBu_r', origin='lower',\n",
    "           extent=[0, samples_in_sequence/sfreq, freqs[0], freqs[-1]])\n",
    "plt.colorbar(format='%+2.0f dB')\n",
    "plt.xlabel('Time [s]')\n",
    "plt.ylabel('Frequency [Hz]')\n",
    "plt.title('Time-Frequency Representation (TFR)')\n",
    "plt.show()"
   ],
   "metadata": {
    "collapsed": false
   }
  },
  {
   "cell_type": "code",
   "execution_count": null,
   "outputs": [],
   "source": [
    "epoch_idx = 0\n",
    "channel_idx = 0\n",
    "sfreq = target_freq\n",
    "# we are going to transpose the matrix so that time is on the x-axis\n",
    "tfr = 10 * np.log10(np.abs(power[epoch_idx, channel_idx])**2)\n",
    "print(tfr.shape)\n",
    "plt.figure(figsize=(10, 8))\n",
    "plt.plot(tfr)\n",
    "plt.xlabel('Time [s]')\n",
    "plt.ylabel('Power [dB]')\n",
    "plt.title('Time-Frequency Representation (TFR)')\n",
    "plt.show()"
   ],
   "metadata": {
    "collapsed": false
   }
  },
  {
   "cell_type": "markdown",
   "source": [
    "## Reshape to dataframe"
   ],
   "metadata": {
    "collapsed": false
   }
  },
  {
   "cell_type": "code",
   "execution_count": null,
   "outputs": [],
   "source": [
    "# extract a power of the signal\n",
    "power_magnitude = np.abs(power)\n",
    "# convert to a decibel scale, which is often done for power spectral densities:\n",
    "power_db = 10 * np.log10(power_magnitude)"
   ],
   "metadata": {
    "collapsed": false
   }
  },
  {
   "cell_type": "code",
   "execution_count": null,
   "outputs": [],
   "source": [
    "arr = np.array(power_db)\n",
    "\n",
    "    # Reshape the array to the required shape (180, 450)\n",
    "arr_reshaped = arr.reshape(180, -1)  # -1 means calculate the size of this dimension\n",
    "\n",
    "df = pd.DataFrame(arr_reshaped)\n",
    "\n",
    "    # Now df is a DataFrame with shape (180, 450)\n",
    "print(df.shape)"
   ],
   "metadata": {
    "collapsed": false
   }
  },
  {
   "cell_type": "markdown",
   "source": [
    "## PCA"
   ],
   "metadata": {
    "collapsed": false
   }
  },
  {
   "cell_type": "code",
   "execution_count": null,
   "outputs": [],
   "source": [
    "if DIMENSION_REDUCTION:\n",
    "    pca = PCA(n_components=10)\n",
    "    pca_data = pca.fit_transform(df)\n",
    "    df = pd.DataFrame(pca_data)\n",
    "    print(pca_data.shape)"
   ],
   "metadata": {
    "collapsed": false
   }
  },
  {
   "cell_type": "code",
   "execution_count": null,
   "outputs": [],
   "source": [
    "df.head()"
   ],
   "metadata": {
    "collapsed": false
   }
  },
  {
   "cell_type": "code",
   "execution_count": null,
   "outputs": [],
   "source": [
    "df.to_csv(rf'C:\\MasterThesis\\v1.0\\sub-{subject}\\ses-001\\{subject}_{run}_sEEG_dataset.csv', index=False)"
   ],
   "metadata": {
    "collapsed": false
   }
  },
  {
   "cell_type": "code",
   "execution_count": null,
   "outputs": [],
   "source": [],
   "metadata": {
    "collapsed": false
   }
  }
 ],
 "metadata": {
  "kernelspec": {
   "display_name": "Python 3",
   "language": "python",
   "name": "python3"
  },
  "language_info": {
   "codemirror_mode": {
    "name": "ipython",
    "version": 3
   },
   "file_extension": ".py",
   "mimetype": "text/x-python",
   "name": "python",
   "nbconvert_exporter": "python",
   "pygments_lexer": "ipython3",
   "version": "3.8.5"
  }
 },
 "nbformat": 4,
 "nbformat_minor": 4
}
