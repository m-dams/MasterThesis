{
 "cells": [
  {
   "cell_type": "markdown",
   "metadata": {},
   "source": [
    "### How to load the data"
   ]
  },
  {
   "cell_type": "markdown",
   "metadata": {},
   "source": [
    "This jupyter notebook demonstrates how to access the data of the dataset. To run the notebook you will need to install the following packages:\n",
    "- pymef (to read MEF3 format)\n",
    "- pybids (to load the BIDS data structure)\n"
   ]
  },
  {
   "cell_type": "markdown",
   "metadata": {},
   "source": [
    "Let's do the imports first"
   ]
  },
  {
   "cell_type": "code",
   "execution_count": 793,
   "metadata": {},
   "outputs": [],
   "source": [
    "import os\n",
    "\n",
    "from pymef import MefSession\n",
    "from bids import BIDSLayout\n",
    "\n",
    "import numpy as np\n",
    "import pandas as pd\n",
    "import matplotlib.pyplot as plt\n",
    "\n",
    "from scipy.signal import butter, filtfilt, decimate\n",
    "from sklearn.decomposition import PCA\n",
    "import mne\n",
    "import eeglib"
   ]
  },
  {
   "cell_type": "markdown",
   "source": [
    "SETTINGS"
   ],
   "metadata": {
    "collapsed": false
   }
  },
  {
   "cell_type": "code",
   "execution_count": 794,
   "outputs": [],
   "source": [
    "APPLY_LOW_PASS_FILTER = True\n",
    "DIMENSION_REDUCTION = False\n",
    "LSTM_READY = False\n",
    "FEATURE_SET = 3\n",
    "subject = '004'\n",
    "run = 1"
   ],
   "metadata": {
    "collapsed": false
   }
  },
  {
   "cell_type": "markdown",
   "metadata": {},
   "source": [
    "Now load the BIDS dataset"
   ]
  },
  {
   "cell_type": "code",
   "execution_count": 795,
   "metadata": {},
   "outputs": [
    {
     "ename": "KeyboardInterrupt",
     "evalue": "",
     "output_type": "error",
     "traceback": [
      "\u001B[1;31m---------------------------------------------------------------------------\u001B[0m",
      "\u001B[1;31mKeyboardInterrupt\u001B[0m                         Traceback (most recent call last)",
      "\u001B[1;32m~\\AppData\\Local\\Temp\\ipykernel_240\\3273502052.py\u001B[0m in \u001B[0;36m<module>\u001B[1;34m\u001B[0m\n\u001B[0;32m      1\u001B[0m \u001B[0mpath_to_dataset\u001B[0m \u001B[1;33m=\u001B[0m \u001B[1;34mr\"C:\\MasterThesis\\v1.0\"\u001B[0m  \u001B[1;31m# Please change this value\u001B[0m\u001B[1;33m\u001B[0m\u001B[1;33m\u001B[0m\u001B[0m\n\u001B[0;32m      2\u001B[0m \u001B[1;33m\u001B[0m\u001B[0m\n\u001B[1;32m----> 3\u001B[1;33m \u001B[0ml\u001B[0m \u001B[1;33m=\u001B[0m \u001B[0mBIDSLayout\u001B[0m\u001B[1;33m(\u001B[0m\u001B[0mpath_to_dataset\u001B[0m\u001B[1;33m)\u001B[0m\u001B[1;33m\u001B[0m\u001B[1;33m\u001B[0m\u001B[0m\n\u001B[0m",
      "\u001B[1;32m~\\PycharmProjects\\MasterThesis\\venv\\lib\\site-packages\\bids\\layout\\layout.py\u001B[0m in \u001B[0;36m__init__\u001B[1;34m(self, root, validate, absolute_paths, derivatives, config, sources, regex_search, database_path, reset_database, indexer, **indexer_kwargs)\u001B[0m\n\u001B[0;32m    150\u001B[0m             \u001B[1;32mif\u001B[0m \u001B[0mindexer\u001B[0m \u001B[1;32mis\u001B[0m \u001B[1;32mNone\u001B[0m\u001B[1;33m:\u001B[0m\u001B[1;33m\u001B[0m\u001B[1;33m\u001B[0m\u001B[0m\n\u001B[0;32m    151\u001B[0m                 \u001B[0mindexer\u001B[0m \u001B[1;33m=\u001B[0m \u001B[0mBIDSLayoutIndexer\u001B[0m\u001B[1;33m(\u001B[0m\u001B[0mvalidate\u001B[0m\u001B[1;33m=\u001B[0m\u001B[0mvalidate\u001B[0m\u001B[1;33m,\u001B[0m \u001B[1;33m**\u001B[0m\u001B[0mindexer_kwargs\u001B[0m\u001B[1;33m)\u001B[0m\u001B[1;33m\u001B[0m\u001B[1;33m\u001B[0m\u001B[0m\n\u001B[1;32m--> 152\u001B[1;33m             \u001B[0mindexer\u001B[0m\u001B[1;33m(\u001B[0m\u001B[0mself\u001B[0m\u001B[1;33m)\u001B[0m\u001B[1;33m\u001B[0m\u001B[1;33m\u001B[0m\u001B[0m\n\u001B[0m\u001B[0;32m    153\u001B[0m \u001B[1;33m\u001B[0m\u001B[0m\n\u001B[0;32m    154\u001B[0m         \u001B[1;31m# Add derivatives if any are found\u001B[0m\u001B[1;33m\u001B[0m\u001B[1;33m\u001B[0m\u001B[1;33m\u001B[0m\u001B[0m\n",
      "\u001B[1;32m~\\PycharmProjects\\MasterThesis\\venv\\lib\\site-packages\\bids\\layout\\index.py\u001B[0m in \u001B[0;36m__call__\u001B[1;34m(self, layout)\u001B[0m\n\u001B[0;32m    149\u001B[0m         \u001B[0mself\u001B[0m\u001B[1;33m.\u001B[0m\u001B[0m_exclude_patterns\u001B[0m \u001B[1;33m=\u001B[0m \u001B[0mignore\u001B[0m\u001B[1;33m\u001B[0m\u001B[1;33m\u001B[0m\u001B[0m\n\u001B[0;32m    150\u001B[0m \u001B[1;33m\u001B[0m\u001B[0m\n\u001B[1;32m--> 151\u001B[1;33m         \u001B[0mself\u001B[0m\u001B[1;33m.\u001B[0m\u001B[0m_index_dir\u001B[0m\u001B[1;33m(\u001B[0m\u001B[0mself\u001B[0m\u001B[1;33m.\u001B[0m\u001B[0m_layout\u001B[0m\u001B[1;33m.\u001B[0m\u001B[0m_root\u001B[0m\u001B[1;33m,\u001B[0m \u001B[0mself\u001B[0m\u001B[1;33m.\u001B[0m\u001B[0m_config\u001B[0m\u001B[1;33m)\u001B[0m\u001B[1;33m\u001B[0m\u001B[1;33m\u001B[0m\u001B[0m\n\u001B[0m\u001B[0;32m    152\u001B[0m         \u001B[1;32mif\u001B[0m \u001B[0mself\u001B[0m\u001B[1;33m.\u001B[0m\u001B[0mindex_metadata\u001B[0m\u001B[1;33m:\u001B[0m\u001B[1;33m\u001B[0m\u001B[1;33m\u001B[0m\u001B[0m\n\u001B[0;32m    153\u001B[0m             \u001B[0mself\u001B[0m\u001B[1;33m.\u001B[0m\u001B[0m_index_metadata\u001B[0m\u001B[1;33m(\u001B[0m\u001B[1;33m)\u001B[0m\u001B[1;33m\u001B[0m\u001B[1;33m\u001B[0m\u001B[0m\n",
      "\u001B[1;32m~\\PycharmProjects\\MasterThesis\\venv\\lib\\site-packages\\bids\\layout\\index.py\u001B[0m in \u001B[0;36m_index_dir\u001B[1;34m(self, path, config, default_action)\u001B[0m\n\u001B[0;32m    236\u001B[0m         \u001B[1;32mfor\u001B[0m \u001B[0md\u001B[0m \u001B[1;32min\u001B[0m \u001B[0mdirnames\u001B[0m\u001B[1;33m:\u001B[0m\u001B[1;33m\u001B[0m\u001B[1;33m\u001B[0m\u001B[0m\n\u001B[0;32m    237\u001B[0m             \u001B[0md\u001B[0m \u001B[1;33m=\u001B[0m \u001B[0mpath\u001B[0m \u001B[1;33m/\u001B[0m \u001B[0md\u001B[0m\u001B[1;33m\u001B[0m\u001B[1;33m\u001B[0m\u001B[0m\n\u001B[1;32m--> 238\u001B[1;33m             \u001B[0mself\u001B[0m\u001B[1;33m.\u001B[0m\u001B[0m_index_dir\u001B[0m\u001B[1;33m(\u001B[0m\u001B[0md\u001B[0m\u001B[1;33m,\u001B[0m \u001B[0mlist\u001B[0m\u001B[1;33m(\u001B[0m\u001B[0mconfig\u001B[0m\u001B[1;33m)\u001B[0m\u001B[1;33m,\u001B[0m \u001B[0mdefault_action\u001B[0m\u001B[1;33m=\u001B[0m\u001B[0mdefault\u001B[0m\u001B[1;33m)\u001B[0m\u001B[1;33m\u001B[0m\u001B[1;33m\u001B[0m\u001B[0m\n\u001B[0m\u001B[0;32m    239\u001B[0m \u001B[1;33m\u001B[0m\u001B[0m\n\u001B[0;32m    240\u001B[0m     \u001B[1;32mdef\u001B[0m \u001B[0m_index_file\u001B[0m\u001B[1;33m(\u001B[0m\u001B[0mself\u001B[0m\u001B[1;33m,\u001B[0m \u001B[0mf\u001B[0m\u001B[1;33m,\u001B[0m \u001B[0mdirpath\u001B[0m\u001B[1;33m,\u001B[0m \u001B[0mentities\u001B[0m\u001B[1;33m,\u001B[0m \u001B[0mdefault_action\u001B[0m\u001B[1;33m=\u001B[0m\u001B[1;32mNone\u001B[0m\u001B[1;33m)\u001B[0m\u001B[1;33m:\u001B[0m\u001B[1;33m\u001B[0m\u001B[1;33m\u001B[0m\u001B[0m\n",
      "\u001B[1;32m~\\PycharmProjects\\MasterThesis\\venv\\lib\\site-packages\\bids\\layout\\index.py\u001B[0m in \u001B[0;36m_index_dir\u001B[1;34m(self, path, config, default_action)\u001B[0m\n\u001B[0;32m    236\u001B[0m         \u001B[1;32mfor\u001B[0m \u001B[0md\u001B[0m \u001B[1;32min\u001B[0m \u001B[0mdirnames\u001B[0m\u001B[1;33m:\u001B[0m\u001B[1;33m\u001B[0m\u001B[1;33m\u001B[0m\u001B[0m\n\u001B[0;32m    237\u001B[0m             \u001B[0md\u001B[0m \u001B[1;33m=\u001B[0m \u001B[0mpath\u001B[0m \u001B[1;33m/\u001B[0m \u001B[0md\u001B[0m\u001B[1;33m\u001B[0m\u001B[1;33m\u001B[0m\u001B[0m\n\u001B[1;32m--> 238\u001B[1;33m             \u001B[0mself\u001B[0m\u001B[1;33m.\u001B[0m\u001B[0m_index_dir\u001B[0m\u001B[1;33m(\u001B[0m\u001B[0md\u001B[0m\u001B[1;33m,\u001B[0m \u001B[0mlist\u001B[0m\u001B[1;33m(\u001B[0m\u001B[0mconfig\u001B[0m\u001B[1;33m)\u001B[0m\u001B[1;33m,\u001B[0m \u001B[0mdefault_action\u001B[0m\u001B[1;33m=\u001B[0m\u001B[0mdefault\u001B[0m\u001B[1;33m)\u001B[0m\u001B[1;33m\u001B[0m\u001B[1;33m\u001B[0m\u001B[0m\n\u001B[0m\u001B[0;32m    239\u001B[0m \u001B[1;33m\u001B[0m\u001B[0m\n\u001B[0;32m    240\u001B[0m     \u001B[1;32mdef\u001B[0m \u001B[0m_index_file\u001B[0m\u001B[1;33m(\u001B[0m\u001B[0mself\u001B[0m\u001B[1;33m,\u001B[0m \u001B[0mf\u001B[0m\u001B[1;33m,\u001B[0m \u001B[0mdirpath\u001B[0m\u001B[1;33m,\u001B[0m \u001B[0mentities\u001B[0m\u001B[1;33m,\u001B[0m \u001B[0mdefault_action\u001B[0m\u001B[1;33m=\u001B[0m\u001B[1;32mNone\u001B[0m\u001B[1;33m)\u001B[0m\u001B[1;33m:\u001B[0m\u001B[1;33m\u001B[0m\u001B[1;33m\u001B[0m\u001B[0m\n",
      "\u001B[1;32m~\\PycharmProjects\\MasterThesis\\venv\\lib\\site-packages\\bids\\layout\\index.py\u001B[0m in \u001B[0;36m_index_dir\u001B[1;34m(self, path, config, default_action)\u001B[0m\n\u001B[0;32m    236\u001B[0m         \u001B[1;32mfor\u001B[0m \u001B[0md\u001B[0m \u001B[1;32min\u001B[0m \u001B[0mdirnames\u001B[0m\u001B[1;33m:\u001B[0m\u001B[1;33m\u001B[0m\u001B[1;33m\u001B[0m\u001B[0m\n\u001B[0;32m    237\u001B[0m             \u001B[0md\u001B[0m \u001B[1;33m=\u001B[0m \u001B[0mpath\u001B[0m \u001B[1;33m/\u001B[0m \u001B[0md\u001B[0m\u001B[1;33m\u001B[0m\u001B[1;33m\u001B[0m\u001B[0m\n\u001B[1;32m--> 238\u001B[1;33m             \u001B[0mself\u001B[0m\u001B[1;33m.\u001B[0m\u001B[0m_index_dir\u001B[0m\u001B[1;33m(\u001B[0m\u001B[0md\u001B[0m\u001B[1;33m,\u001B[0m \u001B[0mlist\u001B[0m\u001B[1;33m(\u001B[0m\u001B[0mconfig\u001B[0m\u001B[1;33m)\u001B[0m\u001B[1;33m,\u001B[0m \u001B[0mdefault_action\u001B[0m\u001B[1;33m=\u001B[0m\u001B[0mdefault\u001B[0m\u001B[1;33m)\u001B[0m\u001B[1;33m\u001B[0m\u001B[1;33m\u001B[0m\u001B[0m\n\u001B[0m\u001B[0;32m    239\u001B[0m \u001B[1;33m\u001B[0m\u001B[0m\n\u001B[0;32m    240\u001B[0m     \u001B[1;32mdef\u001B[0m \u001B[0m_index_file\u001B[0m\u001B[1;33m(\u001B[0m\u001B[0mself\u001B[0m\u001B[1;33m,\u001B[0m \u001B[0mf\u001B[0m\u001B[1;33m,\u001B[0m \u001B[0mdirpath\u001B[0m\u001B[1;33m,\u001B[0m \u001B[0mentities\u001B[0m\u001B[1;33m,\u001B[0m \u001B[0mdefault_action\u001B[0m\u001B[1;33m=\u001B[0m\u001B[1;32mNone\u001B[0m\u001B[1;33m)\u001B[0m\u001B[1;33m:\u001B[0m\u001B[1;33m\u001B[0m\u001B[1;33m\u001B[0m\u001B[0m\n",
      "\u001B[1;32m~\\PycharmProjects\\MasterThesis\\venv\\lib\\site-packages\\bids\\layout\\index.py\u001B[0m in \u001B[0;36m_index_dir\u001B[1;34m(self, path, config, default_action)\u001B[0m\n\u001B[0;32m    236\u001B[0m         \u001B[1;32mfor\u001B[0m \u001B[0md\u001B[0m \u001B[1;32min\u001B[0m \u001B[0mdirnames\u001B[0m\u001B[1;33m:\u001B[0m\u001B[1;33m\u001B[0m\u001B[1;33m\u001B[0m\u001B[0m\n\u001B[0;32m    237\u001B[0m             \u001B[0md\u001B[0m \u001B[1;33m=\u001B[0m \u001B[0mpath\u001B[0m \u001B[1;33m/\u001B[0m \u001B[0md\u001B[0m\u001B[1;33m\u001B[0m\u001B[1;33m\u001B[0m\u001B[0m\n\u001B[1;32m--> 238\u001B[1;33m             \u001B[0mself\u001B[0m\u001B[1;33m.\u001B[0m\u001B[0m_index_dir\u001B[0m\u001B[1;33m(\u001B[0m\u001B[0md\u001B[0m\u001B[1;33m,\u001B[0m \u001B[0mlist\u001B[0m\u001B[1;33m(\u001B[0m\u001B[0mconfig\u001B[0m\u001B[1;33m)\u001B[0m\u001B[1;33m,\u001B[0m \u001B[0mdefault_action\u001B[0m\u001B[1;33m=\u001B[0m\u001B[0mdefault\u001B[0m\u001B[1;33m)\u001B[0m\u001B[1;33m\u001B[0m\u001B[1;33m\u001B[0m\u001B[0m\n\u001B[0m\u001B[0;32m    239\u001B[0m \u001B[1;33m\u001B[0m\u001B[0m\n\u001B[0;32m    240\u001B[0m     \u001B[1;32mdef\u001B[0m \u001B[0m_index_file\u001B[0m\u001B[1;33m(\u001B[0m\u001B[0mself\u001B[0m\u001B[1;33m,\u001B[0m \u001B[0mf\u001B[0m\u001B[1;33m,\u001B[0m \u001B[0mdirpath\u001B[0m\u001B[1;33m,\u001B[0m \u001B[0mentities\u001B[0m\u001B[1;33m,\u001B[0m \u001B[0mdefault_action\u001B[0m\u001B[1;33m=\u001B[0m\u001B[1;32mNone\u001B[0m\u001B[1;33m)\u001B[0m\u001B[1;33m:\u001B[0m\u001B[1;33m\u001B[0m\u001B[1;33m\u001B[0m\u001B[0m\n",
      "\u001B[1;32m~\\PycharmProjects\\MasterThesis\\venv\\lib\\site-packages\\bids\\layout\\index.py\u001B[0m in \u001B[0;36m_index_dir\u001B[1;34m(self, path, config, default_action)\u001B[0m\n\u001B[0;32m    236\u001B[0m         \u001B[1;32mfor\u001B[0m \u001B[0md\u001B[0m \u001B[1;32min\u001B[0m \u001B[0mdirnames\u001B[0m\u001B[1;33m:\u001B[0m\u001B[1;33m\u001B[0m\u001B[1;33m\u001B[0m\u001B[0m\n\u001B[0;32m    237\u001B[0m             \u001B[0md\u001B[0m \u001B[1;33m=\u001B[0m \u001B[0mpath\u001B[0m \u001B[1;33m/\u001B[0m \u001B[0md\u001B[0m\u001B[1;33m\u001B[0m\u001B[1;33m\u001B[0m\u001B[0m\n\u001B[1;32m--> 238\u001B[1;33m             \u001B[0mself\u001B[0m\u001B[1;33m.\u001B[0m\u001B[0m_index_dir\u001B[0m\u001B[1;33m(\u001B[0m\u001B[0md\u001B[0m\u001B[1;33m,\u001B[0m \u001B[0mlist\u001B[0m\u001B[1;33m(\u001B[0m\u001B[0mconfig\u001B[0m\u001B[1;33m)\u001B[0m\u001B[1;33m,\u001B[0m \u001B[0mdefault_action\u001B[0m\u001B[1;33m=\u001B[0m\u001B[0mdefault\u001B[0m\u001B[1;33m)\u001B[0m\u001B[1;33m\u001B[0m\u001B[1;33m\u001B[0m\u001B[0m\n\u001B[0m\u001B[0;32m    239\u001B[0m \u001B[1;33m\u001B[0m\u001B[0m\n\u001B[0;32m    240\u001B[0m     \u001B[1;32mdef\u001B[0m \u001B[0m_index_file\u001B[0m\u001B[1;33m(\u001B[0m\u001B[0mself\u001B[0m\u001B[1;33m,\u001B[0m \u001B[0mf\u001B[0m\u001B[1;33m,\u001B[0m \u001B[0mdirpath\u001B[0m\u001B[1;33m,\u001B[0m \u001B[0mentities\u001B[0m\u001B[1;33m,\u001B[0m \u001B[0mdefault_action\u001B[0m\u001B[1;33m=\u001B[0m\u001B[1;32mNone\u001B[0m\u001B[1;33m)\u001B[0m\u001B[1;33m:\u001B[0m\u001B[1;33m\u001B[0m\u001B[1;33m\u001B[0m\u001B[0m\n",
      "\u001B[1;32m~\\PycharmProjects\\MasterThesis\\venv\\lib\\site-packages\\bids\\layout\\index.py\u001B[0m in \u001B[0;36m_index_dir\u001B[1;34m(self, path, config, default_action)\u001B[0m\n\u001B[0;32m    236\u001B[0m         \u001B[1;32mfor\u001B[0m \u001B[0md\u001B[0m \u001B[1;32min\u001B[0m \u001B[0mdirnames\u001B[0m\u001B[1;33m:\u001B[0m\u001B[1;33m\u001B[0m\u001B[1;33m\u001B[0m\u001B[0m\n\u001B[0;32m    237\u001B[0m             \u001B[0md\u001B[0m \u001B[1;33m=\u001B[0m \u001B[0mpath\u001B[0m \u001B[1;33m/\u001B[0m \u001B[0md\u001B[0m\u001B[1;33m\u001B[0m\u001B[1;33m\u001B[0m\u001B[0m\n\u001B[1;32m--> 238\u001B[1;33m             \u001B[0mself\u001B[0m\u001B[1;33m.\u001B[0m\u001B[0m_index_dir\u001B[0m\u001B[1;33m(\u001B[0m\u001B[0md\u001B[0m\u001B[1;33m,\u001B[0m \u001B[0mlist\u001B[0m\u001B[1;33m(\u001B[0m\u001B[0mconfig\u001B[0m\u001B[1;33m)\u001B[0m\u001B[1;33m,\u001B[0m \u001B[0mdefault_action\u001B[0m\u001B[1;33m=\u001B[0m\u001B[0mdefault\u001B[0m\u001B[1;33m)\u001B[0m\u001B[1;33m\u001B[0m\u001B[1;33m\u001B[0m\u001B[0m\n\u001B[0m\u001B[0;32m    239\u001B[0m \u001B[1;33m\u001B[0m\u001B[0m\n\u001B[0;32m    240\u001B[0m     \u001B[1;32mdef\u001B[0m \u001B[0m_index_file\u001B[0m\u001B[1;33m(\u001B[0m\u001B[0mself\u001B[0m\u001B[1;33m,\u001B[0m \u001B[0mf\u001B[0m\u001B[1;33m,\u001B[0m \u001B[0mdirpath\u001B[0m\u001B[1;33m,\u001B[0m \u001B[0mentities\u001B[0m\u001B[1;33m,\u001B[0m \u001B[0mdefault_action\u001B[0m\u001B[1;33m=\u001B[0m\u001B[1;32mNone\u001B[0m\u001B[1;33m)\u001B[0m\u001B[1;33m:\u001B[0m\u001B[1;33m\u001B[0m\u001B[1;33m\u001B[0m\u001B[0m\n",
      "\u001B[1;32m~\\PycharmProjects\\MasterThesis\\venv\\lib\\site-packages\\bids\\layout\\index.py\u001B[0m in \u001B[0;36m_index_dir\u001B[1;34m(self, path, config, default_action)\u001B[0m\n\u001B[0;32m    227\u001B[0m         \u001B[1;32mfor\u001B[0m \u001B[0mf\u001B[0m \u001B[1;32min\u001B[0m \u001B[0mfilenames\u001B[0m\u001B[1;33m:\u001B[0m\u001B[1;33m\u001B[0m\u001B[1;33m\u001B[0m\u001B[0m\n\u001B[0;32m    228\u001B[0m             bf = self._index_file(f, path, config_entities,\n\u001B[1;32m--> 229\u001B[1;33m                                   default_action=default)\n\u001B[0m\u001B[0;32m    230\u001B[0m             \u001B[1;32mif\u001B[0m \u001B[0mbf\u001B[0m \u001B[1;32mis\u001B[0m \u001B[1;32mNone\u001B[0m\u001B[1;33m:\u001B[0m\u001B[1;33m\u001B[0m\u001B[1;33m\u001B[0m\u001B[0m\n\u001B[0;32m    231\u001B[0m                 \u001B[1;32mcontinue\u001B[0m\u001B[1;33m\u001B[0m\u001B[1;33m\u001B[0m\u001B[0m\n",
      "\u001B[1;32m~\\PycharmProjects\\MasterThesis\\venv\\lib\\site-packages\\bids\\layout\\index.py\u001B[0m in \u001B[0;36m_index_file\u001B[1;34m(self, f, dirpath, entities, default_action)\u001B[0m\n\u001B[0;32m    243\u001B[0m \u001B[1;33m\u001B[0m\u001B[0m\n\u001B[0;32m    244\u001B[0m         \u001B[1;31m# Skip files that fail validation, unless forcibly indexing\u001B[0m\u001B[1;33m\u001B[0m\u001B[1;33m\u001B[0m\u001B[1;33m\u001B[0m\u001B[0m\n\u001B[1;32m--> 245\u001B[1;33m         \u001B[1;32mif\u001B[0m \u001B[1;32mnot\u001B[0m \u001B[0mself\u001B[0m\u001B[1;33m.\u001B[0m\u001B[0m_validate_file\u001B[0m\u001B[1;33m(\u001B[0m\u001B[0mabs_fn\u001B[0m\u001B[1;33m,\u001B[0m \u001B[0mdefault\u001B[0m\u001B[1;33m=\u001B[0m\u001B[0mdefault_action\u001B[0m\u001B[1;33m)\u001B[0m\u001B[1;33m:\u001B[0m\u001B[1;33m\u001B[0m\u001B[1;33m\u001B[0m\u001B[0m\n\u001B[0m\u001B[0;32m    246\u001B[0m             \u001B[1;32mreturn\u001B[0m \u001B[1;32mNone\u001B[0m\u001B[1;33m\u001B[0m\u001B[1;33m\u001B[0m\u001B[0m\n\u001B[0;32m    247\u001B[0m \u001B[1;33m\u001B[0m\u001B[0m\n",
      "\u001B[1;32m~\\PycharmProjects\\MasterThesis\\venv\\lib\\site-packages\\bids\\layout\\index.py\u001B[0m in \u001B[0;36m_validate_file\u001B[1;34m(self, f, default)\u001B[0m\n\u001B[0;32m    185\u001B[0m         \u001B[1;31m# bids-validator works with posix paths only\u001B[0m\u001B[1;33m\u001B[0m\u001B[1;33m\u001B[0m\u001B[1;33m\u001B[0m\u001B[0m\n\u001B[0;32m    186\u001B[0m         \u001B[0mto_check\u001B[0m \u001B[1;33m=\u001B[0m \u001B[0mto_check\u001B[0m\u001B[1;33m.\u001B[0m\u001B[0mas_posix\u001B[0m\u001B[1;33m(\u001B[0m\u001B[1;33m)\u001B[0m\u001B[1;33m\u001B[0m\u001B[1;33m\u001B[0m\u001B[0m\n\u001B[1;32m--> 187\u001B[1;33m         \u001B[1;32mreturn\u001B[0m \u001B[0mself\u001B[0m\u001B[1;33m.\u001B[0m\u001B[0mvalidator\u001B[0m\u001B[1;33m.\u001B[0m\u001B[0mis_bids\u001B[0m\u001B[1;33m(\u001B[0m\u001B[0mto_check\u001B[0m\u001B[1;33m)\u001B[0m\u001B[1;33m\u001B[0m\u001B[1;33m\u001B[0m\u001B[0m\n\u001B[0m\u001B[0;32m    188\u001B[0m \u001B[1;33m\u001B[0m\u001B[0m\n\u001B[0;32m    189\u001B[0m     \u001B[1;32mdef\u001B[0m \u001B[0m_index_dir\u001B[0m\u001B[1;33m(\u001B[0m\u001B[0mself\u001B[0m\u001B[1;33m,\u001B[0m \u001B[0mpath\u001B[0m\u001B[1;33m,\u001B[0m \u001B[0mconfig\u001B[0m\u001B[1;33m,\u001B[0m \u001B[0mdefault_action\u001B[0m\u001B[1;33m=\u001B[0m\u001B[1;32mNone\u001B[0m\u001B[1;33m)\u001B[0m\u001B[1;33m:\u001B[0m\u001B[1;33m\u001B[0m\u001B[1;33m\u001B[0m\u001B[0m\n",
      "\u001B[1;32m~\\PycharmProjects\\MasterThesis\\venv\\lib\\site-packages\\bids_validator\\bids_validator.py\u001B[0m in \u001B[0;36mis_bids\u001B[1;34m(self, path)\u001B[0m\n\u001B[0;32m     66\u001B[0m         \u001B[0mconditions\u001B[0m \u001B[1;33m=\u001B[0m \u001B[1;33m[\u001B[0m\u001B[1;33m]\u001B[0m\u001B[1;33m\u001B[0m\u001B[1;33m\u001B[0m\u001B[0m\n\u001B[0;32m     67\u001B[0m \u001B[1;33m\u001B[0m\u001B[0m\n\u001B[1;32m---> 68\u001B[1;33m         \u001B[0mconditions\u001B[0m\u001B[1;33m.\u001B[0m\u001B[0mappend\u001B[0m\u001B[1;33m(\u001B[0m\u001B[0mself\u001B[0m\u001B[1;33m.\u001B[0m\u001B[0mis_top_level\u001B[0m\u001B[1;33m(\u001B[0m\u001B[0mpath\u001B[0m\u001B[1;33m)\u001B[0m\u001B[1;33m)\u001B[0m\u001B[1;33m\u001B[0m\u001B[1;33m\u001B[0m\u001B[0m\n\u001B[0m\u001B[0;32m     69\u001B[0m         \u001B[0mconditions\u001B[0m\u001B[1;33m.\u001B[0m\u001B[0mappend\u001B[0m\u001B[1;33m(\u001B[0m\u001B[0mself\u001B[0m\u001B[1;33m.\u001B[0m\u001B[0mis_associated_data\u001B[0m\u001B[1;33m(\u001B[0m\u001B[0mpath\u001B[0m\u001B[1;33m)\u001B[0m\u001B[1;33m)\u001B[0m\u001B[1;33m\u001B[0m\u001B[1;33m\u001B[0m\u001B[0m\n\u001B[0;32m     70\u001B[0m         \u001B[0mconditions\u001B[0m\u001B[1;33m.\u001B[0m\u001B[0mappend\u001B[0m\u001B[1;33m(\u001B[0m\u001B[0mself\u001B[0m\u001B[1;33m.\u001B[0m\u001B[0mis_session_level\u001B[0m\u001B[1;33m(\u001B[0m\u001B[0mpath\u001B[0m\u001B[1;33m)\u001B[0m\u001B[1;33m)\u001B[0m\u001B[1;33m\u001B[0m\u001B[1;33m\u001B[0m\u001B[0m\n",
      "\u001B[1;32m~\\PycharmProjects\\MasterThesis\\venv\\lib\\site-packages\\bids_validator\\bids_validator.py\u001B[0m in \u001B[0;36mis_top_level\u001B[1;34m(self, path)\u001B[0m\n\u001B[0;32m     78\u001B[0m         \u001B[1;34m\"\"\"Check if the file has appropriate name for a top-level file.\"\"\"\u001B[0m\u001B[1;33m\u001B[0m\u001B[1;33m\u001B[0m\u001B[0m\n\u001B[0;32m     79\u001B[0m         regexps = self.get_regular_expressions(self.dir_rules +\n\u001B[1;32m---> 80\u001B[1;33m                                                'top_level_rules.json')\n\u001B[0m\u001B[0;32m     81\u001B[0m \u001B[1;33m\u001B[0m\u001B[0m\n\u001B[0;32m     82\u001B[0m         conditions = [False if re.compile(x).search(path) is None else True for\n",
      "\u001B[1;32m~\\PycharmProjects\\MasterThesis\\venv\\lib\\site-packages\\bids_validator\\bids_validator.py\u001B[0m in \u001B[0;36mget_regular_expressions\u001B[1;34m(self, file_name)\u001B[0m\n\u001B[0;32m    141\u001B[0m         \u001B[0mregexps\u001B[0m \u001B[1;33m=\u001B[0m \u001B[1;33m[\u001B[0m\u001B[1;33m]\u001B[0m\u001B[1;33m\u001B[0m\u001B[1;33m\u001B[0m\u001B[0m\n\u001B[0;32m    142\u001B[0m \u001B[1;33m\u001B[0m\u001B[0m\n\u001B[1;32m--> 143\u001B[1;33m         \u001B[1;32mwith\u001B[0m \u001B[0mopen\u001B[0m\u001B[1;33m(\u001B[0m\u001B[0mfile_name\u001B[0m\u001B[1;33m,\u001B[0m \u001B[1;34m'r'\u001B[0m\u001B[1;33m)\u001B[0m \u001B[1;32mas\u001B[0m \u001B[0mfin\u001B[0m\u001B[1;33m:\u001B[0m\u001B[1;33m\u001B[0m\u001B[1;33m\u001B[0m\u001B[0m\n\u001B[0m\u001B[0;32m    144\u001B[0m             \u001B[0mrules\u001B[0m \u001B[1;33m=\u001B[0m \u001B[0mjson\u001B[0m\u001B[1;33m.\u001B[0m\u001B[0mload\u001B[0m\u001B[1;33m(\u001B[0m\u001B[0mfin\u001B[0m\u001B[1;33m)\u001B[0m\u001B[1;33m\u001B[0m\u001B[1;33m\u001B[0m\u001B[0m\n\u001B[0;32m    145\u001B[0m \u001B[1;33m\u001B[0m\u001B[0m\n",
      "\u001B[1;32m~\\AppData\\Local\\Programs\\Python\\Python37\\lib\\_bootlocale.py\u001B[0m in \u001B[0;36mgetpreferredencoding\u001B[1;34m(do_setlocale)\u001B[0m\n\u001B[0;32m      9\u001B[0m \u001B[1;33m\u001B[0m\u001B[0m\n\u001B[0;32m     10\u001B[0m \u001B[1;32mif\u001B[0m \u001B[0msys\u001B[0m\u001B[1;33m.\u001B[0m\u001B[0mplatform\u001B[0m\u001B[1;33m.\u001B[0m\u001B[0mstartswith\u001B[0m\u001B[1;33m(\u001B[0m\u001B[1;34m\"win\"\u001B[0m\u001B[1;33m)\u001B[0m\u001B[1;33m:\u001B[0m\u001B[1;33m\u001B[0m\u001B[1;33m\u001B[0m\u001B[0m\n\u001B[1;32m---> 11\u001B[1;33m     \u001B[1;32mdef\u001B[0m \u001B[0mgetpreferredencoding\u001B[0m\u001B[1;33m(\u001B[0m\u001B[0mdo_setlocale\u001B[0m\u001B[1;33m=\u001B[0m\u001B[1;32mTrue\u001B[0m\u001B[1;33m)\u001B[0m\u001B[1;33m:\u001B[0m\u001B[1;33m\u001B[0m\u001B[1;33m\u001B[0m\u001B[0m\n\u001B[0m\u001B[0;32m     12\u001B[0m         \u001B[1;32mif\u001B[0m \u001B[0msys\u001B[0m\u001B[1;33m.\u001B[0m\u001B[0mflags\u001B[0m\u001B[1;33m.\u001B[0m\u001B[0mutf8_mode\u001B[0m\u001B[1;33m:\u001B[0m\u001B[1;33m\u001B[0m\u001B[1;33m\u001B[0m\u001B[0m\n\u001B[0;32m     13\u001B[0m             \u001B[1;32mreturn\u001B[0m \u001B[1;34m'UTF-8'\u001B[0m\u001B[1;33m\u001B[0m\u001B[1;33m\u001B[0m\u001B[0m\n",
      "\u001B[1;31mKeyboardInterrupt\u001B[0m: "
     ]
    }
   ],
   "source": [
    "path_to_dataset = r\"C:\\MasterThesis\\v1.0\"  # Please change this value\n",
    "\n",
    "l = BIDSLayout(path_to_dataset)"
   ]
  },
  {
   "cell_type": "markdown",
   "metadata": {},
   "source": [
    "Define what data we want to load"
   ]
  },
  {
   "cell_type": "code",
   "execution_count": null,
   "metadata": {},
   "outputs": [],
   "source": [
    "filter_dictionary = {'subject': subject,\n",
    "                     'session': '001',\n",
    "                     'task': 'FR',\n",
    "                     'run': run,\n",
    "                     'suffix': 'ieeg',\n",
    "                     'extension': 'json'}\n",
    "json_files = l.get(**filter_dictionary)\n",
    "\n",
    "# We now we have requested only one file now but multiple files can be processed in a for loop\n",
    "json_file = json_files[0]\n",
    "print(json_file)\n",
    "\n",
    "json_entities = json_file.entities"
   ]
  },
  {
   "cell_type": "markdown",
   "source": [
    "Load information about electrodes"
   ],
   "metadata": {
    "collapsed": false
   }
  },
  {
   "cell_type": "code",
   "execution_count": null,
   "outputs": [],
   "source": [
    "# Get electrodes\n",
    "electrodes_file = l.get(suffix='electrodes', extension='tsv',\n",
    "                        subject=json_entities['subject'],\n",
    "                        session=json_entities['session'])[0]\n",
    "electrode_df = electrodes_file.get_df()\n",
    "electrode_df"
   ],
   "metadata": {
    "collapsed": false
   }
  },
  {
   "cell_type": "markdown",
   "metadata": {},
   "source": [
    "Load information about channels"
   ]
  },
  {
   "cell_type": "code",
   "execution_count": null,
   "metadata": {},
   "outputs": [],
   "source": [
    "# Get channels\n",
    "channel_file = l.get(suffix='channels', extension='tsv',\n",
    "                     task=json_entities['task'],\n",
    "                     subject=json_entities['subject'],\n",
    "                     session=json_entities['session'],\n",
    "                     run=json_entities['run'])[0]\n",
    "channel_df = channel_file.get_df()\n",
    "channel_df = channel_df[channel_df['status'] != 'bad']\n",
    "channel_df\n",
    "    "
   ]
  },
  {
   "cell_type": "markdown",
   "metadata": {},
   "source": [
    "Load events"
   ]
  },
  {
   "cell_type": "code",
   "execution_count": null,
   "metadata": {},
   "outputs": [],
   "source": [
    "events_file = l.get(suffix='events', extension='tsv',\n",
    "                    task=json_entities['task'],\n",
    "                    subject=json_entities['subject'],\n",
    "                    session=json_entities['session'],\n",
    "                    run=json_entities['run'])[0]\n",
    "events_df = events_file.get_df()\n",
    "\n",
    "# Pull only the processed events (discarding the original events)\n",
    "events_df = events_df.loc[~events_df['trial_type'].isna(), ['onset', 'sample', 'duration', 'trial_type', 'list']]\n",
    "events_df = events_df[events_df['trial_type'] == 'ENCODE']\n",
    "events_df = events_df.reset_index(drop=True)\n",
    "events_df\n"
   ]
  },
  {
   "cell_type": "markdown",
   "metadata": {},
   "source": [
    "Now load the raw data"
   ]
  },
  {
   "cell_type": "code",
   "execution_count": null,
   "metadata": {},
   "outputs": [],
   "source": [
    "# Since we are using MEF3 pybids has problems recognizing the extension so we need to modify the json extension\n",
    "mef_session_path = os.path.splitext(json_file.path)[0]+'.mefd'\n",
    "print(mef_session_path)\n",
    "ms = MefSession(mef_session_path, None)\n",
    "ms.read_ts_channel_basic_info()"
   ]
  },
  {
   "cell_type": "markdown",
   "source": [
    "## Choose brain region"
   ],
   "metadata": {
    "collapsed": false
   }
  },
  {
   "cell_type": "code",
   "execution_count": null,
   "outputs": [],
   "source": [
    "regions = electrode_df['anatomy_structure']\n",
    "regions = set(regions)\n",
    "regions"
   ],
   "metadata": {
    "collapsed": false
   }
  },
  {
   "cell_type": "code",
   "execution_count": null,
   "outputs": [],
   "source": [
    "valid_electrodes = [x['name'] for idx, x in electrode_df.iterrows() if x['anatomy_structure'] in ['hippocampus']]\n",
    "valid_electrodes"
   ],
   "metadata": {
    "collapsed": false
   }
  },
  {
   "cell_type": "markdown",
   "source": [
    "Now load the data from encoding events"
   ],
   "metadata": {
    "collapsed": false
   }
  },
  {
   "cell_type": "code",
   "execution_count": null,
   "metadata": {},
   "outputs": [],
   "source": [
    "channels = valid_electrodes\n",
    "\n",
    "# Microseconds 1 μs = 10⁻⁶ s\n",
    "start_time = 1553941347170839+3*1e6  # in microseconds\n",
    "end_time = 1553942904095135-3*1e6\n",
    "win_size = 10  # in seconds\n",
    "stop_time = start_time + int(win_size*1e6)\n",
    "\n",
    "bi = ms.read_ts_channel_basic_info()\n",
    "\n",
    "# In this case we are reading MEF records instead of data from events.tsv because we do not have to make time conversions this way\n",
    "records = ms.read_records()\n",
    "records_in_win = [x for x in records if start_time < x['time'] < stop_time]\n",
    "# The code to get corresponding events from the events file\n",
    "session_metadata = ms.session_md\n",
    "session_start_utc = session_metadata['session_specific_metadata']['earliest_start_time'][0]\n",
    "print(f\"session_start_utc = {session_start_utc}\\nsession_stop_utc = {stop_time}\")\n",
    "events_df['microsecond_onset'] = events_df['onset']*1e6\n",
    "events_df['uutc'] = (events_df['microsecond_onset'] + session_start_utc).astype('int64')\n",
    "events_in_win = events_df[(start_time < events_df['uutc'])\n",
    "                          & (events_df['uutc'] < stop_time)]\n",
    "events_df.head()"
   ]
  },
  {
   "cell_type": "code",
   "execution_count": null,
   "outputs": [],
   "source": [
    "# records_in_events = [x for x in records if (0 < (x['time'] - events_df['uutc']) < 150000)]\n",
    "records_in_events = []\n",
    "for x in records:\n",
    "    for e in events_df['uutc']:\n",
    "        # print(x['time'] - e)\n",
    "        if 0 == (x['time'] - e):\n",
    "            records_in_events.append(x)\n",
    "\n",
    "len(records_in_events)\n",
    "data_events = []\n",
    "for e in events_df['uutc']:\n",
    "    data_events.append(ms.read_ts_channels_uutc(channels, [e - 500000, e + 1000000]))\n",
    "data_events = np.array(data_events)\n",
    "data_events.shape"
   ],
   "metadata": {
    "collapsed": false
   }
  },
  {
   "cell_type": "markdown",
   "source": [
    "## Downsampling the recordings"
   ],
   "metadata": {
    "collapsed": false
   }
  },
  {
   "cell_type": "code",
   "execution_count": null,
   "outputs": [],
   "source": [
    "target_freq = 1000\n",
    "q = int(32000 / target_freq)\n",
    "downsampled_data_events = []\n",
    "\n",
    "for s_idx, sequence in enumerate(data_events):\n",
    "    downsampled_sequence = []\n",
    "    for ch_idx, channel in enumerate(sequence):\n",
    "       downsampled_sequence.append(decimate(channel, q))\n",
    "    downsampled_data_events.append(downsampled_sequence)\n",
    "\n",
    "data_events = np.array(downsampled_data_events)\n",
    "data_events.shape"
   ],
   "metadata": {
    "collapsed": false
   }
  },
  {
   "cell_type": "markdown",
   "source": [
    "## Apply linear interpolation if values are missing"
   ],
   "metadata": {
    "collapsed": false
   }
  },
  {
   "cell_type": "code",
   "execution_count": null,
   "outputs": [],
   "source": [
    "def check_missing_values(arr):\n",
    "    \"\"\"Check if a numpy array has missing values.\"\"\"\n",
    "    if np.isnan(arr).any():\n",
    "        print(\"The array has missing values.\")\n",
    "        return True\n",
    "    else:\n",
    "        return False"
   ],
   "metadata": {
    "collapsed": false
   }
  },
  {
   "cell_type": "code",
   "execution_count": null,
   "outputs": [],
   "source": [
    "how_many_nan = 0\n",
    "for s_idx, sequence in enumerate(data_events):\n",
    "    for ch_idx, channel in enumerate(sequence):\n",
    "        if check_missing_values(channel):\n",
    "            how_many_nan += 1\n",
    "            df = pd.DataFrame({'signal': channel})\n",
    "            print(f\"Apply linear interpolation to fill the missing values [{s_idx}][{ch_idx}]\")\n",
    "            df['signal'] = df['signal'].bfill().ffill().interpolate(method='linear')\n",
    "            data_events[s_idx][ch_idx] = df['signal'].values.tolist()\n",
    "            print(data_events[s_idx][ch_idx])\n",
    "print(how_many_nan)"
   ],
   "metadata": {
    "collapsed": false
   }
  },
  {
   "cell_type": "markdown",
   "source": [
    "## Connect windows to continuous signal across channels"
   ],
   "metadata": {
    "collapsed": false
   }
  },
  {
   "cell_type": "code",
   "execution_count": null,
   "outputs": [],
   "source": [
    "channels_list = [[] for x in range(len(channels))]\n",
    "\n",
    "for s_idx, sequence in enumerate(data_events):\n",
    "    for ch_idx, channel in enumerate(sequence):\n",
    "        channels_list[ch_idx].extend(channel)\n",
    "print(len(channels_list))\n",
    "channels_list[0][100:200]"
   ],
   "metadata": {
    "collapsed": false
   }
  },
  {
   "cell_type": "markdown",
   "source": [
    "### Apply z-score normalization"
   ],
   "metadata": {
    "collapsed": false
   }
  },
  {
   "cell_type": "code",
   "execution_count": null,
   "outputs": [],
   "source": [
    "for idx, channel in enumerate(channels_list):\n",
    "    mean = np.mean(channel)\n",
    "    std = np.std(channel)\n",
    "    data_normalized = (channel - mean) / std\n",
    "    channels_list[idx] = data_normalized"
   ],
   "metadata": {
    "collapsed": false
   }
  },
  {
   "cell_type": "markdown",
   "source": [
    "### Split again into windows"
   ],
   "metadata": {
    "collapsed": false
   }
  },
  {
   "cell_type": "code",
   "execution_count": null,
   "outputs": [],
   "source": [
    "def split_list(lst, n):\n",
    "    \"\"\"Split the list, lst, into chunks of size n.\"\"\"\n",
    "    return [lst[i:i + n] for i in range(0, len(lst), n)]"
   ],
   "metadata": {
    "collapsed": false
   }
  },
  {
   "cell_type": "code",
   "execution_count": null,
   "outputs": [],
   "source": [
    "samples_in_sequence = int(target_freq * 1.5)\n",
    "chunks_list = [[] for x in range(len(channels))]\n",
    "for idx, channel in enumerate(channels_list):\n",
    "    chunks_list[idx] = split_list(channel, samples_in_sequence)\n",
    "\n",
    "for s_idx, sequence in enumerate(data_events):\n",
    "    for ch_idx, channel in enumerate(sequence):\n",
    "        data_events[s_idx][ch_idx] = chunks_list[ch_idx][s_idx]\n",
    "\n",
    "data_events = np.array(data_events)\n",
    "print(data_events.shape)"
   ],
   "metadata": {
    "collapsed": false
   }
  },
  {
   "cell_type": "code",
   "execution_count": null,
   "outputs": [],
   "source": [
    "print(data_events[0][0][0])"
   ],
   "metadata": {
    "collapsed": false
   }
  },
  {
   "cell_type": "markdown",
   "source": [
    "## Plot the window"
   ],
   "metadata": {
    "collapsed": false
   }
  },
  {
   "cell_type": "code",
   "execution_count": null,
   "outputs": [],
   "source": [
    "def plot_channels(data):\n",
    "    # assuming 'data' is your list\n",
    "    data = np.array(data)  # convert list to numpy array\n",
    "    print(data.shape)\n",
    "    time = np.arange(0, data.shape[1])  # creating a time vector\n",
    "\n",
    "    # plotting the data\n",
    "    plt.figure(figsize=(10,6))  # creating a new figure with specified size\n",
    "    print(data[0])\n",
    "    # plot for channel 1\n",
    "    plt.subplot(2, 1, 1)  # creating the first subplot in a 2x1 grid\n",
    "    plt.plot(time, data[0], color='blue')  # plotting the data for the first channel\n",
    "    plt.title('Channel 1')  # setting the title of the first subplot\n",
    "    plt.xlabel('Time')  # setting the x-label\n",
    "    plt.ylabel('Amplitude')  # setting the y-label\n",
    "\n",
    "    plt.tight_layout()  # adjusting the layout so everything fits\n",
    "    plt.show()  # displaying the figure"
   ],
   "metadata": {
    "collapsed": false
   }
  },
  {
   "cell_type": "code",
   "execution_count": null,
   "outputs": [],
   "source": [
    "plot_channels(data_events[0])"
   ],
   "metadata": {
    "collapsed": false
   }
  },
  {
   "cell_type": "markdown",
   "source": [
    "## Define and apply butterworth filter"
   ],
   "metadata": {
    "collapsed": false
   }
  },
  {
   "cell_type": "code",
   "execution_count": null,
   "outputs": [],
   "source": [
    "def butter_lowpass(cutoff, fs, order=5):\n",
    "    nyq = 0.5 * fs\n",
    "    normal_cutoff = cutoff / nyq\n",
    "    b, a = butter(order, normal_cutoff, btype='low', analog=False)\n",
    "    return b, a\n",
    "\n",
    "def butter_lowpass_filter(data, cutoff, fs, order=5):\n",
    "    b, a = butter_lowpass(cutoff, fs, order=order)\n",
    "    y = filtfilt(b, a, data)\n",
    "    return y\n",
    "\n",
    "# Parameters\n",
    "order = 3\n",
    "# fs = target_freq       # sample rate, Hz\n",
    "fs = 1000\n",
    "cutoff = 10    # desired cutoff frequency of the filter, Hz\n"
   ],
   "metadata": {
    "collapsed": false
   }
  },
  {
   "cell_type": "code",
   "execution_count": null,
   "outputs": [],
   "source": [
    "if APPLY_LOW_PASS_FILTER:\n",
    "    for s_idx, sequence in enumerate(data_events):\n",
    "        for ch_idx, channel in enumerate(sequence):\n",
    "            y = butter_lowpass_filter(channel, cutoff, fs, order)\n",
    "            data_events[s_idx][ch_idx] = y\n",
    "    plot_channels(data_events[0])"
   ],
   "metadata": {
    "collapsed": false
   }
  },
  {
   "cell_type": "markdown",
   "source": [
    "## Feature extraction"
   ],
   "metadata": {
    "collapsed": false
   }
  },
  {
   "cell_type": "markdown",
   "source": [
    "### Feature set 1\n",
    "https://www.hindawi.com/journals/cin/2020/2909267/"
   ],
   "metadata": {
    "collapsed": false
   }
  },
  {
   "cell_type": "code",
   "execution_count": null,
   "outputs": [],
   "source": [
    "import scipy.fft\n",
    "\n",
    "\n",
    "if FEATURE_SET == 1:\n",
    "    for s_idx, sequence in enumerate(data_events):\n",
    "        for ch_idx, channel in enumerate(sequence):\n",
    "            eeg_data = channel\n",
    "           # Calculate Mean of the signal as a feature\n",
    "            mean = np.mean(eeg_data)\n",
    "\n",
    "            # Calculate Variance of the signal as a feature\n",
    "            variance = np.var(eeg_data)\n",
    "\n",
    "            # Calculate Standard Deviation of the signal as a feature\n",
    "            std_dev = np.std(eeg_data)\n",
    "\n",
    "            # Use Fast Fourier Transform to get the power spectrum of the signal\n",
    "            power_spectrum = np.abs(scipy.fft.fft(eeg_data))**2\n",
    "\n",
    "            # Frequency values for plotting the spectrum - assuming a sampling rate (fs) of 128 Hz\n",
    "            freqs = scipy.fft.fftfreq(len(eeg_data), 1 / 128)\n",
    "\n",
    "            # Let's use the mean power in specific frequency bands as features\n",
    "            delta_power = np.mean(power_spectrum[(freqs >= 0.5) & (freqs <= 4)])\n",
    "            theta_power = np.mean(power_spectrum[(freqs > 4) & (freqs <= 8)])\n",
    "            alpha_power = np.mean(power_spectrum[(freqs > 8) & (freqs <= 12)])\n",
    "            beta_power = np.mean(power_spectrum[(freqs > 12) & (freqs <= 30)])\n",
    "\n",
    "            # Gather all features into a list\n",
    "            features = [mean, variance, std_dev, delta_power, theta_power, alpha_power, beta_power]\n",
    "\n",
    "            print(\"Extracted features:\", features)\n",
    "            data_events[s_idx][ch_idx] = features\n",
    "    print(len(data_events))\n",
    "    print(len(data_events[0]))\n",
    "    print(len(data_events[0][0]))"
   ],
   "metadata": {
    "collapsed": false
   }
  },
  {
   "cell_type": "markdown",
   "source": [
    "### Feature set 2 - 6 features\n",
    "https://www.mdpi.com/2227-9032/11/3/322"
   ],
   "metadata": {
    "collapsed": false
   }
  },
  {
   "cell_type": "code",
   "execution_count": null,
   "outputs": [],
   "source": [
    "from scipy.stats import skew, kurtosis, variation\n",
    "\n",
    "\n",
    "if FEATURE_SET == 2 and not LSTM_READY:\n",
    "    data_events = data_events.tolist()\n",
    "    # Assuming 'eeg_data' is a NumPy array containing your EEG data.\n",
    "    for s_idx, sequence in enumerate(data_events):\n",
    "        for ch_idx, channel in enumerate(sequence):\n",
    "            eeg_data = channel\n",
    "           # Assuming 'eeg_data' is a NumPy array containing your EEG data for one channel\n",
    "\n",
    "            mean = np.mean(eeg_data)\n",
    "            q1 = np.percentile(eeg_data, 25)\n",
    "            q2 = np.percentile(eeg_data, 50)\n",
    "            q3 = np.percentile(eeg_data, 75)\n",
    "            min_signal = np.min(eeg_data)\n",
    "            max_signal = np.max(eeg_data)\n",
    "            # variance = variation(eeg_data)\n",
    "            # skewness = skew(eeg_data)\n",
    "\n",
    "            features = [mean, q1, q2, q3, min_signal, max_signal]\n",
    "\n",
    "            # print(\"Extracted features:\", features)\n",
    "            data_events[s_idx][ch_idx] = features\n",
    "    data_events = np.array(data_events)\n",
    "    print(data_events.shape)"
   ],
   "metadata": {
    "collapsed": false
   }
  },
  {
   "cell_type": "markdown",
   "source": [
    "### Feature set 3"
   ],
   "metadata": {
    "collapsed": false
   }
  },
  {
   "cell_type": "markdown",
   "source": [
    "Morlet wavelets"
   ],
   "metadata": {
    "collapsed": false
   }
  },
  {
   "cell_type": "code",
   "execution_count": null,
   "outputs": [],
   "source": [
    "if FEATURE_SET == 3:\n",
    "    sfreq = target_freq  # replace with your sampling frequency\n",
    "    # delta: 2.5-5 Hz, theta: 4–9 Hz, alpha: 9–16 Hz, beta: 16–25 Hz,\n",
    "    freqs = [9., 16., 25.]  # define the range of frequency bands\n",
    "    # freqs = [5.]\n",
    "    print(freqs)\n",
    "    n_cycles = 7.0\n",
    "\n",
    "    # perform Morlet Wavelet transform\n",
    "    power = mne.time_frequency.tfr_array_morlet(data_events, sfreq, freqs, n_cycles=n_cycles)\n",
    "    # n_samples * n_channels * n_frequencies * n_times\n",
    "    # power = 10 * np.log10(power)\n",
    "# power.shape"
   ],
   "metadata": {
    "collapsed": false
   }
  },
  {
   "cell_type": "code",
   "execution_count": null,
   "outputs": [],
   "source": [
    "power[0][0][0][0]"
   ],
   "metadata": {
    "collapsed": false
   }
  },
  {
   "cell_type": "code",
   "execution_count": null,
   "outputs": [],
   "source": [
    "type(power[0][0][0][0])"
   ],
   "metadata": {
    "collapsed": false
   }
  },
  {
   "cell_type": "code",
   "execution_count": null,
   "outputs": [],
   "source": [
    "epoch_idx = 0\n",
    "channel_idx = 0\n",
    "\n",
    "# Calculate the power, convert to dB\n",
    "tfr = 10 * np.log10(np.abs(power[epoch_idx, channel_idx])**2)\n",
    "\n",
    "plt.figure(figsize=(10, 8))\n",
    "plt.imshow(tfr, aspect='auto', cmap='RdBu_r', origin='lower',\n",
    "           extent=[0, samples_in_sequence/sfreq, freqs[0], freqs[-1]])\n",
    "plt.colorbar(format='%+2.0f dB')\n",
    "plt.xlabel('Time [s]')\n",
    "plt.ylabel('Frequency [Hz]')\n",
    "plt.title('Time-Frequency Representation (TFR)')\n",
    "plt.show()"
   ],
   "metadata": {
    "collapsed": false
   }
  },
  {
   "cell_type": "code",
   "execution_count": null,
   "outputs": [],
   "source": [
    "epoch_idx = 0\n",
    "channel_idx = 0\n",
    "sfreq = target_freq\n",
    "# we are going to transpose the matrix so that time is on the x-axis\n",
    "tfr = 10 * np.log10(np.abs(power[epoch_idx, channel_idx])**2)\n",
    "print(tfr.shape)\n",
    "plt.figure(figsize=(10, 8))\n",
    "plt.plot(tfr)\n",
    "plt.xlabel('Time [s]')\n",
    "plt.ylabel('Power [dB]')\n",
    "plt.title('Time-Frequency Representation (TFR)')\n",
    "plt.show()"
   ],
   "metadata": {
    "collapsed": false
   }
  },
  {
   "cell_type": "markdown",
   "source": [
    "## Reshape to dataframe"
   ],
   "metadata": {
    "collapsed": false
   }
  },
  {
   "cell_type": "code",
   "execution_count": null,
   "outputs": [],
   "source": [
    "# extract a power of the signal\n",
    "power_magnitude = np.abs(power)\n",
    "# convert to a decibel scale, which is often done for power spectral densities:\n",
    "power_db = 10 * np.log10(power_magnitude)"
   ],
   "metadata": {
    "collapsed": false
   }
  },
  {
   "cell_type": "code",
   "execution_count": null,
   "outputs": [],
   "source": [
    "arr = np.array(power_db)\n",
    "\n",
    "    # Reshape the array to the required shape (180, 450)\n",
    "arr_reshaped = arr.reshape(180, -1)  # -1 means calculate the size of this dimension\n",
    "\n",
    "df = pd.DataFrame(arr_reshaped)\n",
    "\n",
    "    # Now df is a DataFrame with shape (180, 450)\n",
    "print(df.shape)"
   ],
   "metadata": {
    "collapsed": false
   }
  },
  {
   "cell_type": "markdown",
   "source": [
    "## PCA"
   ],
   "metadata": {
    "collapsed": false
   }
  },
  {
   "cell_type": "code",
   "execution_count": null,
   "outputs": [],
   "source": [
    "if DIMENSION_REDUCTION:\n",
    "    pca = PCA(n_components=10)\n",
    "    pca_data = pca.fit_transform(df)\n",
    "    df = pd.DataFrame(pca_data)\n",
    "    print(pca_data.shape)"
   ],
   "metadata": {
    "collapsed": false
   }
  },
  {
   "cell_type": "code",
   "execution_count": null,
   "outputs": [],
   "source": [
    "df.head()"
   ],
   "metadata": {
    "collapsed": false
   }
  },
  {
   "cell_type": "code",
   "execution_count": null,
   "outputs": [],
   "source": [
    "df.to_csv(rf'C:\\MasterThesis\\v1.0\\sub-{subject}\\ses-001\\{subject}_{run}_sEEG_dataset.csv', index=False)"
   ],
   "metadata": {
    "collapsed": false
   }
  },
  {
   "cell_type": "code",
   "execution_count": null,
   "outputs": [],
   "source": [],
   "metadata": {
    "collapsed": false
   }
  }
 ],
 "metadata": {
  "kernelspec": {
   "display_name": "Python 3",
   "language": "python",
   "name": "python3"
  },
  "language_info": {
   "codemirror_mode": {
    "name": "ipython",
    "version": 3
   },
   "file_extension": ".py",
   "mimetype": "text/x-python",
   "name": "python",
   "nbconvert_exporter": "python",
   "pygments_lexer": "ipython3",
   "version": "3.8.5"
  }
 },
 "nbformat": 4,
 "nbformat_minor": 4
}
