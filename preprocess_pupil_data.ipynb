{
 "cells": [
  {
   "cell_type": "markdown",
   "metadata": {},
   "source": [
    "### How to load the data"
   ]
  },
  {
   "cell_type": "markdown",
   "metadata": {},
   "source": [
    "This jupyter notebook demonstrates how to access the data of the dataset. To run the notebook you will need to install the following packages:\n",
    "- pymef (to read MEF3 format)\n",
    "- pybids (to load the BIDS data structure)\n"
   ]
  },
  {
   "cell_type": "markdown",
   "metadata": {},
   "source": [
    "Let's do the imports first"
   ]
  },
  {
   "cell_type": "code",
   "execution_count": null,
   "metadata": {},
   "outputs": [],
   "source": [
    "import os\n",
    "\n",
    "from pymef import MefSession\n",
    "from bids import BIDSLayout\n",
    "\n",
    "import numpy as np\n",
    "import pandas as pd\n",
    "import matplotlib.pyplot as plt\n",
    "\n",
    "from scipy.signal import butter, filtfilt\n"
   ]
  },
  {
   "cell_type": "markdown",
   "source": [
    "SETTINGS"
   ],
   "metadata": {
    "collapsed": false
   }
  },
  {
   "cell_type": "code",
   "execution_count": null,
   "outputs": [],
   "source": [
    "APPLY_LOW_PASS_FILTER = True\n",
    "LSTM_READY = False\n",
    "FEATURE_SET = 1\n",
    "subject = '004'\n",
    "run = 1"
   ],
   "metadata": {
    "collapsed": false
   }
  },
  {
   "cell_type": "markdown",
   "metadata": {},
   "source": [
    "Now load the BIDS dataset"
   ]
  },
  {
   "cell_type": "code",
   "execution_count": null,
   "metadata": {},
   "outputs": [],
   "source": [
    "path_to_dataset = r\"C:\\MasterThesis\\v1.0\"  # Please change this value\n",
    "\n",
    "l = BIDSLayout(path_to_dataset)"
   ]
  },
  {
   "cell_type": "markdown",
   "metadata": {},
   "source": [
    "Define what data we want to load"
   ]
  },
  {
   "cell_type": "code",
   "execution_count": null,
   "metadata": {},
   "outputs": [
    {
     "name": "stdout",
     "output_type": "stream",
     "text": [
      "<BIDSJSONFile filename='C:\\MasterThesis\\v1.0\\sub-004\\ses-001\\ieeg\\sub-004_ses-001_task-FR_run-01_ieeg.json'>\n"
     ]
    }
   ],
   "source": [
    "filter_dictionary = {'subject': subject,\n",
    "                     'session': '001',\n",
    "                     'task': 'FR',\n",
    "                     'run': run,\n",
    "                     'suffix': 'ieeg',\n",
    "                     'extension': 'json'}\n",
    "json_files = l.get(**filter_dictionary)\n",
    "\n",
    "# We now we have requested only one file now but multiple files can be processed in a for loop\n",
    "json_file = json_files[0]\n",
    "print(json_file)\n",
    "\n",
    "json_entities = json_file.entities"
   ]
  },
  {
   "cell_type": "markdown",
   "metadata": {},
   "source": [
    "Load information about channels"
   ]
  },
  {
   "cell_type": "code",
   "execution_count": null,
   "metadata": {},
   "outputs": [
    {
     "data": {
      "text/plain": "                 name     type units  low_cutoff  high_cutoff  reference  \\\n0              LAM_01     SEEG    µV         0.1       6000.0  scalp_cpz   \n2              LAM_03     SEEG    µV         0.1       6000.0  scalp_cpz   \n3              LAM_04     SEEG    µV         0.1       6000.0  scalp_cpz   \n4              LAM_05     SEEG    µV         0.1       6000.0  scalp_cpz   \n5              LAM_06     SEEG    µV         0.1       6000.0  scalp_cpz   \n..                ...      ...   ...         ...          ...        ...   \n132  RIGHT_PUPIL_SIZE    PUPIL   px2         NaN          NaN  scalp_cpz   \n133     RIGHT_X_COORD  EYEGAZE    px         NaN          NaN  scalp_cpz   \n134     RIGHT_Y_COORD  EYEGAZE    px         NaN          NaN  scalp_cpz   \n135          SCREEN_X  EYEGAZE    px         NaN          NaN  scalp_cpz   \n136          SCREEN_Y  EYEGAZE    px         NaN          NaN  scalp_cpz   \n\n     sampling_frequency status status_description  \n0                 32000   good                NaN  \n2                 32000   good                NaN  \n3                 32000   good                NaN  \n4                 32000   good                NaN  \n5                 32000   good                NaN  \n..                  ...    ...                ...  \n132                 150   good                NaN  \n133                 150   good                NaN  \n134                 150   good                NaN  \n135                 150   good                NaN  \n136                 150   good                NaN  \n\n[135 rows x 9 columns]",
      "text/html": "<div>\n<style scoped>\n    .dataframe tbody tr th:only-of-type {\n        vertical-align: middle;\n    }\n\n    .dataframe tbody tr th {\n        vertical-align: top;\n    }\n\n    .dataframe thead th {\n        text-align: right;\n    }\n</style>\n<table border=\"1\" class=\"dataframe\">\n  <thead>\n    <tr style=\"text-align: right;\">\n      <th></th>\n      <th>name</th>\n      <th>type</th>\n      <th>units</th>\n      <th>low_cutoff</th>\n      <th>high_cutoff</th>\n      <th>reference</th>\n      <th>sampling_frequency</th>\n      <th>status</th>\n      <th>status_description</th>\n    </tr>\n  </thead>\n  <tbody>\n    <tr>\n      <th>0</th>\n      <td>LAM_01</td>\n      <td>SEEG</td>\n      <td>µV</td>\n      <td>0.1</td>\n      <td>6000.0</td>\n      <td>scalp_cpz</td>\n      <td>32000</td>\n      <td>good</td>\n      <td>NaN</td>\n    </tr>\n    <tr>\n      <th>2</th>\n      <td>LAM_03</td>\n      <td>SEEG</td>\n      <td>µV</td>\n      <td>0.1</td>\n      <td>6000.0</td>\n      <td>scalp_cpz</td>\n      <td>32000</td>\n      <td>good</td>\n      <td>NaN</td>\n    </tr>\n    <tr>\n      <th>3</th>\n      <td>LAM_04</td>\n      <td>SEEG</td>\n      <td>µV</td>\n      <td>0.1</td>\n      <td>6000.0</td>\n      <td>scalp_cpz</td>\n      <td>32000</td>\n      <td>good</td>\n      <td>NaN</td>\n    </tr>\n    <tr>\n      <th>4</th>\n      <td>LAM_05</td>\n      <td>SEEG</td>\n      <td>µV</td>\n      <td>0.1</td>\n      <td>6000.0</td>\n      <td>scalp_cpz</td>\n      <td>32000</td>\n      <td>good</td>\n      <td>NaN</td>\n    </tr>\n    <tr>\n      <th>5</th>\n      <td>LAM_06</td>\n      <td>SEEG</td>\n      <td>µV</td>\n      <td>0.1</td>\n      <td>6000.0</td>\n      <td>scalp_cpz</td>\n      <td>32000</td>\n      <td>good</td>\n      <td>NaN</td>\n    </tr>\n    <tr>\n      <th>...</th>\n      <td>...</td>\n      <td>...</td>\n      <td>...</td>\n      <td>...</td>\n      <td>...</td>\n      <td>...</td>\n      <td>...</td>\n      <td>...</td>\n      <td>...</td>\n    </tr>\n    <tr>\n      <th>132</th>\n      <td>RIGHT_PUPIL_SIZE</td>\n      <td>PUPIL</td>\n      <td>px2</td>\n      <td>NaN</td>\n      <td>NaN</td>\n      <td>scalp_cpz</td>\n      <td>150</td>\n      <td>good</td>\n      <td>NaN</td>\n    </tr>\n    <tr>\n      <th>133</th>\n      <td>RIGHT_X_COORD</td>\n      <td>EYEGAZE</td>\n      <td>px</td>\n      <td>NaN</td>\n      <td>NaN</td>\n      <td>scalp_cpz</td>\n      <td>150</td>\n      <td>good</td>\n      <td>NaN</td>\n    </tr>\n    <tr>\n      <th>134</th>\n      <td>RIGHT_Y_COORD</td>\n      <td>EYEGAZE</td>\n      <td>px</td>\n      <td>NaN</td>\n      <td>NaN</td>\n      <td>scalp_cpz</td>\n      <td>150</td>\n      <td>good</td>\n      <td>NaN</td>\n    </tr>\n    <tr>\n      <th>135</th>\n      <td>SCREEN_X</td>\n      <td>EYEGAZE</td>\n      <td>px</td>\n      <td>NaN</td>\n      <td>NaN</td>\n      <td>scalp_cpz</td>\n      <td>150</td>\n      <td>good</td>\n      <td>NaN</td>\n    </tr>\n    <tr>\n      <th>136</th>\n      <td>SCREEN_Y</td>\n      <td>EYEGAZE</td>\n      <td>px</td>\n      <td>NaN</td>\n      <td>NaN</td>\n      <td>scalp_cpz</td>\n      <td>150</td>\n      <td>good</td>\n      <td>NaN</td>\n    </tr>\n  </tbody>\n</table>\n<p>135 rows × 9 columns</p>\n</div>"
     },
     "execution_count": 41,
     "metadata": {},
     "output_type": "execute_result"
    }
   ],
   "source": [
    "# Get channels\n",
    "channel_file = l.get(suffix='channels', extension='tsv',\n",
    "                     task=json_entities['task'],\n",
    "                     subject=json_entities['subject'],\n",
    "                     session=json_entities['session'],\n",
    "                     run=json_entities['run'])[0]\n",
    "channel_df = channel_file.get_df()\n",
    "channel_df = channel_df[channel_df['status'] != 'bad']\n",
    "channel_df\n",
    "    "
   ]
  },
  {
   "cell_type": "markdown",
   "metadata": {},
   "source": [
    "Load events"
   ]
  },
  {
   "cell_type": "code",
   "execution_count": null,
   "metadata": {},
   "outputs": [
    {
     "data": {
      "text/plain": "           onset    sample  duration trial_type  list\n0     375.780287  12024969  1.494031     ENCODE   1.0\n1     378.278411  12104909  1.495906     ENCODE   1.0\n2     380.786316  12185162  1.488000     ENCODE   1.0\n3     383.279534  12264945  1.494781     ENCODE   1.0\n4     385.780283  12344969  1.494031     ENCODE   1.0\n..           ...       ...       ...        ...   ...\n175  1924.491728  61583735  1.495061     ENCODE  15.0\n176  1926.991914  61663741  1.494906     ENCODE  15.0\n177  1929.494851  61743835  1.491968     ENCODE  15.0\n178  1931.994350  61823819  1.492468     ENCODE  15.0\n179  1934.499317  61903978  1.487687     ENCODE  15.0\n\n[180 rows x 5 columns]",
      "text/html": "<div>\n<style scoped>\n    .dataframe tbody tr th:only-of-type {\n        vertical-align: middle;\n    }\n\n    .dataframe tbody tr th {\n        vertical-align: top;\n    }\n\n    .dataframe thead th {\n        text-align: right;\n    }\n</style>\n<table border=\"1\" class=\"dataframe\">\n  <thead>\n    <tr style=\"text-align: right;\">\n      <th></th>\n      <th>onset</th>\n      <th>sample</th>\n      <th>duration</th>\n      <th>trial_type</th>\n      <th>list</th>\n    </tr>\n  </thead>\n  <tbody>\n    <tr>\n      <th>0</th>\n      <td>375.780287</td>\n      <td>12024969</td>\n      <td>1.494031</td>\n      <td>ENCODE</td>\n      <td>1.0</td>\n    </tr>\n    <tr>\n      <th>1</th>\n      <td>378.278411</td>\n      <td>12104909</td>\n      <td>1.495906</td>\n      <td>ENCODE</td>\n      <td>1.0</td>\n    </tr>\n    <tr>\n      <th>2</th>\n      <td>380.786316</td>\n      <td>12185162</td>\n      <td>1.488000</td>\n      <td>ENCODE</td>\n      <td>1.0</td>\n    </tr>\n    <tr>\n      <th>3</th>\n      <td>383.279534</td>\n      <td>12264945</td>\n      <td>1.494781</td>\n      <td>ENCODE</td>\n      <td>1.0</td>\n    </tr>\n    <tr>\n      <th>4</th>\n      <td>385.780283</td>\n      <td>12344969</td>\n      <td>1.494031</td>\n      <td>ENCODE</td>\n      <td>1.0</td>\n    </tr>\n    <tr>\n      <th>...</th>\n      <td>...</td>\n      <td>...</td>\n      <td>...</td>\n      <td>...</td>\n      <td>...</td>\n    </tr>\n    <tr>\n      <th>175</th>\n      <td>1924.491728</td>\n      <td>61583735</td>\n      <td>1.495061</td>\n      <td>ENCODE</td>\n      <td>15.0</td>\n    </tr>\n    <tr>\n      <th>176</th>\n      <td>1926.991914</td>\n      <td>61663741</td>\n      <td>1.494906</td>\n      <td>ENCODE</td>\n      <td>15.0</td>\n    </tr>\n    <tr>\n      <th>177</th>\n      <td>1929.494851</td>\n      <td>61743835</td>\n      <td>1.491968</td>\n      <td>ENCODE</td>\n      <td>15.0</td>\n    </tr>\n    <tr>\n      <th>178</th>\n      <td>1931.994350</td>\n      <td>61823819</td>\n      <td>1.492468</td>\n      <td>ENCODE</td>\n      <td>15.0</td>\n    </tr>\n    <tr>\n      <th>179</th>\n      <td>1934.499317</td>\n      <td>61903978</td>\n      <td>1.487687</td>\n      <td>ENCODE</td>\n      <td>15.0</td>\n    </tr>\n  </tbody>\n</table>\n<p>180 rows × 5 columns</p>\n</div>"
     },
     "execution_count": 42,
     "metadata": {},
     "output_type": "execute_result"
    }
   ],
   "source": [
    "events_file = l.get(suffix='events', extension='tsv',\n",
    "                    task=json_entities['task'],\n",
    "                    subject=json_entities['subject'],\n",
    "                    session=json_entities['session'],\n",
    "                    run=json_entities['run'])[0]\n",
    "events_df = events_file.get_df()\n",
    "\n",
    "# Pull only the processed events (discarding the original events)\n",
    "events_df = events_df.loc[~events_df['trial_type'].isna(), ['onset', 'sample', 'duration', 'trial_type', 'list']]\n",
    "events_df = events_df[events_df['trial_type'] == 'ENCODE']\n",
    "events_df = events_df.reset_index(drop=True)\n",
    "events_df\n"
   ]
  },
  {
   "cell_type": "markdown",
   "metadata": {},
   "source": [
    "Now load the raw data"
   ]
  },
  {
   "cell_type": "code",
   "execution_count": null,
   "metadata": {},
   "outputs": [
    {
     "name": "stdout",
     "output_type": "stream",
     "text": [
      "C:\\MasterThesis\\v1.0\\sub-004\\ses-001\\ieeg\\sub-004_ses-001_task-FR_run-01_ieeg.mefd\n"
     ]
    },
    {
     "data": {
      "text/plain": "[{'name': 'LAM_01',\n  'fsamp': array([32000.]),\n  'nsamp': array([65920218], dtype=int64),\n  'ufact': array([0.03051851]),\n  'unit': array([b'uV'], dtype='|S128'),\n  'start_time': array([1553940917170848], dtype=int64),\n  'end_time': array([1553942977177662], dtype=int64),\n  'channel_description': array([b'SEEG'], dtype='|S2048')},\n {'name': 'LAM_02',\n  'fsamp': array([32000.]),\n  'nsamp': array([65920218], dtype=int64),\n  'ufact': array([0.03051851]),\n  'unit': array([b'uV'], dtype='|S128'),\n  'start_time': array([1553940917170848], dtype=int64),\n  'end_time': array([1553942977177662], dtype=int64),\n  'channel_description': array([b'SEEG'], dtype='|S2048')},\n {'name': 'LAM_03',\n  'fsamp': array([32000.]),\n  'nsamp': array([65920218], dtype=int64),\n  'ufact': array([0.03051851]),\n  'unit': array([b'uV'], dtype='|S128'),\n  'start_time': array([1553940917170848], dtype=int64),\n  'end_time': array([1553942977177662], dtype=int64),\n  'channel_description': array([b'SEEG'], dtype='|S2048')},\n {'name': 'LAM_04',\n  'fsamp': array([32000.]),\n  'nsamp': array([65920218], dtype=int64),\n  'ufact': array([0.03051851]),\n  'unit': array([b'uV'], dtype='|S128'),\n  'start_time': array([1553940917170848], dtype=int64),\n  'end_time': array([1553942977177662], dtype=int64),\n  'channel_description': array([b'SEEG'], dtype='|S2048')},\n {'name': 'LAM_05',\n  'fsamp': array([32000.]),\n  'nsamp': array([65920218], dtype=int64),\n  'ufact': array([0.03051851]),\n  'unit': array([b'uV'], dtype='|S128'),\n  'start_time': array([1553940917170848], dtype=int64),\n  'end_time': array([1553942977177662], dtype=int64),\n  'channel_description': array([b'SEEG'], dtype='|S2048')},\n {'name': 'LAM_06',\n  'fsamp': array([32000.]),\n  'nsamp': array([65920218], dtype=int64),\n  'ufact': array([0.03051851]),\n  'unit': array([b'uV'], dtype='|S128'),\n  'start_time': array([1553940917170848], dtype=int64),\n  'end_time': array([1553942977177662], dtype=int64),\n  'channel_description': array([b'SEEG'], dtype='|S2048')},\n {'name': 'LAM_07',\n  'fsamp': array([32000.]),\n  'nsamp': array([65920218], dtype=int64),\n  'ufact': array([0.03051851]),\n  'unit': array([b'uV'], dtype='|S128'),\n  'start_time': array([1553940917170848], dtype=int64),\n  'end_time': array([1553942977177662], dtype=int64),\n  'channel_description': array([b'SEEG'], dtype='|S2048')},\n {'name': 'LAM_08',\n  'fsamp': array([32000.]),\n  'nsamp': array([65920218], dtype=int64),\n  'ufact': array([0.03051851]),\n  'unit': array([b'uV'], dtype='|S128'),\n  'start_time': array([1553940917170848], dtype=int64),\n  'end_time': array([1553942977177662], dtype=int64),\n  'channel_description': array([b'SEEG'], dtype='|S2048')},\n {'name': 'LAM_09',\n  'fsamp': array([32000.]),\n  'nsamp': array([65920218], dtype=int64),\n  'ufact': array([0.03051851]),\n  'unit': array([b'uV'], dtype='|S128'),\n  'start_time': array([1553940917170848], dtype=int64),\n  'end_time': array([1553942977177662], dtype=int64),\n  'channel_description': array([b'SEEG'], dtype='|S2048')},\n {'name': 'LAM_10',\n  'fsamp': array([32000.]),\n  'nsamp': array([65920218], dtype=int64),\n  'ufact': array([0.03051851]),\n  'unit': array([b'uV'], dtype='|S128'),\n  'start_time': array([1553940917170848], dtype=int64),\n  'end_time': array([1553942977177662], dtype=int64),\n  'channel_description': array([b'SEEG'], dtype='|S2048')},\n {'name': 'LAM_11',\n  'fsamp': array([32000.]),\n  'nsamp': array([65920218], dtype=int64),\n  'ufact': array([0.03051851]),\n  'unit': array([b'uV'], dtype='|S128'),\n  'start_time': array([1553940917170848], dtype=int64),\n  'end_time': array([1553942977177662], dtype=int64),\n  'channel_description': array([b'SEEG'], dtype='|S2048')},\n {'name': 'LAM_12',\n  'fsamp': array([32000.]),\n  'nsamp': array([65920218], dtype=int64),\n  'ufact': array([0.03051851]),\n  'unit': array([b'uV'], dtype='|S128'),\n  'start_time': array([1553940917170848], dtype=int64),\n  'end_time': array([1553942977177662], dtype=int64),\n  'channel_description': array([b'SEEG'], dtype='|S2048')},\n {'name': 'LA_01',\n  'fsamp': array([32000.]),\n  'nsamp': array([65920218], dtype=int64),\n  'ufact': array([0.03051851]),\n  'unit': array([b'uV'], dtype='|S128'),\n  'start_time': array([1553940917170848], dtype=int64),\n  'end_time': array([1553942977177662], dtype=int64),\n  'channel_description': array([b'SEEG'], dtype='|S2048')},\n {'name': 'LA_02',\n  'fsamp': array([32000.]),\n  'nsamp': array([65920218], dtype=int64),\n  'ufact': array([0.03051851]),\n  'unit': array([b'uV'], dtype='|S128'),\n  'start_time': array([1553940917170848], dtype=int64),\n  'end_time': array([1553942977177662], dtype=int64),\n  'channel_description': array([b'SEEG'], dtype='|S2048')},\n {'name': 'LA_03',\n  'fsamp': array([32000.]),\n  'nsamp': array([65920218], dtype=int64),\n  'ufact': array([0.03051851]),\n  'unit': array([b'uV'], dtype='|S128'),\n  'start_time': array([1553940917170848], dtype=int64),\n  'end_time': array([1553942977177662], dtype=int64),\n  'channel_description': array([b'SEEG'], dtype='|S2048')},\n {'name': 'LA_04',\n  'fsamp': array([32000.]),\n  'nsamp': array([65920218], dtype=int64),\n  'ufact': array([0.03051851]),\n  'unit': array([b'uV'], dtype='|S128'),\n  'start_time': array([1553940917170848], dtype=int64),\n  'end_time': array([1553942977177662], dtype=int64),\n  'channel_description': array([b'SEEG'], dtype='|S2048')},\n {'name': 'LA_05',\n  'fsamp': array([32000.]),\n  'nsamp': array([65920218], dtype=int64),\n  'ufact': array([0.03051851]),\n  'unit': array([b'uV'], dtype='|S128'),\n  'start_time': array([1553940917170848], dtype=int64),\n  'end_time': array([1553942977177662], dtype=int64),\n  'channel_description': array([b'SEEG'], dtype='|S2048')},\n {'name': 'LA_06',\n  'fsamp': array([32000.]),\n  'nsamp': array([65920218], dtype=int64),\n  'ufact': array([0.03051851]),\n  'unit': array([b'uV'], dtype='|S128'),\n  'start_time': array([1553940917170848], dtype=int64),\n  'end_time': array([1553942977177662], dtype=int64),\n  'channel_description': array([b'SEEG'], dtype='|S2048')},\n {'name': 'LA_07',\n  'fsamp': array([32000.]),\n  'nsamp': array([65920218], dtype=int64),\n  'ufact': array([0.03051851]),\n  'unit': array([b'uV'], dtype='|S128'),\n  'start_time': array([1553940917170848], dtype=int64),\n  'end_time': array([1553942977177662], dtype=int64),\n  'channel_description': array([b'SEEG'], dtype='|S2048')},\n {'name': 'LA_08',\n  'fsamp': array([32000.]),\n  'nsamp': array([65920218], dtype=int64),\n  'ufact': array([0.03051851]),\n  'unit': array([b'uV'], dtype='|S128'),\n  'start_time': array([1553940917170848], dtype=int64),\n  'end_time': array([1553942977177662], dtype=int64),\n  'channel_description': array([b'SEEG'], dtype='|S2048')},\n {'name': 'LA_09',\n  'fsamp': array([32000.]),\n  'nsamp': array([65920218], dtype=int64),\n  'ufact': array([0.03051851]),\n  'unit': array([b'uV'], dtype='|S128'),\n  'start_time': array([1553940917170848], dtype=int64),\n  'end_time': array([1553942977177662], dtype=int64),\n  'channel_description': array([b'SEEG'], dtype='|S2048')},\n {'name': 'LA_10',\n  'fsamp': array([32000.]),\n  'nsamp': array([65920218], dtype=int64),\n  'ufact': array([0.03051851]),\n  'unit': array([b'uV'], dtype='|S128'),\n  'start_time': array([1553940917170848], dtype=int64),\n  'end_time': array([1553942977177662], dtype=int64),\n  'channel_description': array([b'SEEG'], dtype='|S2048')},\n {'name': 'LA_11',\n  'fsamp': array([32000.]),\n  'nsamp': array([65920218], dtype=int64),\n  'ufact': array([0.03051851]),\n  'unit': array([b'uV'], dtype='|S128'),\n  'start_time': array([1553940917170848], dtype=int64),\n  'end_time': array([1553942977177662], dtype=int64),\n  'channel_description': array([b'SEEG'], dtype='|S2048')},\n {'name': 'LA_12',\n  'fsamp': array([32000.]),\n  'nsamp': array([65920218], dtype=int64),\n  'ufact': array([0.03051851]),\n  'unit': array([b'uV'], dtype='|S128'),\n  'start_time': array([1553940917170848], dtype=int64),\n  'end_time': array([1553942977177662], dtype=int64),\n  'channel_description': array([b'SEEG'], dtype='|S2048')},\n {'name': 'LA_13',\n  'fsamp': array([32000.]),\n  'nsamp': array([65920218], dtype=int64),\n  'ufact': array([0.03051851]),\n  'unit': array([b'uV'], dtype='|S128'),\n  'start_time': array([1553940917170848], dtype=int64),\n  'end_time': array([1553942977177662], dtype=int64),\n  'channel_description': array([b'SEEG'], dtype='|S2048')},\n {'name': 'LA_14',\n  'fsamp': array([32000.]),\n  'nsamp': array([65920218], dtype=int64),\n  'ufact': array([0.03051851]),\n  'unit': array([b'uV'], dtype='|S128'),\n  'start_time': array([1553940917170848], dtype=int64),\n  'end_time': array([1553942977177662], dtype=int64),\n  'channel_description': array([b'SEEG'], dtype='|S2048')},\n {'name': 'LB_01',\n  'fsamp': array([32000.]),\n  'nsamp': array([65920218], dtype=int64),\n  'ufact': array([0.03051851]),\n  'unit': array([b'uV'], dtype='|S128'),\n  'start_time': array([1553940917170848], dtype=int64),\n  'end_time': array([1553942977177662], dtype=int64),\n  'channel_description': array([b'SEEG'], dtype='|S2048')},\n {'name': 'LB_02',\n  'fsamp': array([32000.]),\n  'nsamp': array([65920218], dtype=int64),\n  'ufact': array([0.03051851]),\n  'unit': array([b'uV'], dtype='|S128'),\n  'start_time': array([1553940917170848], dtype=int64),\n  'end_time': array([1553942977177662], dtype=int64),\n  'channel_description': array([b'SEEG'], dtype='|S2048')},\n {'name': 'LB_03',\n  'fsamp': array([32000.]),\n  'nsamp': array([65920218], dtype=int64),\n  'ufact': array([0.03051851]),\n  'unit': array([b'uV'], dtype='|S128'),\n  'start_time': array([1553940917170848], dtype=int64),\n  'end_time': array([1553942977177662], dtype=int64),\n  'channel_description': array([b'SEEG'], dtype='|S2048')},\n {'name': 'LB_04',\n  'fsamp': array([32000.]),\n  'nsamp': array([65920218], dtype=int64),\n  'ufact': array([0.03051851]),\n  'unit': array([b'uV'], dtype='|S128'),\n  'start_time': array([1553940917170848], dtype=int64),\n  'end_time': array([1553942977177662], dtype=int64),\n  'channel_description': array([b'SEEG'], dtype='|S2048')},\n {'name': 'LB_05',\n  'fsamp': array([32000.]),\n  'nsamp': array([65920218], dtype=int64),\n  'ufact': array([0.03051851]),\n  'unit': array([b'uV'], dtype='|S128'),\n  'start_time': array([1553940917170848], dtype=int64),\n  'end_time': array([1553942977177662], dtype=int64),\n  'channel_description': array([b'SEEG'], dtype='|S2048')},\n {'name': 'LB_06',\n  'fsamp': array([32000.]),\n  'nsamp': array([65920218], dtype=int64),\n  'ufact': array([0.03051851]),\n  'unit': array([b'uV'], dtype='|S128'),\n  'start_time': array([1553940917170848], dtype=int64),\n  'end_time': array([1553942977177662], dtype=int64),\n  'channel_description': array([b'SEEG'], dtype='|S2048')},\n {'name': 'LB_07',\n  'fsamp': array([32000.]),\n  'nsamp': array([65920218], dtype=int64),\n  'ufact': array([0.03051851]),\n  'unit': array([b'uV'], dtype='|S128'),\n  'start_time': array([1553940917170848], dtype=int64),\n  'end_time': array([1553942977177662], dtype=int64),\n  'channel_description': array([b'SEEG'], dtype='|S2048')},\n {'name': 'LB_08',\n  'fsamp': array([32000.]),\n  'nsamp': array([65920218], dtype=int64),\n  'ufact': array([0.03051851]),\n  'unit': array([b'uV'], dtype='|S128'),\n  'start_time': array([1553940917170848], dtype=int64),\n  'end_time': array([1553942977177662], dtype=int64),\n  'channel_description': array([b'SEEG'], dtype='|S2048')},\n {'name': 'LB_09',\n  'fsamp': array([32000.]),\n  'nsamp': array([65920218], dtype=int64),\n  'ufact': array([0.03051851]),\n  'unit': array([b'uV'], dtype='|S128'),\n  'start_time': array([1553940917170848], dtype=int64),\n  'end_time': array([1553942977177662], dtype=int64),\n  'channel_description': array([b'SEEG'], dtype='|S2048')},\n {'name': 'LB_10',\n  'fsamp': array([32000.]),\n  'nsamp': array([65920218], dtype=int64),\n  'ufact': array([0.03051851]),\n  'unit': array([b'uV'], dtype='|S128'),\n  'start_time': array([1553940917170848], dtype=int64),\n  'end_time': array([1553942977177662], dtype=int64),\n  'channel_description': array([b'SEEG'], dtype='|S2048')},\n {'name': 'LB_11',\n  'fsamp': array([32000.]),\n  'nsamp': array([65920218], dtype=int64),\n  'ufact': array([0.03051851]),\n  'unit': array([b'uV'], dtype='|S128'),\n  'start_time': array([1553940917170848], dtype=int64),\n  'end_time': array([1553942977177662], dtype=int64),\n  'channel_description': array([b'SEEG'], dtype='|S2048')},\n {'name': 'LB_12',\n  'fsamp': array([32000.]),\n  'nsamp': array([65920218], dtype=int64),\n  'ufact': array([0.03051851]),\n  'unit': array([b'uV'], dtype='|S128'),\n  'start_time': array([1553940917170848], dtype=int64),\n  'end_time': array([1553942977177662], dtype=int64),\n  'channel_description': array([b'SEEG'], dtype='|S2048')},\n {'name': 'LB_13',\n  'fsamp': array([32000.]),\n  'nsamp': array([65920218], dtype=int64),\n  'ufact': array([0.03051851]),\n  'unit': array([b'uV'], dtype='|S128'),\n  'start_time': array([1553940917170848], dtype=int64),\n  'end_time': array([1553942977177662], dtype=int64),\n  'channel_description': array([b'SEEG'], dtype='|S2048')},\n {'name': 'LB_14',\n  'fsamp': array([32000.]),\n  'nsamp': array([65920218], dtype=int64),\n  'ufact': array([0.03051851]),\n  'unit': array([b'uV'], dtype='|S128'),\n  'start_time': array([1553940917170848], dtype=int64),\n  'end_time': array([1553942977177662], dtype=int64),\n  'channel_description': array([b'SEEG'], dtype='|S2048')},\n {'name': 'LB_15',\n  'fsamp': array([32000.]),\n  'nsamp': array([65920218], dtype=int64),\n  'ufact': array([0.03051851]),\n  'unit': array([b'uV'], dtype='|S128'),\n  'start_time': array([1553940917170848], dtype=int64),\n  'end_time': array([1553942977177662], dtype=int64),\n  'channel_description': array([b'SEEG'], dtype='|S2048')},\n {'name': 'LB_16',\n  'fsamp': array([32000.]),\n  'nsamp': array([65920218], dtype=int64),\n  'ufact': array([0.03051851]),\n  'unit': array([b'uV'], dtype='|S128'),\n  'start_time': array([1553940917170848], dtype=int64),\n  'end_time': array([1553942977177662], dtype=int64),\n  'channel_description': array([b'SEEG'], dtype='|S2048')},\n {'name': 'LC_01',\n  'fsamp': array([32000.]),\n  'nsamp': array([65920218], dtype=int64),\n  'ufact': array([0.03051851]),\n  'unit': array([b'uV'], dtype='|S128'),\n  'start_time': array([1553940917170848], dtype=int64),\n  'end_time': array([1553942977177662], dtype=int64),\n  'channel_description': array([b'SEEG'], dtype='|S2048')},\n {'name': 'LC_02',\n  'fsamp': array([32000.]),\n  'nsamp': array([65920218], dtype=int64),\n  'ufact': array([0.03051851]),\n  'unit': array([b'uV'], dtype='|S128'),\n  'start_time': array([1553940917170848], dtype=int64),\n  'end_time': array([1553942977177662], dtype=int64),\n  'channel_description': array([b'SEEG'], dtype='|S2048')},\n {'name': 'LC_03',\n  'fsamp': array([32000.]),\n  'nsamp': array([65920218], dtype=int64),\n  'ufact': array([0.03051851]),\n  'unit': array([b'uV'], dtype='|S128'),\n  'start_time': array([1553940917170848], dtype=int64),\n  'end_time': array([1553942977177662], dtype=int64),\n  'channel_description': array([b'SEEG'], dtype='|S2048')},\n {'name': 'LC_04',\n  'fsamp': array([32000.]),\n  'nsamp': array([65920218], dtype=int64),\n  'ufact': array([0.03051851]),\n  'unit': array([b'uV'], dtype='|S128'),\n  'start_time': array([1553940917170848], dtype=int64),\n  'end_time': array([1553942977177662], dtype=int64),\n  'channel_description': array([b'SEEG'], dtype='|S2048')},\n {'name': 'LC_05',\n  'fsamp': array([32000.]),\n  'nsamp': array([65920218], dtype=int64),\n  'ufact': array([0.03051851]),\n  'unit': array([b'uV'], dtype='|S128'),\n  'start_time': array([1553940917170848], dtype=int64),\n  'end_time': array([1553942977177662], dtype=int64),\n  'channel_description': array([b'SEEG'], dtype='|S2048')},\n {'name': 'LC_06',\n  'fsamp': array([32000.]),\n  'nsamp': array([65920218], dtype=int64),\n  'ufact': array([0.03051851]),\n  'unit': array([b'uV'], dtype='|S128'),\n  'start_time': array([1553940917170848], dtype=int64),\n  'end_time': array([1553942977177662], dtype=int64),\n  'channel_description': array([b'SEEG'], dtype='|S2048')},\n {'name': 'LC_07',\n  'fsamp': array([32000.]),\n  'nsamp': array([65920218], dtype=int64),\n  'ufact': array([0.03051851]),\n  'unit': array([b'uV'], dtype='|S128'),\n  'start_time': array([1553940917170848], dtype=int64),\n  'end_time': array([1553942977177662], dtype=int64),\n  'channel_description': array([b'SEEG'], dtype='|S2048')},\n {'name': 'LC_08',\n  'fsamp': array([32000.]),\n  'nsamp': array([65920218], dtype=int64),\n  'ufact': array([0.03051851]),\n  'unit': array([b'uV'], dtype='|S128'),\n  'start_time': array([1553940917170848], dtype=int64),\n  'end_time': array([1553942977177662], dtype=int64),\n  'channel_description': array([b'SEEG'], dtype='|S2048')},\n {'name': 'LC_09',\n  'fsamp': array([32000.]),\n  'nsamp': array([65920218], dtype=int64),\n  'ufact': array([0.03051851]),\n  'unit': array([b'uV'], dtype='|S128'),\n  'start_time': array([1553940917170848], dtype=int64),\n  'end_time': array([1553942977177662], dtype=int64),\n  'channel_description': array([b'SEEG'], dtype='|S2048')},\n {'name': 'LC_10',\n  'fsamp': array([32000.]),\n  'nsamp': array([65920218], dtype=int64),\n  'ufact': array([0.03051851]),\n  'unit': array([b'uV'], dtype='|S128'),\n  'start_time': array([1553940917170848], dtype=int64),\n  'end_time': array([1553942977177662], dtype=int64),\n  'channel_description': array([b'SEEG'], dtype='|S2048')},\n {'name': 'LC_11',\n  'fsamp': array([32000.]),\n  'nsamp': array([65920218], dtype=int64),\n  'ufact': array([0.03051851]),\n  'unit': array([b'uV'], dtype='|S128'),\n  'start_time': array([1553940917170848], dtype=int64),\n  'end_time': array([1553942977177662], dtype=int64),\n  'channel_description': array([b'SEEG'], dtype='|S2048')},\n {'name': 'LC_12',\n  'fsamp': array([32000.]),\n  'nsamp': array([65920218], dtype=int64),\n  'ufact': array([0.03051851]),\n  'unit': array([b'uV'], dtype='|S128'),\n  'start_time': array([1553940917170848], dtype=int64),\n  'end_time': array([1553942977177662], dtype=int64),\n  'channel_description': array([b'SEEG'], dtype='|S2048')},\n {'name': 'LC_13',\n  'fsamp': array([32000.]),\n  'nsamp': array([65920218], dtype=int64),\n  'ufact': array([0.03051851]),\n  'unit': array([b'uV'], dtype='|S128'),\n  'start_time': array([1553940917170848], dtype=int64),\n  'end_time': array([1553942977177662], dtype=int64),\n  'channel_description': array([b'SEEG'], dtype='|S2048')},\n {'name': 'LC_14',\n  'fsamp': array([32000.]),\n  'nsamp': array([65920218], dtype=int64),\n  'ufact': array([0.03051851]),\n  'unit': array([b'uV'], dtype='|S128'),\n  'start_time': array([1553940917170848], dtype=int64),\n  'end_time': array([1553942977177662], dtype=int64),\n  'channel_description': array([b'SEEG'], dtype='|S2048')},\n {'name': 'LEFT_PUPIL_SIZE',\n  'fsamp': array([150.]),\n  'nsamp': array([242871], dtype=int64),\n  'ufact': array([1.e-06]),\n  'unit': array([b'px2'], dtype='|S128'),\n  'start_time': array([1553941284955135], dtype=int64),\n  'end_time': array([1553942904095135], dtype=int64),\n  'channel_description': array([b'PUPIL'], dtype='|S2048')},\n {'name': 'LEFT_X_COORD',\n  'fsamp': array([150.]),\n  'nsamp': array([242871], dtype=int64),\n  'ufact': array([1.e-06]),\n  'unit': array([b'px'], dtype='|S128'),\n  'start_time': array([1553941284955135], dtype=int64),\n  'end_time': array([1553942904095135], dtype=int64),\n  'channel_description': array([b'EYEGAZE'], dtype='|S2048')},\n {'name': 'LEFT_Y_COORD',\n  'fsamp': array([150.]),\n  'nsamp': array([242871], dtype=int64),\n  'ufact': array([1.e-06]),\n  'unit': array([b'px'], dtype='|S128'),\n  'start_time': array([1553941284955135], dtype=int64),\n  'end_time': array([1553942904095135], dtype=int64),\n  'channel_description': array([b'EYEGAZE'], dtype='|S2048')},\n {'name': 'LK_01',\n  'fsamp': array([32000.]),\n  'nsamp': array([65920218], dtype=int64),\n  'ufact': array([0.03051851]),\n  'unit': array([b'uV'], dtype='|S128'),\n  'start_time': array([1553940917170848], dtype=int64),\n  'end_time': array([1553942977177662], dtype=int64),\n  'channel_description': array([b'SEEG'], dtype='|S2048')},\n {'name': 'LK_02',\n  'fsamp': array([32000.]),\n  'nsamp': array([65920218], dtype=int64),\n  'ufact': array([0.03051851]),\n  'unit': array([b'uV'], dtype='|S128'),\n  'start_time': array([1553940917170848], dtype=int64),\n  'end_time': array([1553942977177662], dtype=int64),\n  'channel_description': array([b'SEEG'], dtype='|S2048')},\n {'name': 'LK_03',\n  'fsamp': array([32000.]),\n  'nsamp': array([65920218], dtype=int64),\n  'ufact': array([0.03051851]),\n  'unit': array([b'uV'], dtype='|S128'),\n  'start_time': array([1553940917170848], dtype=int64),\n  'end_time': array([1553942977177662], dtype=int64),\n  'channel_description': array([b'SEEG'], dtype='|S2048')},\n {'name': 'LK_04',\n  'fsamp': array([32000.]),\n  'nsamp': array([65920218], dtype=int64),\n  'ufact': array([0.03051851]),\n  'unit': array([b'uV'], dtype='|S128'),\n  'start_time': array([1553940917170848], dtype=int64),\n  'end_time': array([1553942977177662], dtype=int64),\n  'channel_description': array([b'SEEG'], dtype='|S2048')},\n {'name': 'LK_05',\n  'fsamp': array([32000.]),\n  'nsamp': array([65920218], dtype=int64),\n  'ufact': array([0.03051851]),\n  'unit': array([b'uV'], dtype='|S128'),\n  'start_time': array([1553940917170848], dtype=int64),\n  'end_time': array([1553942977177662], dtype=int64),\n  'channel_description': array([b'SEEG'], dtype='|S2048')},\n {'name': 'LK_06',\n  'fsamp': array([32000.]),\n  'nsamp': array([65920218], dtype=int64),\n  'ufact': array([0.03051851]),\n  'unit': array([b'uV'], dtype='|S128'),\n  'start_time': array([1553940917170848], dtype=int64),\n  'end_time': array([1553942977177662], dtype=int64),\n  'channel_description': array([b'SEEG'], dtype='|S2048')},\n {'name': 'LK_07',\n  'fsamp': array([32000.]),\n  'nsamp': array([65920218], dtype=int64),\n  'ufact': array([0.03051851]),\n  'unit': array([b'uV'], dtype='|S128'),\n  'start_time': array([1553940917170848], dtype=int64),\n  'end_time': array([1553942977177662], dtype=int64),\n  'channel_description': array([b'SEEG'], dtype='|S2048')},\n {'name': 'LK_08',\n  'fsamp': array([32000.]),\n  'nsamp': array([65920218], dtype=int64),\n  'ufact': array([0.03051851]),\n  'unit': array([b'uV'], dtype='|S128'),\n  'start_time': array([1553940917170848], dtype=int64),\n  'end_time': array([1553942977177662], dtype=int64),\n  'channel_description': array([b'SEEG'], dtype='|S2048')},\n {'name': 'LK_09',\n  'fsamp': array([32000.]),\n  'nsamp': array([65920218], dtype=int64),\n  'ufact': array([0.03051851]),\n  'unit': array([b'uV'], dtype='|S128'),\n  'start_time': array([1553940917170848], dtype=int64),\n  'end_time': array([1553942977177662], dtype=int64),\n  'channel_description': array([b'SEEG'], dtype='|S2048')},\n {'name': 'LK_10',\n  'fsamp': array([32000.]),\n  'nsamp': array([65920218], dtype=int64),\n  'ufact': array([0.03051851]),\n  'unit': array([b'uV'], dtype='|S128'),\n  'start_time': array([1553940917170848], dtype=int64),\n  'end_time': array([1553942977177662], dtype=int64),\n  'channel_description': array([b'SEEG'], dtype='|S2048')},\n {'name': 'LK_11',\n  'fsamp': array([32000.]),\n  'nsamp': array([65920218], dtype=int64),\n  'ufact': array([0.03051851]),\n  'unit': array([b'uV'], dtype='|S128'),\n  'start_time': array([1553940917170848], dtype=int64),\n  'end_time': array([1553942977177662], dtype=int64),\n  'channel_description': array([b'SEEG'], dtype='|S2048')},\n {'name': 'LK_12',\n  'fsamp': array([32000.]),\n  'nsamp': array([65920218], dtype=int64),\n  'ufact': array([0.03051851]),\n  'unit': array([b'uV'], dtype='|S128'),\n  'start_time': array([1553940917170848], dtype=int64),\n  'end_time': array([1553942977177662], dtype=int64),\n  'channel_description': array([b'SEEG'], dtype='|S2048')},\n {'name': 'LPM_01',\n  'fsamp': array([32000.]),\n  'nsamp': array([65920218], dtype=int64),\n  'ufact': array([0.03051851]),\n  'unit': array([b'uV'], dtype='|S128'),\n  'start_time': array([1553940917170848], dtype=int64),\n  'end_time': array([1553942977177662], dtype=int64),\n  'channel_description': array([b'SEEG'], dtype='|S2048')},\n {'name': 'LPM_02',\n  'fsamp': array([32000.]),\n  'nsamp': array([65920218], dtype=int64),\n  'ufact': array([0.03051851]),\n  'unit': array([b'uV'], dtype='|S128'),\n  'start_time': array([1553940917170848], dtype=int64),\n  'end_time': array([1553942977177662], dtype=int64),\n  'channel_description': array([b'SEEG'], dtype='|S2048')},\n {'name': 'LPM_03',\n  'fsamp': array([32000.]),\n  'nsamp': array([65920218], dtype=int64),\n  'ufact': array([0.03051851]),\n  'unit': array([b'uV'], dtype='|S128'),\n  'start_time': array([1553940917170848], dtype=int64),\n  'end_time': array([1553942977177662], dtype=int64),\n  'channel_description': array([b'SEEG'], dtype='|S2048')},\n {'name': 'LPM_04',\n  'fsamp': array([32000.]),\n  'nsamp': array([65920218], dtype=int64),\n  'ufact': array([0.03051851]),\n  'unit': array([b'uV'], dtype='|S128'),\n  'start_time': array([1553940917170848], dtype=int64),\n  'end_time': array([1553942977177662], dtype=int64),\n  'channel_description': array([b'SEEG'], dtype='|S2048')},\n {'name': 'LPM_05',\n  'fsamp': array([32000.]),\n  'nsamp': array([65920218], dtype=int64),\n  'ufact': array([0.03051851]),\n  'unit': array([b'uV'], dtype='|S128'),\n  'start_time': array([1553940917170848], dtype=int64),\n  'end_time': array([1553942977177662], dtype=int64),\n  'channel_description': array([b'SEEG'], dtype='|S2048')},\n {'name': 'LPM_06',\n  'fsamp': array([32000.]),\n  'nsamp': array([65920218], dtype=int64),\n  'ufact': array([0.03051851]),\n  'unit': array([b'uV'], dtype='|S128'),\n  'start_time': array([1553940917170848], dtype=int64),\n  'end_time': array([1553942977177662], dtype=int64),\n  'channel_description': array([b'SEEG'], dtype='|S2048')},\n {'name': 'LPM_07',\n  'fsamp': array([32000.]),\n  'nsamp': array([65920218], dtype=int64),\n  'ufact': array([0.03051851]),\n  'unit': array([b'uV'], dtype='|S128'),\n  'start_time': array([1553940917170848], dtype=int64),\n  'end_time': array([1553942977177662], dtype=int64),\n  'channel_description': array([b'SEEG'], dtype='|S2048')},\n {'name': 'LPM_08',\n  'fsamp': array([32000.]),\n  'nsamp': array([65920218], dtype=int64),\n  'ufact': array([0.03051851]),\n  'unit': array([b'uV'], dtype='|S128'),\n  'start_time': array([1553940917170848], dtype=int64),\n  'end_time': array([1553942977177662], dtype=int64),\n  'channel_description': array([b'SEEG'], dtype='|S2048')},\n {'name': 'LPM_09',\n  'fsamp': array([32000.]),\n  'nsamp': array([65920218], dtype=int64),\n  'ufact': array([0.03051851]),\n  'unit': array([b'uV'], dtype='|S128'),\n  'start_time': array([1553940917170848], dtype=int64),\n  'end_time': array([1553942977177662], dtype=int64),\n  'channel_description': array([b'SEEG'], dtype='|S2048')},\n {'name': 'LPM_10',\n  'fsamp': array([32000.]),\n  'nsamp': array([65920218], dtype=int64),\n  'ufact': array([0.03051851]),\n  'unit': array([b'uV'], dtype='|S128'),\n  'start_time': array([1553940917170848], dtype=int64),\n  'end_time': array([1553942977177662], dtype=int64),\n  'channel_description': array([b'SEEG'], dtype='|S2048')},\n {'name': 'LP_01',\n  'fsamp': array([32000.]),\n  'nsamp': array([65920218], dtype=int64),\n  'ufact': array([0.03051851]),\n  'unit': array([b'uV'], dtype='|S128'),\n  'start_time': array([1553940917170848], dtype=int64),\n  'end_time': array([1553942977177662], dtype=int64),\n  'channel_description': array([b'SEEG'], dtype='|S2048')},\n {'name': 'LP_02',\n  'fsamp': array([32000.]),\n  'nsamp': array([65920218], dtype=int64),\n  'ufact': array([0.03051851]),\n  'unit': array([b'uV'], dtype='|S128'),\n  'start_time': array([1553940917170848], dtype=int64),\n  'end_time': array([1553942977177662], dtype=int64),\n  'channel_description': array([b'SEEG'], dtype='|S2048')},\n {'name': 'LP_03',\n  'fsamp': array([32000.]),\n  'nsamp': array([65920218], dtype=int64),\n  'ufact': array([0.03051851]),\n  'unit': array([b'uV'], dtype='|S128'),\n  'start_time': array([1553940917170848], dtype=int64),\n  'end_time': array([1553942977177662], dtype=int64),\n  'channel_description': array([b'SEEG'], dtype='|S2048')},\n {'name': 'LP_04',\n  'fsamp': array([32000.]),\n  'nsamp': array([65920218], dtype=int64),\n  'ufact': array([0.03051851]),\n  'unit': array([b'uV'], dtype='|S128'),\n  'start_time': array([1553940917170848], dtype=int64),\n  'end_time': array([1553942977177662], dtype=int64),\n  'channel_description': array([b'SEEG'], dtype='|S2048')},\n {'name': 'LP_05',\n  'fsamp': array([32000.]),\n  'nsamp': array([65920218], dtype=int64),\n  'ufact': array([0.03051851]),\n  'unit': array([b'uV'], dtype='|S128'),\n  'start_time': array([1553940917170848], dtype=int64),\n  'end_time': array([1553942977177662], dtype=int64),\n  'channel_description': array([b'SEEG'], dtype='|S2048')},\n {'name': 'LP_06',\n  'fsamp': array([32000.]),\n  'nsamp': array([65920218], dtype=int64),\n  'ufact': array([0.03051851]),\n  'unit': array([b'uV'], dtype='|S128'),\n  'start_time': array([1553940917170848], dtype=int64),\n  'end_time': array([1553942977177662], dtype=int64),\n  'channel_description': array([b'SEEG'], dtype='|S2048')},\n {'name': 'LP_07',\n  'fsamp': array([32000.]),\n  'nsamp': array([65920218], dtype=int64),\n  'ufact': array([0.03051851]),\n  'unit': array([b'uV'], dtype='|S128'),\n  'start_time': array([1553940917170848], dtype=int64),\n  'end_time': array([1553942977177662], dtype=int64),\n  'channel_description': array([b'SEEG'], dtype='|S2048')},\n {'name': 'LP_08',\n  'fsamp': array([32000.]),\n  'nsamp': array([65920218], dtype=int64),\n  'ufact': array([0.03051851]),\n  'unit': array([b'uV'], dtype='|S128'),\n  'start_time': array([1553940917170848], dtype=int64),\n  'end_time': array([1553942977177662], dtype=int64),\n  'channel_description': array([b'SEEG'], dtype='|S2048')},\n {'name': 'LP_09',\n  'fsamp': array([32000.]),\n  'nsamp': array([65920218], dtype=int64),\n  'ufact': array([0.03051851]),\n  'unit': array([b'uV'], dtype='|S128'),\n  'start_time': array([1553940917170848], dtype=int64),\n  'end_time': array([1553942977177662], dtype=int64),\n  'channel_description': array([b'SEEG'], dtype='|S2048')},\n {'name': 'LP_10',\n  'fsamp': array([32000.]),\n  'nsamp': array([65920218], dtype=int64),\n  'ufact': array([0.03051851]),\n  'unit': array([b'uV'], dtype='|S128'),\n  'start_time': array([1553940917170848], dtype=int64),\n  'end_time': array([1553942977177662], dtype=int64),\n  'channel_description': array([b'SEEG'], dtype='|S2048')},\n {'name': 'LP_11',\n  'fsamp': array([32000.]),\n  'nsamp': array([65920218], dtype=int64),\n  'ufact': array([0.03051851]),\n  'unit': array([b'uV'], dtype='|S128'),\n  'start_time': array([1553940917170848], dtype=int64),\n  'end_time': array([1553942977177662], dtype=int64),\n  'channel_description': array([b'SEEG'], dtype='|S2048')},\n {'name': 'LP_12',\n  'fsamp': array([32000.]),\n  'nsamp': array([65920218], dtype=int64),\n  'ufact': array([0.03051851]),\n  'unit': array([b'uV'], dtype='|S128'),\n  'start_time': array([1553940917170848], dtype=int64),\n  'end_time': array([1553942977177662], dtype=int64),\n  'channel_description': array([b'SEEG'], dtype='|S2048')},\n {'name': 'LP_13',\n  'fsamp': array([32000.]),\n  'nsamp': array([65920218], dtype=int64),\n  'ufact': array([0.03051851]),\n  'unit': array([b'uV'], dtype='|S128'),\n  'start_time': array([1553940917170848], dtype=int64),\n  'end_time': array([1553942977177662], dtype=int64),\n  'channel_description': array([b'SEEG'], dtype='|S2048')},\n {'name': 'LP_14',\n  'fsamp': array([32000.]),\n  'nsamp': array([65920218], dtype=int64),\n  'ufact': array([0.03051851]),\n  'unit': array([b'uV'], dtype='|S128'),\n  'start_time': array([1553940917170848], dtype=int64),\n  'end_time': array([1553942977177662], dtype=int64),\n  'channel_description': array([b'SEEG'], dtype='|S2048')},\n {'name': 'LP_15',\n  'fsamp': array([32000.]),\n  'nsamp': array([65920218], dtype=int64),\n  'ufact': array([0.03051851]),\n  'unit': array([b'uV'], dtype='|S128'),\n  'start_time': array([1553940917170848], dtype=int64),\n  'end_time': array([1553942977177662], dtype=int64),\n  'channel_description': array([b'SEEG'], dtype='|S2048')},\n {'name': 'LP_16',\n  'fsamp': array([32000.]),\n  'nsamp': array([65920218], dtype=int64),\n  'ufact': array([0.03051851]),\n  'unit': array([b'uV'], dtype='|S128'),\n  'start_time': array([1553940917170848], dtype=int64),\n  'end_time': array([1553942977177662], dtype=int64),\n  'channel_description': array([b'SEEG'], dtype='|S2048')},\n {'name': 'LV_01',\n  'fsamp': array([32000.]),\n  'nsamp': array([65920218], dtype=int64),\n  'ufact': array([0.03051851]),\n  'unit': array([b'uV'], dtype='|S128'),\n  'start_time': array([1553940917170848], dtype=int64),\n  'end_time': array([1553942977177662], dtype=int64),\n  'channel_description': array([b'SEEG'], dtype='|S2048')},\n {'name': 'LV_02',\n  'fsamp': array([32000.]),\n  'nsamp': array([65920218], dtype=int64),\n  'ufact': array([0.03051851]),\n  'unit': array([b'uV'], dtype='|S128'),\n  'start_time': array([1553940917170848], dtype=int64),\n  'end_time': array([1553942977177662], dtype=int64),\n  'channel_description': array([b'SEEG'], dtype='|S2048')},\n {'name': 'LV_03',\n  'fsamp': array([32000.]),\n  'nsamp': array([65920218], dtype=int64),\n  'ufact': array([0.03051851]),\n  'unit': array([b'uV'], dtype='|S128'),\n  'start_time': array([1553940917170848], dtype=int64),\n  'end_time': array([1553942977177662], dtype=int64),\n  'channel_description': array([b'SEEG'], dtype='|S2048')},\n {'name': 'LV_04',\n  'fsamp': array([32000.]),\n  'nsamp': array([65920218], dtype=int64),\n  'ufact': array([0.03051851]),\n  'unit': array([b'uV'], dtype='|S128'),\n  'start_time': array([1553940917170848], dtype=int64),\n  'end_time': array([1553942977177662], dtype=int64),\n  'channel_description': array([b'SEEG'], dtype='|S2048')},\n {'name': 'LV_05',\n  'fsamp': array([32000.]),\n  'nsamp': array([65920218], dtype=int64),\n  'ufact': array([0.03051851]),\n  'unit': array([b'uV'], dtype='|S128'),\n  'start_time': array([1553940917170848], dtype=int64),\n  'end_time': array([1553942977177662], dtype=int64),\n  'channel_description': array([b'SEEG'], dtype='|S2048')},\n {'name': 'LV_06',\n  'fsamp': array([32000.]),\n  'nsamp': array([65920218], dtype=int64),\n  'ufact': array([0.03051851]),\n  'unit': array([b'uV'], dtype='|S128'),\n  'start_time': array([1553940917170848], dtype=int64),\n  'end_time': array([1553942977177662], dtype=int64),\n  'channel_description': array([b'SEEG'], dtype='|S2048')},\n {'name': 'LV_07',\n  'fsamp': array([32000.]),\n  'nsamp': array([65920218], dtype=int64),\n  'ufact': array([0.03051851]),\n  'unit': array([b'uV'], dtype='|S128'),\n  'start_time': array([1553940917170848], dtype=int64),\n  'end_time': array([1553942977177662], dtype=int64),\n  'channel_description': array([b'SEEG'], dtype='|S2048')},\n {'name': 'LV_08',\n  'fsamp': array([32000.]),\n  'nsamp': array([65920218], dtype=int64),\n  'ufact': array([0.03051851]),\n  'unit': array([b'uV'], dtype='|S128'),\n  'start_time': array([1553940917170848], dtype=int64),\n  'end_time': array([1553942977177662], dtype=int64),\n  'channel_description': array([b'SEEG'], dtype='|S2048')},\n {'name': 'LV_09',\n  'fsamp': array([32000.]),\n  'nsamp': array([65920218], dtype=int64),\n  'ufact': array([0.03051851]),\n  'unit': array([b'uV'], dtype='|S128'),\n  'start_time': array([1553940917170848], dtype=int64),\n  'end_time': array([1553942977177662], dtype=int64),\n  'channel_description': array([b'SEEG'], dtype='|S2048')},\n {'name': 'LV_10',\n  'fsamp': array([32000.]),\n  'nsamp': array([65920218], dtype=int64),\n  'ufact': array([0.03051851]),\n  'unit': array([b'uV'], dtype='|S128'),\n  'start_time': array([1553940917170848], dtype=int64),\n  'end_time': array([1553942977177662], dtype=int64),\n  'channel_description': array([b'SEEG'], dtype='|S2048')},\n {'name': 'LV_11',\n  'fsamp': array([32000.]),\n  'nsamp': array([65920218], dtype=int64),\n  'ufact': array([0.03051851]),\n  'unit': array([b'uV'], dtype='|S128'),\n  'start_time': array([1553940917170848], dtype=int64),\n  'end_time': array([1553942977177662], dtype=int64),\n  'channel_description': array([b'SEEG'], dtype='|S2048')},\n {'name': 'LV_12',\n  'fsamp': array([32000.]),\n  'nsamp': array([65920218], dtype=int64),\n  'ufact': array([0.03051851]),\n  'unit': array([b'uV'], dtype='|S128'),\n  'start_time': array([1553940917170848], dtype=int64),\n  'end_time': array([1553942977177662], dtype=int64),\n  'channel_description': array([b'SEEG'], dtype='|S2048')},\n {'name': 'LV_13',\n  'fsamp': array([32000.]),\n  'nsamp': array([65920218], dtype=int64),\n  'ufact': array([0.03051851]),\n  'unit': array([b'uV'], dtype='|S128'),\n  'start_time': array([1553940917170848], dtype=int64),\n  'end_time': array([1553942977177662], dtype=int64),\n  'channel_description': array([b'SEEG'], dtype='|S2048')},\n {'name': 'LV_14',\n  'fsamp': array([32000.]),\n  'nsamp': array([65920218], dtype=int64),\n  'ufact': array([0.03051851]),\n  'unit': array([b'uV'], dtype='|S128'),\n  'start_time': array([1553940917170848], dtype=int64),\n  'end_time': array([1553942977177662], dtype=int64),\n  'channel_description': array([b'SEEG'], dtype='|S2048')},\n {'name': 'LV_15',\n  'fsamp': array([32000.]),\n  'nsamp': array([65920218], dtype=int64),\n  'ufact': array([0.03051851]),\n  'unit': array([b'uV'], dtype='|S128'),\n  'start_time': array([1553940917170848], dtype=int64),\n  'end_time': array([1553942977177662], dtype=int64),\n  'channel_description': array([b'SEEG'], dtype='|S2048')},\n {'name': 'LV_16',\n  'fsamp': array([32000.]),\n  'nsamp': array([65920218], dtype=int64),\n  'ufact': array([0.03051851]),\n  'unit': array([b'uV'], dtype='|S128'),\n  'start_time': array([1553940917170848], dtype=int64),\n  'end_time': array([1553942977177662], dtype=int64),\n  'channel_description': array([b'SEEG'], dtype='|S2048')},\n {'name': 'LZ_01',\n  'fsamp': array([32000.]),\n  'nsamp': array([65920218], dtype=int64),\n  'ufact': array([0.03051851]),\n  'unit': array([b'uV'], dtype='|S128'),\n  'start_time': array([1553940917170848], dtype=int64),\n  'end_time': array([1553942977177662], dtype=int64),\n  'channel_description': array([b'SEEG'], dtype='|S2048')},\n {'name': 'LZ_02',\n  'fsamp': array([32000.]),\n  'nsamp': array([65920218], dtype=int64),\n  'ufact': array([0.03051851]),\n  'unit': array([b'uV'], dtype='|S128'),\n  'start_time': array([1553940917170848], dtype=int64),\n  'end_time': array([1553942977177662], dtype=int64),\n  'channel_description': array([b'SEEG'], dtype='|S2048')},\n {'name': 'LZ_03',\n  'fsamp': array([32000.]),\n  'nsamp': array([65920218], dtype=int64),\n  'ufact': array([0.03051851]),\n  'unit': array([b'uV'], dtype='|S128'),\n  'start_time': array([1553940917170848], dtype=int64),\n  'end_time': array([1553942977177662], dtype=int64),\n  'channel_description': array([b'SEEG'], dtype='|S2048')},\n {'name': 'LZ_04',\n  'fsamp': array([32000.]),\n  'nsamp': array([65920218], dtype=int64),\n  'ufact': array([0.03051851]),\n  'unit': array([b'uV'], dtype='|S128'),\n  'start_time': array([1553940917170848], dtype=int64),\n  'end_time': array([1553942977177662], dtype=int64),\n  'channel_description': array([b'SEEG'], dtype='|S2048')},\n {'name': 'LZ_05',\n  'fsamp': array([32000.]),\n  'nsamp': array([65920218], dtype=int64),\n  'ufact': array([0.03051851]),\n  'unit': array([b'uV'], dtype='|S128'),\n  'start_time': array([1553940917170848], dtype=int64),\n  'end_time': array([1553942977177662], dtype=int64),\n  'channel_description': array([b'SEEG'], dtype='|S2048')},\n {'name': 'LZ_06',\n  'fsamp': array([32000.]),\n  'nsamp': array([65920218], dtype=int64),\n  'ufact': array([0.03051851]),\n  'unit': array([b'uV'], dtype='|S128'),\n  'start_time': array([1553940917170848], dtype=int64),\n  'end_time': array([1553942977177662], dtype=int64),\n  'channel_description': array([b'SEEG'], dtype='|S2048')},\n {'name': 'LZ_07',\n  'fsamp': array([32000.]),\n  'nsamp': array([65920218], dtype=int64),\n  'ufact': array([0.03051851]),\n  'unit': array([b'uV'], dtype='|S128'),\n  'start_time': array([1553940917170848], dtype=int64),\n  'end_time': array([1553942977177662], dtype=int64),\n  'channel_description': array([b'SEEG'], dtype='|S2048')},\n {'name': 'LZ_08',\n  'fsamp': array([32000.]),\n  'nsamp': array([65920218], dtype=int64),\n  'ufact': array([0.03051851]),\n  'unit': array([b'uV'], dtype='|S128'),\n  'start_time': array([1553940917170848], dtype=int64),\n  'end_time': array([1553942977177662], dtype=int64),\n  'channel_description': array([b'SEEG'], dtype='|S2048')},\n {'name': 'LZ_09',\n  'fsamp': array([32000.]),\n  'nsamp': array([65920218], dtype=int64),\n  'ufact': array([0.03051851]),\n  'unit': array([b'uV'], dtype='|S128'),\n  'start_time': array([1553940917170848], dtype=int64),\n  'end_time': array([1553942977177662], dtype=int64),\n  'channel_description': array([b'SEEG'], dtype='|S2048')},\n {'name': 'LZ_10',\n  'fsamp': array([32000.]),\n  'nsamp': array([65920218], dtype=int64),\n  'ufact': array([0.03051851]),\n  'unit': array([b'uV'], dtype='|S128'),\n  'start_time': array([1553940917170848], dtype=int64),\n  'end_time': array([1553942977177662], dtype=int64),\n  'channel_description': array([b'SEEG'], dtype='|S2048')},\n {'name': 'LZ_11',\n  'fsamp': array([32000.]),\n  'nsamp': array([65920218], dtype=int64),\n  'ufact': array([0.03051851]),\n  'unit': array([b'uV'], dtype='|S128'),\n  'start_time': array([1553940917170848], dtype=int64),\n  'end_time': array([1553942977177662], dtype=int64),\n  'channel_description': array([b'SEEG'], dtype='|S2048')},\n {'name': 'LZ_12',\n  'fsamp': array([32000.]),\n  'nsamp': array([65920218], dtype=int64),\n  'ufact': array([0.03051851]),\n  'unit': array([b'uV'], dtype='|S128'),\n  'start_time': array([1553940917170848], dtype=int64),\n  'end_time': array([1553942977177662], dtype=int64),\n  'channel_description': array([b'SEEG'], dtype='|S2048')},\n {'name': 'LZ_13',\n  'fsamp': array([32000.]),\n  'nsamp': array([65920218], dtype=int64),\n  'ufact': array([0.03051851]),\n  'unit': array([b'uV'], dtype='|S128'),\n  'start_time': array([1553940917170848], dtype=int64),\n  'end_time': array([1553942977177662], dtype=int64),\n  'channel_description': array([b'SEEG'], dtype='|S2048')},\n {'name': 'LZ_14',\n  'fsamp': array([32000.]),\n  'nsamp': array([65920218], dtype=int64),\n  'ufact': array([0.03051851]),\n  'unit': array([b'uV'], dtype='|S128'),\n  'start_time': array([1553940917170848], dtype=int64),\n  'end_time': array([1553942977177662], dtype=int64),\n  'channel_description': array([b'SEEG'], dtype='|S2048')},\n {'name': 'LZ_15',\n  'fsamp': array([32000.]),\n  'nsamp': array([65920218], dtype=int64),\n  'ufact': array([0.03051851]),\n  'unit': array([b'uV'], dtype='|S128'),\n  'start_time': array([1553940917170848], dtype=int64),\n  'end_time': array([1553942977177662], dtype=int64),\n  'channel_description': array([b'SEEG'], dtype='|S2048')},\n {'name': 'LZ_16',\n  'fsamp': array([32000.]),\n  'nsamp': array([65920218], dtype=int64),\n  'ufact': array([0.03051851]),\n  'unit': array([b'uV'], dtype='|S128'),\n  'start_time': array([1553940917170848], dtype=int64),\n  'end_time': array([1553942977177662], dtype=int64),\n  'channel_description': array([b'SEEG'], dtype='|S2048')},\n {'name': 'MIC',\n  'fsamp': array([44100.]),\n  'nsamp': array([19778850], dtype=int64),\n  'ufact': array([1.]),\n  'unit': array([b'dBFS'], dtype='|S128'),\n  'start_time': array([1553941342963021], dtype=int64),\n  'end_time': array([1553942904077969], dtype=int64),\n  'channel_description': array([b'AUDIO'], dtype='|S2048')},\n {'name': 'RB_01',\n  'fsamp': array([32000.]),\n  'nsamp': array([65920218], dtype=int64),\n  'ufact': array([0.03051851]),\n  'unit': array([b'uV'], dtype='|S128'),\n  'start_time': array([1553940917170848], dtype=int64),\n  'end_time': array([1553942977177662], dtype=int64),\n  'channel_description': array([b'SEEG'], dtype='|S2048')},\n {'name': 'RB_02',\n  'fsamp': array([32000.]),\n  'nsamp': array([65920218], dtype=int64),\n  'ufact': array([0.03051851]),\n  'unit': array([b'uV'], dtype='|S128'),\n  'start_time': array([1553940917170848], dtype=int64),\n  'end_time': array([1553942977177662], dtype=int64),\n  'channel_description': array([b'SEEG'], dtype='|S2048')},\n {'name': 'RIGHT_PUPIL_SIZE',\n  'fsamp': array([150.]),\n  'nsamp': array([242871], dtype=int64),\n  'ufact': array([1.e-06]),\n  'unit': array([b'px2'], dtype='|S128'),\n  'start_time': array([1553941284955135], dtype=int64),\n  'end_time': array([1553942904095135], dtype=int64),\n  'channel_description': array([b'PUPIL'], dtype='|S2048')},\n {'name': 'RIGHT_X_COORD',\n  'fsamp': array([150.]),\n  'nsamp': array([242871], dtype=int64),\n  'ufact': array([1.e-06]),\n  'unit': array([b'px'], dtype='|S128'),\n  'start_time': array([1553941284955135], dtype=int64),\n  'end_time': array([1553942904095135], dtype=int64),\n  'channel_description': array([b'EYEGAZE'], dtype='|S2048')},\n {'name': 'RIGHT_Y_COORD',\n  'fsamp': array([150.]),\n  'nsamp': array([242871], dtype=int64),\n  'ufact': array([1.e-06]),\n  'unit': array([b'px'], dtype='|S128'),\n  'start_time': array([1553941284955135], dtype=int64),\n  'end_time': array([1553942904095135], dtype=int64),\n  'channel_description': array([b'EYEGAZE'], dtype='|S2048')},\n {'name': 'SCREEN_X',\n  'fsamp': array([150.]),\n  'nsamp': array([242871], dtype=int64),\n  'ufact': array([1.e-06]),\n  'unit': array([b'px'], dtype='|S128'),\n  'start_time': array([1553941284955135], dtype=int64),\n  'end_time': array([1553942904095135], dtype=int64),\n  'channel_description': array([b'EYEGAZE'], dtype='|S2048')},\n {'name': 'SCREEN_Y',\n  'fsamp': array([150.]),\n  'nsamp': array([242871], dtype=int64),\n  'ufact': array([1.e-06]),\n  'unit': array([b'px'], dtype='|S128'),\n  'start_time': array([1553941284955135], dtype=int64),\n  'end_time': array([1553942904095135], dtype=int64),\n  'channel_description': array([b'EYEGAZE'], dtype='|S2048')}]"
     },
     "execution_count": 43,
     "metadata": {},
     "output_type": "execute_result"
    }
   ],
   "source": [
    "# Since we are using MEF3 pybids has problems recognizing the extension so we need to modify the json extension\n",
    "mef_session_path = os.path.splitext(json_file.path)[0]+'.mefd'\n",
    "print(mef_session_path)\n",
    "ms = MefSession(mef_session_path, None)\n",
    "ms.read_ts_channel_basic_info()"
   ]
  },
  {
   "cell_type": "markdown",
   "metadata": {},
   "source": [
    "Now load the data from encoding events"
   ]
  },
  {
   "cell_type": "code",
   "execution_count": null,
   "metadata": {},
   "outputs": [
    {
     "name": "stdout",
     "output_type": "stream",
     "text": [
      "session_start_utc = 1553940917170848\n",
      "session_stop_utc = 1553941360170839.0\n"
     ]
    },
    {
     "data": {
      "text/plain": "        onset    sample  duration trial_type  list  microsecond_onset  \\\n0  375.780287  12024969  1.494031     ENCODE   1.0        375780287.0   \n1  378.278411  12104909  1.495906     ENCODE   1.0        378278411.0   \n2  380.786316  12185162  1.488000     ENCODE   1.0        380786316.0   \n3  383.279534  12264945  1.494781     ENCODE   1.0        383279534.0   \n4  385.780283  12344969  1.494031     ENCODE   1.0        385780283.0   \n\n               uutc  \n0  1553941292951135  \n1  1553941295449259  \n2  1553941297957164  \n3  1553941300450382  \n4  1553941302951131  ",
      "text/html": "<div>\n<style scoped>\n    .dataframe tbody tr th:only-of-type {\n        vertical-align: middle;\n    }\n\n    .dataframe tbody tr th {\n        vertical-align: top;\n    }\n\n    .dataframe thead th {\n        text-align: right;\n    }\n</style>\n<table border=\"1\" class=\"dataframe\">\n  <thead>\n    <tr style=\"text-align: right;\">\n      <th></th>\n      <th>onset</th>\n      <th>sample</th>\n      <th>duration</th>\n      <th>trial_type</th>\n      <th>list</th>\n      <th>microsecond_onset</th>\n      <th>uutc</th>\n    </tr>\n  </thead>\n  <tbody>\n    <tr>\n      <th>0</th>\n      <td>375.780287</td>\n      <td>12024969</td>\n      <td>1.494031</td>\n      <td>ENCODE</td>\n      <td>1.0</td>\n      <td>375780287.0</td>\n      <td>1553941292951135</td>\n    </tr>\n    <tr>\n      <th>1</th>\n      <td>378.278411</td>\n      <td>12104909</td>\n      <td>1.495906</td>\n      <td>ENCODE</td>\n      <td>1.0</td>\n      <td>378278411.0</td>\n      <td>1553941295449259</td>\n    </tr>\n    <tr>\n      <th>2</th>\n      <td>380.786316</td>\n      <td>12185162</td>\n      <td>1.488000</td>\n      <td>ENCODE</td>\n      <td>1.0</td>\n      <td>380786316.0</td>\n      <td>1553941297957164</td>\n    </tr>\n    <tr>\n      <th>3</th>\n      <td>383.279534</td>\n      <td>12264945</td>\n      <td>1.494781</td>\n      <td>ENCODE</td>\n      <td>1.0</td>\n      <td>383279534.0</td>\n      <td>1553941300450382</td>\n    </tr>\n    <tr>\n      <th>4</th>\n      <td>385.780283</td>\n      <td>12344969</td>\n      <td>1.494031</td>\n      <td>ENCODE</td>\n      <td>1.0</td>\n      <td>385780283.0</td>\n      <td>1553941302951131</td>\n    </tr>\n  </tbody>\n</table>\n</div>"
     },
     "execution_count": 44,
     "metadata": {},
     "output_type": "execute_result"
    }
   ],
   "source": [
    "channels = ['LEFT_PUPIL_SIZE', 'RIGHT_PUPIL_SIZE']\n",
    "\n",
    "# Microseconds 1 μs = 10⁻⁶ s\n",
    "start_time = 1553941347170839+3*1e6  # in microseconds\n",
    "end_time = 1553942904095135-3*1e6\n",
    "win_size = 10  # in seconds\n",
    "stop_time = start_time + int(win_size*1e6)\n",
    "\n",
    "bi = ms.read_ts_channel_basic_info()\n",
    "\n",
    "# In this case we are reading MEF records instead of data from events.tsv because we do not have to make time conversions this way\n",
    "records = ms.read_records()\n",
    "records_in_win = [x for x in records if start_time < x['time'] < stop_time]\n",
    "# The code to get corresponding events from the events file\n",
    "session_metadata = ms.session_md\n",
    "session_start_utc = session_metadata['session_specific_metadata']['earliest_start_time'][0]\n",
    "print(f\"session_start_utc = {session_start_utc}\\nsession_stop_utc = {stop_time}\")\n",
    "events_df['microsecond_onset'] = events_df['onset']*1e6\n",
    "events_df['uutc'] = (events_df['microsecond_onset'] + session_start_utc).astype('int64')\n",
    "events_in_win = events_df[(start_time < events_df['uutc'])\n",
    "                          & (events_df['uutc'] < stop_time)]\n",
    "events_df.head()"
   ]
  },
  {
   "cell_type": "code",
   "execution_count": null,
   "outputs": [
    {
     "data": {
      "text/plain": "(180, 2, 195)"
     },
     "execution_count": 45,
     "metadata": {},
     "output_type": "execute_result"
    }
   ],
   "source": [
    "# records_in_events = [x for x in records if (0 < (x['time'] - events_df['uutc']) < 150000)]\n",
    "records_in_events = []\n",
    "for x in records:\n",
    "    for e in events_df['uutc']:\n",
    "        # print(x['time'] - e)\n",
    "        if 0 == (x['time'] - e):\n",
    "            records_in_events.append(x)\n",
    "\n",
    "len(records_in_events)\n",
    "data_events = []\n",
    "# −200ms to 0ms from the onset and from 1000ms to 1400ms\n",
    "for e in events_df['uutc']:\n",
    "    data_events.append(ms.read_ts_channels_uutc(channels, [e - 400000, e + 900000]))\n",
    "data_events = np.array(data_events)\n",
    "data_events.shape"
   ],
   "metadata": {
    "collapsed": false
   }
  },
  {
   "cell_type": "code",
   "execution_count": null,
   "outputs": [
    {
     "name": "stdout",
     "output_type": "stream",
     "text": [
      "[[2.43321600e+08 2.39275999e+08 2.40715800e+08 2.40842100e+08\n",
      "  2.41444800e+08 2.35046000e+08 2.37269000e+08 2.41702500e+08\n",
      "  2.41147999e+08 2.34028800e+08 2.32010200e+08 2.33168400e+08\n",
      "  2.32212499e+08 2.33549700e+08 2.33549700e+08 2.29532400e+08\n",
      "  2.42818200e+08 2.35805199e+08 2.29795200e+08 2.33387400e+08\n",
      "  2.37345299e+08 2.37345299e+08 2.33693599e+08 2.25373500e+08\n",
      "  2.25373500e+08 2.29136700e+08 2.30383200e+08 2.29290600e+08\n",
      "  2.32537500e+08 2.32862500e+08 2.30907600e+08 2.24490099e+08\n",
      "  2.31091200e+08 2.30340600e+08 2.29471199e+08 2.25938700e+08\n",
      "  2.25938700e+08 2.26381400e+08 2.26098600e+08 2.29250400e+08\n",
      "  2.25373500e+08 2.21321800e+08 2.24525700e+08 2.33722300e+08\n",
      "  2.29958399e+08 2.30283199e+08 2.30283199e+08 2.30283199e+08\n",
      "  2.28620000e+08 2.29594200e+08 2.32478400e+08 2.30069000e+08\n",
      "  2.30373000e+08 2.30534100e+08 2.31408000e+08 2.34558700e+08\n",
      "  2.35641899e+08 2.33656200e+08 2.31602100e+08 2.31602100e+08\n",
      "  2.31744799e+08 2.36034000e+08 2.36655899e+08 2.36421000e+08\n",
      "  2.35444800e+08 2.31408000e+08 2.36179700e+08 2.34414000e+08\n",
      "  2.28694399e+08 2.33531199e+08 2.33531199e+08 2.35462500e+08\n",
      "  2.32660500e+08 2.39202000e+08 2.32030200e+08 2.32030200e+08\n",
      "  2.33722300e+08 2.37353200e+08 2.30802000e+08 2.33171400e+08\n",
      "  2.34250200e+08 2.34231000e+08 2.34537800e+08 2.39850300e+08\n",
      "  2.34478999e+08 2.34275199e+08 2.38670000e+08 2.41191999e+08\n",
      "  2.42214000e+08 2.42214000e+08 2.42214000e+08 2.43110400e+08\n",
      "  2.43110400e+08 2.38892199e+08 2.46412799e+08 2.46326300e+08\n",
      "  2.46012000e+08 2.44644000e+08 2.45139900e+08 2.46744000e+08\n",
      "  2.49332000e+08 2.47603200e+08 2.43704999e+08 2.44974600e+08\n",
      "  2.44974600e+08 2.45305200e+08 2.43982800e+08 2.50973299e+08\n",
      "  2.48084999e+08 2.48084999e+08 2.46215900e+08 2.48251500e+08\n",
      "  2.48808000e+08 2.49331499e+08 2.49015200e+08 2.46124000e+08\n",
      "  2.47567600e+08 2.40828000e+08 2.44274800e+08 2.51260000e+08\n",
      "  2.45403800e+08 2.45784000e+08 2.51112199e+08 2.45408399e+08\n",
      "  2.50876800e+08 2.51495400e+08 2.44382500e+08 2.43815400e+08\n",
      "  2.47288100e+08 2.42531900e+08 2.42531900e+08 2.43652200e+08\n",
      "  2.46771200e+08 2.47422500e+08 2.45419200e+08 2.47642200e+08\n",
      "  2.39434799e+08 2.43119500e+08 2.45763700e+08 2.45763700e+08\n",
      "  2.40306000e+08 2.38506800e+08 2.38982000e+08 2.39003000e+08\n",
      "  2.39003000e+08 2.37282400e+08 2.45329699e+08 2.45182000e+08\n",
      "  2.39854500e+08 2.42825700e+08 2.35498000e+08 2.43910400e+08\n",
      "  2.38853999e+08 2.40405000e+08 2.41725000e+08 2.37220000e+08\n",
      "  2.37220000e+08 2.33586100e+08 2.33586100e+08 2.35246000e+08\n",
      "  2.35698000e+08 2.33315600e+08 2.33315600e+08 2.31069300e+08\n",
      "  2.30087000e+08 2.30223800e+08 2.31856900e+08 2.29153200e+08\n",
      "  2.30832000e+08 2.27749200e+08 2.27749200e+08 2.26607600e+08\n",
      "  2.26607600e+08 2.21849500e+08 2.22745600e+08 2.22745600e+08\n",
      "  2.24152500e+08 2.29086000e+08 2.20977999e+08 2.20977999e+08\n",
      "  2.20977999e+08 2.20977999e+08 2.20977999e+08 2.20977999e+08\n",
      "  2.23056000e+08 2.25410900e+08 2.23142500e+08 2.20667999e+08\n",
      "  2.20810000e+08 2.28830800e+08 2.25826400e+08 2.25007999e+08\n",
      "  2.25124300e+08 2.25909599e+08 2.25909599e+08]\n",
      " [2.81024200e+08 2.74428000e+08 2.72314900e+08 2.77338600e+08\n",
      "  2.71075200e+08 2.72794500e+08 2.76017000e+08 2.74815200e+08\n",
      "  2.66932800e+08 2.69642800e+08 2.67651799e+08 2.74397600e+08\n",
      "  2.70862200e+08 2.71705500e+08 2.62163200e+08 2.64888899e+08\n",
      "  2.59805700e+08 2.59426499e+08 2.59572000e+08 2.53750399e+08\n",
      "  2.54780100e+08 2.60459000e+08 2.58947399e+08 2.53039599e+08\n",
      "  2.57582499e+08 2.55010400e+08 2.56665000e+08 2.57474799e+08\n",
      "  2.49627200e+08 2.49627200e+08 2.53792000e+08 2.55666600e+08\n",
      "  2.53927599e+08 2.56423200e+08 2.52470399e+08 2.55861600e+08\n",
      "  2.55475999e+08 2.50054400e+08 2.53503599e+08 2.53503599e+08\n",
      "  2.53741999e+08 2.52957900e+08 2.56697799e+08 2.56053999e+08\n",
      "  2.56053999e+08 2.48900400e+08 2.50694499e+08 2.48598100e+08\n",
      "  2.57888800e+08 2.57888800e+08 2.61598700e+08 2.52480900e+08\n",
      "  2.57065500e+08 2.54930700e+08 2.60053200e+08 2.53023200e+08\n",
      "  2.55588000e+08 2.57003999e+08 2.60285600e+08 2.60184000e+08\n",
      "  2.60744699e+08 2.52480900e+08 2.55571999e+08 2.57618400e+08\n",
      "  2.53968000e+08 2.54640600e+08 2.54929800e+08 2.54929800e+08\n",
      "  2.55074400e+08 2.54224599e+08 2.54545200e+08 2.63519700e+08\n",
      "  2.63308999e+08 2.66315400e+08 2.67511299e+08 2.67957400e+08\n",
      "  2.65574400e+08 2.66409000e+08 2.64466399e+08 2.65492599e+08\n",
      "  2.65492599e+08 2.66400000e+08 2.67764799e+08 2.69097700e+08\n",
      "  2.65007599e+08 2.66941400e+08 2.66089999e+08 2.64386800e+08\n",
      "  2.64386800e+08 2.62842800e+08 2.61104099e+08 2.66398100e+08\n",
      "  2.62216000e+08 2.62216000e+08 2.64599999e+08 2.67211100e+08\n",
      "  2.67064199e+08 2.67064199e+08 2.67064199e+08 2.67064199e+08\n",
      "  2.67756800e+08 2.57506700e+08 2.59123200e+08 2.58944000e+08\n",
      "  2.58944000e+08 2.63091999e+08 2.60445000e+08 2.64203999e+08\n",
      "  2.67236200e+08 2.67632400e+08 2.67632400e+08 2.67825800e+08\n",
      "  2.67825800e+08 2.67644100e+08 2.67644100e+08 2.64452999e+08\n",
      "  2.67054899e+08 2.69527500e+08 2.69527500e+08 2.76330000e+08\n",
      "  2.69337200e+08 2.69635799e+08 2.68041600e+08 2.71511100e+08\n",
      "  2.76297899e+08 2.76297899e+08 2.72454000e+08 2.72785800e+08\n",
      "  2.72368300e+08 2.72368300e+08 2.74183000e+08 2.73517600e+08\n",
      "  2.69575800e+08 2.74813000e+08 2.67427800e+08 2.67427800e+08\n",
      "  2.69049200e+08 2.66646599e+08 2.69245800e+08 2.68983000e+08\n",
      "  2.69263200e+08 2.64403500e+08 2.64140800e+08 2.63814300e+08\n",
      "  2.63814300e+08 2.70000000e+08 2.61811200e+08 2.61665100e+08\n",
      "  2.60723300e+08 2.54336499e+08 2.57252000e+08 2.61249600e+08\n",
      "  2.54592000e+08 2.54127400e+08 2.53983500e+08 2.53983500e+08\n",
      "  2.53983500e+08 2.53983500e+08 2.48123000e+08 2.43701100e+08\n",
      "  2.44677300e+08 2.48565600e+08 2.48565600e+08 2.47189800e+08\n",
      "  2.43632200e+08 2.39150700e+08 2.39321399e+08 2.39321399e+08\n",
      "  2.40364800e+08 2.40364800e+08 2.36883000e+08 2.39587800e+08\n",
      "  2.37360900e+08 2.39638800e+08 2.37738800e+08 2.34859799e+08\n",
      "  2.31504000e+08 2.29762500e+08 2.29762500e+08 2.38176400e+08\n",
      "  2.36791500e+08 2.35255600e+08 2.33634000e+08 2.33634000e+08\n",
      "  2.30312500e+08 2.29732800e+08 2.27682000e+08 2.27682000e+08\n",
      "  2.31296400e+08 2.24416400e+08 2.24282500e+08 2.31184200e+08\n",
      "  2.38963499e+08 2.38963499e+08 2.33327500e+08]]\n"
     ]
    }
   ],
   "source": [
    "print(data_events[0])"
   ],
   "metadata": {
    "collapsed": false
   }
  },
  {
   "cell_type": "markdown",
   "source": [
    "## Artefacts cutout"
   ],
   "metadata": {
    "collapsed": false
   }
  },
  {
   "cell_type": "code",
   "execution_count": null,
   "outputs": [],
   "source": [
    "def check_missing_values(arr):\n",
    "    \"\"\"Check if a numpy array has missing values.\"\"\"\n",
    "    if np.isnan(arr).any():\n",
    "        print(\"The array has missing values.\")\n",
    "        return True\n",
    "    else:\n",
    "        return False"
   ],
   "metadata": {
    "collapsed": false
   }
  },
  {
   "cell_type": "code",
   "execution_count": null,
   "outputs": [
    {
     "name": "stdout",
     "output_type": "stream",
     "text": [
      "[]\n",
      "[]\n",
      "[]\n",
      "[]\n",
      "[147, 148]\n",
      "[]\n",
      "[]\n",
      "[]\n",
      "[]\n",
      "[]\n",
      "[]\n",
      "[]\n",
      "[]\n",
      "[]\n",
      "[]\n",
      "[]\n",
      "[]\n",
      "[]\n",
      "[]\n",
      "[]\n",
      "[]\n",
      "[]\n",
      "[]\n",
      "[]\n",
      "[]\n",
      "[]\n",
      "[]\n",
      "[]\n",
      "[]\n",
      "[]\n",
      "[]\n",
      "[]\n",
      "[]\n",
      "[]\n",
      "[]\n",
      "[]\n",
      "[]\n",
      "[]\n",
      "[]\n",
      "[]\n",
      "[]\n",
      "[]\n",
      "[144, 145, 146, 147, 148, 149, 152, 153, 154, 155, 156, 157, 159, 160]\n",
      "[143, 144, 145, 146, 148, 150, 151, 152, 153, 154, 155, 156, 157, 159, 160]\n",
      "[]\n",
      "[]\n",
      "[]\n",
      "[]\n",
      "[]\n",
      "[]\n",
      "[]\n",
      "[]\n",
      "[]\n",
      "[]\n",
      "[]\n",
      "[]\n",
      "[]\n",
      "[]\n",
      "[181, 182, 183, 184, 185, 186, 187, 188, 189, 190, 191, 192, 193, 194]\n"
     ]
    },
    {
     "ename": "IndexError",
     "evalue": "index 195 is out of bounds for axis 0 with size 195",
     "output_type": "error",
     "traceback": [
      "\u001B[1;31m---------------------------------------------------------------------------\u001B[0m",
      "\u001B[1;31mIndexError\u001B[0m                                Traceback (most recent call last)",
      "\u001B[1;32m~\\AppData\\Local\\Temp\\ipykernel_2036\\2658204036.py\u001B[0m in \u001B[0;36m<module>\u001B[1;34m\u001B[0m\n\u001B[0;32m     12\u001B[0m             \u001B[1;32mif\u001B[0m \u001B[0mmissing\u001B[0m \u001B[1;33m<=\u001B[0m \u001B[1;36m221\u001B[0m\u001B[1;33m:\u001B[0m\u001B[1;33m\u001B[0m\u001B[1;33m\u001B[0m\u001B[0m\n\u001B[0;32m     13\u001B[0m                 \u001B[1;32mfor\u001B[0m \u001B[0mi\u001B[0m \u001B[1;32min\u001B[0m \u001B[0mrange\u001B[0m\u001B[1;33m(\u001B[0m\u001B[1;36m3\u001B[0m\u001B[1;33m)\u001B[0m\u001B[1;33m:\u001B[0m\u001B[1;33m\u001B[0m\u001B[1;33m\u001B[0m\u001B[0m\n\u001B[1;32m---> 14\u001B[1;33m                     \u001B[0mdata_events\u001B[0m\u001B[1;33m[\u001B[0m\u001B[0ms_idx\u001B[0m\u001B[1;33m]\u001B[0m\u001B[1;33m[\u001B[0m\u001B[0mch_idx\u001B[0m\u001B[1;33m]\u001B[0m\u001B[1;33m[\u001B[0m\u001B[0mmissing\u001B[0m\u001B[1;33m+\u001B[0m\u001B[0mi\u001B[0m\u001B[1;33m]\u001B[0m \u001B[1;33m=\u001B[0m \u001B[0mnp\u001B[0m\u001B[1;33m.\u001B[0m\u001B[0mnan\u001B[0m\u001B[1;33m\u001B[0m\u001B[1;33m\u001B[0m\u001B[0m\n\u001B[0m",
      "\u001B[1;31mIndexError\u001B[0m: index 195 is out of bounds for axis 0 with size 195"
     ]
    }
   ],
   "source": [
    "for s_idx, sequence in enumerate(data_events):\n",
    "    for ch_idx, channel in enumerate(sequence):\n",
    "        missing_values_idx = []\n",
    "        for sample_idx, sample in enumerate(channel):\n",
    "            if np.isnan(sample):\n",
    "                missing_values_idx.append(sample_idx)\n",
    "        print(missing_values_idx)\n",
    "        for missing in missing_values_idx[::-1]:\n",
    "            if missing >= 5:\n",
    "                for i in range(5):\n",
    "                    data_events[s_idx][ch_idx][missing-i] = np.nan\n",
    "            if missing <= 221:\n",
    "                for i in range(3):\n",
    "                    data_events[s_idx][ch_idx][missing+i] = np.nan"
   ],
   "metadata": {
    "collapsed": false
   }
  },
  {
   "cell_type": "markdown",
   "source": [
    "## Apply linear interpolation if values are missing"
   ],
   "metadata": {
    "collapsed": false
   }
  },
  {
   "cell_type": "code",
   "execution_count": null,
   "outputs": [],
   "source": [
    "how_many_nan = 0\n",
    "for s_idx, sequence in enumerate(data_events):\n",
    "    for ch_idx, channel in enumerate(sequence):\n",
    "        if check_missing_values(channel):\n",
    "            how_many_nan += 1\n",
    "            df = pd.DataFrame({'signal': channel})\n",
    "            print(f\"Apply linear interpolation to fill the missing values [{s_idx}][{ch_idx}]\")\n",
    "            df['signal'] = df['signal'].bfill().ffill().interpolate(method='linear')\n",
    "            data_events[s_idx][ch_idx] = df['signal'].values.tolist()\n",
    "            print(data_events[s_idx][ch_idx])\n",
    "print(how_many_nan)"
   ],
   "metadata": {
    "collapsed": false
   }
  },
  {
   "cell_type": "markdown",
   "source": [
    "## Connect windows to continuous signal across channels"
   ],
   "metadata": {
    "collapsed": false
   }
  },
  {
   "cell_type": "code",
   "execution_count": null,
   "outputs": [],
   "source": [
    "channel_1_raw = []\n",
    "channel_2_raw = []\n",
    "for s_idx, sequence in enumerate(data_events):\n",
    "    for sample in data_events[s_idx][0]:\n",
    "        channel_1_raw.append(sample)\n",
    "    for sample in data_events[s_idx][1]:\n",
    "        channel_2_raw.append(sample)\n",
    "channel_1_raw = np.array(channel_1_raw)\n",
    "channel_2_raw = np.array(channel_2_raw)\n",
    "channel_1_raw.shape"
   ],
   "metadata": {
    "collapsed": false
   }
  },
  {
   "cell_type": "markdown",
   "source": [
    "### Apply z-score normalization"
   ],
   "metadata": {
    "collapsed": false
   }
  },
  {
   "cell_type": "code",
   "execution_count": null,
   "outputs": [],
   "source": [
    "mean = np.mean(channel_1_raw)\n",
    "std = np.std(channel_1_raw)\n",
    "data_normalized = (channel_1_raw - mean) / std\n",
    "channel_1_raw = data_normalized\n",
    "\n",
    "mean = np.mean(channel_2_raw)\n",
    "std = np.std(channel_2_raw)\n",
    "data_normalized = (channel_2_raw - mean) / std\n",
    "channel_2_raw = data_normalized"
   ],
   "metadata": {
    "collapsed": false
   }
  },
  {
   "cell_type": "markdown",
   "source": [
    "### Split again into windows"
   ],
   "metadata": {
    "collapsed": false
   }
  },
  {
   "cell_type": "code",
   "execution_count": null,
   "outputs": [],
   "source": [
    "def split_list(lst, n):\n",
    "    \"\"\"Split the list, lst, into chunks of size n.\"\"\"\n",
    "    return [lst[i:i + n] for i in range(0, len(lst), n)]"
   ],
   "metadata": {
    "collapsed": false
   }
  },
  {
   "cell_type": "code",
   "execution_count": null,
   "outputs": [],
   "source": [
    "samples_in_window = 225\n",
    "chunks_1 = split_list(channel_1_raw, samples_in_window)\n",
    "chunks_2 = split_list(channel_2_raw, samples_in_window)\n",
    "print(len(chunks_1))"
   ],
   "metadata": {
    "collapsed": false
   }
  },
  {
   "cell_type": "code",
   "execution_count": null,
   "outputs": [],
   "source": [
    "for s_idx, sequence in enumerate(data_events):\n",
    "    for ch_idx, channel in enumerate(sequence):\n",
    "        if ch_idx == 0:\n",
    "            data_events[s_idx][ch_idx] = chunks_1[s_idx]\n",
    "        elif ch_idx == 1:\n",
    "            data_events[s_idx][ch_idx] = chunks_2[s_idx]\n",
    "data_events = np.array(data_events)\n",
    "print(data_events.shape)"
   ],
   "metadata": {
    "collapsed": false
   }
  },
  {
   "cell_type": "code",
   "execution_count": null,
   "outputs": [],
   "source": [
    "print(data_events[0][0][0])"
   ],
   "metadata": {
    "collapsed": false
   }
  },
  {
   "cell_type": "markdown",
   "source": [
    "## Plot the window"
   ],
   "metadata": {
    "collapsed": false
   }
  },
  {
   "cell_type": "code",
   "execution_count": null,
   "outputs": [],
   "source": [
    "def plot_channels(data):\n",
    "    # assuming 'data' is your list\n",
    "    data = np.array(data)  # convert list to numpy array\n",
    "    print(data.shape)\n",
    "    time = np.arange(0, data.shape[1])  # creating a time vector\n",
    "\n",
    "    # plotting the data\n",
    "    plt.figure(figsize=(10,6))  # creating a new figure with specified size\n",
    "    print(data[0])\n",
    "    # plot for channel 1\n",
    "    plt.subplot(2, 1, 1)  # creating the first subplot in a 2x1 grid\n",
    "    plt.plot(time, data[0], color='blue')  # plotting the data for the first channel\n",
    "    plt.title('Channel 1')  # setting the title of the first subplot\n",
    "    plt.xlabel('Time')  # setting the x-label\n",
    "    plt.ylabel('Amplitude')  # setting the y-label\n",
    "\n",
    "    # plot for channel 2\n",
    "    plt.subplot(2, 1, 2)  # creating the second subplot in a 2x1 grid\n",
    "    plt.plot(time, data[1], color='red')  # plotting the data for the second channel\n",
    "    plt.title('Channel 2')  # setting the title of the second subplot\n",
    "    plt.xlabel('Time')  # setting the x-label\n",
    "    plt.ylabel('Amplitude')  # setting the y-label\n",
    "\n",
    "    plt.tight_layout()  # adjusting the layout so everything fits\n",
    "    plt.show()  # displaying the figure"
   ],
   "metadata": {
    "collapsed": false
   }
  },
  {
   "cell_type": "code",
   "execution_count": null,
   "outputs": [],
   "source": [
    "plot_channels(data_events[0])"
   ],
   "metadata": {
    "collapsed": false
   }
  },
  {
   "cell_type": "markdown",
   "source": [
    "## Define and apply butterworth filter"
   ],
   "metadata": {
    "collapsed": false
   }
  },
  {
   "cell_type": "code",
   "execution_count": null,
   "outputs": [],
   "source": [
    "def butter_lowpass(cutoff, fs, order=5):\n",
    "    nyq = 0.5 * fs\n",
    "    normal_cutoff = cutoff / nyq\n",
    "    b, a = butter(order, normal_cutoff, btype='low', analog=False)\n",
    "    return b, a\n",
    "\n",
    "def butter_lowpass_filter(data, cutoff, fs, order=5):\n",
    "    b, a = butter_lowpass(cutoff, fs, order=order)\n",
    "    y = filtfilt(b, a, data)\n",
    "    return y\n",
    "\n",
    "# Parameters\n",
    "order = 3\n",
    "fs = 150.0       # sample rate, Hz\n",
    "cutoff = 20.0    # desired cutoff frequency of the filter, Hz\n"
   ],
   "metadata": {
    "collapsed": false
   }
  },
  {
   "cell_type": "code",
   "execution_count": null,
   "outputs": [],
   "source": [
    "if APPLY_LOW_PASS_FILTER:\n",
    "    for s_idx, sequence in enumerate(data_events):\n",
    "        for ch_idx, channel in enumerate(sequence):\n",
    "            y = butter_lowpass_filter(channel, cutoff, fs, order)\n",
    "            data_events[s_idx][ch_idx] = y"
   ],
   "metadata": {
    "collapsed": false
   }
  },
  {
   "cell_type": "code",
   "execution_count": null,
   "outputs": [],
   "source": [
    "plot_channels(data_events[0])"
   ],
   "metadata": {
    "collapsed": false
   }
  },
  {
   "cell_type": "markdown",
   "source": [
    "## Feature extraction"
   ],
   "metadata": {
    "collapsed": false
   }
  },
  {
   "cell_type": "markdown",
   "source": [
    "### Feature set 1\n",
    "https://www.hindawi.com/journals/cin/2020/2909267/"
   ],
   "metadata": {
    "collapsed": false
   }
  },
  {
   "cell_type": "code",
   "execution_count": null,
   "outputs": [],
   "source": [
    "import mne\n",
    "\n",
    "if FEATURE_SET == 1:\n",
    "    sfreq = 150  # replace with your sampling frequency\n",
    "    # delta: 2.5-5 Hz, theta: 4–9 Hz, alpha: 9–16 Hz, beta: 16–25 Hz,\n",
    "    freqs = [16., 25., 40.]  # define the range of frequency bands\n",
    "    # freqs = [5.]\n",
    "    print(freqs)\n",
    "    n_cycles = 7.0\n",
    "\n",
    "    # perform Morlet Wavelet transform\n",
    "    power = mne.time_frequency.tfr_array_morlet(data_events, sfreq, freqs, n_cycles=n_cycles)\n",
    "    power = np.mean(power, axis=1)\n",
    "\n",
    "    # n_samples * n_channels * n_frequencies * n_times\n",
    "    # power = 10 * np.log10(power)\n",
    "# power.shape"
   ],
   "metadata": {
    "collapsed": false
   }
  },
  {
   "cell_type": "markdown",
   "source": [
    "### Feature set 2 - 6 features\n",
    "https://www.mdpi.com/2227-9032/11/3/322"
   ],
   "metadata": {
    "collapsed": false
   }
  },
  {
   "cell_type": "code",
   "execution_count": null,
   "outputs": [],
   "source": [
    "from scipy.stats import skew, kurtosis, variation\n",
    "\n",
    "\n",
    "if FEATURE_SET == 2 and not LSTM_READY:\n",
    "    data_events = data_events.tolist()\n",
    "    # Assuming 'eeg_data' is a NumPy array containing your EEG data.\n",
    "    for s_idx, sequence in enumerate(data_events):\n",
    "        for ch_idx, channel in enumerate(sequence):\n",
    "            eeg_data = channel\n",
    "           # Assuming 'eeg_data' is a NumPy array containing your EEG data for one channel\n",
    "\n",
    "            mean = np.mean(eeg_data)\n",
    "            q1 = np.percentile(eeg_data, 25)\n",
    "            q2 = np.percentile(eeg_data, 50)\n",
    "            q3 = np.percentile(eeg_data, 75)\n",
    "            min_signal = np.min(eeg_data)\n",
    "            max_signal = np.max(eeg_data)\n",
    "            # variance = variation(eeg_data)\n",
    "            # skewness = skew(eeg_data)\n",
    "\n",
    "            features = [mean, q1, q2, q3, min_signal, max_signal]\n",
    "\n",
    "            # print(\"Extracted features:\", features)\n",
    "            data_events[s_idx][ch_idx] = features\n",
    "    data_events = np.array(data_events)\n",
    "    print(data_events.shape)"
   ],
   "metadata": {
    "collapsed": false
   }
  },
  {
   "cell_type": "markdown",
   "source": [
    "### Feature set 3 - 4 features\n",
    "https://www.hindawi.com/journals/cin/2020/2909267/"
   ],
   "metadata": {
    "collapsed": false
   }
  },
  {
   "cell_type": "code",
   "execution_count": null,
   "outputs": [],
   "source": [
    "\n",
    "if FEATURE_SET == 3:\n",
    "    data_events = data_events.tolist()\n",
    "    # Assuming 'eeg_data' is a NumPy array containing your EEG data.\n",
    "    for s_idx, sequence in enumerate(data_events):\n",
    "        for ch_idx, channel in enumerate(sequence):\n",
    "            eeg_data = channel\n",
    "           # Assuming 'eeg_data' is a NumPy array containing your EEG data for one channel\n",
    "\n",
    "            mean = np.mean(eeg_data)\n",
    "            variance = variation(eeg_data)\n",
    "            skewness = skew(eeg_data)\n",
    "            # kurtosis = kurtosis(eeg_data)\n",
    "\n",
    "            features = [mean, variance, skewness]\n",
    "\n",
    "            print(\"Extracted features:\", features)\n",
    "            data_events[s_idx][ch_idx] = features\n",
    "    data_events = np.array(data_events)\n",
    "    print(data_events.shape)"
   ],
   "metadata": {
    "collapsed": false
   }
  },
  {
   "cell_type": "markdown",
   "source": [
    "## Reshape to dataframe"
   ],
   "metadata": {
    "collapsed": false
   }
  },
  {
   "cell_type": "code",
   "execution_count": null,
   "outputs": [],
   "source": [
    "power.shape"
   ],
   "metadata": {
    "collapsed": false
   }
  },
  {
   "cell_type": "code",
   "execution_count": null,
   "outputs": [],
   "source": [
    "\n",
    "power_magnitude = np.abs(power)\n",
    "# convert to a decibel scale, which is often done for power spectral densities:\n",
    "power_db = 10 * np.log10(power_magnitude)\n",
    "arr = np.array(power_db)\n",
    "\n",
    "# Reshape the array to the required shape (180, 450)\n",
    "arr_reshaped = arr.reshape(180, -1)  # -1 means calculate the size of this dimension\n",
    "\n",
    "df = pd.DataFrame(arr_reshaped)\n",
    "\n",
    "# Now df is a DataFrame with shape (180, 450)\n",
    "print(df.shape)"
   ],
   "metadata": {
    "collapsed": false
   }
  },
  {
   "cell_type": "code",
   "execution_count": null,
   "outputs": [],
   "source": [
    "# arr = np.array(data_events)\n",
    "#\n",
    "#     # Reshape the array to the required shape (180, 450)\n",
    "# arr_reshaped = arr.reshape(180, -1)  # -1 means calculate the size of this dimension\n",
    "#\n",
    "# df = pd.DataFrame(arr_reshaped)\n",
    "#\n",
    "#     # Now df is a DataFrame with shape (180, 450)\n",
    "# print(df.shape)"
   ],
   "metadata": {
    "collapsed": false
   }
  },
  {
   "cell_type": "code",
   "execution_count": null,
   "outputs": [],
   "source": [
    "df.head()"
   ],
   "metadata": {
    "collapsed": false
   }
  },
  {
   "cell_type": "code",
   "execution_count": null,
   "outputs": [],
   "source": [
    "df.to_csv(rf'C:\\MasterThesis\\v1.0\\sub-{subject}\\ses-001\\{subject}_{run}_pupil_dataset.csv', index=False)"
   ],
   "metadata": {
    "collapsed": false
   }
  },
  {
   "cell_type": "code",
   "execution_count": null,
   "outputs": [],
   "source": [],
   "metadata": {
    "collapsed": false
   }
  }
 ],
 "metadata": {
  "kernelspec": {
   "display_name": "Python 3",
   "language": "python",
   "name": "python3"
  },
  "language_info": {
   "codemirror_mode": {
    "name": "ipython",
    "version": 3
   },
   "file_extension": ".py",
   "mimetype": "text/x-python",
   "name": "python",
   "nbconvert_exporter": "python",
   "pygments_lexer": "ipython3",
   "version": "3.8.5"
  }
 },
 "nbformat": 4,
 "nbformat_minor": 4
}
